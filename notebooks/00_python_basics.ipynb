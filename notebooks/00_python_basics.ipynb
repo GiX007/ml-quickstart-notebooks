{
  "nbformat": 4,
  "nbformat_minor": 0,
  "metadata": {
    "colab": {
      "provenance": [],
      "gpuType": "T4",
      "toc_visible": true,
      "authorship_tag": "ABX9TyOe/utj4MItfiEauUlbcggR",
      "include_colab_link": true
    },
    "kernelspec": {
      "name": "python3",
      "display_name": "Python 3"
    },
    "language_info": {
      "name": "python"
    },
    "accelerator": "GPU"
  },
  "cells": [
    {
      "cell_type": "markdown",
      "metadata": {
        "id": "view-in-github",
        "colab_type": "text"
      },
      "source": [
        "<a href=\"https://colab.research.google.com/github/GiX007/ml-quickstart-notebooks/blob/main/notebooks/00_python_basics.ipynb\" target=\"_parent\"><img src=\"https://colab.research.google.com/assets/colab-badge.svg\" alt=\"Open In Colab\"/></a>"
      ]
    },
    {
      "cell_type": "markdown",
      "source": [
        "# **Python Basics - Part 1**"
      ],
      "metadata": {
        "id": "6F9P06vxpvl4"
      }
    },
    {
      "cell_type": "markdown",
      "source": [
        "**Why Python?**\n",
        "\n",
        "Easy to Read and Write: Python's syntax is similar to English, making it easy for beginners to learn.\n",
        "\n",
        "Dynamic Typing: Unlike statically typed languages (like C or Java), Python variables do not require explicit type declarations.\n",
        "\n",
        "Extensive Libraries: A rich ecosystem of libraries (e.g., NumPy, pandas for data science; Django, Flask for web development).\n",
        "\n",
        "Cross-Platform: Compatible with major operating systems (Windows, macOS, Linux)."
      ],
      "metadata": {
        "id": "O7mqJbYgqS5L"
      }
    },
    {
      "cell_type": "markdown",
      "source": [
        "**The Python Ecosystem**\n",
        "\n",
        "Python offers numerous libraries and frameworks:\n",
        "\n",
        "Web Development: Django, Flask\n",
        "\n",
        "Data Science & Machine Learning: NumPy, pandas, TensorFlow, scikit-learn\n",
        "\n",
        "Automation: Selenium, PyAutoGUI"
      ],
      "metadata": {
        "id": "nKxeLdRsqhlA"
      }
    },
    {
      "cell_type": "markdown",
      "source": [
        "## **Variables and Data Types**"
      ],
      "metadata": {
        "id": "2vV-606ArRna"
      }
    },
    {
      "cell_type": "markdown",
      "source": [
        "In Python, variables act as containers to store data. Python is **dynamically typed**, meaning you don't need to declare the type of a variable when assigning a value. The type is determined at runtime."
      ],
      "metadata": {
        "id": "Z-LCsmsOrSZg"
      }
    },
    {
      "cell_type": "markdown",
      "source": [
        "**Data Types**\n",
        "\n",
        "int: Whole numbers (e.g., 42, -3)\n",
        "\n",
        "float: Decimal numbers (e.g., 3.14, -2.5)\n",
        "\n",
        "str: Text (e.g., \"Hello, World!\")\n",
        "\n",
        "bool: Boolean values (True or False)\n",
        "\n",
        "NoneType: Represents the absence of a value (None)\n",
        "\n",
        "<br>\n",
        "\n",
        "**Memory Management**\n",
        "\n",
        "Python automatically handles memory allocation and garbage collection. This means that you don't need to manually manage memory (like in C or C++). Python's garbage collector frees up memory when objects are no longer in use.\n",
        "\n",
        "<br>\n",
        "\n",
        "**Type Conversion¶**\n",
        "\n",
        "Use functions like int(), float(), str(), and bool() to convert between types."
      ],
      "metadata": {
        "id": "uxnx-CYRrzX5"
      }
    },
    {
      "cell_type": "markdown",
      "source": [
        "### Example 1: working with vars and data types."
      ],
      "metadata": {
        "id": "mskJ6Rytt0rD"
      }
    },
    {
      "cell_type": "code",
      "source": [
        "# assigning vars\n",
        "name = \"Spyros\"\n",
        "age = 38\n",
        "height = 1.80\n",
        "is_student = False\n",
        "\n",
        "# printing vars and their datatypes\n",
        "print(\"Data Types: \")\n",
        "print(\"Name:\", type(name))\n",
        "print(\"Age:\", type(age))\n",
        "print(\"Height:\", type(height))\n",
        "print(\"Is Student:\", type(is_student))\n",
        "\n",
        "# converting data types\n",
        "age_as_str = str(age)\n",
        "height_as_int = int(height)\n",
        "\n",
        "print(\"Age as String:\", age_as_str)\n",
        "print(\"Height as Integer:\", height_as_int)\n",
        "\n",
        "# Memory Management - automatic in Python\n",
        "x = 5\n",
        "y = x\n",
        "print(\"y before deleting x:\", y)\n",
        "del x  # Memory is managed automatically, 'y' still holds the value\n",
        "print(\"y after deleting x:\", y)"
      ],
      "metadata": {
        "colab": {
          "base_uri": "https://localhost:8080/"
        },
        "id": "4LdY1k2Opmg6",
        "outputId": "7e63b487-ae7b-4d66-be72-f3f5a718ab69"
      },
      "execution_count": null,
      "outputs": [
        {
          "output_type": "stream",
          "name": "stdout",
          "text": [
            "Data Types: \n",
            "Name: <class 'str'>\n",
            "Age: <class 'int'>\n",
            "Height: <class 'float'>\n",
            "Is Student: <class 'bool'>\n",
            "Age as String: 38\n",
            "Height as Integer: 1\n",
            "y before deleting x: 5\n",
            "y after deleting x: 5\n"
          ]
        }
      ]
    },
    {
      "cell_type": "markdown",
      "source": [
        "### Exercises in Variables and Data Types."
      ],
      "metadata": {
        "id": "PlKsuNZAv_o7"
      }
    },
    {
      "cell_type": "markdown",
      "source": [
        "1. Write a Python program that asks for the user's height and weight, calculates their BMI (weight/(height^2)), and displays the result"
      ],
      "metadata": {
        "id": "ipqBGguy2YmE"
      }
    },
    {
      "cell_type": "code",
      "source": [
        "height = float(input(\"Enter your height: \"))\n",
        "weight = float(input(\"Enter your weight: \"))\n",
        "\n",
        "bmi = weight/(height**2)\n",
        "print(f\"Your bmi is: {bmi}\")"
      ],
      "metadata": {
        "colab": {
          "base_uri": "https://localhost:8080/"
        },
        "id": "uql6kp9DvY7k",
        "outputId": "fdf2ce5f-14b4-499c-bf16-73f21777d365"
      },
      "execution_count": null,
      "outputs": [
        {
          "output_type": "stream",
          "name": "stdout",
          "text": [
            "Enter your height: 1.86\n",
            "Enter your weight: 95\n",
            "Your bmi is: 27.45982194473349\n"
          ]
        }
      ]
    },
    {
      "cell_type": "markdown",
      "source": [
        "2. Convert a float number into an integer and a string, and print each conversion with its type"
      ],
      "metadata": {
        "id": "AhLpy1v7xGib"
      }
    },
    {
      "cell_type": "code",
      "source": [
        "int_height = int(height)\n",
        "str_height = str(height)\n",
        "\n",
        "print(\"The real datatype of height is: \", type(height))\n",
        "print(\"Height as Integer:\", int_height)\n",
        "print(\"Height as String:\", str_height)"
      ],
      "metadata": {
        "colab": {
          "base_uri": "https://localhost:8080/"
        },
        "id": "DXIZsQZEqUnm",
        "outputId": "6b94d4dd-09e8-48ad-8c6b-9a2b17dd7e37"
      },
      "execution_count": null,
      "outputs": [
        {
          "output_type": "stream",
          "name": "stdout",
          "text": [
            "The real datatype of height is:  <class 'float'>\n",
            "Height as Integer: 1\n",
            "Height as String: 1.86\n"
          ]
        }
      ]
    },
    {
      "cell_type": "markdown",
      "source": [
        "# **Python Basics - Part 2**"
      ],
      "metadata": {
        "id": "HYH6Jt8my_qL"
      }
    },
    {
      "cell_type": "markdown",
      "source": [
        "## **Basic Operators and Expressions**"
      ],
      "metadata": {
        "id": "YEaV3Sw-zJVZ"
      }
    },
    {
      "cell_type": "markdown",
      "source": [
        "Python provides a range of operators for arithmetic, comparison, and logical operations.\n",
        "\n",
        "<br>\n",
        "\n",
        "1. Arithmetic Operators\n",
        "\n",
        "`+` : Addition\n",
        "\n",
        "`-` : Subtraction\n",
        "\n",
        "`*` : Multiplication\n",
        "\n",
        "`/` : Division\n",
        "\n",
        "`//` : Floor Division (returns the largest integer less than or equal to the division result)\n",
        "\n",
        "`%` : Modulus (returns the remainder of a division)\n",
        "\n",
        "`**` : Exponentiation\n",
        "\n",
        "<br>\n",
        "\n",
        "2. Comparison Operators¶\n",
        "\n",
        "`==` : Equal to\n",
        "\n",
        "`!=` : Not equal to\n",
        "\n",
        "`>` : Greater than\n",
        "\n",
        "`<` : Less than\n",
        "\n",
        "`>=` : Greater than or equal to\n",
        "\n",
        "`<=` : Less than or equal to\n",
        "\n",
        "<br>\n",
        "\n",
        "3. Logical Operators\n",
        "\n",
        "`and` : True if both conditions are true\n",
        "\n",
        "`or` : True if at least one condition is true\n",
        "\n",
        "`not` : Inverts the Boolean value"
      ],
      "metadata": {
        "id": "7GOP8YvUzJdV"
      }
    },
    {
      "cell_type": "markdown",
      "source": [
        "### Exercise in operators."
      ],
      "metadata": {
        "id": "taN2i8ctzJxg"
      }
    },
    {
      "cell_type": "markdown",
      "source": [
        "Write a program that takes two numbers from the user and performs all operations."
      ],
      "metadata": {
        "id": "vGi2wr_32qr2"
      }
    },
    {
      "cell_type": "code",
      "source": [
        "number_1 = float(input(\"Enter first number: \"))\n",
        "number_2 = float(input(\"Enter second number: \"))\n",
        "\n",
        "# arithmetic operations\n",
        "print(\"\\nArithmetic Operations: \")\n",
        "print(f\"Addition operation: {number_1 + number_2}\")\n",
        "print(f\"Subtraction operation: {number_1 - number_2}\")\n",
        "print(f\"Multiplication operation: {number_1 * number_2}\")\n",
        "print(f\"Division operation: {number_1 / number_2}\")\n",
        "print(f\"Floor Division operation: {number_1 // number_2}\")\n",
        "print(f\"Modulus operation: {number_1 % number_2}\")\n",
        "print(f\"Exponentiation operation: {number_1 ** number_2}\")\n",
        "\n",
        "# comparison operations\n",
        "is_equal = number_1 == number_2\n",
        "is_greater = number_1 > number_2\n",
        "is_less = number_1 < number_2\n",
        "\n",
        "print(\"\\nComparison Operations: \")\n",
        "print(f\"Is Equal: {is_equal}\")\n",
        "print(f\"Is Greater: {is_greater}\")\n",
        "print(f\"Is Less: {is_less}\")\n",
        "\n",
        "# logical operations\n",
        "log_and = number_1 > 0 and number_2 > 0\n",
        "log_or = number_1 > 5 or number_2 > 5\n",
        "log_not = not (number_1 > 0)\n",
        "print(\"\\nLogical Operations: \")\n",
        "print(f\"Logical AND: {log_and}\")\n",
        "print(f\"Logical OR: {log_or}\")\n",
        "print(f\"Logical NOT: {log_not}\")"
      ],
      "metadata": {
        "colab": {
          "base_uri": "https://localhost:8080/"
        },
        "id": "nTyiCUp8rDYV",
        "outputId": "7d3d9e1a-b40f-44da-b7b8-19c41ddee43e"
      },
      "execution_count": null,
      "outputs": [
        {
          "output_type": "stream",
          "name": "stdout",
          "text": [
            "Enter first number: 10\n",
            "Enter second number: 5\n",
            "\n",
            "Arithmetic Operations: \n",
            "Addition operation: 15.0\n",
            "Subtraction operation: 5.0\n",
            "Multiplication operation: 50.0\n",
            "Division operation: 2.0\n",
            "Floor Division operation: 2.0\n",
            "Modulus operation: 0.0\n",
            "Exponentiation operation: 100000.0\n",
            "\n",
            "Comparison Operations: \n",
            "Is Equal: False\n",
            "Is Greater: True\n",
            "Is Less: False\n",
            "\n",
            "Logical Operations: \n",
            "Logical AND: True\n",
            "Logical OR: True\n",
            "Logical NOT: False\n"
          ]
        }
      ]
    },
    {
      "cell_type": "markdown",
      "source": [
        "##**Control Flow: If-Else and Nested Conditions**"
      ],
      "metadata": {
        "id": "yC422XX9QU0v"
      }
    },
    {
      "cell_type": "markdown",
      "source": [
        "If Statements allow you to control the flow of your program based on conditions. A block of code is executed if the condition is True.\n",
        "<br>\n",
        "\n",
        "```python\n",
        "if condition:\n",
        "   # Code block\n",
        "elif another_condition:\n",
        "   # Another code block\n",
        "else:\n",
        "   # Default code block\n",
        "```\n",
        "\n",
        "Nested If Statements: An if-else statement inside another if statement."
      ],
      "metadata": {
        "id": "Nw1tDphoQz9b"
      }
    },
    {
      "cell_type": "markdown",
      "source": [
        "### Example with If-Else and Nested Conditions"
      ],
      "metadata": {
        "id": "6oRltOgmSdSC"
      }
    },
    {
      "cell_type": "code",
      "source": [
        "grade = float(input(\"Enter your grade: \"))\n",
        "\n",
        "if grade >= 90:\n",
        "    print(\"grade: A\")\n",
        "elif grade >= 80:\n",
        "    print(\"grade: B\")\n",
        "elif grade >= 70:\n",
        "    print(\"grade: C\")\n",
        "elif grade >= 60:\n",
        "    print(\"grade: D\")\n",
        "else:\n",
        "    print(\"grade: F\")\n",
        "\n",
        "# fail-pass grade\n",
        "if grade >= 60:\n",
        "    print(\"Pass\")\n",
        "else:\n",
        "    print(\"Fail\")"
      ],
      "metadata": {
        "colab": {
          "base_uri": "https://localhost:8080/"
        },
        "id": "PzFikswlM5Qi",
        "outputId": "4b926a0f-6aa9-432b-a4d3-1f3985863381"
      },
      "execution_count": null,
      "outputs": [
        {
          "output_type": "stream",
          "name": "stdout",
          "text": [
            "Enter your grade: 5\n",
            "grade: F\n",
            "Fail\n"
          ]
        }
      ]
    },
    {
      "cell_type": "code",
      "source": [],
      "metadata": {
        "id": "69ZRFABES6GA"
      },
      "execution_count": null,
      "outputs": []
    },
    {
      "cell_type": "markdown",
      "source": [
        "## **Loops (For and While)**"
      ],
      "metadata": {
        "id": "Gn8QnuuYTQwv"
      }
    },
    {
      "cell_type": "markdown",
      "source": [
        "**Loops** are used to execute a block of code repeatedly.\n",
        "\n",
        "**For Loops**\n",
        "\n",
        "Used to iterate over a sequence (e.g., list, string, range).\n",
        "```python\n",
        "for i in range(1, 6):\n",
        "   print(i)\n",
        "```\n",
        "\n",
        "**While Loops**\n",
        "\n",
        "Repeats as long as a condition is `True`.\n",
        "```python\n",
        "count = 1\n",
        "while count <= 5:\n",
        "   print(count)\n",
        "   count += 1\n",
        "```\n",
        "\n",
        "**Break and Continue**:  \n",
        "\n",
        "- `break`: Exits the loop.\n",
        "- `continue`: Skips the current iteration."
      ],
      "metadata": {
        "id": "fQdEpE_dTRPN"
      }
    },
    {
      "cell_type": "markdown",
      "source": [
        "### Examples in For Loop, While Loop, Break, and Continue"
      ],
      "metadata": {
        "id": "qQikvTxUXBxr"
      }
    },
    {
      "cell_type": "code",
      "source": [
        "# For loop - print numbers 1 to 5\n",
        "for i in range(1, 6):\n",
        "    print(f\"For Loop: {i}\")\n",
        "\n",
        "# While loop - print numbers 1 to 5\n",
        "count = 1\n",
        "while count <= 5:\n",
        "    print(f\"While Loop: {count}\")\n",
        "    count += 1\n",
        "\n",
        "# Break and Continue\n",
        "for i in range(1, 10):\n",
        "    if i == 5:\n",
        "        break  # Exit the loop when i is 5\n",
        "    if i % 2 == 0:\n",
        "        continue  # Skip even numbers\n",
        "    print(f\"Loop with Break and Continue: {i}\")"
      ],
      "metadata": {
        "colab": {
          "base_uri": "https://localhost:8080/"
        },
        "id": "TL9meflMXKbx",
        "outputId": "f4c6337f-be74-475a-9338-d0c4f912486f"
      },
      "execution_count": null,
      "outputs": [
        {
          "output_type": "stream",
          "name": "stdout",
          "text": [
            "For Loop: 1\n",
            "For Loop: 2\n",
            "For Loop: 3\n",
            "For Loop: 4\n",
            "For Loop: 5\n",
            "While Loop: 1\n",
            "While Loop: 2\n",
            "While Loop: 3\n",
            "While Loop: 4\n",
            "While Loop: 5\n",
            "Loop with Break and Continue: 1\n",
            "Loop with Break and Continue: 3\n"
          ]
        }
      ]
    },
    {
      "cell_type": "code",
      "source": [
        "# if statement example\n",
        "mRNA_size = 120\n",
        "if (mRNA_size / 3) >= 60:\n",
        "    print('We found a protein')\n",
        "elif (mRNA_size / 3) < 30:\n",
        "    print('We found a small peptide')\n",
        "else:\n",
        "    print('We found a large peptide')"
      ],
      "metadata": {
        "colab": {
          "base_uri": "https://localhost:8080/"
        },
        "id": "sQWg3thiXeLx",
        "outputId": "6147411a-95c1-42eb-b72a-c4bf76397622"
      },
      "execution_count": null,
      "outputs": [
        {
          "output_type": "stream",
          "name": "stdout",
          "text": [
            "We found a large peptide\n"
          ]
        }
      ]
    },
    {
      "cell_type": "code",
      "source": [
        "# for loop plus if-statement\n",
        "list_mRNA_size = [240, 33, 600, 120]\n",
        "for mRNA_size in list_mRNA_size:\n",
        "\n",
        "  if (mRNA_size / 3) >= 60:\n",
        "    print('We found a protein')\n",
        "  elif (mRNA_size / 3) < 30:\n",
        "    print('We found a small peptide')\n",
        "  else:\n",
        "    print('We found a large peptide\\n')\n",
        "\n",
        "# another way for the above\n",
        "list_of_mRNA_sizes = [240, 33, 600, 120]\n",
        "for idx in range(len(list_of_mRNA_sizes)): # i.e., for idx in range(4), i.e., in [0,1,2,3]\n",
        "    mRNA_size = list_of_mRNA_sizes[idx] # 1st time: ...[0], 2nd time: ...[1], ... 4th time: ...[3]\n",
        "    if mRNA_size / 3 >= 60:\n",
        "        print('We found a protein')\n",
        "    elif mRNA_size / 3 < 30:\n",
        "        print('We found a small peptide')\n",
        "    else:\n",
        "        print('We found a large peptide')"
      ],
      "metadata": {
        "colab": {
          "base_uri": "https://localhost:8080/"
        },
        "id": "dZkJi7sSXqw3",
        "outputId": "74a03289-db57-4c3e-d45b-fc8766c5bb1b"
      },
      "execution_count": null,
      "outputs": [
        {
          "output_type": "stream",
          "name": "stdout",
          "text": [
            "We found a protein\n",
            "We found a small peptide\n",
            "We found a protein\n",
            "We found a large peptide\n",
            "\n",
            "We found a protein\n",
            "We found a small peptide\n",
            "We found a protein\n",
            "We found a large peptide\n"
          ]
        }
      ]
    },
    {
      "cell_type": "code",
      "source": [
        "# while loop examples\n",
        "count = 1\n",
        "while count <= 5:\n",
        "    print(\"Counter: \", count)\n",
        "    count += 1"
      ],
      "metadata": {
        "colab": {
          "base_uri": "https://localhost:8080/"
        },
        "id": "iMZMr8enZH9X",
        "outputId": "d7f156ae-626f-49de-d28f-b33b77e6f51a"
      },
      "execution_count": null,
      "outputs": [
        {
          "output_type": "stream",
          "name": "stdout",
          "text": [
            "Counter:  1\n",
            "Counter:  2\n",
            "Counter:  3\n",
            "Counter:  4\n",
            "Counter:  5\n"
          ]
        }
      ]
    },
    {
      "cell_type": "code",
      "source": [
        "# avoid using break and continue\n",
        "\n",
        "for count in range(10):\n",
        "    if count == 5:\n",
        "        continue # VERY BAD PROGRAMMING TACTIC, better avoid!\n",
        "    print('counter: ' + str(count))\n",
        "    count += 1\n",
        "\n",
        "print(\"\\n\")\n",
        "for count in range(10):\n",
        "    if count == 5:\n",
        "        break  # VERY BAD PROGRAMMING TACTIC, better avoid!\n",
        "    print('counter: ' + str(count))\n",
        "    count += 1"
      ],
      "metadata": {
        "colab": {
          "base_uri": "https://localhost:8080/"
        },
        "id": "G7TyISL4Zrno",
        "outputId": "ba1d4ebb-f827-4420-b172-f96981233da8"
      },
      "execution_count": null,
      "outputs": [
        {
          "output_type": "stream",
          "name": "stdout",
          "text": [
            "counter: 0\n",
            "counter: 1\n",
            "counter: 2\n",
            "counter: 3\n",
            "counter: 4\n",
            "counter: 6\n",
            "counter: 7\n",
            "counter: 8\n",
            "counter: 9\n",
            "\n",
            "\n",
            "counter: 0\n",
            "counter: 1\n",
            "counter: 2\n",
            "counter: 3\n",
            "counter: 4\n"
          ]
        }
      ]
    },
    {
      "cell_type": "markdown",
      "source": [
        "### Exercise in loops: Write a program that prints odd numbers up to a given number."
      ],
      "metadata": {
        "id": "R5QVMD5KUbvN"
      }
    },
    {
      "cell_type": "code",
      "source": [
        "for i in range(11):\n",
        "    if i % 2 == 0:\n",
        "        print(\"The number\", i, \"is even\")\n",
        "    else:\n",
        "        print(\"The number\", i, \"is odd\")"
      ],
      "metadata": {
        "colab": {
          "base_uri": "https://localhost:8080/"
        },
        "id": "YKQQWIAkTspH",
        "outputId": "444aab3f-9885-4476-a33f-2b7c4ec44c60"
      },
      "execution_count": null,
      "outputs": [
        {
          "output_type": "stream",
          "name": "stdout",
          "text": [
            "The number 0 is even\n",
            "The number 1 is odd\n",
            "The number 2 is even\n",
            "The number 3 is odd\n",
            "The number 4 is even\n",
            "The number 5 is odd\n",
            "The number 6 is even\n",
            "The number 7 is odd\n",
            "The number 8 is even\n",
            "The number 9 is odd\n",
            "The number 10 is even\n"
          ]
        }
      ]
    },
    {
      "cell_type": "markdown",
      "source": [
        "## Functions (Introduction)"
      ],
      "metadata": {
        "id": "OEjhELxpanxS"
      }
    },
    {
      "cell_type": "markdown",
      "source": [
        "**Functions** are reusable blocks of code that perform a specific task. They help in organizing code and reducing redundancy.\n",
        "\n",
        "```python\n",
        "def function_name(parameters):\n",
        "   # Code block\n",
        "   return result\n",
        "```\n",
        "\n",
        "**Parameters and Return Values**: Functions can take input parameters and return output values.\n",
        "\n",
        "**Scope of Variables**: Variables defined inside a function have local scope, whereas those defined outside have global scope."
      ],
      "metadata": {
        "id": "xSNTArsUa5lR"
      }
    },
    {
      "cell_type": "markdown",
      "source": [
        "### Exercise: Write a function that takes a list of numbers as input and returns the average."
      ],
      "metadata": {
        "id": "XIo-2xVjbMLy"
      }
    },
    {
      "cell_type": "code",
      "source": [
        "# average function\n",
        "def average(numbers):\n",
        "    total = sum(numbers)\n",
        "    return total / len(numbers)\n",
        "\n",
        "# User input\n",
        "num_list = [float(num) for num in input(\"Enter numbers separated by spaces: \").split()]\n",
        "aver = average(num_list)\n",
        "print(f\"The average is: {aver}\")"
      ],
      "metadata": {
        "colab": {
          "base_uri": "https://localhost:8080/"
        },
        "id": "qYl_9jWEbOg0",
        "outputId": "8c02b992-cd23-4f23-d7da-e28feff941b2"
      },
      "execution_count": null,
      "outputs": [
        {
          "output_type": "stream",
          "name": "stdout",
          "text": [
            "Enter numbers separated by spaces: 1 1 1 1 \n",
            "The average is: 1.0\n"
          ]
        }
      ]
    },
    {
      "cell_type": "markdown",
      "source": [
        "## Exercises: Basic Operators, Control Flow, Loops, and Functions"
      ],
      "metadata": {
        "id": "tGqTeMjldLqZ"
      }
    },
    {
      "cell_type": "markdown",
      "source": [
        "1. Create a program that checks whether a given year is a leap year. Rule: if the year is divisible by 4, it's a leap year, except for end-of-century years, which must also be divisible by 400"
      ],
      "metadata": {
        "id": "ey2JvnYJdXOu"
      }
    },
    {
      "cell_type": "code",
      "source": [
        "my_year = int(input(\"Enter a year: \"))\n",
        "\n",
        "if (my_year % 4 == 0 and my_year % 100 != 0) or (my_year % 400 == 0):\n",
        "    print(f\"{my_year} is a leap year\")\n",
        "else:\n",
        "   print(f\"{my_year} is not a leap year.\")"
      ],
      "metadata": {
        "colab": {
          "base_uri": "https://localhost:8080/"
        },
        "id": "J2VLsBiMct7U",
        "outputId": "9e8a0d86-d636-4a13-934f-b1c2abd36261"
      },
      "execution_count": null,
      "outputs": [
        {
          "output_type": "stream",
          "name": "stdout",
          "text": [
            "Enter a year: 2001\n",
            "2001 is not a leap year.\n"
          ]
        }
      ]
    },
    {
      "cell_type": "markdown",
      "source": [
        "2. Implement a decision tree for age-based categorization (child, teenager, adult, senior)"
      ],
      "metadata": {
        "id": "K2S0VhPFeHk1"
      }
    },
    {
      "cell_type": "code",
      "source": [
        "my_age = int(input(\"Enter your age: \"))\n",
        "\n",
        "if my_age < 13:\n",
        "    print(\"You are a child\")\n",
        "elif my_age < 20:\n",
        "    print(\"You are a teenager\")\n",
        "elif my_age < 65:\n",
        "    print(\"You are an adult\")\n",
        "else:\n",
        "    print(\"You are a senior\")"
      ],
      "metadata": {
        "colab": {
          "base_uri": "https://localhost:8080/"
        },
        "id": "eKdsBIMUdsi5",
        "outputId": "208a1210-3e41-4bd3-c572-c61a74c68aa6"
      },
      "execution_count": null,
      "outputs": [
        {
          "output_type": "stream",
          "name": "stdout",
          "text": [
            "Enter your age: 38\n",
            "You are an adult\n"
          ]
        }
      ]
    },
    {
      "cell_type": "markdown",
      "source": [
        "3. Create a multiplication table generator using loops"
      ],
      "metadata": {
        "id": "wXgie1CLekZu"
      }
    },
    {
      "cell_type": "code",
      "source": [
        "num = int(input(\"Enter a number: \"))\n",
        "for i in range(11):\n",
        "   print(f\"{num} x {i} = {num * i}\")"
      ],
      "metadata": {
        "colab": {
          "base_uri": "https://localhost:8080/"
        },
        "id": "ajK9sfqOepje",
        "outputId": "6d806ea7-67de-4f18-bd4c-a8a679953068"
      },
      "execution_count": null,
      "outputs": [
        {
          "output_type": "stream",
          "name": "stdout",
          "text": [
            "Enter a number: 2\n",
            "2 x 0 = 0\n",
            "2 x 1 = 2\n",
            "2 x 2 = 4\n",
            "2 x 3 = 6\n",
            "2 x 4 = 8\n",
            "2 x 5 = 10\n",
            "2 x 6 = 12\n",
            "2 x 7 = 14\n",
            "2 x 8 = 16\n",
            "2 x 9 = 18\n",
            "2 x 10 = 20\n"
          ]
        }
      ]
    },
    {
      "cell_type": "markdown",
      "source": [
        "4. Write a function that returns the factorial of a number"
      ],
      "metadata": {
        "id": "sDT59B0dfEZ5"
      }
    },
    {
      "cell_type": "code",
      "source": [
        "num = int(input(\"Enter a number: \"))\n",
        "\n",
        "# factorial function\n",
        "def factorial(n):\n",
        "    if n == 0:\n",
        "        return 1\n",
        "    else:\n",
        "        return n * factorial(n - 1)\n",
        "\n",
        "print(f\"The factorial of {num} is {factorial(num)}\")"
      ],
      "metadata": {
        "colab": {
          "base_uri": "https://localhost:8080/"
        },
        "id": "T3rlq7kre9ez",
        "outputId": "aed64117-4757-4702-acb6-846f9518db7c"
      },
      "execution_count": null,
      "outputs": [
        {
          "output_type": "stream",
          "name": "stdout",
          "text": [
            "Enter a number: 4\n",
            "The factorial of 4 is 24\n"
          ]
        }
      ]
    },
    {
      "cell_type": "markdown",
      "source": [
        "# **Python Basics - Part 3**"
      ],
      "metadata": {
        "id": "2nQNujsHgV70"
      }
    },
    {
      "cell_type": "markdown",
      "source": [
        "Quiz - Multiple Choice Questions"
      ],
      "metadata": {
        "id": "DyzmtJj0gd95"
      }
    },
    {
      "cell_type": "markdown",
      "source": [
        "1. What will `print(10 // 3)` output in Python?  \n",
        "a) 3  \n",
        "b) 3.33  \n",
        "c) 3.0  \n",
        "d) 2\n",
        "\n",
        "2. Which of the following data types is immutable?  \n",
        "a) List  \n",
        "b) Set  \n",
        "c) Dictionary  \n",
        "d) Tuple\n",
        "\n",
        "3. What will the following code print?\n",
        "\n",
        "```python\n",
        "num = 5  \n",
        "if num < 10:  \n",
        "   print(\"Small\")  \n",
        "else:  \n",
        "   print(\"Large\")  \n",
        "```\n",
        "\n",
        "4. Which of the following is used to start a loop in Python?  \n",
        "a) `repeat`  \n",
        "b) `for`  \n",
        "c) `loop`  \n",
        "d) `iterate`\n",
        "\n",
        "5. What will be the result of `print(3 ** 2)`?  \n",
        "a) 6  \n",
        "b) 9  \n",
        "c) 3  \n",
        "d) None of the above\n",
        "\n",
        "6. Which operator is used for equality comparison?  \n",
        "a) =  \n",
        "b) ==  \n",
        "c) !=  \n",
        "d) >\n",
        "\n",
        "7. What is the output of `print(\"Hello\" * 3)`?  \n",
        "a) HelloHelloHello  \n",
        "b) Hello 3 times  \n",
        "c) 3Hello  \n",
        "d) Error\n",
        "\n",
        "8. Which of the following can be used to iterate over a sequence of numbers?  \n",
        "a) range()  \n",
        "b) list()  \n",
        "c) len()  \n",
        "d) None of the above\n",
        "\n",
        "9. Which of the following data types can be used as keys in a dictionary?  \n",
        "a) Lists  \n",
        "b) Tuples  \n",
        "c) Sets  \n",
        "d) All of the above\n",
        "\n",
        "10. What will be the result of the following code:  \n",
        "\n",
        "```python\n",
        "if not False:  \n",
        "   print(\"True\")  \n",
        "else:  \n",
        "   print(\"False\")  \n",
        "```\n",
        "a) True  \n",
        "b) False  \n",
        "c) None  \n",
        "d) Error"
      ],
      "metadata": {
        "id": "Gbj-tf5Hgj2E"
      }
    },
    {
      "cell_type": "markdown",
      "source": [
        "Solutions to Quiz"
      ],
      "metadata": {
        "id": "oTFWT4l2hzYN"
      }
    },
    {
      "cell_type": "markdown",
      "source": [
        "1.Answer: a) 3\n",
        "\n",
        "Explanation: // performs floor division.\n",
        "\n",
        "2.Answer: d) Tuple\n",
        "\n",
        "Explanation: Tuples are immutable in Python.\n",
        "\n",
        "3.Answer: \"Small\"\n",
        "\n",
        "Explanation: The condition is true, so \"Small\" is printed.\n",
        "\n",
        "4.Answer: b) for\n",
        "\n",
        "Explanation: for is the correct syntax for starting a loop in Python.\n",
        "\n",
        "5.Answer: b) 9\n",
        "\n",
        "Explanation: ** is the exponentiation operator; 3 ** 2 means 3 squared.\n",
        "\n",
        "6.Answer: b) ==\n",
        "\n",
        "Explanation: == is the operator used for equality comparison.\n",
        "\n",
        "7.Answer: a) HelloHelloHello\n",
        "\n",
        "Explanation: \"Hello\" * 3 repeats the string 3 times.\n",
        "\n",
        "8.Answer: a) range()\n",
        "\n",
        "Explanation: range() is used to generate a sequence of numbers.\n",
        "\n",
        "9.Answer: b) Tuples\n",
        "\n",
        "Explanation: Only immutable types like tuples can be used as dictionary keys.\n",
        "\n",
        "10.Answer: a) True\n",
        "\n",
        "Explanation: not False evaluates to True."
      ],
      "metadata": {
        "id": "igBe_x4Xh45k"
      }
    },
    {
      "cell_type": "markdown",
      "source": [
        "# **Data Structures - Part 1**"
      ],
      "metadata": {
        "id": "14tLKAcJlaVE"
      }
    },
    {
      "cell_type": "markdown",
      "source": [
        "**Data Structures** are essential for organizing and manipulating data efficiently. They enable programmers to store, access, and modify data in a way that optimizes performance and maintains readability.\n",
        "\n",
        "Common data structures in Python include:\n",
        "- **Lists**: Ordered and mutable collections.\n",
        "- **Tuples**: Ordered and immutable collections.\n",
        "- **Dictionaries**: Key-value pairs for fast lookup.\n",
        "- **Sets**: Unordered collections of unique elements.\n",
        "\n",
        "Each data structure has its own use cases and benefits. Choosing the right data structure for the task can make your code more efficient and easier to maintain."
      ],
      "metadata": {
        "id": "SCq54vOYsYDN"
      }
    },
    {
      "cell_type": "markdown",
      "source": [
        "## **Lists**"
      ],
      "metadata": {
        "id": "P1_OUDzOsdsC"
      }
    },
    {
      "cell_type": "markdown",
      "source": [
        "**Creating Lists**\n",
        "\n",
        "A **list** is an ordered collection of elements. Lists can hold elements of different data types and are defined using square brackets:\n",
        "\n",
        "```python\n",
        "#create an empty list\n",
        "my_list = []\n",
        "\n",
        "#create a list with initial values\n",
        "my_list = [1, 2, 3, 4, 5]\n",
        "\n",
        "#create a list with initial values of difference data types\n",
        "my_list = [1, \"Hello\", 3.14, True]\n",
        "\n",
        "#create a list from other objects, e.g, lists, tuples, range of numbers using the constructor list()\n",
        "my_list = list([1,2,3]) # ...from a list\n",
        "my_list = list((1,2,3)) # ...from a tuple\n",
        "my_list = list(range(10)) # ...from a range of numbers\n",
        "```\n",
        "\n",
        "**List Methods**\n",
        "- **`append()`**: Adds an element to the end of the list.\n",
        "- **`remove()`**: Removes the first occurrence of the specified element.\n",
        "- **`insert()`**: Inserts an element at a specified position.\n",
        "- **`pop()`**: Removes and returns the element at the specified position.\n",
        "- **`sort()`**: Sorts the list in ascending order.\n",
        "- **`reverse()`**: Reverses the order of elements in the list.\n",
        "\n",
        "**Slicing**\n",
        "\n",
        "Access a range of elements using slicing:\n",
        "\n",
        "```python\n",
        "sublist = my_list[1:4]  # Returns elements from index 1 to 3\n",
        "```\n",
        "\n",
        "Slice syntax: [start:stop:steps]. Note that \"start\" and \"stop\" denote positions. **BE CAREFUL: 0 is the 1st position!!!"
      ],
      "metadata": {
        "id": "GlKh-f1osqSw"
      }
    },
    {
      "cell_type": "markdown",
      "source": [
        "### Exercises in Lists"
      ],
      "metadata": {
        "id": "t0WYHx9xuYzL"
      }
    },
    {
      "cell_type": "markdown",
      "source": [
        "1. Create some lists and apply all list methods."
      ],
      "metadata": {
        "id": "av88CLUpww64"
      }
    },
    {
      "cell_type": "code",
      "source": [
        "# creating some lists\n",
        "names = [\"Alice\", \"Bob\", \"Charlie\", \"David\"]\n",
        "age = [25, 30, 35, 40]\n",
        "mixed_list = [1, \"Alice\", 25, True]\n",
        "grades = [90, 85, 95, 78]\n",
        "\n",
        "# list methods in practice\n",
        "names.append(\"Eve\") # add an element in names list\n",
        "names.remove(\"Alice\") # remove a name from names list\n",
        "names.insert(1, \"Giorgos\")  # Inserts \"Eve\" at index 1\n",
        "\n",
        "print(\"Modified list: \", names)\n",
        "\n",
        "names.sort()\n",
        "print(\"Sorted list: \", names)\n",
        "names.pop(2) # remove the element at index 2(third position of names list)\n",
        "print(\"Modified list: \", names)\n",
        "names.reverse()\n",
        "print(\"Reversed list: \", names)"
      ],
      "metadata": {
        "colab": {
          "base_uri": "https://localhost:8080/"
        },
        "id": "QZVkjqs2led0",
        "outputId": "593d4662-3df4-4d51-a690-28ebd8427ee8"
      },
      "execution_count": null,
      "outputs": [
        {
          "output_type": "stream",
          "name": "stdout",
          "text": [
            "Modified list:  ['Bob', 'Giorgos', 'Charlie', 'David', 'Eve']\n",
            "Sorted list:  ['Bob', 'Charlie', 'David', 'Eve', 'Giorgos']\n",
            "Modified list:  ['Bob', 'Charlie', 'Eve', 'Giorgos']\n",
            "Reversed list:  ['Giorgos', 'Eve', 'Charlie', 'Bob']\n"
          ]
        }
      ]
    },
    {
      "cell_type": "markdown",
      "source": [
        "2. Create a list of names, sort them alphabetically, and remove duplicates:"
      ],
      "metadata": {
        "id": "8ce1RS0ewqKy"
      }
    },
    {
      "cell_type": "code",
      "source": [
        "names2 = [\"Alice\", \"Bob\", \"Charlie\", \"David\", \"Bob\", \"Eve\"]\n",
        "sorted_unique_names = sorted(set(names2)) # remove duplicates with set method\n",
        "print(sorted_unique_names)"
      ],
      "metadata": {
        "colab": {
          "base_uri": "https://localhost:8080/"
        },
        "id": "gVjpmdECwt-3",
        "outputId": "64f2aec6-47dd-47b5-e4ba-2b01fbcffdea"
      },
      "execution_count": null,
      "outputs": [
        {
          "output_type": "stream",
          "name": "stdout",
          "text": [
            "['Alice', 'Bob', 'Charlie', 'David', 'Eve']\n"
          ]
        }
      ]
    },
    {
      "cell_type": "markdown",
      "source": [
        "3. Write a program that creates a list of the first 10 squares (i.e., 1, 4, 9, 16, …)"
      ],
      "metadata": {
        "id": "-fUki3UxwuX2"
      }
    },
    {
      "cell_type": "code",
      "source": [
        "# solution in one line\n",
        "my_list = [i**2 for i in range(1, 11)]\n",
        "print(\"First 10 squares: \", my_list)\n",
        "\n",
        "# an alternative option\n",
        "my_list = []\n",
        "for i in range(1, 11):\n",
        "    my_list.append(i**2)\n",
        "print(\"First 10 squares: \", my_list)"
      ],
      "metadata": {
        "colab": {
          "base_uri": "https://localhost:8080/"
        },
        "id": "decCvq1Pwu1i",
        "outputId": "392be3a0-5c90-47ce-9cf5-430b8674d12b"
      },
      "execution_count": null,
      "outputs": [
        {
          "output_type": "stream",
          "name": "stdout",
          "text": [
            "First 10 squares:  [1, 4, 9, 16, 25, 36, 49, 64, 81, 100]\n",
            "First 10 squares:  [1, 4, 9, 16, 25, 36, 49, 64, 81, 100]\n"
          ]
        }
      ]
    },
    {
      "cell_type": "markdown",
      "source": [
        "# **Data Structures - Part 2**"
      ],
      "metadata": {
        "id": "ZA4rp5P8n0fA"
      }
    },
    {
      "cell_type": "markdown",
      "source": [
        "## **Tuples**"
      ],
      "metadata": {
        "id": "KivoRK9-zt1i"
      }
    },
    {
      "cell_type": "markdown",
      "source": [
        "A tuple is an ordered collection of elements, similar to a list, but unlike lists, tuples are immutable. This means that once a tuple is created, its elements cannot be modified, added, or removed.\n",
        "\n",
        "Tuples are also used when you want to return multiple values from a function!"
      ],
      "metadata": {
        "id": "lkUYwVboz33J"
      }
    },
    {
      "cell_type": "markdown",
      "source": [
        "**Creating Tuples**\n",
        "\n",
        "A **tuple** is an ordered, **non-changeable** collection of elements. Tuples can hold elements of different data types and are defined using parentheses:\n",
        "\n",
        "```python\n",
        "#create an empty tuple\n",
        "my_tuple = ()\n",
        "\n",
        "#create a tuple with initial values\n",
        "my_tuple = (1, 2, 3, 4, 5)\n",
        "\n",
        "#create a tuple with initial values of difference data types\n",
        "my_tuple = (1, \"Hello\", 3.14, True)\n",
        "\n",
        "#create a tuple from other objects, e.g, lists, tuples, range of numbers using the constructor tuple()\n",
        "my_tuple = tuple([1,2,3]) # ...from a list\n",
        "my_tuple = tuple((1,2,3)) # ...from a tuple\n",
        "my_tuple = tuple(range(10)) # ...from a range of numbers\n",
        "```\n",
        "\n",
        "**Immutability of Tuples**\n",
        "\n",
        "Since tuples cannot be changed, they are often used to store collections of items that should not be altered throughout the program.\n",
        "\n",
        "**Tuple Unpacking**\n",
        "\n",
        "Tuples can be \"unpacked\" into variables:\n",
        "\n",
        "```python\n",
        "person = (\"Alice\", 30, \"Engineer\")\n",
        "name, age, profession = person\n",
        "print(name)  # Outputs: Alice\n",
        "```"
      ],
      "metadata": {
        "id": "qq3lXkow0AOF"
      }
    },
    {
      "cell_type": "markdown",
      "source": [
        "### Exercises in Tuples"
      ],
      "metadata": {
        "id": "K2t0_mRb0y5M"
      }
    },
    {
      "cell_type": "markdown",
      "source": [
        "1. Create a tuple that stores a person's name, age, and profession, then unpack it into individual variables."
      ],
      "metadata": {
        "id": "_4sITVeD048g"
      }
    },
    {
      "cell_type": "code",
      "source": [
        "person = (\"Alice\", 30, \"Engineer\") # create a tuple\n",
        "name, age, profession = person # unpack the tuple\n",
        "print(f\"The name of the person is: {name}, while the profession of the person is: {profession} and also the age is: {age}\")"
      ],
      "metadata": {
        "colab": {
          "base_uri": "https://localhost:8080/"
        },
        "id": "YD0jU60Mn6HO",
        "outputId": "7b5fcf0d-2d26-4f97-e5cc-d7ee769c6e77"
      },
      "execution_count": null,
      "outputs": [
        {
          "output_type": "stream",
          "name": "stdout",
          "text": [
            "The name of the person is: Alice, while the profession of the person is: Engineer and also the age is: 30\n"
          ]
        }
      ]
    },
    {
      "cell_type": "code",
      "source": [
        "# Example of immutability\n",
        "try:\n",
        "    person[0] = \"Bob\"\n",
        "except TypeError as e:\n",
        "    print(\"Error:\", e)"
      ],
      "metadata": {
        "colab": {
          "base_uri": "https://localhost:8080/"
        },
        "id": "GOoTiscs1-3P",
        "outputId": "415d0399-dfc3-4ed1-c8c3-1e375abc6f11"
      },
      "execution_count": null,
      "outputs": [
        {
          "output_type": "stream",
          "name": "stdout",
          "text": [
            "Error: 'tuple' object does not support item assignment\n"
          ]
        }
      ]
    },
    {
      "cell_type": "markdown",
      "source": [
        "2. Check the time of adding items in a list vs. adding items in a tuple."
      ],
      "metadata": {
        "id": "XD4OWyDQ146T"
      }
    },
    {
      "cell_type": "code",
      "source": [
        "import time\n",
        "\n",
        "n = 1000000\n",
        "my_list = []\n",
        "start = time.perf_counter()\n",
        "for i in range(n):\n",
        "    my_list.append(i)\n",
        "end = time.perf_counter()\n",
        "print(f\"Time taken for adding {n} items in a list is: {end - start}\")\n",
        "\n",
        "my_tuple = ()\n",
        "start = time.perf_counter()\n",
        "for i in range(n):\n",
        "    my_tuple += (i,)\n",
        "end = time.perf_counter()\n",
        "print(f\"Time taken for adding {n} items in a tuple is: {end - start}\")"
      ],
      "metadata": {
        "colab": {
          "base_uri": "https://localhost:8080/",
          "height": 233
        },
        "id": "MFszWagP2IQ9",
        "outputId": "cd237da5-9452-4e51-cf0e-253d62848123"
      },
      "execution_count": null,
      "outputs": [
        {
          "output_type": "stream",
          "name": "stdout",
          "text": [
            "Time taken for adding 1000000 items in a list is: 0.23373726700003772\n"
          ]
        },
        {
          "output_type": "error",
          "ename": "KeyboardInterrupt",
          "evalue": "",
          "traceback": [
            "\u001b[0;31m---------------------------------------------------------------------------\u001b[0m",
            "\u001b[0;31mKeyboardInterrupt\u001b[0m                         Traceback (most recent call last)",
            "\u001b[0;32m<ipython-input-3-2be8c44df30e>\u001b[0m in \u001b[0;36m<cell line: 13>\u001b[0;34m()\u001b[0m\n\u001b[1;32m     12\u001b[0m \u001b[0mstart\u001b[0m \u001b[0;34m=\u001b[0m \u001b[0mtime\u001b[0m\u001b[0;34m.\u001b[0m\u001b[0mperf_counter\u001b[0m\u001b[0;34m(\u001b[0m\u001b[0;34m)\u001b[0m\u001b[0;34m\u001b[0m\u001b[0;34m\u001b[0m\u001b[0m\n\u001b[1;32m     13\u001b[0m \u001b[0;32mfor\u001b[0m \u001b[0mi\u001b[0m \u001b[0;32min\u001b[0m \u001b[0mrange\u001b[0m\u001b[0;34m(\u001b[0m\u001b[0mn\u001b[0m\u001b[0;34m)\u001b[0m\u001b[0;34m:\u001b[0m\u001b[0;34m\u001b[0m\u001b[0;34m\u001b[0m\u001b[0m\n\u001b[0;32m---> 14\u001b[0;31m     \u001b[0mmy_tuple\u001b[0m \u001b[0;34m+=\u001b[0m \u001b[0;34m(\u001b[0m\u001b[0mi\u001b[0m\u001b[0;34m,\u001b[0m\u001b[0;34m)\u001b[0m\u001b[0;34m\u001b[0m\u001b[0;34m\u001b[0m\u001b[0m\n\u001b[0m\u001b[1;32m     15\u001b[0m \u001b[0mend\u001b[0m \u001b[0;34m=\u001b[0m \u001b[0mtime\u001b[0m\u001b[0;34m.\u001b[0m\u001b[0mperf_counter\u001b[0m\u001b[0;34m(\u001b[0m\u001b[0;34m)\u001b[0m\u001b[0;34m\u001b[0m\u001b[0;34m\u001b[0m\u001b[0m\n\u001b[1;32m     16\u001b[0m \u001b[0mprint\u001b[0m\u001b[0;34m(\u001b[0m\u001b[0;34mf\"Time taken for adding {n} items in a tuple is: {end - start}\"\u001b[0m\u001b[0;34m)\u001b[0m\u001b[0;34m\u001b[0m\u001b[0;34m\u001b[0m\u001b[0m\n",
            "\u001b[0;31mKeyboardInterrupt\u001b[0m: "
          ]
        }
      ]
    },
    {
      "cell_type": "markdown",
      "source": [
        "So, why iterations that involve tuples are slow?\n",
        "\n",
        "Since tuples are immutable (non-changeable), you are basically copying the contents of the tuple T to a new tuple object at EACH iteration! This is too slow!!!!\n",
        "\n",
        "On the other hand, tuples may save you from hard debugging! Let's see what happens when two variables reference the same list object: you modify [1, 3, 5, 7], although you do not work directly with variable a!"
      ],
      "metadata": {
        "id": "Rr0yI8QK4GLX"
      }
    },
    {
      "cell_type": "code",
      "source": [
        "a = [1, 3, 5, 7]\n",
        "print(a)\n",
        "\n",
        "b = a\n",
        "b[0] = 10\n",
        "print(a)"
      ],
      "metadata": {
        "colab": {
          "base_uri": "https://localhost:8080/"
        },
        "id": "clqZEJiQ2y8m",
        "outputId": "cf0f26ff-d9cf-4b9c-bcc8-c75ca4844e55"
      },
      "execution_count": null,
      "outputs": [
        {
          "output_type": "stream",
          "name": "stdout",
          "text": [
            "[1, 3, 5, 7]\n",
            "[10, 3, 5, 7]\n"
          ]
        }
      ]
    },
    {
      "cell_type": "markdown",
      "source": [
        "We changed b and the change also affected a! Working with lists, we may not want this."
      ],
      "metadata": {
        "id": "62z0unNy50z9"
      }
    },
    {
      "cell_type": "markdown",
      "source": [
        "3. Swap two variables using a tuple."
      ],
      "metadata": {
        "id": "YAERdQxZ5irq"
      }
    },
    {
      "cell_type": "code",
      "source": [
        "a = 5\n",
        "b = 10\n",
        "print(f\"Before swapping: a = {a}, b = {b}\")\n",
        "a, b = b, a\n",
        "print(f\"After swapping: a = {a}, b = {b}\")"
      ],
      "metadata": {
        "colab": {
          "base_uri": "https://localhost:8080/"
        },
        "id": "KsHuFgp15lEj",
        "outputId": "144bf241-f7a7-43ea-b165-154f37f2bae7"
      },
      "execution_count": null,
      "outputs": [
        {
          "output_type": "stream",
          "name": "stdout",
          "text": [
            "Before swapping: a = 5, b = 10\n",
            "After swapping: a = 10, b = 5\n"
          ]
        }
      ]
    },
    {
      "cell_type": "code",
      "source": [
        "a = (5, 5, 3)\n",
        "b = (10, 10, 1)\n",
        "print(f\"Before swapping: a = {a}, b = {b}\")\n",
        "a, b = b, a\n",
        "print(f\"After swapping: a = {a}, b = {b}\")"
      ],
      "metadata": {
        "colab": {
          "base_uri": "https://localhost:8080/"
        },
        "id": "ljO4uElg6FAW",
        "outputId": "d3a56c3e-c557-4a4b-b292-642db0839147"
      },
      "execution_count": null,
      "outputs": [
        {
          "output_type": "stream",
          "name": "stdout",
          "text": [
            "Before swapping: a = (5, 5, 3), b = (10, 10, 1)\n",
            "After swapping: a = (10, 10, 1), b = (5, 5, 3)\n"
          ]
        }
      ]
    },
    {
      "cell_type": "markdown",
      "source": [
        "## **Dictionairies**"
      ],
      "metadata": {
        "id": "nhU2kaT-6pj7"
      }
    },
    {
      "cell_type": "markdown",
      "source": [
        "A **dictionary** is a collection of key-value pairs. Each key is associated with a specific value, and dictionaries allow for fast lookups."
      ],
      "metadata": {
        "id": "xOQcfssh6zeI"
      }
    },
    {
      "cell_type": "markdown",
      "source": [
        "**Creating Dictionaries**\n",
        "\n",
        "Dictionaries are created using curly braces `{}`:\n",
        "\n",
        "```python\n",
        "student_grades = {\"Alice\": 85, \"Bob\": 92, \"Charlie\": 78}\n",
        "```\n",
        "\n",
        "**Dictionary Methods**\n",
        "\n",
        "- **`get(key)`**: Returns the value for the specified key.\n",
        "- **`update()`**: Updates the dictionary with elements from another dictionary or an iterable of key-value pairs.\n",
        "- **`keys()`**: Returns a list of all keys in the dictionary.\n",
        "- **`values()`**: Returns a list of all values in the dictionary.\n",
        "- **`items()`**: Returns a list of key-value pairs.\n",
        "\n",
        "**Iterating Over Dictionaries**\n",
        "\n",
        "You can loop through a dictionary's keys, values, or both:\n",
        "\n",
        "```python\n",
        "for name, grade in student_grades.items():\n",
        "print(f\"{name}: {grade}\")\n",
        "```"
      ],
      "metadata": {
        "id": "Iwl9WBWe68ht"
      }
    },
    {
      "cell_type": "markdown",
      "source": [
        "### Exercises in Dictionairies."
      ],
      "metadata": {
        "id": "h6wMVyKw7eEb"
      }
    },
    {
      "cell_type": "markdown",
      "source": [
        "1. Create a dictionary to store student grades, apply all methods and then write a program to calculate the class average."
      ],
      "metadata": {
        "id": "2Xihy1wn7lXp"
      }
    },
    {
      "cell_type": "code",
      "source": [
        "grades = {\"Alice\": 85, \"Bob\": 92, \"Charlie\": 78}\n",
        "\n",
        "# print the dictionary\n",
        "for name, grade in grades.items():\n",
        "    print(f\"{name}: {grade}\")\n",
        "\n",
        "# applying some methods to the dictionary\n",
        "grades.get(\"David\")\n",
        "grades.update({\"David\": 95, \"Eve\": 88})\n",
        "print(grades)\n",
        "print(grades.keys())\n",
        "print(grades.values())\n",
        "print(grades.items()) # see the difference between printing by using grades vs. grades.items()\n",
        "\n",
        "# calculate the class average\n",
        "total = 0\n",
        "for grade in grades.values():\n",
        "    total += grade\n",
        "average = total / len(grades)\n",
        "print(f\"The class average is: {average}\")\n",
        "\n",
        "# another, better, way for the above\n",
        "def calculate_class_average(student_grades):\n",
        "    return sum(student_grades.values())/len(student_grades)\n",
        "print(f\"The class average using a function is: \", calculate_class_average(grades))"
      ],
      "metadata": {
        "colab": {
          "base_uri": "https://localhost:8080/"
        },
        "id": "V7RCxu2S7dW3",
        "outputId": "0c340b73-a966-4af6-a66b-c7c5704f4be1"
      },
      "execution_count": null,
      "outputs": [
        {
          "output_type": "stream",
          "name": "stdout",
          "text": [
            "Alice: 85\n",
            "Bob: 92\n",
            "Charlie: 78\n",
            "{'Alice': 85, 'Bob': 92, 'Charlie': 78, 'David': 95, 'Eve': 88}\n",
            "dict_keys(['Alice', 'Bob', 'Charlie', 'David', 'Eve'])\n",
            "dict_values([85, 92, 78, 95, 88])\n",
            "dict_items([('Alice', 85), ('Bob', 92), ('Charlie', 78), ('David', 95), ('Eve', 88)])\n",
            "The class average is: 87.6\n",
            "The class average using a function is:  87.6\n"
          ]
        }
      ]
    },
    {
      "cell_type": "markdown",
      "source": [
        "2. Create a simple phonebook program using a dictionary that allows adding, deleting, and looking up phone numbers."
      ],
      "metadata": {
        "id": "gA6A9gcj8_Jp"
      }
    },
    {
      "cell_type": "code",
      "source": [
        "phonebook = {}\n",
        "\n",
        "def add_contact(name, number):\n",
        "   phonebook[name] = number\n",
        "\n",
        "def delete_contact(name):\n",
        "   if name in phonebook:\n",
        "      del phonebook[name]\n",
        "\n",
        "def lookup_contact(name):\n",
        "   return phonebook.get(name, \"Not found\")\n",
        "\n",
        "# add a contact\n",
        "add_contact(\"Alice\", \"555-1234\")\n",
        "add_contact(\"Bob\", \"555-5678\")\n",
        "add_contact(\"Charlie\", \"555-9876\")\n",
        "print(phonebook)\n",
        "\n",
        "# delete a contact\n",
        "delete_contact(\"Bob\")\n",
        "print(f\"The phonebook after deleting Bob: {phonebook}\")\n",
        "\n",
        "# lookup a contact\n",
        "print(\"What is Alice's number?\", lookup_contact(\"Alice\"))"
      ],
      "metadata": {
        "colab": {
          "base_uri": "https://localhost:8080/"
        },
        "id": "1TqnOYxw9Elz",
        "outputId": "6a628c9e-4ffb-49dc-96a5-db39ab6a81b7"
      },
      "execution_count": null,
      "outputs": [
        {
          "output_type": "stream",
          "name": "stdout",
          "text": [
            "{'Alice': '555-1234', 'Bob': '555-5678', 'Charlie': '555-9876'}\n",
            "The phonebook after deleting Bob: {'Alice': '555-1234', 'Charlie': '555-9876'}\n",
            "What is Alice's number? 555-1234\n"
          ]
        }
      ]
    },
    {
      "cell_type": "markdown",
      "source": [
        "# **Data Structures - Part 3**"
      ],
      "metadata": {
        "id": "r8ktRhLYn-sL"
      }
    },
    {
      "cell_type": "markdown",
      "source": [
        "## **Sets**"
      ],
      "metadata": {
        "id": "agg-2W-hAwdl"
      }
    },
    {
      "cell_type": "markdown",
      "source": [
        "A **set** is an unordered collection of unique elements. Sets are useful when you need to eliminate duplicate values or check for membership."
      ],
      "metadata": {
        "id": "LQTkkcHiA8k7"
      }
    },
    {
      "cell_type": "markdown",
      "source": [
        "**Creating Sets**\n",
        "\n",
        "Sets are created using curly braces `{}` or the `set()` function:\n",
        "\n",
        "```python\n",
        "#create an empty set\n",
        "my_set = set()\n",
        "\n",
        "#create a set with initial values\n",
        "my_set = {1, 2, 3, 4, 5}\n",
        "\n",
        "#create a set with initial values of difference data types\n",
        "my_set = {1, \"Hello\", 3.14, True}\n",
        "\n",
        "#create a set from other objects, e.g, lists, tuples, range of numbers using the constructor set()\n",
        "my_set = set([1,2,3]) # ...from a list\n",
        "my_set = set((1,2,3)) # ...from a tuple\n",
        "my_set = set(range(10)) # ...from a range of numbers\n",
        "```\n",
        "\n",
        "**Set Operations**\n",
        "\n",
        "- **Union**: Combines elements from both sets (`set1 | set2`).\n",
        "- **Intersection**: Elements common to both sets (`set1 & set2`).\n",
        "- **Difference**: Elements in `set1` but not in `set2` (`set1 - set2`).\n",
        "- **Symmetric Difference**: Elements in either `set1` or `set2` but not both (`set1 ^ set2`).\n",
        "\n",
        "**Membership Testing**\n",
        "\n",
        "Use the `in` keyword to check if an item exists in a set:\n",
        "\n",
        "```python\n",
        "if 2 in my_set:\n",
        "print(\"2 is in the set\")\n",
        "```"
      ],
      "metadata": {
        "id": "9Hxeuq-lBFYs"
      }
    },
    {
      "cell_type": "code",
      "source": [
        "# Creating and using sets\n",
        "numbers = {1, 2, 3, 4, 5, 5, 6}  # Duplicates will be removed automatically\n",
        "print(\"Set of numbers:\", numbers)"
      ],
      "metadata": {
        "colab": {
          "base_uri": "https://localhost:8080/"
        },
        "id": "YO5nr50dB0b9",
        "outputId": "aa07910e-596e-40da-fe45-973697edf803"
      },
      "execution_count": null,
      "outputs": [
        {
          "output_type": "stream",
          "name": "stdout",
          "text": [
            "Set of numbers: {1, 2, 3, 4, 5, 6}\n"
          ]
        }
      ]
    },
    {
      "cell_type": "code",
      "source": [
        "# Set operations\n",
        "evens = {2, 4, 6, 8, 10}\n",
        "odds = {1, 3, 5, 7, 9, 10}\n",
        "\n",
        "print(\"Union:\", evens | odds)\n",
        "print(\"Intersection:\", evens & odds)\n",
        "print(\"Difference:\", evens - odds)\n",
        "print(\"Symmetric Difference:\", evens ^ odds)"
      ],
      "metadata": {
        "colab": {
          "base_uri": "https://localhost:8080/"
        },
        "id": "MSlxJH1LCAOl",
        "outputId": "4a9f157c-0044-4e80-ce52-22254e3e4b05"
      },
      "execution_count": null,
      "outputs": [
        {
          "output_type": "stream",
          "name": "stdout",
          "text": [
            "Union: {1, 2, 3, 4, 5, 6, 7, 8, 9, 10}\n",
            "Intersection: {10}\n",
            "Difference: {8, 2, 4, 6}\n",
            "Symmetric Difference: {1, 2, 3, 4, 5, 6, 7, 8, 9}\n"
          ]
        }
      ]
    },
    {
      "cell_type": "code",
      "source": [
        "# Membership testing\n",
        "if 6 in numbers:\n",
        "    print(\"6 is in the set\")"
      ],
      "metadata": {
        "colab": {
          "base_uri": "https://localhost:8080/"
        },
        "id": "B-rKKjoxCaqg",
        "outputId": "3b37e7df-6599-409a-98fa-b24eb41710f7"
      },
      "execution_count": null,
      "outputs": [
        {
          "output_type": "stream",
          "name": "stdout",
          "text": [
            "6 is in the set\n"
          ]
        }
      ]
    },
    {
      "cell_type": "markdown",
      "source": [
        "### Exercises in Sets"
      ],
      "metadata": {
        "id": "u3ZZUW_vBXj1"
      }
    },
    {
      "cell_type": "markdown",
      "source": [
        "1. Write a program that removes duplicates from a list of integers using a set."
      ],
      "metadata": {
        "id": "9W1p2V90CnQC"
      }
    },
    {
      "cell_type": "code",
      "source": [
        "my_list = [1, 2, 2, 3, 4, 4, 5]\n",
        "unique_list = list(set(my_list))\n",
        "print(\"Unique list:\", unique_list)"
      ],
      "metadata": {
        "colab": {
          "base_uri": "https://localhost:8080/"
        },
        "id": "C8XRrafz-zQY",
        "outputId": "795c9fb8-3e84-4c92-cc17-c47396ecfce6"
      },
      "execution_count": null,
      "outputs": [
        {
          "output_type": "stream",
          "name": "stdout",
          "text": [
            "Unique list: [1, 2, 3, 4, 5]\n"
          ]
        }
      ]
    },
    {
      "cell_type": "markdown",
      "source": [
        "2. Implement a simple word frequency counter using a set and a dictionary. The program should count the occurrence of each unique word in a given string."
      ],
      "metadata": {
        "id": "2xz1SHB1C79j"
      }
    },
    {
      "cell_type": "code",
      "source": [
        "sentence = \"this is a test this is only a test\"\n",
        "occurences = {}\n",
        "\n",
        "for word in sentence.split():\n",
        "    if word in occurences:\n",
        "        occurences[word] += 1\n",
        "    else:\n",
        "        occurences[word] = 1\n",
        "print(\"Word frequencies: \", occurences)"
      ],
      "metadata": {
        "colab": {
          "base_uri": "https://localhost:8080/"
        },
        "id": "O1isqpijoE7j",
        "outputId": "59a0dfb8-257b-4508-89d1-6e56538e7d68"
      },
      "execution_count": null,
      "outputs": [
        {
          "output_type": "stream",
          "name": "stdout",
          "text": [
            "Word frequencies:  {'this': 2, 'is': 2, 'a': 2, 'test': 2, 'only': 1}\n"
          ]
        }
      ]
    },
    {
      "cell_type": "markdown",
      "source": [
        "3. Count bases in a DNA string."
      ],
      "metadata": {
        "id": "D_b1Etri-uUZ"
      }
    },
    {
      "cell_type": "code",
      "source": [
        "dna_str = \"ATGCATGCATGC\"\n",
        "base_counts = {}\n",
        "\n",
        "for base in dna_str:\n",
        "    if base in base_counts:\n",
        "        base_counts[base] += 1\n",
        "    else:\n",
        "        base_counts[base] = 1\n",
        "print(\"Base counts: \", base_counts)"
      ],
      "metadata": {
        "colab": {
          "base_uri": "https://localhost:8080/"
        },
        "id": "TwZK7J45EMJR",
        "outputId": "edb1aa4a-4dfb-4fa8-ef33-75587ee7278f"
      },
      "execution_count": null,
      "outputs": [
        {
          "output_type": "stream",
          "name": "stdout",
          "text": [
            "Base counts:  {'A': 3, 'T': 3, 'G': 3, 'C': 3}\n"
          ]
        }
      ]
    },
    {
      "cell_type": "markdown",
      "source": [
        "## **Working with Mixed Data Structures**"
      ],
      "metadata": {
        "id": "46sdq1HrD8w-"
      }
    },
    {
      "cell_type": "markdown",
      "source": [
        "In real-world applications, you often need to combine different data structures to solve complex problems.\n",
        "\n",
        "**Example: Combining Lists, Dictionaries, and Sets**\n",
        "\n",
        "- **Lists** can hold dictionaries, allowing you to create a list of records.\n",
        "- **Dictionaries** can have lists or sets as values, enabling you to manage collections of data."
      ],
      "metadata": {
        "id": "kj2r-FVVEgfz"
      }
    },
    {
      "cell_type": "code",
      "source": [
        "# Example 1: List of dictionaries (lists as values)\n",
        "students = [\n",
        "    {\"name\": \"Alice\", \"grades\": [85, 90, 78]},\n",
        "    {\"name\": \"Bob\", \"grades\": [92, 88, 84]},\n",
        "    {\"name\": \"Charlie\", \"grades\": [70, 75, 80]}\n",
        "]\n",
        "\n",
        "# Calculate average grade for each student\n",
        "for student in students:\n",
        "    average_grade = sum(student[\"grades\"]) / len(student[\"grades\"])\n",
        "    print(f\"{student['name']}: {average_grade}\")"
      ],
      "metadata": {
        "colab": {
          "base_uri": "https://localhost:8080/"
        },
        "id": "MYM-lx4VFNS3",
        "outputId": "3e7d359c-2a8a-4a2e-df6b-ddf431d6323b"
      },
      "execution_count": null,
      "outputs": [
        {
          "output_type": "stream",
          "name": "stdout",
          "text": [
            "Alice: 84.33333333333333\n",
            "Bob: 88.0\n",
            "Charlie: 75.0\n"
          ]
        }
      ]
    },
    {
      "cell_type": "code",
      "source": [
        "# Example 2: Dictionary of sets (sets as values)\n",
        "course_enrollment = {\n",
        "    \"Math\": {\"Alice\", \"Bob\"},\n",
        "    \"Science\": {\"Alice\", \"Charlie\"},\n",
        "    \"Art\": {\"Bob\", \"Charlie\"}\n",
        "}\n",
        "\n",
        "# Find students enrolled in both Math and Science\n",
        "course_count = {}\n",
        "for course in course_enrollment.values(): # loop over the dictionary\n",
        "    for student in course:                # loop over the set\n",
        "        if student in course_count:\n",
        "            course_count[student] += 1\n",
        "        else:\n",
        "            course_count[student] = 1\n",
        "\n",
        "\n",
        "print(\"Students in more than one courses: \", course_count)"
      ],
      "metadata": {
        "colab": {
          "base_uri": "https://localhost:8080/"
        },
        "id": "cCOB_QIhFOhv",
        "outputId": "8679a0f9-7452-4518-bc42-9356bbf4d36e"
      },
      "execution_count": null,
      "outputs": [
        {
          "output_type": "stream",
          "name": "stdout",
          "text": [
            "Students in more than one courses:  {'Bob': 2, 'Alice': 2, 'Charlie': 2}\n"
          ]
        }
      ]
    },
    {
      "cell_type": "code",
      "source": [
        "# in which 2 courses is Bob enrolled in?\n",
        "bob_courses = []\n",
        "for course, students in course_enrollment.items():\n",
        "    if \"Bob\" in students:\n",
        "        bob_courses.append(course)\n",
        "print(\"Bob is enrolled in: \", bob_courses)"
      ],
      "metadata": {
        "colab": {
          "base_uri": "https://localhost:8080/"
        },
        "id": "rKBZYvX4I4Pp",
        "outputId": "0b04f08a-79eb-40c9-8ba0-dba731c2ece5"
      },
      "execution_count": null,
      "outputs": [
        {
          "output_type": "stream",
          "name": "stdout",
          "text": [
            "Bob is enrolled in:  ['Math', 'Art']\n"
          ]
        }
      ]
    },
    {
      "cell_type": "markdown",
      "source": [
        "### Exercises in Mixed Data Structures"
      ],
      "metadata": {
        "id": "RyJ21NSUJTPI"
      }
    },
    {
      "cell_type": "markdown",
      "source": [
        "1. Create a dictionary where keys are student names and values are sets of enrolled courses. Implement a function to add a course to a student's set of courses."
      ],
      "metadata": {
        "id": "KjraOOSMJYFA"
      }
    },
    {
      "cell_type": "code",
      "source": [
        "student_courses = {\n",
        "    \"Alice\": {\"Math\", \"Science\"},\n",
        "    \"Bob\": {\"Science\", \"Art\"},\n",
        "    \"Charlie\": {\"Math\", \"Art\"}\n",
        "}\n",
        "\n",
        "# function that adds a new course of an existing student and also adds a new student\n",
        "def add_course(student_courses, student_name, course_name):\n",
        "    if student_name in student_courses:\n",
        "        student_courses[student_name].add(course_name)\n",
        "    else:\n",
        "        student_courses[student_name] = {course_name}\n",
        "\n",
        "# add a new student\n",
        "add_course(student_courses, \"George\", \"History\")\n",
        "print(\"Updated dictionary: \", student_courses)\n",
        "\n",
        "# add a new course for Bob\n",
        "add_course(student_courses, \"Alice\", \"History\")\n",
        "print(\"Updated dictionary: \", student_courses)"
      ],
      "metadata": {
        "colab": {
          "base_uri": "https://localhost:8080/"
        },
        "id": "GwQk_syHG5sN",
        "outputId": "4d758bb0-33ef-4c59-b958-00244272299e"
      },
      "execution_count": null,
      "outputs": [
        {
          "output_type": "stream",
          "name": "stdout",
          "text": [
            "Updated dictionary:  {'Alice': {'Math', 'Science'}, 'Bob': {'Art', 'Science'}, 'Charlie': {'Math', 'Art'}, 'George': {'History'}}\n",
            "Updated dictionary:  {'Alice': {'Math', 'History', 'Science'}, 'Bob': {'Art', 'Science'}, 'Charlie': {'Math', 'Art'}, 'George': {'History'}}\n"
          ]
        }
      ]
    },
    {
      "cell_type": "markdown",
      "source": [
        "2. Write a program that takes a list of student dictionaries (each containing name and grades) and outputs the names of students who have an average grade above 80."
      ],
      "metadata": {
        "id": "hVME5o1qLhtM"
      }
    },
    {
      "cell_type": "code",
      "source": [
        "student_grades = {\n",
        "    \"Alice\": [85, 90, 78],\n",
        "    \"Bob\": [92, 88, 84],\n",
        "    \"Charlie\": [70, 75, 80]\n",
        "}\n",
        "\n",
        "def average_grade(student_grades):\n",
        "    above_80 = []\n",
        "    for student, grades in student_grades.items():\n",
        "        average = sum(grades)/len(grades)\n",
        "        if average > 80:\n",
        "            above_80.append(student)\n",
        "    return above_80\n",
        "\n",
        "print(\"Students with average grade above 80: \", average_grade(student_grades))"
      ],
      "metadata": {
        "colab": {
          "base_uri": "https://localhost:8080/"
        },
        "id": "bvL0gprKKlXx",
        "outputId": "e21a62c6-1f36-4c43-bf97-e785648d092a"
      },
      "execution_count": null,
      "outputs": [
        {
          "output_type": "stream",
          "name": "stdout",
          "text": [
            "Students with average grade above 80:  ['Alice', 'Bob']\n"
          ]
        }
      ]
    },
    {
      "cell_type": "markdown",
      "source": [
        "3. Calculate frequency of occurence per base for a list of strings using dictionaries."
      ],
      "metadata": {
        "id": "myK0obe5MPt3"
      }
    },
    {
      "cell_type": "code",
      "source": [
        "my_sequences = [\n",
        "\"CCTGGCGGCCATGGCGAACCGGAACCACCCGATCCCATCTCGAACTCGGAAGTGAAACGGTTCAGCGCCGATGA-TAGTGTG--GGGCCTCCCCATGTGAAAGTAGGTCACTGCCAGGC\",\n",
        "\"-CAGGTGGTGATGGCGGAAAGGTCACACCCGAACACATCCCGAACTCGGAAGTTAAGCTTTCCAGCGCCGATG-GTAGTTGG--GGGTTTCCCCCTGCGAGAGTAGGACGTTGCCGGGC\",\n",
        "\"AACGGCGGTCATAGCGGTGGGGAAACGCCCGGTCCCATCCCGAACCCGGAAGCTAAGCCCACCAGCGCCGATG-GTACTGCACTC-GTGAGGGTGTGGGAGAGTAGGACGCCGCCGGAC\",\n",
        "\"GCTGGCGACCATAGCAAGAGTGAACCACCTGATCCCTTCCCGAACTCAGAAGTGAAACCTCTTCGCGCTGATG-GTAGTGNGG-GT--TA-CCCATGTGAGAGTAAGTCATCGCCAGCT\",\n",
        "\"GTCGGTGGTCATTGCGGAGGGGGAACGCCCGGTCCCATCCCGAACCCGGAAGCTAAGCCCTCCAGCGCCGATG-GTACTGCACTC-GCCAGGGTGTGGGAGAGTAGGTCGCCGCCGACA\"\n",
        "]\n",
        "\n",
        "# find the frequency of bases in a sequence\n",
        "def count_bases(dna_string, base):\n",
        "    count_base = 0\n",
        "    for char in dna_string:\n",
        "        if char == base:\n",
        "            count_base += 1\n",
        "    return count_base\n",
        "\n",
        "# print the total number of bases in the sequence\n",
        "dict = {} # an empty dictionary\n",
        "dict['A'] = 0\n",
        "dict['C'] = 0\n",
        "dict['G'] = 0\n",
        "dict['T'] = 0\n",
        "\n",
        "for sequence in my_sequences:\n",
        "    dict['A'] += count_bases(sequence, 'A')\n",
        "    dict['C'] += count_bases(sequence, 'C')\n",
        "    dict['G'] += count_bases(sequence, 'G')\n",
        "    dict['T'] += count_bases(sequence, 'T')\n",
        "\n",
        "print(\"Total number of bases in the given list of sequences: \", dict)"
      ],
      "metadata": {
        "colab": {
          "base_uri": "https://localhost:8080/"
        },
        "id": "bJ2ppZFfMGKP",
        "outputId": "5487880d-ecdb-468c-a679-6e4ae6b6cbdb"
      },
      "execution_count": null,
      "outputs": [
        {
          "output_type": "stream",
          "name": "stdout",
          "text": [
            "Total number of bases in the given list of sequences:  {'A': 124, 'C': 170, 'G': 188, 'T': 96}\n"
          ]
        }
      ]
    },
    {
      "cell_type": "markdown",
      "source": [
        "# **File Handling - Part 1**"
      ],
      "metadata": {
        "id": "XbJJlWQGbEXG"
      }
    },
    {
      "cell_type": "markdown",
      "source": [
        "## **File I/O Operations**"
      ],
      "metadata": {
        "id": "0LQeiSF1iTBy"
      }
    },
    {
      "cell_type": "markdown",
      "source": [
        "Python provides built-in functions for reading from and writing to files. Files can be opened in different modes:\n",
        "- **`r`**: Read mode (default).\n",
        "- **`w`**: Write mode (overwrites the file if it exists, creates a new file if it doesn't).\n",
        "- **`a`**: Append mode (writes to the end of the file).\n",
        "- **`b`**: Binary mode (e.g., `rb`, `wb` for reading and writing binary files).\n",
        "- **`+`**: Update mode (e.g., `r+` for reading and writing)."
      ],
      "metadata": {
        "id": "V_g64WdRNVJK"
      }
    },
    {
      "cell_type": "markdown",
      "source": [
        "### Opening, Reading, Writing, and Closing Files"
      ],
      "metadata": {
        "id": "lxrefHFBNXWa"
      }
    },
    {
      "cell_type": "markdown",
      "source": [
        "- Use the `open()` function to open a file.\n",
        "- Use `read()`, `readline()`, or `readlines()` to read from a file.\n",
        "- Use `write()` or `writelines()` to write to a file.\n",
        "- Always close the file using `close()` to free up system resources.\n",
        "\n",
        "**Example**:\n",
        "\n",
        "```python\n",
        "file = open('example.txt', 'w')\n",
        "file.write('Hello, world!')\n",
        "file.close()\n",
        "```"
      ],
      "metadata": {
        "id": "O9j1ehgPe0QZ"
      }
    },
    {
      "cell_type": "code",
      "source": [
        "# writing to a file\n",
        "file = open('example.txt', 'w')\n",
        "file.write('Hello, dsit, Hello Ekpa!')\n",
        "file.close()"
      ],
      "metadata": {
        "id": "yjPXuBafemVY"
      },
      "execution_count": null,
      "outputs": []
    },
    {
      "cell_type": "code",
      "source": [
        "# reading from a file\n",
        "# the file var is the handler that the open() function returns\n",
        "file = open('example.txt', 'r')\n",
        "# content var contains what the handler returns\n",
        "content = file.read()\n",
        "print(content)\n",
        "file.close()"
      ],
      "metadata": {
        "colab": {
          "base_uri": "https://localhost:8080/"
        },
        "id": "z9uqaNhdfZWY",
        "outputId": "7e523550-5dad-4acd-ef42-77c5b9ed05af"
      },
      "execution_count": null,
      "outputs": [
        {
          "output_type": "stream",
          "name": "stdout",
          "text": [
            "Hello, dsit, Hello Ekpa!\n"
          ]
        }
      ]
    },
    {
      "cell_type": "code",
      "source": [
        "# appending to a file\n",
        "file = open('example.txt', 'a')\n",
        "file.write('\\nThis is a new line.')\n",
        "file.close()\n",
        "\n",
        "# and read it again\n",
        "file = open('example.txt', 'r')\n",
        "updated_content = file.read()\n",
        "print(\"Updated file content:\" updated_content)\n",
        "file.close()"
      ],
      "metadata": {
        "colab": {
          "base_uri": "https://localhost:8080/"
        },
        "id": "Usj-qB9ihGKj",
        "outputId": "ba4ac7bf-e8eb-4f18-e5ce-7d3358c62045"
      },
      "execution_count": null,
      "outputs": [
        {
          "output_type": "stream",
          "name": "stdout",
          "text": [
            "Hello, dsit, Hello Ekpa!\n",
            "This is a new line.\n"
          ]
        }
      ]
    },
    {
      "cell_type": "markdown",
      "source": [
        "## **Using the `with` Statement for Efficient File Handling**"
      ],
      "metadata": {
        "id": "wvj2xNqOiFl4"
      }
    },
    {
      "cell_type": "markdown",
      "source": [
        "The `with` statement provides a way to automatically close the file when you are done with it, even if an error occurs during file operations.\n",
        "\n",
        "**Example**:\n",
        "```python\n",
        "with open('example.txt', 'r') as file:\n",
        "   content = file.read()\n",
        "   print(content)\n",
        "```\n",
        "- You don't need to call `file.close()` when using the `with` statement; it is handled automatically."
      ],
      "metadata": {
        "id": "awvFsnEeiZYJ"
      }
    },
    {
      "cell_type": "code",
      "source": [
        "# use with statement to write to file\n",
        "with open('example.txt', 'w') as file:\n",
        "    file.write('Hello, world')"
      ],
      "metadata": {
        "id": "VfcHhn_Fhd2O"
      },
      "execution_count": null,
      "outputs": []
    },
    {
      "cell_type": "code",
      "source": [
        "# use with statement to append to file\n",
        "with open('example.txt', 'a') as file:\n",
        "    file.write('\\nHallo dsit, Hallo Ekpa!')"
      ],
      "metadata": {
        "id": "k9mDS8nSyom8"
      },
      "execution_count": null,
      "outputs": []
    },
    {
      "cell_type": "code",
      "source": [
        "# use with statement to write to file\n",
        "with open('example.txt', 'r') as file:\n",
        "    content = file.read()\n",
        "    print(content)"
      ],
      "metadata": {
        "colab": {
          "base_uri": "https://localhost:8080/"
        },
        "id": "ruWzMD7BjoBc",
        "outputId": "b1ce665c-a054-445e-f3d0-eea73070c039"
      },
      "execution_count": null,
      "outputs": [
        {
          "output_type": "stream",
          "name": "stdout",
          "text": [
            "Hello, world\n",
            "Hallo dsit, Hallo Ekpa!\n"
          ]
        }
      ]
    },
    {
      "cell_type": "markdown",
      "source": [
        "## **Handling Large Files Efficiently**"
      ],
      "metadata": {
        "id": "lxvYgueHkEmB"
      }
    },
    {
      "cell_type": "markdown",
      "source": [
        "When dealing with large files, it's important to avoid loading the entire file into memory at once. Instead, read the file line-by-line or in chunks."
      ],
      "metadata": {
        "id": "wGgq4mX2NeCL"
      }
    },
    {
      "cell_type": "markdown",
      "source": [
        "**Reading Files Line-by-Line**"
      ],
      "metadata": {
        "id": "beyX_2_ZNg6n"
      }
    },
    {
      "cell_type": "markdown",
      "source": [
        "Use a `for` loop to iterate through the file's lines:\n",
        "\n",
        "```python\n",
        "with open('large_file.txt', 'r') as file:\n",
        "for line in file:\n",
        "print(line.strip())\n",
        "```"
      ],
      "metadata": {
        "id": "60PF5r-EkJt7"
      }
    },
    {
      "cell_type": "markdown",
      "source": [
        "**Reading in Chunks**\n",
        "\n",
        "Read a specific number of bytes at a time using `read(size)`:\n",
        "\n",
        "```python\n",
        "with open('large_file.txt', 'r') as file:\n",
        "   chunk = file.read(1024)  # Read 1024 bytes\n",
        "   while chunk:\n",
        "      print(chunk)\n",
        "      chunk = file.read(1024)\n",
        "```"
      ],
      "metadata": {
        "id": "3_X9Nr16Nke8"
      }
    },
    {
      "cell_type": "code",
      "source": [
        "# upload a large file\n",
        "from google.colab import files\n",
        "uploaded = files.upload()"
      ],
      "metadata": {
        "colab": {
          "base_uri": "https://localhost:8080/",
          "height": 343
        },
        "id": "cvKpSJGN0eZj",
        "outputId": "2a1977aa-fc00-4f44-dcaf-58afc669f83f"
      },
      "execution_count": null,
      "outputs": [
        {
          "output_type": "display_data",
          "data": {
            "text/plain": [
              "<IPython.core.display.HTML object>"
            ],
            "text/html": [
              "\n",
              "     <input type=\"file\" id=\"files-90669599-e632-4303-9176-c5fc55c25eeb\" name=\"files[]\" multiple disabled\n",
              "        style=\"border:none\" />\n",
              "     <output id=\"result-90669599-e632-4303-9176-c5fc55c25eeb\">\n",
              "      Upload widget is only available when the cell has been executed in the\n",
              "      current browser session. Please rerun this cell to enable.\n",
              "      </output>\n",
              "      <script>// Copyright 2017 Google LLC\n",
              "//\n",
              "// Licensed under the Apache License, Version 2.0 (the \"License\");\n",
              "// you may not use this file except in compliance with the License.\n",
              "// You may obtain a copy of the License at\n",
              "//\n",
              "//      http://www.apache.org/licenses/LICENSE-2.0\n",
              "//\n",
              "// Unless required by applicable law or agreed to in writing, software\n",
              "// distributed under the License is distributed on an \"AS IS\" BASIS,\n",
              "// WITHOUT WARRANTIES OR CONDITIONS OF ANY KIND, either express or implied.\n",
              "// See the License for the specific language governing permissions and\n",
              "// limitations under the License.\n",
              "\n",
              "/**\n",
              " * @fileoverview Helpers for google.colab Python module.\n",
              " */\n",
              "(function(scope) {\n",
              "function span(text, styleAttributes = {}) {\n",
              "  const element = document.createElement('span');\n",
              "  element.textContent = text;\n",
              "  for (const key of Object.keys(styleAttributes)) {\n",
              "    element.style[key] = styleAttributes[key];\n",
              "  }\n",
              "  return element;\n",
              "}\n",
              "\n",
              "// Max number of bytes which will be uploaded at a time.\n",
              "const MAX_PAYLOAD_SIZE = 100 * 1024;\n",
              "\n",
              "function _uploadFiles(inputId, outputId) {\n",
              "  const steps = uploadFilesStep(inputId, outputId);\n",
              "  const outputElement = document.getElementById(outputId);\n",
              "  // Cache steps on the outputElement to make it available for the next call\n",
              "  // to uploadFilesContinue from Python.\n",
              "  outputElement.steps = steps;\n",
              "\n",
              "  return _uploadFilesContinue(outputId);\n",
              "}\n",
              "\n",
              "// This is roughly an async generator (not supported in the browser yet),\n",
              "// where there are multiple asynchronous steps and the Python side is going\n",
              "// to poll for completion of each step.\n",
              "// This uses a Promise to block the python side on completion of each step,\n",
              "// then passes the result of the previous step as the input to the next step.\n",
              "function _uploadFilesContinue(outputId) {\n",
              "  const outputElement = document.getElementById(outputId);\n",
              "  const steps = outputElement.steps;\n",
              "\n",
              "  const next = steps.next(outputElement.lastPromiseValue);\n",
              "  return Promise.resolve(next.value.promise).then((value) => {\n",
              "    // Cache the last promise value to make it available to the next\n",
              "    // step of the generator.\n",
              "    outputElement.lastPromiseValue = value;\n",
              "    return next.value.response;\n",
              "  });\n",
              "}\n",
              "\n",
              "/**\n",
              " * Generator function which is called between each async step of the upload\n",
              " * process.\n",
              " * @param {string} inputId Element ID of the input file picker element.\n",
              " * @param {string} outputId Element ID of the output display.\n",
              " * @return {!Iterable<!Object>} Iterable of next steps.\n",
              " */\n",
              "function* uploadFilesStep(inputId, outputId) {\n",
              "  const inputElement = document.getElementById(inputId);\n",
              "  inputElement.disabled = false;\n",
              "\n",
              "  const outputElement = document.getElementById(outputId);\n",
              "  outputElement.innerHTML = '';\n",
              "\n",
              "  const pickedPromise = new Promise((resolve) => {\n",
              "    inputElement.addEventListener('change', (e) => {\n",
              "      resolve(e.target.files);\n",
              "    });\n",
              "  });\n",
              "\n",
              "  const cancel = document.createElement('button');\n",
              "  inputElement.parentElement.appendChild(cancel);\n",
              "  cancel.textContent = 'Cancel upload';\n",
              "  const cancelPromise = new Promise((resolve) => {\n",
              "    cancel.onclick = () => {\n",
              "      resolve(null);\n",
              "    };\n",
              "  });\n",
              "\n",
              "  // Wait for the user to pick the files.\n",
              "  const files = yield {\n",
              "    promise: Promise.race([pickedPromise, cancelPromise]),\n",
              "    response: {\n",
              "      action: 'starting',\n",
              "    }\n",
              "  };\n",
              "\n",
              "  cancel.remove();\n",
              "\n",
              "  // Disable the input element since further picks are not allowed.\n",
              "  inputElement.disabled = true;\n",
              "\n",
              "  if (!files) {\n",
              "    return {\n",
              "      response: {\n",
              "        action: 'complete',\n",
              "      }\n",
              "    };\n",
              "  }\n",
              "\n",
              "  for (const file of files) {\n",
              "    const li = document.createElement('li');\n",
              "    li.append(span(file.name, {fontWeight: 'bold'}));\n",
              "    li.append(span(\n",
              "        `(${file.type || 'n/a'}) - ${file.size} bytes, ` +\n",
              "        `last modified: ${\n",
              "            file.lastModifiedDate ? file.lastModifiedDate.toLocaleDateString() :\n",
              "                                    'n/a'} - `));\n",
              "    const percent = span('0% done');\n",
              "    li.appendChild(percent);\n",
              "\n",
              "    outputElement.appendChild(li);\n",
              "\n",
              "    const fileDataPromise = new Promise((resolve) => {\n",
              "      const reader = new FileReader();\n",
              "      reader.onload = (e) => {\n",
              "        resolve(e.target.result);\n",
              "      };\n",
              "      reader.readAsArrayBuffer(file);\n",
              "    });\n",
              "    // Wait for the data to be ready.\n",
              "    let fileData = yield {\n",
              "      promise: fileDataPromise,\n",
              "      response: {\n",
              "        action: 'continue',\n",
              "      }\n",
              "    };\n",
              "\n",
              "    // Use a chunked sending to avoid message size limits. See b/62115660.\n",
              "    let position = 0;\n",
              "    do {\n",
              "      const length = Math.min(fileData.byteLength - position, MAX_PAYLOAD_SIZE);\n",
              "      const chunk = new Uint8Array(fileData, position, length);\n",
              "      position += length;\n",
              "\n",
              "      const base64 = btoa(String.fromCharCode.apply(null, chunk));\n",
              "      yield {\n",
              "        response: {\n",
              "          action: 'append',\n",
              "          file: file.name,\n",
              "          data: base64,\n",
              "        },\n",
              "      };\n",
              "\n",
              "      let percentDone = fileData.byteLength === 0 ?\n",
              "          100 :\n",
              "          Math.round((position / fileData.byteLength) * 100);\n",
              "      percent.textContent = `${percentDone}% done`;\n",
              "\n",
              "    } while (position < fileData.byteLength);\n",
              "  }\n",
              "\n",
              "  // All done.\n",
              "  yield {\n",
              "    response: {\n",
              "      action: 'complete',\n",
              "    }\n",
              "  };\n",
              "}\n",
              "\n",
              "scope.google = scope.google || {};\n",
              "scope.google.colab = scope.google.colab || {};\n",
              "scope.google.colab._files = {\n",
              "  _uploadFiles,\n",
              "  _uploadFilesContinue,\n",
              "};\n",
              "})(self);\n",
              "</script> "
            ]
          },
          "metadata": {}
        },
        {
          "output_type": "error",
          "ename": "KeyboardInterrupt",
          "evalue": "",
          "traceback": [
            "\u001b[0;31m---------------------------------------------------------------------------\u001b[0m",
            "\u001b[0;31mKeyboardInterrupt\u001b[0m                         Traceback (most recent call last)",
            "\u001b[0;32m<ipython-input-1-56209d82e242>\u001b[0m in \u001b[0;36m<cell line: 3>\u001b[0;34m()\u001b[0m\n\u001b[1;32m      1\u001b[0m \u001b[0;31m# upload a large file\u001b[0m\u001b[0;34m\u001b[0m\u001b[0;34m\u001b[0m\u001b[0m\n\u001b[1;32m      2\u001b[0m \u001b[0;32mfrom\u001b[0m \u001b[0mgoogle\u001b[0m\u001b[0;34m.\u001b[0m\u001b[0mcolab\u001b[0m \u001b[0;32mimport\u001b[0m \u001b[0mfiles\u001b[0m\u001b[0;34m\u001b[0m\u001b[0;34m\u001b[0m\u001b[0m\n\u001b[0;32m----> 3\u001b[0;31m \u001b[0muploaded\u001b[0m \u001b[0;34m=\u001b[0m \u001b[0mfiles\u001b[0m\u001b[0;34m.\u001b[0m\u001b[0mupload\u001b[0m\u001b[0;34m(\u001b[0m\u001b[0;34m)\u001b[0m\u001b[0;34m\u001b[0m\u001b[0;34m\u001b[0m\u001b[0m\n\u001b[0m",
            "\u001b[0;32m/usr/local/lib/python3.10/dist-packages/google/colab/files.py\u001b[0m in \u001b[0;36mupload\u001b[0;34m()\u001b[0m\n\u001b[1;32m     67\u001b[0m   \"\"\"\n\u001b[1;32m     68\u001b[0m \u001b[0;34m\u001b[0m\u001b[0m\n\u001b[0;32m---> 69\u001b[0;31m   \u001b[0muploaded_files\u001b[0m \u001b[0;34m=\u001b[0m \u001b[0m_upload_files\u001b[0m\u001b[0;34m(\u001b[0m\u001b[0mmultiple\u001b[0m\u001b[0;34m=\u001b[0m\u001b[0;32mTrue\u001b[0m\u001b[0;34m)\u001b[0m\u001b[0;34m\u001b[0m\u001b[0;34m\u001b[0m\u001b[0m\n\u001b[0m\u001b[1;32m     70\u001b[0m   \u001b[0;31m# Mapping from original filename to filename as saved locally.\u001b[0m\u001b[0;34m\u001b[0m\u001b[0;34m\u001b[0m\u001b[0m\n\u001b[1;32m     71\u001b[0m   \u001b[0mlocal_filenames\u001b[0m \u001b[0;34m=\u001b[0m \u001b[0mdict\u001b[0m\u001b[0;34m(\u001b[0m\u001b[0;34m)\u001b[0m\u001b[0;34m\u001b[0m\u001b[0;34m\u001b[0m\u001b[0m\n",
            "\u001b[0;32m/usr/local/lib/python3.10/dist-packages/google/colab/files.py\u001b[0m in \u001b[0;36m_upload_files\u001b[0;34m(multiple)\u001b[0m\n\u001b[1;32m    154\u001b[0m \u001b[0;34m\u001b[0m\u001b[0m\n\u001b[1;32m    155\u001b[0m   \u001b[0;31m# First result is always an indication that the file picker has completed.\u001b[0m\u001b[0;34m\u001b[0m\u001b[0;34m\u001b[0m\u001b[0m\n\u001b[0;32m--> 156\u001b[0;31m   result = _output.eval_js(\n\u001b[0m\u001b[1;32m    157\u001b[0m       'google.colab._files._uploadFiles(\"{input_id}\", \"{output_id}\")'.format(\n\u001b[1;32m    158\u001b[0m           \u001b[0minput_id\u001b[0m\u001b[0;34m=\u001b[0m\u001b[0minput_id\u001b[0m\u001b[0;34m,\u001b[0m \u001b[0moutput_id\u001b[0m\u001b[0;34m=\u001b[0m\u001b[0moutput_id\u001b[0m\u001b[0;34m\u001b[0m\u001b[0;34m\u001b[0m\u001b[0m\n",
            "\u001b[0;32m/usr/local/lib/python3.10/dist-packages/google/colab/output/_js.py\u001b[0m in \u001b[0;36meval_js\u001b[0;34m(script, ignore_result, timeout_sec)\u001b[0m\n\u001b[1;32m     38\u001b[0m   \u001b[0;32mif\u001b[0m \u001b[0mignore_result\u001b[0m\u001b[0;34m:\u001b[0m\u001b[0;34m\u001b[0m\u001b[0;34m\u001b[0m\u001b[0m\n\u001b[1;32m     39\u001b[0m     \u001b[0;32mreturn\u001b[0m\u001b[0;34m\u001b[0m\u001b[0;34m\u001b[0m\u001b[0m\n\u001b[0;32m---> 40\u001b[0;31m   \u001b[0;32mreturn\u001b[0m \u001b[0m_message\u001b[0m\u001b[0;34m.\u001b[0m\u001b[0mread_reply_from_input\u001b[0m\u001b[0;34m(\u001b[0m\u001b[0mrequest_id\u001b[0m\u001b[0;34m,\u001b[0m \u001b[0mtimeout_sec\u001b[0m\u001b[0;34m)\u001b[0m\u001b[0;34m\u001b[0m\u001b[0;34m\u001b[0m\u001b[0m\n\u001b[0m\u001b[1;32m     41\u001b[0m \u001b[0;34m\u001b[0m\u001b[0m\n\u001b[1;32m     42\u001b[0m \u001b[0;34m\u001b[0m\u001b[0m\n",
            "\u001b[0;32m/usr/local/lib/python3.10/dist-packages/google/colab/_message.py\u001b[0m in \u001b[0;36mread_reply_from_input\u001b[0;34m(message_id, timeout_sec)\u001b[0m\n\u001b[1;32m     94\u001b[0m     \u001b[0mreply\u001b[0m \u001b[0;34m=\u001b[0m \u001b[0m_read_next_input_message\u001b[0m\u001b[0;34m(\u001b[0m\u001b[0;34m)\u001b[0m\u001b[0;34m\u001b[0m\u001b[0;34m\u001b[0m\u001b[0m\n\u001b[1;32m     95\u001b[0m     \u001b[0;32mif\u001b[0m \u001b[0mreply\u001b[0m \u001b[0;34m==\u001b[0m \u001b[0m_NOT_READY\u001b[0m \u001b[0;32mor\u001b[0m \u001b[0;32mnot\u001b[0m \u001b[0misinstance\u001b[0m\u001b[0;34m(\u001b[0m\u001b[0mreply\u001b[0m\u001b[0;34m,\u001b[0m \u001b[0mdict\u001b[0m\u001b[0;34m)\u001b[0m\u001b[0;34m:\u001b[0m\u001b[0;34m\u001b[0m\u001b[0;34m\u001b[0m\u001b[0m\n\u001b[0;32m---> 96\u001b[0;31m       \u001b[0mtime\u001b[0m\u001b[0;34m.\u001b[0m\u001b[0msleep\u001b[0m\u001b[0;34m(\u001b[0m\u001b[0;36m0.025\u001b[0m\u001b[0;34m)\u001b[0m\u001b[0;34m\u001b[0m\u001b[0;34m\u001b[0m\u001b[0m\n\u001b[0m\u001b[1;32m     97\u001b[0m       \u001b[0;32mcontinue\u001b[0m\u001b[0;34m\u001b[0m\u001b[0;34m\u001b[0m\u001b[0m\n\u001b[1;32m     98\u001b[0m     if (\n",
            "\u001b[0;31mKeyboardInterrupt\u001b[0m: "
          ]
        }
      ]
    },
    {
      "cell_type": "code",
      "source": [
        "# simulating reading a large file line by line\n",
        "with open('sample.txt', 'r') as file:\n",
        "    for line in file:\n",
        "        print(line.strip())"
      ],
      "metadata": {
        "colab": {
          "base_uri": "https://localhost:8080/"
        },
        "id": "WZBxNRzK0sPS",
        "outputId": "d5ecd623-3d4e-4f7d-91c6-35cc6f70680f"
      },
      "execution_count": null,
      "outputs": [
        {
          "output_type": "stream",
          "name": "stdout",
          "text": [
            "Overwriting content using the with statement.\n"
          ]
        }
      ]
    },
    {
      "cell_type": "code",
      "source": [
        "# Simulating reading a large file in chunks\n",
        "with open('sample.txt', 'r') as file:\n",
        "    chunk = file.read(10)  # Read 10 bytes at a time\n",
        "    while chunk:\n",
        "        print(\"Chunk:\", chunk)\n",
        "        chunk = file.read(10)"
      ],
      "metadata": {
        "colab": {
          "base_uri": "https://localhost:8080/"
        },
        "id": "GNnyZlQq06SG",
        "outputId": "2529dad9-5963-4827-a301-b81213b280ea"
      },
      "execution_count": null,
      "outputs": [
        {
          "output_type": "stream",
          "name": "stdout",
          "text": [
            "Chunk: Overwritin\n",
            "Chunk: g content \n",
            "Chunk: using the \n",
            "Chunk: with state\n",
            "Chunk: ment.\n"
          ]
        }
      ]
    },
    {
      "cell_type": "markdown",
      "source": [
        "## **Exercises in File I/O Operations**"
      ],
      "metadata": {
        "id": "uJiWNQOVkhGb"
      }
    },
    {
      "cell_type": "markdown",
      "source": [
        "**1. Create a program that writes the numbers 1 to 10 to a file, each number on a new line.**"
      ],
      "metadata": {
        "id": "aAV4yfhAkr01"
      }
    },
    {
      "cell_type": "code",
      "source": [
        "with open('numbers.txt', 'w') as file:\n",
        "    for number in range(1, 11):\n",
        "        file.write(str(number) + '\\n')"
      ],
      "metadata": {
        "id": "W2KGZehnj3Rm"
      },
      "execution_count": null,
      "outputs": []
    },
    {
      "cell_type": "code",
      "source": [
        "# read the above file\n",
        "with open('numbers.txt', 'r') as file:\n",
        "    content = file.read()\n",
        "    print(content)"
      ],
      "metadata": {
        "colab": {
          "base_uri": "https://localhost:8080/"
        },
        "id": "FM19pRBck348",
        "outputId": "c9530f0f-02fd-4d0d-c319-a1ff43f4a094"
      },
      "execution_count": null,
      "outputs": [
        {
          "output_type": "stream",
          "name": "stdout",
          "text": [
            "1\n",
            "2\n",
            "3\n",
            "4\n",
            "5\n",
            "6\n",
            "7\n",
            "8\n",
            "9\n",
            "10\n",
            "\n"
          ]
        }
      ]
    },
    {
      "cell_type": "markdown",
      "source": [
        "**2. Modify the above program to append numbers 11 to 20 to the same file using the `with` statement.**"
      ],
      "metadata": {
        "id": "WVt5MeAeldkh"
      }
    },
    {
      "cell_type": "code",
      "source": [
        "with open('numbers.txt', 'a') as file:\n",
        "    for number in range(11, 21):\n",
        "        file.write(str(number) + '\\n')"
      ],
      "metadata": {
        "id": "cl8Xl8bylX-g"
      },
      "execution_count": null,
      "outputs": []
    },
    {
      "cell_type": "code",
      "source": [
        "# and read it again\n",
        "with open('numbers.txt', 'r') as file:\n",
        "    content = file.read()\n",
        "    print(content)"
      ],
      "metadata": {
        "colab": {
          "base_uri": "https://localhost:8080/"
        },
        "id": "6inf13Goltfk",
        "outputId": "7ef73e25-8b4e-4c72-c656-89a3df21a27a"
      },
      "execution_count": null,
      "outputs": [
        {
          "output_type": "stream",
          "name": "stdout",
          "text": [
            "1\n",
            "2\n",
            "3\n",
            "4\n",
            "5\n",
            "6\n",
            "7\n",
            "8\n",
            "9\n",
            "10\n",
            "11\n",
            "12\n",
            "13\n",
            "14\n",
            "15\n",
            "16\n",
            "17\n",
            "18\n",
            "19\n",
            "20\n",
            "\n"
          ]
        }
      ]
    },
    {
      "cell_type": "markdown",
      "source": [
        "**3. Write a program that reads the contents of the file named `numbers.txt` line-by-line and prints each line.**"
      ],
      "metadata": {
        "id": "8Y7W5mArl5ha"
      }
    },
    {
      "cell_type": "code",
      "source": [
        "with open('numbers.txt', 'r') as file:\n",
        "    for line in file:\n",
        "        print(line.strip())"
      ],
      "metadata": {
        "colab": {
          "base_uri": "https://localhost:8080/"
        },
        "id": "Yx33klFHlyPm",
        "outputId": "1c8f72bf-0059-41ad-939b-b874200dc950"
      },
      "execution_count": null,
      "outputs": [
        {
          "output_type": "stream",
          "name": "stdout",
          "text": [
            "1\n",
            "2\n",
            "3\n",
            "4\n",
            "5\n",
            "6\n",
            "7\n",
            "8\n",
            "9\n",
            "10\n",
            "11\n",
            "12\n",
            "13\n",
            "14\n",
            "15\n",
            "16\n",
            "17\n",
            "18\n",
            "19\n",
            "20\n"
          ]
        }
      ]
    },
    {
      "cell_type": "markdown",
      "source": [
        "**4. Calculate frequency of occurence per base for a list of strings from the file testdna2.txt using dictionaries.**"
      ],
      "metadata": {
        "id": "7bk3nhc4mQbf"
      }
    },
    {
      "cell_type": "code",
      "source": [
        "# upload the file\n",
        "from google.colab import files\n",
        "uploaded = files.upload()"
      ],
      "metadata": {
        "colab": {
          "base_uri": "https://localhost:8080/",
          "height": 73
        },
        "id": "YZZ1EmLwmKNM",
        "outputId": "6fb34749-20f8-4532-edd7-ebd708ddf293"
      },
      "execution_count": null,
      "outputs": [
        {
          "output_type": "display_data",
          "data": {
            "text/plain": [
              "<IPython.core.display.HTML object>"
            ],
            "text/html": [
              "\n",
              "     <input type=\"file\" id=\"files-d62a0749-7a11-4711-86ba-033f1ecf83f2\" name=\"files[]\" multiple disabled\n",
              "        style=\"border:none\" />\n",
              "     <output id=\"result-d62a0749-7a11-4711-86ba-033f1ecf83f2\">\n",
              "      Upload widget is only available when the cell has been executed in the\n",
              "      current browser session. Please rerun this cell to enable.\n",
              "      </output>\n",
              "      <script>// Copyright 2017 Google LLC\n",
              "//\n",
              "// Licensed under the Apache License, Version 2.0 (the \"License\");\n",
              "// you may not use this file except in compliance with the License.\n",
              "// You may obtain a copy of the License at\n",
              "//\n",
              "//      http://www.apache.org/licenses/LICENSE-2.0\n",
              "//\n",
              "// Unless required by applicable law or agreed to in writing, software\n",
              "// distributed under the License is distributed on an \"AS IS\" BASIS,\n",
              "// WITHOUT WARRANTIES OR CONDITIONS OF ANY KIND, either express or implied.\n",
              "// See the License for the specific language governing permissions and\n",
              "// limitations under the License.\n",
              "\n",
              "/**\n",
              " * @fileoverview Helpers for google.colab Python module.\n",
              " */\n",
              "(function(scope) {\n",
              "function span(text, styleAttributes = {}) {\n",
              "  const element = document.createElement('span');\n",
              "  element.textContent = text;\n",
              "  for (const key of Object.keys(styleAttributes)) {\n",
              "    element.style[key] = styleAttributes[key];\n",
              "  }\n",
              "  return element;\n",
              "}\n",
              "\n",
              "// Max number of bytes which will be uploaded at a time.\n",
              "const MAX_PAYLOAD_SIZE = 100 * 1024;\n",
              "\n",
              "function _uploadFiles(inputId, outputId) {\n",
              "  const steps = uploadFilesStep(inputId, outputId);\n",
              "  const outputElement = document.getElementById(outputId);\n",
              "  // Cache steps on the outputElement to make it available for the next call\n",
              "  // to uploadFilesContinue from Python.\n",
              "  outputElement.steps = steps;\n",
              "\n",
              "  return _uploadFilesContinue(outputId);\n",
              "}\n",
              "\n",
              "// This is roughly an async generator (not supported in the browser yet),\n",
              "// where there are multiple asynchronous steps and the Python side is going\n",
              "// to poll for completion of each step.\n",
              "// This uses a Promise to block the python side on completion of each step,\n",
              "// then passes the result of the previous step as the input to the next step.\n",
              "function _uploadFilesContinue(outputId) {\n",
              "  const outputElement = document.getElementById(outputId);\n",
              "  const steps = outputElement.steps;\n",
              "\n",
              "  const next = steps.next(outputElement.lastPromiseValue);\n",
              "  return Promise.resolve(next.value.promise).then((value) => {\n",
              "    // Cache the last promise value to make it available to the next\n",
              "    // step of the generator.\n",
              "    outputElement.lastPromiseValue = value;\n",
              "    return next.value.response;\n",
              "  });\n",
              "}\n",
              "\n",
              "/**\n",
              " * Generator function which is called between each async step of the upload\n",
              " * process.\n",
              " * @param {string} inputId Element ID of the input file picker element.\n",
              " * @param {string} outputId Element ID of the output display.\n",
              " * @return {!Iterable<!Object>} Iterable of next steps.\n",
              " */\n",
              "function* uploadFilesStep(inputId, outputId) {\n",
              "  const inputElement = document.getElementById(inputId);\n",
              "  inputElement.disabled = false;\n",
              "\n",
              "  const outputElement = document.getElementById(outputId);\n",
              "  outputElement.innerHTML = '';\n",
              "\n",
              "  const pickedPromise = new Promise((resolve) => {\n",
              "    inputElement.addEventListener('change', (e) => {\n",
              "      resolve(e.target.files);\n",
              "    });\n",
              "  });\n",
              "\n",
              "  const cancel = document.createElement('button');\n",
              "  inputElement.parentElement.appendChild(cancel);\n",
              "  cancel.textContent = 'Cancel upload';\n",
              "  const cancelPromise = new Promise((resolve) => {\n",
              "    cancel.onclick = () => {\n",
              "      resolve(null);\n",
              "    };\n",
              "  });\n",
              "\n",
              "  // Wait for the user to pick the files.\n",
              "  const files = yield {\n",
              "    promise: Promise.race([pickedPromise, cancelPromise]),\n",
              "    response: {\n",
              "      action: 'starting',\n",
              "    }\n",
              "  };\n",
              "\n",
              "  cancel.remove();\n",
              "\n",
              "  // Disable the input element since further picks are not allowed.\n",
              "  inputElement.disabled = true;\n",
              "\n",
              "  if (!files) {\n",
              "    return {\n",
              "      response: {\n",
              "        action: 'complete',\n",
              "      }\n",
              "    };\n",
              "  }\n",
              "\n",
              "  for (const file of files) {\n",
              "    const li = document.createElement('li');\n",
              "    li.append(span(file.name, {fontWeight: 'bold'}));\n",
              "    li.append(span(\n",
              "        `(${file.type || 'n/a'}) - ${file.size} bytes, ` +\n",
              "        `last modified: ${\n",
              "            file.lastModifiedDate ? file.lastModifiedDate.toLocaleDateString() :\n",
              "                                    'n/a'} - `));\n",
              "    const percent = span('0% done');\n",
              "    li.appendChild(percent);\n",
              "\n",
              "    outputElement.appendChild(li);\n",
              "\n",
              "    const fileDataPromise = new Promise((resolve) => {\n",
              "      const reader = new FileReader();\n",
              "      reader.onload = (e) => {\n",
              "        resolve(e.target.result);\n",
              "      };\n",
              "      reader.readAsArrayBuffer(file);\n",
              "    });\n",
              "    // Wait for the data to be ready.\n",
              "    let fileData = yield {\n",
              "      promise: fileDataPromise,\n",
              "      response: {\n",
              "        action: 'continue',\n",
              "      }\n",
              "    };\n",
              "\n",
              "    // Use a chunked sending to avoid message size limits. See b/62115660.\n",
              "    let position = 0;\n",
              "    do {\n",
              "      const length = Math.min(fileData.byteLength - position, MAX_PAYLOAD_SIZE);\n",
              "      const chunk = new Uint8Array(fileData, position, length);\n",
              "      position += length;\n",
              "\n",
              "      const base64 = btoa(String.fromCharCode.apply(null, chunk));\n",
              "      yield {\n",
              "        response: {\n",
              "          action: 'append',\n",
              "          file: file.name,\n",
              "          data: base64,\n",
              "        },\n",
              "      };\n",
              "\n",
              "      let percentDone = fileData.byteLength === 0 ?\n",
              "          100 :\n",
              "          Math.round((position / fileData.byteLength) * 100);\n",
              "      percent.textContent = `${percentDone}% done`;\n",
              "\n",
              "    } while (position < fileData.byteLength);\n",
              "  }\n",
              "\n",
              "  // All done.\n",
              "  yield {\n",
              "    response: {\n",
              "      action: 'complete',\n",
              "    }\n",
              "  };\n",
              "}\n",
              "\n",
              "scope.google = scope.google || {};\n",
              "scope.google.colab = scope.google.colab || {};\n",
              "scope.google.colab._files = {\n",
              "  _uploadFiles,\n",
              "  _uploadFilesContinue,\n",
              "};\n",
              "})(self);\n",
              "</script> "
            ]
          },
          "metadata": {}
        },
        {
          "output_type": "stream",
          "name": "stdout",
          "text": [
            "Saving testdna2.txt to testdna2.txt\n"
          ]
        }
      ]
    },
    {
      "cell_type": "code",
      "source": [
        "# read the uploaded file\n",
        "with open('testdna2.txt', 'r') as file:\n",
        "    content = file.read()\n",
        "    print(content)"
      ],
      "metadata": {
        "colab": {
          "base_uri": "https://localhost:8080/"
        },
        "id": "WXhHDaefml7n",
        "outputId": "9efedcd7-bf25-4ee6-d4bb-0538a42b3f00"
      },
      "execution_count": null,
      "outputs": [
        {
          "output_type": "stream",
          "name": "stdout",
          "text": [
            "CCTGGCGGCCATGGCGAACCGGAACCACCCGATCCCATCTCGAACTCGGAAGTGAAACGGTTCAGCGCCGATGA-TAGTGTG--GGGCCTCCCCATGTGAAAGTAGGTCACTGCCAGGC\n",
            "-CAGGTGGTGATGGCGGAAAGGTCACACCCGAACACATCCCGAACTCGGAAGTTAAGCTTTCCAGCGCCGATG-GTAGTTGG--GGGTTTCCCCCTGCGAGAGTAGGACGTTGCCGGGC\n",
            "AACGGCGGTCATAGCGGTGGGGAAACGCCCGGTCCCATCCCGAACCCGGAAGCTAAGCCCACCAGCGCCGATG-GTACTGCACTC-GTGAGGGTGTGGGAGAGTAGGACGCCGCCGGAC\n",
            "GCTGGCGACCATAGCAAGAGTGAACCACCTGATCCCTTCCCGAACTCAGAAGTGAAACCTCTTCGCGCTGATG-GTAGTGNGG-GT--TA-CCCATGTGAGAGTAAGTCATCGCCAGCT\n",
            "GTCGGTGGTCATTGCGGAGGGGGAACGCCCGGTCCCATCCCGAACCCGGAAGCTAAGCCCTCCAGCGCCGATG-GTACTGCACTC-GCCAGGGTGTGGGAGAGTAGGTCGCCGCCGACA\n"
          ]
        }
      ]
    },
    {
      "cell_type": "code",
      "source": [
        "# count all bases and errors in a DNA sequence\n",
        "def count_all_bases_errors(dna_string):\n",
        "    # initialize a dictionary-counter for bases and errors\n",
        "    base_error_counts = {\"A\": 0, \"G\": 0, \"T\": 0, \"C\": 0, \"-\": 0, \"N\": 0}\n",
        "    # iterate over the dictionary\n",
        "    for base in base_error_counts.keys():\n",
        "        base_error_counts[base] += dna_string.count(base) # for each base count how many times it appears in string and update the dictionary\n",
        "    # bases and errors in seperate dictionaries\n",
        "    bases = {base: count for base, count in base_error_counts.items() if base not in [\"-\", \"N\"]}\n",
        "    errors = {base: count for base, count in base_error_counts.items() if base in [\"-\", \"N\"]}\n",
        "    return bases, errors"
      ],
      "metadata": {
        "id": "XHCOrGgmmvO9"
      },
      "execution_count": null,
      "outputs": []
    },
    {
      "cell_type": "code",
      "source": [
        "# Count bases and errors in the first string and print the results\n",
        "counts_string_1 = count_all_bases_errors(content)\n",
        "print( f\"TOTAL BASES FOR STRING 1: {sum(counts_string_1[0].values())}, ERRORS: {sum(counts_string_1[1].values())}, {counts_string_1[0]}\")\n"
      ],
      "metadata": {
        "colab": {
          "base_uri": "https://localhost:8080/"
        },
        "id": "_Bsm1eGvm-nh",
        "outputId": "3df167ff-eced-4f75-f3b3-47a504348943"
      },
      "execution_count": null,
      "outputs": [
        {
          "output_type": "stream",
          "name": "stdout",
          "text": [
            "TOTAL BASES FOR STRING 1: 578, ERRORS: 17, {'A': 124, 'G': 188, 'T': 96, 'C': 170}\n"
          ]
        }
      ]
    },
    {
      "cell_type": "markdown",
      "source": [
        "**5. Make a plot with the results!**"
      ],
      "metadata": {
        "id": "zhdBS_IynQYx"
      }
    },
    {
      "cell_type": "code",
      "source": [
        "import matplotlib.pyplot as plt\n",
        "\n",
        "# extract keys and values\n",
        "keys = list(counts_string_1[0].keys())\n",
        "values = list(counts_string_1[0].values())\n",
        "\n",
        "# plotting\n",
        "plt.figure(figsize=(10, 6))\n",
        "plt.bar(keys, values, width=0.5)\n",
        "\n",
        "# adding labels and title\n",
        "plt.xlabel('Keys')\n",
        "plt.ylabel('Values')\n",
        "plt.title('Frequency of Bases in String 1')\n",
        "\n",
        "# display the plot\n",
        "plt.show()"
      ],
      "metadata": {
        "colab": {
          "base_uri": "https://localhost:8080/",
          "height": 564
        },
        "id": "B2lxtFbJnGbW",
        "outputId": "3ae2bc2c-3eb5-491d-854f-ae5e8ed94aa1"
      },
      "execution_count": null,
      "outputs": [
        {
          "output_type": "display_data",
          "data": {
            "text/plain": [
              "<Figure size 1000x600 with 1 Axes>"
            ],
            "image/png": "[encoded data removed]"
          },
          "metadata": {}
        }
      ]
    },
    {
      "cell_type": "markdown",
      "source": [
        "**6. Calculate (A+T) / (C+G) ratio per sequence after loading multiple sequences from a file.**"
      ],
      "metadata": {
        "id": "90ZImZk_oPc-"
      }
    },
    {
      "cell_type": "code",
      "source": [
        "# upload the gata3.txt file\n",
        "from google.colab import files\n",
        "sequences_file = files.upload()"
      ],
      "metadata": {
        "colab": {
          "base_uri": "https://localhost:8080/",
          "height": 73
        },
        "id": "7xHO8fBpoGbE",
        "outputId": "46022f93-67a1-4ffc-b964-121b2e018110"
      },
      "execution_count": null,
      "outputs": [
        {
          "output_type": "display_data",
          "data": {
            "text/plain": [
              "<IPython.core.display.HTML object>"
            ],
            "text/html": [
              "\n",
              "     <input type=\"file\" id=\"files-ecc42761-ac81-4d00-8f23-a69627719b02\" name=\"files[]\" multiple disabled\n",
              "        style=\"border:none\" />\n",
              "     <output id=\"result-ecc42761-ac81-4d00-8f23-a69627719b02\">\n",
              "      Upload widget is only available when the cell has been executed in the\n",
              "      current browser session. Please rerun this cell to enable.\n",
              "      </output>\n",
              "      <script>// Copyright 2017 Google LLC\n",
              "//\n",
              "// Licensed under the Apache License, Version 2.0 (the \"License\");\n",
              "// you may not use this file except in compliance with the License.\n",
              "// You may obtain a copy of the License at\n",
              "//\n",
              "//      http://www.apache.org/licenses/LICENSE-2.0\n",
              "//\n",
              "// Unless required by applicable law or agreed to in writing, software\n",
              "// distributed under the License is distributed on an \"AS IS\" BASIS,\n",
              "// WITHOUT WARRANTIES OR CONDITIONS OF ANY KIND, either express or implied.\n",
              "// See the License for the specific language governing permissions and\n",
              "// limitations under the License.\n",
              "\n",
              "/**\n",
              " * @fileoverview Helpers for google.colab Python module.\n",
              " */\n",
              "(function(scope) {\n",
              "function span(text, styleAttributes = {}) {\n",
              "  const element = document.createElement('span');\n",
              "  element.textContent = text;\n",
              "  for (const key of Object.keys(styleAttributes)) {\n",
              "    element.style[key] = styleAttributes[key];\n",
              "  }\n",
              "  return element;\n",
              "}\n",
              "\n",
              "// Max number of bytes which will be uploaded at a time.\n",
              "const MAX_PAYLOAD_SIZE = 100 * 1024;\n",
              "\n",
              "function _uploadFiles(inputId, outputId) {\n",
              "  const steps = uploadFilesStep(inputId, outputId);\n",
              "  const outputElement = document.getElementById(outputId);\n",
              "  // Cache steps on the outputElement to make it available for the next call\n",
              "  // to uploadFilesContinue from Python.\n",
              "  outputElement.steps = steps;\n",
              "\n",
              "  return _uploadFilesContinue(outputId);\n",
              "}\n",
              "\n",
              "// This is roughly an async generator (not supported in the browser yet),\n",
              "// where there are multiple asynchronous steps and the Python side is going\n",
              "// to poll for completion of each step.\n",
              "// This uses a Promise to block the python side on completion of each step,\n",
              "// then passes the result of the previous step as the input to the next step.\n",
              "function _uploadFilesContinue(outputId) {\n",
              "  const outputElement = document.getElementById(outputId);\n",
              "  const steps = outputElement.steps;\n",
              "\n",
              "  const next = steps.next(outputElement.lastPromiseValue);\n",
              "  return Promise.resolve(next.value.promise).then((value) => {\n",
              "    // Cache the last promise value to make it available to the next\n",
              "    // step of the generator.\n",
              "    outputElement.lastPromiseValue = value;\n",
              "    return next.value.response;\n",
              "  });\n",
              "}\n",
              "\n",
              "/**\n",
              " * Generator function which is called between each async step of the upload\n",
              " * process.\n",
              " * @param {string} inputId Element ID of the input file picker element.\n",
              " * @param {string} outputId Element ID of the output display.\n",
              " * @return {!Iterable<!Object>} Iterable of next steps.\n",
              " */\n",
              "function* uploadFilesStep(inputId, outputId) {\n",
              "  const inputElement = document.getElementById(inputId);\n",
              "  inputElement.disabled = false;\n",
              "\n",
              "  const outputElement = document.getElementById(outputId);\n",
              "  outputElement.innerHTML = '';\n",
              "\n",
              "  const pickedPromise = new Promise((resolve) => {\n",
              "    inputElement.addEventListener('change', (e) => {\n",
              "      resolve(e.target.files);\n",
              "    });\n",
              "  });\n",
              "\n",
              "  const cancel = document.createElement('button');\n",
              "  inputElement.parentElement.appendChild(cancel);\n",
              "  cancel.textContent = 'Cancel upload';\n",
              "  const cancelPromise = new Promise((resolve) => {\n",
              "    cancel.onclick = () => {\n",
              "      resolve(null);\n",
              "    };\n",
              "  });\n",
              "\n",
              "  // Wait for the user to pick the files.\n",
              "  const files = yield {\n",
              "    promise: Promise.race([pickedPromise, cancelPromise]),\n",
              "    response: {\n",
              "      action: 'starting',\n",
              "    }\n",
              "  };\n",
              "\n",
              "  cancel.remove();\n",
              "\n",
              "  // Disable the input element since further picks are not allowed.\n",
              "  inputElement.disabled = true;\n",
              "\n",
              "  if (!files) {\n",
              "    return {\n",
              "      response: {\n",
              "        action: 'complete',\n",
              "      }\n",
              "    };\n",
              "  }\n",
              "\n",
              "  for (const file of files) {\n",
              "    const li = document.createElement('li');\n",
              "    li.append(span(file.name, {fontWeight: 'bold'}));\n",
              "    li.append(span(\n",
              "        `(${file.type || 'n/a'}) - ${file.size} bytes, ` +\n",
              "        `last modified: ${\n",
              "            file.lastModifiedDate ? file.lastModifiedDate.toLocaleDateString() :\n",
              "                                    'n/a'} - `));\n",
              "    const percent = span('0% done');\n",
              "    li.appendChild(percent);\n",
              "\n",
              "    outputElement.appendChild(li);\n",
              "\n",
              "    const fileDataPromise = new Promise((resolve) => {\n",
              "      const reader = new FileReader();\n",
              "      reader.onload = (e) => {\n",
              "        resolve(e.target.result);\n",
              "      };\n",
              "      reader.readAsArrayBuffer(file);\n",
              "    });\n",
              "    // Wait for the data to be ready.\n",
              "    let fileData = yield {\n",
              "      promise: fileDataPromise,\n",
              "      response: {\n",
              "        action: 'continue',\n",
              "      }\n",
              "    };\n",
              "\n",
              "    // Use a chunked sending to avoid message size limits. See b/62115660.\n",
              "    let position = 0;\n",
              "    do {\n",
              "      const length = Math.min(fileData.byteLength - position, MAX_PAYLOAD_SIZE);\n",
              "      const chunk = new Uint8Array(fileData, position, length);\n",
              "      position += length;\n",
              "\n",
              "      const base64 = btoa(String.fromCharCode.apply(null, chunk));\n",
              "      yield {\n",
              "        response: {\n",
              "          action: 'append',\n",
              "          file: file.name,\n",
              "          data: base64,\n",
              "        },\n",
              "      };\n",
              "\n",
              "      let percentDone = fileData.byteLength === 0 ?\n",
              "          100 :\n",
              "          Math.round((position / fileData.byteLength) * 100);\n",
              "      percent.textContent = `${percentDone}% done`;\n",
              "\n",
              "    } while (position < fileData.byteLength);\n",
              "  }\n",
              "\n",
              "  // All done.\n",
              "  yield {\n",
              "    response: {\n",
              "      action: 'complete',\n",
              "    }\n",
              "  };\n",
              "}\n",
              "\n",
              "scope.google = scope.google || {};\n",
              "scope.google.colab = scope.google.colab || {};\n",
              "scope.google.colab._files = {\n",
              "  _uploadFiles,\n",
              "  _uploadFilesContinue,\n",
              "};\n",
              "})(self);\n",
              "</script> "
            ]
          },
          "metadata": {}
        },
        {
          "output_type": "stream",
          "name": "stdout",
          "text": [
            "Saving gata3.txt to gata3.txt\n"
          ]
        }
      ]
    },
    {
      "cell_type": "code",
      "source": [
        "# initiate an empty list to hold information that we will load from the file\n",
        "sequences_as_list_of_lists = list()\n",
        "\n",
        "# just read the txt file to see the data\n",
        "with open('gata3.txt', 'r') as file:\n",
        "  for line in file:\n",
        "    print(line.strip())"
      ],
      "metadata": {
        "colab": {
          "base_uri": "https://localhost:8080/"
        },
        "id": "1b-cUBcool2y",
        "outputId": "61411082-61e9-45c3-cc70-eaf838efcd40"
      },
      "execution_count": null,
      "outputs": [
        {
          "output_type": "stream",
          "name": "stdout",
          "text": [
            "AGATAG\n",
            "AGATAG\n",
            "AGATAG\n",
            "AGATAG\n",
            "CGATAG\n",
            "AGATAC\n",
            "AGaTAA\n",
            "GGATAC\n",
            "CGATTG\n",
            "CGATTG\n",
            "AGATAG\n",
            "AGAGAG\n",
            "CGATAC\n",
            "AGAtTG\n",
            "CGATAG\n",
            "AGATAC\n",
            "AGATAA\n",
            "GGATAC\n",
            "CgATTG\n",
            "CGATTG\n"
          ]
        }
      ]
    },
    {
      "cell_type": "code",
      "source": [
        "# use the file handle as a proxy to loop through the lines of the file one-by-one\n",
        "with open('gata3.txt', 'r') as file:\n",
        "  for line in file:\n",
        "    # remove the newline character from the end of the string\n",
        "    line = line.strip()\n",
        "\n",
        "    # all to upper letters\n",
        "    line = line.upper()\n",
        "\n",
        "    # 2 ways to split the letters of a string to a list\n",
        "    sequences_as_list_of_lists.append(list(line))\n",
        "    #sequences_as_list_of_lists.append(line.split())\n",
        "\n",
        "    # detach the file handle from the file and close the connection to the file\n",
        "file.close()\n",
        "\n",
        "sequences_as_list_of_lists"
      ],
      "metadata": {
        "colab": {
          "base_uri": "https://localhost:8080/"
        },
        "id": "NHkRp_YRpbpO",
        "outputId": "72f876f2-a7f5-4d62-e48d-23ee7efd9563"
      },
      "execution_count": null,
      "outputs": [
        {
          "output_type": "execute_result",
          "data": {
            "text/plain": [
              "[['A', 'G', 'A', 'T', 'A', 'G'],\n",
              " ['A', 'G', 'A', 'T', 'A', 'G'],\n",
              " ['A', 'G', 'A', 'T', 'A', 'G'],\n",
              " ['A', 'G', 'A', 'T', 'A', 'G'],\n",
              " ['C', 'G', 'A', 'T', 'A', 'G'],\n",
              " ['A', 'G', 'A', 'T', 'A', 'C'],\n",
              " ['A', 'G', 'A', 'T', 'A', 'A'],\n",
              " ['G', 'G', 'A', 'T', 'A', 'C'],\n",
              " ['C', 'G', 'A', 'T', 'T', 'G'],\n",
              " ['C', 'G', 'A', 'T', 'T', 'G'],\n",
              " ['A', 'G', 'A', 'T', 'A', 'G'],\n",
              " ['A', 'G', 'A', 'G', 'A', 'G'],\n",
              " ['C', 'G', 'A', 'T', 'A', 'C'],\n",
              " ['A', 'G', 'A', 'T', 'T', 'G'],\n",
              " ['C', 'G', 'A', 'T', 'A', 'G'],\n",
              " ['A', 'G', 'A', 'T', 'A', 'C'],\n",
              " ['A', 'G', 'A', 'T', 'A', 'A'],\n",
              " ['G', 'G', 'A', 'T', 'A', 'C'],\n",
              " ['C', 'G', 'A', 'T', 'T', 'G'],\n",
              " ['C', 'G', 'A', 'T', 'T', 'G']]"
            ]
          },
          "metadata": {},
          "execution_count": 134
        }
      ]
    },
    {
      "cell_type": "code",
      "source": [
        "# number of dna sequences and the length of each sequence\n",
        "len(sequences_as_list_of_lists), len(sequences_as_list_of_lists[0])"
      ],
      "metadata": {
        "colab": {
          "base_uri": "https://localhost:8080/"
        },
        "id": "2CZijE2t3DgZ",
        "outputId": "66f614c3-deb4-49fb-d9ae-b8dd916d1946"
      },
      "execution_count": null,
      "outputs": [
        {
          "output_type": "execute_result",
          "data": {
            "text/plain": [
              "(20, 6)"
            ]
          },
          "metadata": {},
          "execution_count": 135
        }
      ]
    },
    {
      "cell_type": "code",
      "source": [
        "# initialize 2 variables that will hold AT and GC counts\n",
        "AT_count = 0\n",
        "GC_count = 0\n",
        "\n",
        "# loop over each element of the list using indices(each element is another list)\n",
        "for row_index in range(len(sequences_as_list_of_lists)):\n",
        "  #print(sequences_as_list_of_lists[base_index])\n",
        "  for col_index in range(len(sequences_as_list_of_lists[row_index])):\n",
        "    # check if the element is equal to 'A'\n",
        "    if sequences_as_list_of_lists[row_index][col_index] == 'A':\n",
        "      AT_count += 1\n",
        "    # check if the element is equal to 'T'\n",
        "    elif sequences_as_list_of_lists[row_index][col_index] == 'T':\n",
        "      AT_count += 1\n",
        "    # check if the element is equal to 'G'\n",
        "    elif sequences_as_list_of_lists[row_index][col_index] == 'G':\n",
        "      GC_count += 1\n",
        "    else:\n",
        "      GC_count += 1\n",
        "\n",
        "    if GC_count == 0:\n",
        "      print(\"Error: Division by zero\")\n",
        "    else:\n",
        "      print(\"Row %d: A+T=%d | G+C=%d | Ration=%f\" % (row_index, AT_count, GC_count, AT_count/GC_count))"
      ],
      "metadata": {
        "colab": {
          "base_uri": "https://localhost:8080/"
        },
        "id": "Om8RWqr-Dh5x",
        "outputId": "1b1bcf3c-335a-4ea3-cffe-c0b73fef136e"
      },
      "execution_count": null,
      "outputs": [
        {
          "output_type": "stream",
          "name": "stdout",
          "text": [
            "Error: Division by zero\n",
            "Row 0: A+T=1 | G+C=1 | Ration=1.000000\n",
            "Row 0: A+T=2 | G+C=1 | Ration=2.000000\n",
            "Row 0: A+T=3 | G+C=1 | Ration=3.000000\n",
            "Row 0: A+T=4 | G+C=1 | Ration=4.000000\n",
            "Row 0: A+T=4 | G+C=2 | Ration=2.000000\n",
            "Row 1: A+T=5 | G+C=2 | Ration=2.500000\n",
            "Row 1: A+T=5 | G+C=3 | Ration=1.666667\n",
            "Row 1: A+T=6 | G+C=3 | Ration=2.000000\n",
            "Row 1: A+T=7 | G+C=3 | Ration=2.333333\n",
            "Row 1: A+T=8 | G+C=3 | Ration=2.666667\n",
            "Row 1: A+T=8 | G+C=4 | Ration=2.000000\n",
            "Row 2: A+T=9 | G+C=4 | Ration=2.250000\n",
            "Row 2: A+T=9 | G+C=5 | Ration=1.800000\n",
            "Row 2: A+T=10 | G+C=5 | Ration=2.000000\n",
            "Row 2: A+T=11 | G+C=5 | Ration=2.200000\n",
            "Row 2: A+T=12 | G+C=5 | Ration=2.400000\n",
            "Row 2: A+T=12 | G+C=6 | Ration=2.000000\n",
            "Row 3: A+T=13 | G+C=6 | Ration=2.166667\n",
            "Row 3: A+T=13 | G+C=7 | Ration=1.857143\n",
            "Row 3: A+T=14 | G+C=7 | Ration=2.000000\n",
            "Row 3: A+T=15 | G+C=7 | Ration=2.142857\n",
            "Row 3: A+T=16 | G+C=7 | Ration=2.285714\n",
            "Row 3: A+T=16 | G+C=8 | Ration=2.000000\n",
            "Row 4: A+T=16 | G+C=9 | Ration=1.777778\n",
            "Row 4: A+T=16 | G+C=10 | Ration=1.600000\n",
            "Row 4: A+T=17 | G+C=10 | Ration=1.700000\n",
            "Row 4: A+T=18 | G+C=10 | Ration=1.800000\n",
            "Row 4: A+T=19 | G+C=10 | Ration=1.900000\n",
            "Row 4: A+T=19 | G+C=11 | Ration=1.727273\n",
            "Row 5: A+T=20 | G+C=11 | Ration=1.818182\n",
            "Row 5: A+T=20 | G+C=12 | Ration=1.666667\n",
            "Row 5: A+T=21 | G+C=12 | Ration=1.750000\n",
            "Row 5: A+T=22 | G+C=12 | Ration=1.833333\n",
            "Row 5: A+T=23 | G+C=12 | Ration=1.916667\n",
            "Row 5: A+T=23 | G+C=13 | Ration=1.769231\n",
            "Row 6: A+T=24 | G+C=13 | Ration=1.846154\n",
            "Row 6: A+T=24 | G+C=14 | Ration=1.714286\n",
            "Row 6: A+T=25 | G+C=14 | Ration=1.785714\n",
            "Row 6: A+T=26 | G+C=14 | Ration=1.857143\n",
            "Row 6: A+T=27 | G+C=14 | Ration=1.928571\n",
            "Row 6: A+T=28 | G+C=14 | Ration=2.000000\n",
            "Row 7: A+T=28 | G+C=15 | Ration=1.866667\n",
            "Row 7: A+T=28 | G+C=16 | Ration=1.750000\n",
            "Row 7: A+T=29 | G+C=16 | Ration=1.812500\n",
            "Row 7: A+T=30 | G+C=16 | Ration=1.875000\n",
            "Row 7: A+T=31 | G+C=16 | Ration=1.937500\n",
            "Row 7: A+T=31 | G+C=17 | Ration=1.823529\n",
            "Row 8: A+T=31 | G+C=18 | Ration=1.722222\n",
            "Row 8: A+T=31 | G+C=19 | Ration=1.631579\n",
            "Row 8: A+T=32 | G+C=19 | Ration=1.684211\n",
            "Row 8: A+T=33 | G+C=19 | Ration=1.736842\n",
            "Row 8: A+T=34 | G+C=19 | Ration=1.789474\n",
            "Row 8: A+T=34 | G+C=20 | Ration=1.700000\n",
            "Row 9: A+T=34 | G+C=21 | Ration=1.619048\n",
            "Row 9: A+T=34 | G+C=22 | Ration=1.545455\n",
            "Row 9: A+T=35 | G+C=22 | Ration=1.590909\n",
            "Row 9: A+T=36 | G+C=22 | Ration=1.636364\n",
            "Row 9: A+T=37 | G+C=22 | Ration=1.681818\n",
            "Row 9: A+T=37 | G+C=23 | Ration=1.608696\n",
            "Row 10: A+T=38 | G+C=23 | Ration=1.652174\n",
            "Row 10: A+T=38 | G+C=24 | Ration=1.583333\n",
            "Row 10: A+T=39 | G+C=24 | Ration=1.625000\n",
            "Row 10: A+T=40 | G+C=24 | Ration=1.666667\n",
            "Row 10: A+T=41 | G+C=24 | Ration=1.708333\n",
            "Row 10: A+T=41 | G+C=25 | Ration=1.640000\n",
            "Row 11: A+T=42 | G+C=25 | Ration=1.680000\n",
            "Row 11: A+T=42 | G+C=26 | Ration=1.615385\n",
            "Row 11: A+T=43 | G+C=26 | Ration=1.653846\n",
            "Row 11: A+T=43 | G+C=27 | Ration=1.592593\n",
            "Row 11: A+T=44 | G+C=27 | Ration=1.629630\n",
            "Row 11: A+T=44 | G+C=28 | Ration=1.571429\n",
            "Row 12: A+T=44 | G+C=29 | Ration=1.517241\n",
            "Row 12: A+T=44 | G+C=30 | Ration=1.466667\n",
            "Row 12: A+T=45 | G+C=30 | Ration=1.500000\n",
            "Row 12: A+T=46 | G+C=30 | Ration=1.533333\n",
            "Row 12: A+T=47 | G+C=30 | Ration=1.566667\n",
            "Row 12: A+T=47 | G+C=31 | Ration=1.516129\n",
            "Row 13: A+T=48 | G+C=31 | Ration=1.548387\n",
            "Row 13: A+T=48 | G+C=32 | Ration=1.500000\n",
            "Row 13: A+T=49 | G+C=32 | Ration=1.531250\n",
            "Row 13: A+T=50 | G+C=32 | Ration=1.562500\n",
            "Row 13: A+T=51 | G+C=32 | Ration=1.593750\n",
            "Row 13: A+T=51 | G+C=33 | Ration=1.545455\n",
            "Row 14: A+T=51 | G+C=34 | Ration=1.500000\n",
            "Row 14: A+T=51 | G+C=35 | Ration=1.457143\n",
            "Row 14: A+T=52 | G+C=35 | Ration=1.485714\n",
            "Row 14: A+T=53 | G+C=35 | Ration=1.514286\n",
            "Row 14: A+T=54 | G+C=35 | Ration=1.542857\n",
            "Row 14: A+T=54 | G+C=36 | Ration=1.500000\n",
            "Row 15: A+T=55 | G+C=36 | Ration=1.527778\n",
            "Row 15: A+T=55 | G+C=37 | Ration=1.486486\n",
            "Row 15: A+T=56 | G+C=37 | Ration=1.513514\n",
            "Row 15: A+T=57 | G+C=37 | Ration=1.540541\n",
            "Row 15: A+T=58 | G+C=37 | Ration=1.567568\n",
            "Row 15: A+T=58 | G+C=38 | Ration=1.526316\n",
            "Row 16: A+T=59 | G+C=38 | Ration=1.552632\n",
            "Row 16: A+T=59 | G+C=39 | Ration=1.512821\n",
            "Row 16: A+T=60 | G+C=39 | Ration=1.538462\n",
            "Row 16: A+T=61 | G+C=39 | Ration=1.564103\n",
            "Row 16: A+T=62 | G+C=39 | Ration=1.589744\n",
            "Row 16: A+T=63 | G+C=39 | Ration=1.615385\n",
            "Row 17: A+T=63 | G+C=40 | Ration=1.575000\n",
            "Row 17: A+T=63 | G+C=41 | Ration=1.536585\n",
            "Row 17: A+T=64 | G+C=41 | Ration=1.560976\n",
            "Row 17: A+T=65 | G+C=41 | Ration=1.585366\n",
            "Row 17: A+T=66 | G+C=41 | Ration=1.609756\n",
            "Row 17: A+T=66 | G+C=42 | Ration=1.571429\n",
            "Row 18: A+T=66 | G+C=43 | Ration=1.534884\n",
            "Row 18: A+T=66 | G+C=44 | Ration=1.500000\n",
            "Row 18: A+T=67 | G+C=44 | Ration=1.522727\n",
            "Row 18: A+T=68 | G+C=44 | Ration=1.545455\n",
            "Row 18: A+T=69 | G+C=44 | Ration=1.568182\n",
            "Row 18: A+T=69 | G+C=45 | Ration=1.533333\n",
            "Row 19: A+T=69 | G+C=46 | Ration=1.500000\n",
            "Row 19: A+T=69 | G+C=47 | Ration=1.468085\n",
            "Row 19: A+T=70 | G+C=47 | Ration=1.489362\n",
            "Row 19: A+T=71 | G+C=47 | Ration=1.510638\n",
            "Row 19: A+T=72 | G+C=47 | Ration=1.531915\n",
            "Row 19: A+T=72 | G+C=48 | Ration=1.500000\n"
          ]
        }
      ]
    },
    {
      "cell_type": "code",
      "source": [
        "# print the ratios\n",
        "print(f\"AT count: {AT_count}, GC count: {GC_count}\")\n",
        "print(f\"AT/GC ratio: {AT_count/GC_count}\")"
      ],
      "metadata": {
        "colab": {
          "base_uri": "https://localhost:8080/"
        },
        "id": "sEOtzN634zAD",
        "outputId": "4c8921e5-c85e-4c65-b045-825ceb72ac31"
      },
      "execution_count": null,
      "outputs": [
        {
          "output_type": "stream",
          "name": "stdout",
          "text": [
            "AT count: 72, GC count: 48\n",
            "AT/GC ratio: 1.5\n"
          ]
        }
      ]
    },
    {
      "cell_type": "markdown",
      "source": [
        "# **File Handling - Part 2**"
      ],
      "metadata": {
        "id": "I9A40c6qKR4F"
      }
    },
    {
      "cell_type": "markdown",
      "source": [
        "## **CSV Handling**"
      ],
      "metadata": {
        "id": "l04N7TDmKfvY"
      }
    },
    {
      "cell_type": "markdown",
      "source": [
        "CSV (Comma-Separated Values) files are commonly used for storing tabular data. Python's `csv` module makes it easy to read from and write to CSV files."
      ],
      "metadata": {
        "id": "Iqu8OqZQMvIy"
      }
    },
    {
      "cell_type": "markdown",
      "source": [
        "**Reading from a CSV File**\n",
        "\n",
        "Use `csv.reader` to read data from a CSV file:\n",
        "\n",
        "```python\n",
        "import csv\n",
        "\n",
        "with open('data.csv', 'r') as file:\n",
        "   reader = csv.reader(file)\n",
        "   for row in reader:\n",
        "      print(row)\n",
        "```\n",
        "\n",
        "**Writing to a CSV File**\n",
        "\n",
        "Use `csv.writer` to write data to a CSV file:\n",
        "\n",
        "```python\n",
        "with open('output.csv', 'w', newline='') as file:\n",
        "   writer = csv.writer(file)\n",
        "   writer.writerow(['Name', 'Age', 'City'])\n",
        "   writer.writerow(['Alice', 30, 'New York'])\n",
        "```"
      ],
      "metadata": {
        "id": "eVj_KPTDMsbq"
      }
    },
    {
      "cell_type": "code",
      "source": [
        "# upload a csv file\n",
        "from google.colab import files\n",
        "uploaded = files.upload()"
      ],
      "metadata": {
        "colab": {
          "base_uri": "https://localhost:8080/",
          "height": 73
        },
        "id": "n4a6K8juKZ8U",
        "outputId": "81b685f2-d3de-4768-e1b6-91726b0b14d1"
      },
      "execution_count": null,
      "outputs": [
        {
          "output_type": "display_data",
          "data": {
            "text/plain": [
              "<IPython.core.display.HTML object>"
            ],
            "text/html": [
              "\n",
              "     <input type=\"file\" id=\"files-a241afaf-3388-4083-90ad-96c4a52cc6a3\" name=\"files[]\" multiple disabled\n",
              "        style=\"border:none\" />\n",
              "     <output id=\"result-a241afaf-3388-4083-90ad-96c4a52cc6a3\">\n",
              "      Upload widget is only available when the cell has been executed in the\n",
              "      current browser session. Please rerun this cell to enable.\n",
              "      </output>\n",
              "      <script>// Copyright 2017 Google LLC\n",
              "//\n",
              "// Licensed under the Apache License, Version 2.0 (the \"License\");\n",
              "// you may not use this file except in compliance with the License.\n",
              "// You may obtain a copy of the License at\n",
              "//\n",
              "//      http://www.apache.org/licenses/LICENSE-2.0\n",
              "//\n",
              "// Unless required by applicable law or agreed to in writing, software\n",
              "// distributed under the License is distributed on an \"AS IS\" BASIS,\n",
              "// WITHOUT WARRANTIES OR CONDITIONS OF ANY KIND, either express or implied.\n",
              "// See the License for the specific language governing permissions and\n",
              "// limitations under the License.\n",
              "\n",
              "/**\n",
              " * @fileoverview Helpers for google.colab Python module.\n",
              " */\n",
              "(function(scope) {\n",
              "function span(text, styleAttributes = {}) {\n",
              "  const element = document.createElement('span');\n",
              "  element.textContent = text;\n",
              "  for (const key of Object.keys(styleAttributes)) {\n",
              "    element.style[key] = styleAttributes[key];\n",
              "  }\n",
              "  return element;\n",
              "}\n",
              "\n",
              "// Max number of bytes which will be uploaded at a time.\n",
              "const MAX_PAYLOAD_SIZE = 100 * 1024;\n",
              "\n",
              "function _uploadFiles(inputId, outputId) {\n",
              "  const steps = uploadFilesStep(inputId, outputId);\n",
              "  const outputElement = document.getElementById(outputId);\n",
              "  // Cache steps on the outputElement to make it available for the next call\n",
              "  // to uploadFilesContinue from Python.\n",
              "  outputElement.steps = steps;\n",
              "\n",
              "  return _uploadFilesContinue(outputId);\n",
              "}\n",
              "\n",
              "// This is roughly an async generator (not supported in the browser yet),\n",
              "// where there are multiple asynchronous steps and the Python side is going\n",
              "// to poll for completion of each step.\n",
              "// This uses a Promise to block the python side on completion of each step,\n",
              "// then passes the result of the previous step as the input to the next step.\n",
              "function _uploadFilesContinue(outputId) {\n",
              "  const outputElement = document.getElementById(outputId);\n",
              "  const steps = outputElement.steps;\n",
              "\n",
              "  const next = steps.next(outputElement.lastPromiseValue);\n",
              "  return Promise.resolve(next.value.promise).then((value) => {\n",
              "    // Cache the last promise value to make it available to the next\n",
              "    // step of the generator.\n",
              "    outputElement.lastPromiseValue = value;\n",
              "    return next.value.response;\n",
              "  });\n",
              "}\n",
              "\n",
              "/**\n",
              " * Generator function which is called between each async step of the upload\n",
              " * process.\n",
              " * @param {string} inputId Element ID of the input file picker element.\n",
              " * @param {string} outputId Element ID of the output display.\n",
              " * @return {!Iterable<!Object>} Iterable of next steps.\n",
              " */\n",
              "function* uploadFilesStep(inputId, outputId) {\n",
              "  const inputElement = document.getElementById(inputId);\n",
              "  inputElement.disabled = false;\n",
              "\n",
              "  const outputElement = document.getElementById(outputId);\n",
              "  outputElement.innerHTML = '';\n",
              "\n",
              "  const pickedPromise = new Promise((resolve) => {\n",
              "    inputElement.addEventListener('change', (e) => {\n",
              "      resolve(e.target.files);\n",
              "    });\n",
              "  });\n",
              "\n",
              "  const cancel = document.createElement('button');\n",
              "  inputElement.parentElement.appendChild(cancel);\n",
              "  cancel.textContent = 'Cancel upload';\n",
              "  const cancelPromise = new Promise((resolve) => {\n",
              "    cancel.onclick = () => {\n",
              "      resolve(null);\n",
              "    };\n",
              "  });\n",
              "\n",
              "  // Wait for the user to pick the files.\n",
              "  const files = yield {\n",
              "    promise: Promise.race([pickedPromise, cancelPromise]),\n",
              "    response: {\n",
              "      action: 'starting',\n",
              "    }\n",
              "  };\n",
              "\n",
              "  cancel.remove();\n",
              "\n",
              "  // Disable the input element since further picks are not allowed.\n",
              "  inputElement.disabled = true;\n",
              "\n",
              "  if (!files) {\n",
              "    return {\n",
              "      response: {\n",
              "        action: 'complete',\n",
              "      }\n",
              "    };\n",
              "  }\n",
              "\n",
              "  for (const file of files) {\n",
              "    const li = document.createElement('li');\n",
              "    li.append(span(file.name, {fontWeight: 'bold'}));\n",
              "    li.append(span(\n",
              "        `(${file.type || 'n/a'}) - ${file.size} bytes, ` +\n",
              "        `last modified: ${\n",
              "            file.lastModifiedDate ? file.lastModifiedDate.toLocaleDateString() :\n",
              "                                    'n/a'} - `));\n",
              "    const percent = span('0% done');\n",
              "    li.appendChild(percent);\n",
              "\n",
              "    outputElement.appendChild(li);\n",
              "\n",
              "    const fileDataPromise = new Promise((resolve) => {\n",
              "      const reader = new FileReader();\n",
              "      reader.onload = (e) => {\n",
              "        resolve(e.target.result);\n",
              "      };\n",
              "      reader.readAsArrayBuffer(file);\n",
              "    });\n",
              "    // Wait for the data to be ready.\n",
              "    let fileData = yield {\n",
              "      promise: fileDataPromise,\n",
              "      response: {\n",
              "        action: 'continue',\n",
              "      }\n",
              "    };\n",
              "\n",
              "    // Use a chunked sending to avoid message size limits. See b/62115660.\n",
              "    let position = 0;\n",
              "    do {\n",
              "      const length = Math.min(fileData.byteLength - position, MAX_PAYLOAD_SIZE);\n",
              "      const chunk = new Uint8Array(fileData, position, length);\n",
              "      position += length;\n",
              "\n",
              "      const base64 = btoa(String.fromCharCode.apply(null, chunk));\n",
              "      yield {\n",
              "        response: {\n",
              "          action: 'append',\n",
              "          file: file.name,\n",
              "          data: base64,\n",
              "        },\n",
              "      };\n",
              "\n",
              "      let percentDone = fileData.byteLength === 0 ?\n",
              "          100 :\n",
              "          Math.round((position / fileData.byteLength) * 100);\n",
              "      percent.textContent = `${percentDone}% done`;\n",
              "\n",
              "    } while (position < fileData.byteLength);\n",
              "  }\n",
              "\n",
              "  // All done.\n",
              "  yield {\n",
              "    response: {\n",
              "      action: 'complete',\n",
              "    }\n",
              "  };\n",
              "}\n",
              "\n",
              "scope.google = scope.google || {};\n",
              "scope.google.colab = scope.google.colab || {};\n",
              "scope.google.colab._files = {\n",
              "  _uploadFiles,\n",
              "  _uploadFilesContinue,\n",
              "};\n",
              "})(self);\n",
              "</script> "
            ]
          },
          "metadata": {}
        },
        {
          "output_type": "stream",
          "name": "stdout",
          "text": [
            "Saving people.csv to people.csv\n"
          ]
        }
      ]
    },
    {
      "cell_type": "code",
      "source": [
        "import csv\n",
        "\n",
        "# read the csv file\n",
        "with open('people.csv', 'r') as file:\n",
        "    reader = csv.reader(file)\n",
        "    for row in reader:\n",
        "        print(row)"
      ],
      "metadata": {
        "colab": {
          "base_uri": "https://localhost:8080/"
        },
        "id": "7XKsobs9M_wB",
        "outputId": "e6f48366-da23-429d-b012-ffbcc97adb1b"
      },
      "execution_count": null,
      "outputs": [
        {
          "output_type": "stream",
          "name": "stdout",
          "text": [
            "['George', '38', 'Glyka Nera']\n",
            "['Spyros', '39', 'Agioi Anargiroi']\n"
          ]
        }
      ]
    },
    {
      "cell_type": "code",
      "source": [
        "# write in csv file\n",
        "with open('people.csv', 'w', newline='') as file:\n",
        "    writer = csv.writer(file)\n",
        "    writer.writerow(['Name', 'Age', 'Occupation'])\n",
        "    writer.writerow(['Spyros', 39, 'Operation Manager'])\n",
        "    writer.writerow(['Maria', 25, 'Student'])\n",
        "    writer.writerow(['George', 30, 'Engineer'])\n",
        "\n",
        "# read again the updated csv file\n",
        "with open('people.csv', 'r') as file:\n",
        "    reader = csv.reader(file)\n",
        "    for row in reader:\n",
        "        print(row)"
      ],
      "metadata": {
        "colab": {
          "base_uri": "https://localhost:8080/"
        },
        "id": "Haho_UBONK_0",
        "outputId": "bdf668d5-021a-4ca0-82f3-e74e31086a71"
      },
      "execution_count": null,
      "outputs": [
        {
          "output_type": "stream",
          "name": "stdout",
          "text": [
            "['Name', 'Age', 'Occupation']\n",
            "['Spyros', '39', 'Operation Manager']\n",
            "['Maria', '25', 'Student']\n",
            "['George', '30', 'Engineer']\n"
          ]
        }
      ]
    },
    {
      "cell_type": "markdown",
      "source": [
        "## **JSON Hnadling**"
      ],
      "metadata": {
        "id": "QBvuY6nFOdPq"
      }
    },
    {
      "cell_type": "markdown",
      "source": [
        "JSON (JavaScript Object Notation) is a lightweight data format used for data exchange. Python's `json` module allows you to easily parse and generate JSON data.\n",
        "Example:\n",
        "```\n",
        "[\n",
        "    {\n",
        "        \"name\": \"Alex C\",\n",
        "        \"age\": 2,\n",
        "        \"city\": \"Houston\"\n",
        "    },\n",
        "    {\n",
        "        \"name\": \"John G\",\n",
        "        \"age\": 40,\n",
        "        \"city\": \"Washington\"\n",
        "    },\n",
        "    {\n",
        "        \"name\": \"Bala T\",\n",
        "        \"age\": 22,\n",
        "        \"city\": \"Bangalore\"\n",
        "    }\n",
        "]\n",
        "```"
      ],
      "metadata": {
        "id": "TmQGZEYxOrcI"
      }
    },
    {
      "cell_type": "markdown",
      "source": [
        "**Reading JSON Data**\n",
        "\n",
        "Use `json.load()` to read JSON data from a file:\n",
        "\n",
        "```python\n",
        "import json\n",
        "\n",
        "with open('data.json', 'r') as file:\n",
        "   data = json.load(file)\n",
        "   print(data)\n",
        "```\n",
        "\n",
        "**Writing JSON Data**\n",
        "\n",
        "Use `json.dump()` to write data to a JSON file:\n",
        "\n",
        "```python\n",
        "with open('output.json', 'w') as file:\n",
        "   json.dump(data, file, indent=4)\n",
        "```"
      ],
      "metadata": {
        "id": "03nrbRH8N-H-"
      }
    },
    {
      "cell_type": "code",
      "source": [
        "# upload a json file\n",
        "from google.colab import files\n",
        "uploaded = files.upload()"
      ],
      "metadata": {
        "colab": {
          "base_uri": "https://localhost:8080/",
          "height": 73
        },
        "id": "K7phJPe1NnMx",
        "outputId": "c07319cb-f2ba-4fdd-fb34-24b5b949002f"
      },
      "execution_count": null,
      "outputs": [
        {
          "output_type": "display_data",
          "data": {
            "text/plain": [
              "<IPython.core.display.HTML object>"
            ],
            "text/html": [
              "\n",
              "     <input type=\"file\" id=\"files-2e0d491c-2bf9-4766-9a0e-9633f5078909\" name=\"files[]\" multiple disabled\n",
              "        style=\"border:none\" />\n",
              "     <output id=\"result-2e0d491c-2bf9-4766-9a0e-9633f5078909\">\n",
              "      Upload widget is only available when the cell has been executed in the\n",
              "      current browser session. Please rerun this cell to enable.\n",
              "      </output>\n",
              "      <script>// Copyright 2017 Google LLC\n",
              "//\n",
              "// Licensed under the Apache License, Version 2.0 (the \"License\");\n",
              "// you may not use this file except in compliance with the License.\n",
              "// You may obtain a copy of the License at\n",
              "//\n",
              "//      http://www.apache.org/licenses/LICENSE-2.0\n",
              "//\n",
              "// Unless required by applicable law or agreed to in writing, software\n",
              "// distributed under the License is distributed on an \"AS IS\" BASIS,\n",
              "// WITHOUT WARRANTIES OR CONDITIONS OF ANY KIND, either express or implied.\n",
              "// See the License for the specific language governing permissions and\n",
              "// limitations under the License.\n",
              "\n",
              "/**\n",
              " * @fileoverview Helpers for google.colab Python module.\n",
              " */\n",
              "(function(scope) {\n",
              "function span(text, styleAttributes = {}) {\n",
              "  const element = document.createElement('span');\n",
              "  element.textContent = text;\n",
              "  for (const key of Object.keys(styleAttributes)) {\n",
              "    element.style[key] = styleAttributes[key];\n",
              "  }\n",
              "  return element;\n",
              "}\n",
              "\n",
              "// Max number of bytes which will be uploaded at a time.\n",
              "const MAX_PAYLOAD_SIZE = 100 * 1024;\n",
              "\n",
              "function _uploadFiles(inputId, outputId) {\n",
              "  const steps = uploadFilesStep(inputId, outputId);\n",
              "  const outputElement = document.getElementById(outputId);\n",
              "  // Cache steps on the outputElement to make it available for the next call\n",
              "  // to uploadFilesContinue from Python.\n",
              "  outputElement.steps = steps;\n",
              "\n",
              "  return _uploadFilesContinue(outputId);\n",
              "}\n",
              "\n",
              "// This is roughly an async generator (not supported in the browser yet),\n",
              "// where there are multiple asynchronous steps and the Python side is going\n",
              "// to poll for completion of each step.\n",
              "// This uses a Promise to block the python side on completion of each step,\n",
              "// then passes the result of the previous step as the input to the next step.\n",
              "function _uploadFilesContinue(outputId) {\n",
              "  const outputElement = document.getElementById(outputId);\n",
              "  const steps = outputElement.steps;\n",
              "\n",
              "  const next = steps.next(outputElement.lastPromiseValue);\n",
              "  return Promise.resolve(next.value.promise).then((value) => {\n",
              "    // Cache the last promise value to make it available to the next\n",
              "    // step of the generator.\n",
              "    outputElement.lastPromiseValue = value;\n",
              "    return next.value.response;\n",
              "  });\n",
              "}\n",
              "\n",
              "/**\n",
              " * Generator function which is called between each async step of the upload\n",
              " * process.\n",
              " * @param {string} inputId Element ID of the input file picker element.\n",
              " * @param {string} outputId Element ID of the output display.\n",
              " * @return {!Iterable<!Object>} Iterable of next steps.\n",
              " */\n",
              "function* uploadFilesStep(inputId, outputId) {\n",
              "  const inputElement = document.getElementById(inputId);\n",
              "  inputElement.disabled = false;\n",
              "\n",
              "  const outputElement = document.getElementById(outputId);\n",
              "  outputElement.innerHTML = '';\n",
              "\n",
              "  const pickedPromise = new Promise((resolve) => {\n",
              "    inputElement.addEventListener('change', (e) => {\n",
              "      resolve(e.target.files);\n",
              "    });\n",
              "  });\n",
              "\n",
              "  const cancel = document.createElement('button');\n",
              "  inputElement.parentElement.appendChild(cancel);\n",
              "  cancel.textContent = 'Cancel upload';\n",
              "  const cancelPromise = new Promise((resolve) => {\n",
              "    cancel.onclick = () => {\n",
              "      resolve(null);\n",
              "    };\n",
              "  });\n",
              "\n",
              "  // Wait for the user to pick the files.\n",
              "  const files = yield {\n",
              "    promise: Promise.race([pickedPromise, cancelPromise]),\n",
              "    response: {\n",
              "      action: 'starting',\n",
              "    }\n",
              "  };\n",
              "\n",
              "  cancel.remove();\n",
              "\n",
              "  // Disable the input element since further picks are not allowed.\n",
              "  inputElement.disabled = true;\n",
              "\n",
              "  if (!files) {\n",
              "    return {\n",
              "      response: {\n",
              "        action: 'complete',\n",
              "      }\n",
              "    };\n",
              "  }\n",
              "\n",
              "  for (const file of files) {\n",
              "    const li = document.createElement('li');\n",
              "    li.append(span(file.name, {fontWeight: 'bold'}));\n",
              "    li.append(span(\n",
              "        `(${file.type || 'n/a'}) - ${file.size} bytes, ` +\n",
              "        `last modified: ${\n",
              "            file.lastModifiedDate ? file.lastModifiedDate.toLocaleDateString() :\n",
              "                                    'n/a'} - `));\n",
              "    const percent = span('0% done');\n",
              "    li.appendChild(percent);\n",
              "\n",
              "    outputElement.appendChild(li);\n",
              "\n",
              "    const fileDataPromise = new Promise((resolve) => {\n",
              "      const reader = new FileReader();\n",
              "      reader.onload = (e) => {\n",
              "        resolve(e.target.result);\n",
              "      };\n",
              "      reader.readAsArrayBuffer(file);\n",
              "    });\n",
              "    // Wait for the data to be ready.\n",
              "    let fileData = yield {\n",
              "      promise: fileDataPromise,\n",
              "      response: {\n",
              "        action: 'continue',\n",
              "      }\n",
              "    };\n",
              "\n",
              "    // Use a chunked sending to avoid message size limits. See b/62115660.\n",
              "    let position = 0;\n",
              "    do {\n",
              "      const length = Math.min(fileData.byteLength - position, MAX_PAYLOAD_SIZE);\n",
              "      const chunk = new Uint8Array(fileData, position, length);\n",
              "      position += length;\n",
              "\n",
              "      const base64 = btoa(String.fromCharCode.apply(null, chunk));\n",
              "      yield {\n",
              "        response: {\n",
              "          action: 'append',\n",
              "          file: file.name,\n",
              "          data: base64,\n",
              "        },\n",
              "      };\n",
              "\n",
              "      let percentDone = fileData.byteLength === 0 ?\n",
              "          100 :\n",
              "          Math.round((position / fileData.byteLength) * 100);\n",
              "      percent.textContent = `${percentDone}% done`;\n",
              "\n",
              "    } while (position < fileData.byteLength);\n",
              "  }\n",
              "\n",
              "  // All done.\n",
              "  yield {\n",
              "    response: {\n",
              "      action: 'complete',\n",
              "    }\n",
              "  };\n",
              "}\n",
              "\n",
              "scope.google = scope.google || {};\n",
              "scope.google.colab = scope.google.colab || {};\n",
              "scope.google.colab._files = {\n",
              "  _uploadFiles,\n",
              "  _uploadFilesContinue,\n",
              "};\n",
              "})(self);\n",
              "</script> "
            ]
          },
          "metadata": {}
        },
        {
          "output_type": "stream",
          "name": "stdout",
          "text": [
            "Saving person.json to person.json\n"
          ]
        }
      ]
    },
    {
      "cell_type": "code",
      "source": [
        "import json\n",
        "\n",
        "# read the json file\n",
        "with open('person.json', 'r') as file:\n",
        "    data = json.load(file)\n",
        "    print(data)"
      ],
      "metadata": {
        "colab": {
          "base_uri": "https://localhost:8080/"
        },
        "id": "Nz2MfctUPIpz",
        "outputId": "ffb6c5a6-9057-4bcc-9600-6568c6d4a963"
      },
      "execution_count": null,
      "outputs": [
        {
          "output_type": "stream",
          "name": "stdout",
          "text": [
            "{'name': 'Alice', 'age': 30, 'city': 'New York', 'skills': ['Python', 'Data Analysis', 'Machine Learning']}\n"
          ]
        }
      ]
    },
    {
      "cell_type": "code",
      "source": [
        "# write to a json file\n",
        "data = {\n",
        "    \"name\": \"George\",\n",
        "    \"age\": 38,\n",
        "    \"city\": \"Glyka Nera\",\n",
        "    \"skills\": [\"Python\", \"Machine Learning\"]\n",
        "}\n",
        "\n",
        "with open('person.json', 'w') as file:\n",
        "    json.dump(data, file, indent=4)\n",
        "\n",
        "# read again the written json file\n",
        "with open('person.json', 'r') as file:\n",
        "    data = json.load(file)\n",
        "    print(data)"
      ],
      "metadata": {
        "colab": {
          "base_uri": "https://localhost:8080/"
        },
        "id": "-cGA6cnSPQIA",
        "outputId": "7770bedf-175c-4477-bff1-fd878bd87f75"
      },
      "execution_count": null,
      "outputs": [
        {
          "output_type": "stream",
          "name": "stdout",
          "text": [
            "{'name': 'George', 'age': 38, 'city': 'Glyka Nera', 'skills': ['Python', 'Machine Learning']}\n"
          ]
        }
      ]
    },
    {
      "cell_type": "code",
      "source": [
        "# update a json file\n",
        "data2 = {\n",
        "    \"name\": \"Spyros\",\n",
        "    \"age\": 39,\n",
        "    \"city\": \"Agia\",\n",
        "    \"skills\": [\"Python\", \"Operations\"]\n",
        "}\n",
        "\n",
        "\n",
        "\n",
        "\n",
        "\n"
      ],
      "metadata": {
        "colab": {
          "base_uri": "https://localhost:8080/"
        },
        "id": "3CrS9GLBP2Wg",
        "outputId": "184aaf5f-9d15-41c9-f6d5-da2f6e80d0bc"
      },
      "execution_count": null,
      "outputs": [
        {
          "output_type": "stream",
          "name": "stdout",
          "text": [
            "{'name': 'Spyros', 'age': 39, 'city': 'Agia', 'skills': ['Python', 'Operations']}\n"
          ]
        }
      ]
    },
    {
      "cell_type": "markdown",
      "source": [
        "## **Random string generator**"
      ],
      "metadata": {
        "id": "KPFo67HpRbWi"
      }
    },
    {
      "cell_type": "code",
      "source": [
        "import random\n",
        "\n",
        "def my_string_generator(numberOfLines, lengthOfLine, filename):\n",
        "   chars=['A','T','G','C']\n",
        "   # 0 for A, 1 for T, 2 for G and 3 for C\n",
        "   # generate a random number X from the set [0,1,2,3],\n",
        "   # and get the character by using chars[3]\n",
        "\n",
        "   outputFile=open(filename,'w') # open in order to write\n",
        "\n",
        "   for line in range (numberOfLines):\n",
        "      randomLine=''\n",
        "      for c in range(lengthOfLine):\n",
        "\n",
        "        randomIndx=random.randint(0,len(chars)-1) # random indexes\n",
        "        randomLetter=chars[randomIndx]  # random characters\n",
        "        randomLine+=randomLetter  # fill the line\n",
        "\n",
        "      randomLine +='\\n'\n",
        "      outputFile.write(randomLine)\n",
        "   outputFile.close()"
      ],
      "metadata": {
        "id": "-ExY6JVmQ9Qr"
      },
      "execution_count": null,
      "outputs": []
    },
    {
      "cell_type": "code",
      "source": [
        "my_string_generator(12,10,\"test.txt\")"
      ],
      "metadata": {
        "id": "dnbX6nujRie9"
      },
      "execution_count": null,
      "outputs": []
    },
    {
      "cell_type": "code",
      "source": [
        "# read the generated file\n",
        "with open('test.txt', 'r') as file:\n",
        "    content = file.read()\n",
        "    print(content)"
      ],
      "metadata": {
        "colab": {
          "base_uri": "https://localhost:8080/"
        },
        "id": "fCahfFx_RicD",
        "outputId": "93bc5bc5-1ee9-4d1d-c4cf-9b016a0931cf"
      },
      "execution_count": null,
      "outputs": [
        {
          "output_type": "stream",
          "name": "stdout",
          "text": [
            "AGTCGTAAAT\n",
            "CAGGAGTTAA\n",
            "GCTATGTGCA\n",
            "CAGGTGAGGA\n",
            "AGACTCCCTT\n",
            "TGAAGTCATA\n",
            "GCCGGACCAA\n",
            "AAGTCAGGTA\n",
            "TTTCCGAGAT\n",
            "GTAGTTCTGT\n",
            "ATGCGTAAAC\n",
            "AAGCACAGAA\n",
            "\n"
          ]
        }
      ]
    },
    {
      "cell_type": "markdown",
      "source": [
        "# **Pandas and Dataframes - Part 1**"
      ],
      "metadata": {
        "id": "pem-sI6i6y4j"
      }
    },
    {
      "cell_type": "markdown",
      "source": [
        "A quick overview:"
      ],
      "metadata": {
        "id": "MOFcunsllvFU"
      }
    },
    {
      "cell_type": "code",
      "source": [
        "import numpy as np\n",
        "import pandas as pd\n",
        "import matplotlib.pyplot as plt\n",
        "\n",
        "data = pd.read_csv(\"houseprices.csv\", sep=',') # you get a dataframe!!!\n",
        "\n",
        "# print the first 5 lines of data\n",
        "data.head(5)"
      ],
      "metadata": {
        "colab": {
          "base_uri": "https://localhost:8080/",
          "height": 206
        },
        "id": "5_fSx7UV6x69",
        "outputId": "02ee2494-cad2-4561-8d1e-ad70ea6b89f2"
      },
      "execution_count": null,
      "outputs": [
        {
          "output_type": "execute_result",
          "data": {
            "text/plain": [
              "   location        type  area  constructionyear  sellingyear  price\n",
              "0  Zografou  Storehouse   NaN              1974         2018    500\n",
              "1  Zografou  Storehouse   3.0              2016         2018    469\n",
              "2  Zografou  Storehouse   4.0              1968         2018    500\n",
              "3  Zografou  Storehouse   NaN              1974         2018    500\n",
              "4  Zografou  Storehouse  39.0              1970         2018   5500"
            ],
            "text/html": [
              "\n",
              "  <div id=\"df-614572ed-649a-429a-a7c2-c7199b3b7a16\" class=\"colab-df-container\">\n",
              "    <div>\n",
              "<style scoped>\n",
              "    .dataframe tbody tr th:only-of-type {\n",
              "        vertical-align: middle;\n",
              "    }\n",
              "\n",
              "    .dataframe tbody tr th {\n",
              "        vertical-align: top;\n",
              "    }\n",
              "\n",
              "    .dataframe thead th {\n",
              "        text-align: right;\n",
              "    }\n",
              "</style>\n",
              "<table border=\"1\" class=\"dataframe\">\n",
              "  <thead>\n",
              "    <tr style=\"text-align: right;\">\n",
              "      <th></th>\n",
              "      <th>location</th>\n",
              "      <th>type</th>\n",
              "      <th>area</th>\n",
              "      <th>constructionyear</th>\n",
              "      <th>sellingyear</th>\n",
              "      <th>price</th>\n",
              "    </tr>\n",
              "  </thead>\n",
              "  <tbody>\n",
              "    <tr>\n",
              "      <th>0</th>\n",
              "      <td>Zografou</td>\n",
              "      <td>Storehouse</td>\n",
              "      <td>NaN</td>\n",
              "      <td>1974</td>\n",
              "      <td>2018</td>\n",
              "      <td>500</td>\n",
              "    </tr>\n",
              "    <tr>\n",
              "      <th>1</th>\n",
              "      <td>Zografou</td>\n",
              "      <td>Storehouse</td>\n",
              "      <td>3.0</td>\n",
              "      <td>2016</td>\n",
              "      <td>2018</td>\n",
              "      <td>469</td>\n",
              "    </tr>\n",
              "    <tr>\n",
              "      <th>2</th>\n",
              "      <td>Zografou</td>\n",
              "      <td>Storehouse</td>\n",
              "      <td>4.0</td>\n",
              "      <td>1968</td>\n",
              "      <td>2018</td>\n",
              "      <td>500</td>\n",
              "    </tr>\n",
              "    <tr>\n",
              "      <th>3</th>\n",
              "      <td>Zografou</td>\n",
              "      <td>Storehouse</td>\n",
              "      <td>NaN</td>\n",
              "      <td>1974</td>\n",
              "      <td>2018</td>\n",
              "      <td>500</td>\n",
              "    </tr>\n",
              "    <tr>\n",
              "      <th>4</th>\n",
              "      <td>Zografou</td>\n",
              "      <td>Storehouse</td>\n",
              "      <td>39.0</td>\n",
              "      <td>1970</td>\n",
              "      <td>2018</td>\n",
              "      <td>5500</td>\n",
              "    </tr>\n",
              "  </tbody>\n",
              "</table>\n",
              "</div>\n",
              "    <div class=\"colab-df-buttons\">\n",
              "\n",
              "  <div class=\"colab-df-container\">\n",
              "    <button class=\"colab-df-convert\" onclick=\"convertToInteractive('df-614572ed-649a-429a-a7c2-c7199b3b7a16')\"\n",
              "            title=\"Convert this dataframe to an interactive table.\"\n",
              "            style=\"display:none;\">\n",
              "\n",
              "  <svg xmlns=\"http://www.w3.org/2000/svg\" height=\"24px\" viewBox=\"0 -960 960 960\">\n",
              "    <path d=\"M120-120v-720h720v720H120Zm60-500h600v-160H180v160Zm220 220h160v-160H400v160Zm0 220h160v-160H400v160ZM180-400h160v-160H180v160Zm440 0h160v-160H620v160ZM180-180h160v-160H180v160Zm440 0h160v-160H620v160Z\"/>\n",
              "  </svg>\n",
              "    </button>\n",
              "\n",
              "  <style>\n",
              "    .colab-df-container {\n",
              "      display:flex;\n",
              "      gap: 12px;\n",
              "    }\n",
              "\n",
              "    .colab-df-convert {\n",
              "      background-color: #E8F0FE;\n",
              "      border: none;\n",
              "      border-radius: 50%;\n",
              "      cursor: pointer;\n",
              "      display: none;\n",
              "      fill: #1967D2;\n",
              "      height: 32px;\n",
              "      padding: 0 0 0 0;\n",
              "      width: 32px;\n",
              "    }\n",
              "\n",
              "    .colab-df-convert:hover {\n",
              "      background-color: #E2EBFA;\n",
              "      box-shadow: 0px 1px 2px rgba(60, 64, 67, 0.3), 0px 1px 3px 1px rgba(60, 64, 67, 0.15);\n",
              "      fill: #174EA6;\n",
              "    }\n",
              "\n",
              "    .colab-df-buttons div {\n",
              "      margin-bottom: 4px;\n",
              "    }\n",
              "\n",
              "    [theme=dark] .colab-df-convert {\n",
              "      background-color: #3B4455;\n",
              "      fill: #D2E3FC;\n",
              "    }\n",
              "\n",
              "    [theme=dark] .colab-df-convert:hover {\n",
              "      background-color: #434B5C;\n",
              "      box-shadow: 0px 1px 3px 1px rgba(0, 0, 0, 0.15);\n",
              "      filter: drop-shadow(0px 1px 2px rgba(0, 0, 0, 0.3));\n",
              "      fill: #FFFFFF;\n",
              "    }\n",
              "  </style>\n",
              "\n",
              "    <script>\n",
              "      const buttonEl =\n",
              "        document.querySelector('#df-614572ed-649a-429a-a7c2-c7199b3b7a16 button.colab-df-convert');\n",
              "      buttonEl.style.display =\n",
              "        google.colab.kernel.accessAllowed ? 'block' : 'none';\n",
              "\n",
              "      async function convertToInteractive(key) {\n",
              "        const element = document.querySelector('#df-614572ed-649a-429a-a7c2-c7199b3b7a16');\n",
              "        const dataTable =\n",
              "          await google.colab.kernel.invokeFunction('convertToInteractive',\n",
              "                                                    [key], {});\n",
              "        if (!dataTable) return;\n",
              "\n",
              "        const docLinkHtml = 'Like what you see? Visit the ' +\n",
              "          '<a target=\"_blank\" href=https://colab.research.google.com/notebooks/data_table.ipynb>data table notebook</a>'\n",
              "          + ' to learn more about interactive tables.';\n",
              "        element.innerHTML = '';\n",
              "        dataTable['output_type'] = 'display_data';\n",
              "        await google.colab.output.renderOutput(dataTable, element);\n",
              "        const docLink = document.createElement('div');\n",
              "        docLink.innerHTML = docLinkHtml;\n",
              "        element.appendChild(docLink);\n",
              "      }\n",
              "    </script>\n",
              "  </div>\n",
              "\n",
              "\n",
              "<div id=\"df-287d54fc-b84c-4a3b-9c6c-b1d7e8962f39\">\n",
              "  <button class=\"colab-df-quickchart\" onclick=\"quickchart('df-287d54fc-b84c-4a3b-9c6c-b1d7e8962f39')\"\n",
              "            title=\"Suggest charts\"\n",
              "            style=\"display:none;\">\n",
              "\n",
              "<svg xmlns=\"http://www.w3.org/2000/svg\" height=\"24px\"viewBox=\"0 0 24 24\"\n",
              "     width=\"24px\">\n",
              "    <g>\n",
              "        <path d=\"M19 3H5c-1.1 0-2 .9-2 2v14c0 1.1.9 2 2 2h14c1.1 0 2-.9 2-2V5c0-1.1-.9-2-2-2zM9 17H7v-7h2v7zm4 0h-2V7h2v10zm4 0h-2v-4h2v4z\"/>\n",
              "    </g>\n",
              "</svg>\n",
              "  </button>\n",
              "\n",
              "<style>\n",
              "  .colab-df-quickchart {\n",
              "      --bg-color: #E8F0FE;\n",
              "      --fill-color: #1967D2;\n",
              "      --hover-bg-color: #E2EBFA;\n",
              "      --hover-fill-color: #174EA6;\n",
              "      --disabled-fill-color: #AAA;\n",
              "      --disabled-bg-color: #DDD;\n",
              "  }\n",
              "\n",
              "  [theme=dark] .colab-df-quickchart {\n",
              "      --bg-color: #3B4455;\n",
              "      --fill-color: #D2E3FC;\n",
              "      --hover-bg-color: #434B5C;\n",
              "      --hover-fill-color: #FFFFFF;\n",
              "      --disabled-bg-color: #3B4455;\n",
              "      --disabled-fill-color: #666;\n",
              "  }\n",
              "\n",
              "  .colab-df-quickchart {\n",
              "    background-color: var(--bg-color);\n",
              "    border: none;\n",
              "    border-radius: 50%;\n",
              "    cursor: pointer;\n",
              "    display: none;\n",
              "    fill: var(--fill-color);\n",
              "    height: 32px;\n",
              "    padding: 0;\n",
              "    width: 32px;\n",
              "  }\n",
              "\n",
              "  .colab-df-quickchart:hover {\n",
              "    background-color: var(--hover-bg-color);\n",
              "    box-shadow: 0 1px 2px rgba(60, 64, 67, 0.3), 0 1px 3px 1px rgba(60, 64, 67, 0.15);\n",
              "    fill: var(--button-hover-fill-color);\n",
              "  }\n",
              "\n",
              "  .colab-df-quickchart-complete:disabled,\n",
              "  .colab-df-quickchart-complete:disabled:hover {\n",
              "    background-color: var(--disabled-bg-color);\n",
              "    fill: var(--disabled-fill-color);\n",
              "    box-shadow: none;\n",
              "  }\n",
              "\n",
              "  .colab-df-spinner {\n",
              "    border: 2px solid var(--fill-color);\n",
              "    border-color: transparent;\n",
              "    border-bottom-color: var(--fill-color);\n",
              "    animation:\n",
              "      spin 1s steps(1) infinite;\n",
              "  }\n",
              "\n",
              "  @keyframes spin {\n",
              "    0% {\n",
              "      border-color: transparent;\n",
              "      border-bottom-color: var(--fill-color);\n",
              "      border-left-color: var(--fill-color);\n",
              "    }\n",
              "    20% {\n",
              "      border-color: transparent;\n",
              "      border-left-color: var(--fill-color);\n",
              "      border-top-color: var(--fill-color);\n",
              "    }\n",
              "    30% {\n",
              "      border-color: transparent;\n",
              "      border-left-color: var(--fill-color);\n",
              "      border-top-color: var(--fill-color);\n",
              "      border-right-color: var(--fill-color);\n",
              "    }\n",
              "    40% {\n",
              "      border-color: transparent;\n",
              "      border-right-color: var(--fill-color);\n",
              "      border-top-color: var(--fill-color);\n",
              "    }\n",
              "    60% {\n",
              "      border-color: transparent;\n",
              "      border-right-color: var(--fill-color);\n",
              "    }\n",
              "    80% {\n",
              "      border-color: transparent;\n",
              "      border-right-color: var(--fill-color);\n",
              "      border-bottom-color: var(--fill-color);\n",
              "    }\n",
              "    90% {\n",
              "      border-color: transparent;\n",
              "      border-bottom-color: var(--fill-color);\n",
              "    }\n",
              "  }\n",
              "</style>\n",
              "\n",
              "  <script>\n",
              "    async function quickchart(key) {\n",
              "      const quickchartButtonEl =\n",
              "        document.querySelector('#' + key + ' button');\n",
              "      quickchartButtonEl.disabled = true;  // To prevent multiple clicks.\n",
              "      quickchartButtonEl.classList.add('colab-df-spinner');\n",
              "      try {\n",
              "        const charts = await google.colab.kernel.invokeFunction(\n",
              "            'suggestCharts', [key], {});\n",
              "      } catch (error) {\n",
              "        console.error('Error during call to suggestCharts:', error);\n",
              "      }\n",
              "      quickchartButtonEl.classList.remove('colab-df-spinner');\n",
              "      quickchartButtonEl.classList.add('colab-df-quickchart-complete');\n",
              "    }\n",
              "    (() => {\n",
              "      let quickchartButtonEl =\n",
              "        document.querySelector('#df-287d54fc-b84c-4a3b-9c6c-b1d7e8962f39 button');\n",
              "      quickchartButtonEl.style.display =\n",
              "        google.colab.kernel.accessAllowed ? 'block' : 'none';\n",
              "    })();\n",
              "  </script>\n",
              "</div>\n",
              "\n",
              "    </div>\n",
              "  </div>\n"
            ],
            "application/vnd.google.colaboratory.intrinsic+json": {
              "type": "dataframe",
              "variable_name": "data",
              "summary": "{\n  \"name\": \"data\",\n  \"rows\": 189,\n  \"fields\": [\n    {\n      \"column\": \"location\",\n      \"properties\": {\n        \"dtype\": \"category\",\n        \"num_unique_values\": 1,\n        \"samples\": [\n          \"Zografou\"\n        ],\n        \"semantic_type\": \"\",\n        \"description\": \"\"\n      }\n    },\n    {\n      \"column\": \"type\",\n      \"properties\": {\n        \"dtype\": \"category\",\n        \"num_unique_values\": 3,\n        \"samples\": [\n          \"Storehouse\"\n        ],\n        \"semantic_type\": \"\",\n        \"description\": \"\"\n      }\n    },\n    {\n      \"column\": \"area\",\n      \"properties\": {\n        \"dtype\": \"number\",\n        \"std\": 28.129865804904735,\n        \"min\": 3.0,\n        \"max\": 222.0,\n        \"num_unique_values\": 73,\n        \"samples\": [\n          86.0\n        ],\n        \"semantic_type\": \"\",\n        \"description\": \"\"\n      }\n    },\n    {\n      \"column\": \"constructionyear\",\n      \"properties\": {\n        \"dtype\": \"number\",\n        \"std\": 12,\n        \"min\": 1952,\n        \"max\": 2016,\n        \"num_unique_values\": 43,\n        \"samples\": [\n          1990\n        ],\n        \"semantic_type\": \"\",\n        \"description\": \"\"\n      }\n    },\n    {\n      \"column\": \"sellingyear\",\n      \"properties\": {\n        \"dtype\": \"number\",\n        \"std\": 0,\n        \"min\": 2017,\n        \"max\": 2018,\n        \"num_unique_values\": 2,\n        \"samples\": [\n          2017\n        ],\n        \"semantic_type\": \"\",\n        \"description\": \"\"\n      }\n    },\n    {\n      \"column\": \"price\",\n      \"properties\": {\n        \"dtype\": \"number\",\n        \"std\": 40442,\n        \"min\": 0,\n        \"max\": 342590,\n        \"num_unique_values\": 107,\n        \"samples\": [\n          12000\n        ],\n        \"semantic_type\": \"\",\n        \"description\": \"\"\n      }\n    }\n  ]\n}"
            }
          },
          "metadata": {},
          "execution_count": 14
        }
      ]
    },
    {
      "cell_type": "code",
      "source": [
        "# an overview of data characteristics and stat values\n",
        "data.describe()"
      ],
      "metadata": {
        "colab": {
          "base_uri": "https://localhost:8080/",
          "height": 300
        },
        "id": "2Iq7AFAp74Z1",
        "outputId": "f41c38ce-56f5-48f8-d06d-4f117c2045e5"
      },
      "execution_count": null,
      "outputs": [
        {
          "output_type": "execute_result",
          "data": {
            "text/plain": [
              "             area  constructionyear  sellingyear          price\n",
              "count  184.000000        189.000000   189.000000     189.000000\n",
              "mean    59.483696       1975.862434  2017.232804   31046.317460\n",
              "std     28.129866         12.692019     0.423741   40442.377241\n",
              "min      3.000000       1952.000000  2017.000000       0.000000\n",
              "25%     44.000000       1968.000000  2017.000000   10000.000000\n",
              "50%     54.000000       1972.000000  2017.000000   20000.000000\n",
              "75%     76.250000       1979.000000  2017.000000   40000.000000\n",
              "max    222.000000       2016.000000  2018.000000  342590.000000"
            ],
            "text/html": [
              "\n",
              "  <div id=\"df-88780ca4-cb4d-4beb-b7dc-132f792034cd\" class=\"colab-df-container\">\n",
              "    <div>\n",
              "<style scoped>\n",
              "    .dataframe tbody tr th:only-of-type {\n",
              "        vertical-align: middle;\n",
              "    }\n",
              "\n",
              "    .dataframe tbody tr th {\n",
              "        vertical-align: top;\n",
              "    }\n",
              "\n",
              "    .dataframe thead th {\n",
              "        text-align: right;\n",
              "    }\n",
              "</style>\n",
              "<table border=\"1\" class=\"dataframe\">\n",
              "  <thead>\n",
              "    <tr style=\"text-align: right;\">\n",
              "      <th></th>\n",
              "      <th>area</th>\n",
              "      <th>constructionyear</th>\n",
              "      <th>sellingyear</th>\n",
              "      <th>price</th>\n",
              "    </tr>\n",
              "  </thead>\n",
              "  <tbody>\n",
              "    <tr>\n",
              "      <th>count</th>\n",
              "      <td>184.000000</td>\n",
              "      <td>189.000000</td>\n",
              "      <td>189.000000</td>\n",
              "      <td>189.000000</td>\n",
              "    </tr>\n",
              "    <tr>\n",
              "      <th>mean</th>\n",
              "      <td>59.483696</td>\n",
              "      <td>1975.862434</td>\n",
              "      <td>2017.232804</td>\n",
              "      <td>31046.317460</td>\n",
              "    </tr>\n",
              "    <tr>\n",
              "      <th>std</th>\n",
              "      <td>28.129866</td>\n",
              "      <td>12.692019</td>\n",
              "      <td>0.423741</td>\n",
              "      <td>40442.377241</td>\n",
              "    </tr>\n",
              "    <tr>\n",
              "      <th>min</th>\n",
              "      <td>3.000000</td>\n",
              "      <td>1952.000000</td>\n",
              "      <td>2017.000000</td>\n",
              "      <td>0.000000</td>\n",
              "    </tr>\n",
              "    <tr>\n",
              "      <th>25%</th>\n",
              "      <td>44.000000</td>\n",
              "      <td>1968.000000</td>\n",
              "      <td>2017.000000</td>\n",
              "      <td>10000.000000</td>\n",
              "    </tr>\n",
              "    <tr>\n",
              "      <th>50%</th>\n",
              "      <td>54.000000</td>\n",
              "      <td>1972.000000</td>\n",
              "      <td>2017.000000</td>\n",
              "      <td>20000.000000</td>\n",
              "    </tr>\n",
              "    <tr>\n",
              "      <th>75%</th>\n",
              "      <td>76.250000</td>\n",
              "      <td>1979.000000</td>\n",
              "      <td>2017.000000</td>\n",
              "      <td>40000.000000</td>\n",
              "    </tr>\n",
              "    <tr>\n",
              "      <th>max</th>\n",
              "      <td>222.000000</td>\n",
              "      <td>2016.000000</td>\n",
              "      <td>2018.000000</td>\n",
              "      <td>342590.000000</td>\n",
              "    </tr>\n",
              "  </tbody>\n",
              "</table>\n",
              "</div>\n",
              "    <div class=\"colab-df-buttons\">\n",
              "\n",
              "  <div class=\"colab-df-container\">\n",
              "    <button class=\"colab-df-convert\" onclick=\"convertToInteractive('df-88780ca4-cb4d-4beb-b7dc-132f792034cd')\"\n",
              "            title=\"Convert this dataframe to an interactive table.\"\n",
              "            style=\"display:none;\">\n",
              "\n",
              "  <svg xmlns=\"http://www.w3.org/2000/svg\" height=\"24px\" viewBox=\"0 -960 960 960\">\n",
              "    <path d=\"M120-120v-720h720v720H120Zm60-500h600v-160H180v160Zm220 220h160v-160H400v160Zm0 220h160v-160H400v160ZM180-400h160v-160H180v160Zm440 0h160v-160H620v160ZM180-180h160v-160H180v160Zm440 0h160v-160H620v160Z\"/>\n",
              "  </svg>\n",
              "    </button>\n",
              "\n",
              "  <style>\n",
              "    .colab-df-container {\n",
              "      display:flex;\n",
              "      gap: 12px;\n",
              "    }\n",
              "\n",
              "    .colab-df-convert {\n",
              "      background-color: #E8F0FE;\n",
              "      border: none;\n",
              "      border-radius: 50%;\n",
              "      cursor: pointer;\n",
              "      display: none;\n",
              "      fill: #1967D2;\n",
              "      height: 32px;\n",
              "      padding: 0 0 0 0;\n",
              "      width: 32px;\n",
              "    }\n",
              "\n",
              "    .colab-df-convert:hover {\n",
              "      background-color: #E2EBFA;\n",
              "      box-shadow: 0px 1px 2px rgba(60, 64, 67, 0.3), 0px 1px 3px 1px rgba(60, 64, 67, 0.15);\n",
              "      fill: #174EA6;\n",
              "    }\n",
              "\n",
              "    .colab-df-buttons div {\n",
              "      margin-bottom: 4px;\n",
              "    }\n",
              "\n",
              "    [theme=dark] .colab-df-convert {\n",
              "      background-color: #3B4455;\n",
              "      fill: #D2E3FC;\n",
              "    }\n",
              "\n",
              "    [theme=dark] .colab-df-convert:hover {\n",
              "      background-color: #434B5C;\n",
              "      box-shadow: 0px 1px 3px 1px rgba(0, 0, 0, 0.15);\n",
              "      filter: drop-shadow(0px 1px 2px rgba(0, 0, 0, 0.3));\n",
              "      fill: #FFFFFF;\n",
              "    }\n",
              "  </style>\n",
              "\n",
              "    <script>\n",
              "      const buttonEl =\n",
              "        document.querySelector('#df-88780ca4-cb4d-4beb-b7dc-132f792034cd button.colab-df-convert');\n",
              "      buttonEl.style.display =\n",
              "        google.colab.kernel.accessAllowed ? 'block' : 'none';\n",
              "\n",
              "      async function convertToInteractive(key) {\n",
              "        const element = document.querySelector('#df-88780ca4-cb4d-4beb-b7dc-132f792034cd');\n",
              "        const dataTable =\n",
              "          await google.colab.kernel.invokeFunction('convertToInteractive',\n",
              "                                                    [key], {});\n",
              "        if (!dataTable) return;\n",
              "\n",
              "        const docLinkHtml = 'Like what you see? Visit the ' +\n",
              "          '<a target=\"_blank\" href=https://colab.research.google.com/notebooks/data_table.ipynb>data table notebook</a>'\n",
              "          + ' to learn more about interactive tables.';\n",
              "        element.innerHTML = '';\n",
              "        dataTable['output_type'] = 'display_data';\n",
              "        await google.colab.output.renderOutput(dataTable, element);\n",
              "        const docLink = document.createElement('div');\n",
              "        docLink.innerHTML = docLinkHtml;\n",
              "        element.appendChild(docLink);\n",
              "      }\n",
              "    </script>\n",
              "  </div>\n",
              "\n",
              "\n",
              "<div id=\"df-25e1b698-6157-456e-b723-b41e8d53b714\">\n",
              "  <button class=\"colab-df-quickchart\" onclick=\"quickchart('df-25e1b698-6157-456e-b723-b41e8d53b714')\"\n",
              "            title=\"Suggest charts\"\n",
              "            style=\"display:none;\">\n",
              "\n",
              "<svg xmlns=\"http://www.w3.org/2000/svg\" height=\"24px\"viewBox=\"0 0 24 24\"\n",
              "     width=\"24px\">\n",
              "    <g>\n",
              "        <path d=\"M19 3H5c-1.1 0-2 .9-2 2v14c0 1.1.9 2 2 2h14c1.1 0 2-.9 2-2V5c0-1.1-.9-2-2-2zM9 17H7v-7h2v7zm4 0h-2V7h2v10zm4 0h-2v-4h2v4z\"/>\n",
              "    </g>\n",
              "</svg>\n",
              "  </button>\n",
              "\n",
              "<style>\n",
              "  .colab-df-quickchart {\n",
              "      --bg-color: #E8F0FE;\n",
              "      --fill-color: #1967D2;\n",
              "      --hover-bg-color: #E2EBFA;\n",
              "      --hover-fill-color: #174EA6;\n",
              "      --disabled-fill-color: #AAA;\n",
              "      --disabled-bg-color: #DDD;\n",
              "  }\n",
              "\n",
              "  [theme=dark] .colab-df-quickchart {\n",
              "      --bg-color: #3B4455;\n",
              "      --fill-color: #D2E3FC;\n",
              "      --hover-bg-color: #434B5C;\n",
              "      --hover-fill-color: #FFFFFF;\n",
              "      --disabled-bg-color: #3B4455;\n",
              "      --disabled-fill-color: #666;\n",
              "  }\n",
              "\n",
              "  .colab-df-quickchart {\n",
              "    background-color: var(--bg-color);\n",
              "    border: none;\n",
              "    border-radius: 50%;\n",
              "    cursor: pointer;\n",
              "    display: none;\n",
              "    fill: var(--fill-color);\n",
              "    height: 32px;\n",
              "    padding: 0;\n",
              "    width: 32px;\n",
              "  }\n",
              "\n",
              "  .colab-df-quickchart:hover {\n",
              "    background-color: var(--hover-bg-color);\n",
              "    box-shadow: 0 1px 2px rgba(60, 64, 67, 0.3), 0 1px 3px 1px rgba(60, 64, 67, 0.15);\n",
              "    fill: var(--button-hover-fill-color);\n",
              "  }\n",
              "\n",
              "  .colab-df-quickchart-complete:disabled,\n",
              "  .colab-df-quickchart-complete:disabled:hover {\n",
              "    background-color: var(--disabled-bg-color);\n",
              "    fill: var(--disabled-fill-color);\n",
              "    box-shadow: none;\n",
              "  }\n",
              "\n",
              "  .colab-df-spinner {\n",
              "    border: 2px solid var(--fill-color);\n",
              "    border-color: transparent;\n",
              "    border-bottom-color: var(--fill-color);\n",
              "    animation:\n",
              "      spin 1s steps(1) infinite;\n",
              "  }\n",
              "\n",
              "  @keyframes spin {\n",
              "    0% {\n",
              "      border-color: transparent;\n",
              "      border-bottom-color: var(--fill-color);\n",
              "      border-left-color: var(--fill-color);\n",
              "    }\n",
              "    20% {\n",
              "      border-color: transparent;\n",
              "      border-left-color: var(--fill-color);\n",
              "      border-top-color: var(--fill-color);\n",
              "    }\n",
              "    30% {\n",
              "      border-color: transparent;\n",
              "      border-left-color: var(--fill-color);\n",
              "      border-top-color: var(--fill-color);\n",
              "      border-right-color: var(--fill-color);\n",
              "    }\n",
              "    40% {\n",
              "      border-color: transparent;\n",
              "      border-right-color: var(--fill-color);\n",
              "      border-top-color: var(--fill-color);\n",
              "    }\n",
              "    60% {\n",
              "      border-color: transparent;\n",
              "      border-right-color: var(--fill-color);\n",
              "    }\n",
              "    80% {\n",
              "      border-color: transparent;\n",
              "      border-right-color: var(--fill-color);\n",
              "      border-bottom-color: var(--fill-color);\n",
              "    }\n",
              "    90% {\n",
              "      border-color: transparent;\n",
              "      border-bottom-color: var(--fill-color);\n",
              "    }\n",
              "  }\n",
              "</style>\n",
              "\n",
              "  <script>\n",
              "    async function quickchart(key) {\n",
              "      const quickchartButtonEl =\n",
              "        document.querySelector('#' + key + ' button');\n",
              "      quickchartButtonEl.disabled = true;  // To prevent multiple clicks.\n",
              "      quickchartButtonEl.classList.add('colab-df-spinner');\n",
              "      try {\n",
              "        const charts = await google.colab.kernel.invokeFunction(\n",
              "            'suggestCharts', [key], {});\n",
              "      } catch (error) {\n",
              "        console.error('Error during call to suggestCharts:', error);\n",
              "      }\n",
              "      quickchartButtonEl.classList.remove('colab-df-spinner');\n",
              "      quickchartButtonEl.classList.add('colab-df-quickchart-complete');\n",
              "    }\n",
              "    (() => {\n",
              "      let quickchartButtonEl =\n",
              "        document.querySelector('#df-25e1b698-6157-456e-b723-b41e8d53b714 button');\n",
              "      quickchartButtonEl.style.display =\n",
              "        google.colab.kernel.accessAllowed ? 'block' : 'none';\n",
              "    })();\n",
              "  </script>\n",
              "</div>\n",
              "\n",
              "    </div>\n",
              "  </div>\n"
            ],
            "application/vnd.google.colaboratory.intrinsic+json": {
              "type": "dataframe",
              "summary": "{\n  \"name\": \"data\",\n  \"rows\": 8,\n  \"fields\": [\n    {\n      \"column\": \"area\",\n      \"properties\": {\n        \"dtype\": \"number\",\n        \"std\": 77.35578483981195,\n        \"min\": 3.0,\n        \"max\": 222.0,\n        \"num_unique_values\": 8,\n        \"samples\": [\n          59.483695652173914,\n          54.0,\n          184.0\n        ],\n        \"semantic_type\": \"\",\n        \"description\": \"\"\n      }\n    },\n    {\n      \"column\": \"constructionyear\",\n      \"properties\": {\n        \"dtype\": \"number\",\n        \"std\": 870.0196365001177,\n        \"min\": 12.692019456122491,\n        \"max\": 2016.0,\n        \"num_unique_values\": 8,\n        \"samples\": [\n          1975.8624338624338,\n          1972.0,\n          189.0\n        ],\n        \"semantic_type\": \"\",\n        \"description\": \"\"\n      }\n    },\n    {\n      \"column\": \"sellingyear\",\n      \"properties\": {\n        \"dtype\": \"number\",\n        \"std\": 891.3676288691862,\n        \"min\": 0.4237410248633003,\n        \"max\": 2018.0,\n        \"num_unique_values\": 5,\n        \"samples\": [\n          2017.2328042328043,\n          2018.0,\n          0.4237410248633003\n        ],\n        \"semantic_type\": \"\",\n        \"description\": \"\"\n      }\n    },\n    {\n      \"column\": \"price\",\n      \"properties\": {\n        \"dtype\": \"number\",\n        \"std\": 115110.50809010923,\n        \"min\": 0.0,\n        \"max\": 342590.0,\n        \"num_unique_values\": 8,\n        \"samples\": [\n          31046.31746031746,\n          20000.0,\n          189.0\n        ],\n        \"semantic_type\": \"\",\n        \"description\": \"\"\n      }\n    }\n  ]\n}"
            }
          },
          "metadata": {},
          "execution_count": 15
        }
      ]
    },
    {
      "cell_type": "code",
      "source": [
        "# shappe of the dataframe\n",
        "data.shape"
      ],
      "metadata": {
        "colab": {
          "base_uri": "https://localhost:8080/"
        },
        "id": "oE9JYC4k82sz",
        "outputId": "a3e196ce-8397-42bd-8076-2fddc2895454"
      },
      "execution_count": null,
      "outputs": [
        {
          "output_type": "execute_result",
          "data": {
            "text/plain": [
              "(189, 6)"
            ]
          },
          "metadata": {},
          "execution_count": 16
        }
      ]
    },
    {
      "cell_type": "code",
      "source": [
        "# count how many rows have null in price field\n",
        "data['price'].isnull().sum()"
      ],
      "metadata": {
        "colab": {
          "base_uri": "https://localhost:8080/"
        },
        "id": "3zw946Ui74W_",
        "outputId": "d4015f1a-9cf1-40dd-97fc-1056d1546fae"
      },
      "execution_count": null,
      "outputs": [
        {
          "output_type": "execute_result",
          "data": {
            "text/plain": [
              "0"
            ]
          },
          "metadata": {},
          "execution_count": 17
        }
      ]
    },
    {
      "cell_type": "code",
      "source": [
        "# how many null values we have per column\n",
        "data.isnull().sum()"
      ],
      "metadata": {
        "colab": {
          "base_uri": "https://localhost:8080/",
          "height": 272
        },
        "id": "XueV12R-8jhx",
        "outputId": "0f12839e-7546-465d-f2a6-79051cfeb054"
      },
      "execution_count": null,
      "outputs": [
        {
          "output_type": "execute_result",
          "data": {
            "text/plain": [
              "location            0\n",
              "type                0\n",
              "area                5\n",
              "constructionyear    0\n",
              "sellingyear         0\n",
              "price               0\n",
              "dtype: int64"
            ],
            "text/html": [
              "<div>\n",
              "<style scoped>\n",
              "    .dataframe tbody tr th:only-of-type {\n",
              "        vertical-align: middle;\n",
              "    }\n",
              "\n",
              "    .dataframe tbody tr th {\n",
              "        vertical-align: top;\n",
              "    }\n",
              "\n",
              "    .dataframe thead th {\n",
              "        text-align: right;\n",
              "    }\n",
              "</style>\n",
              "<table border=\"1\" class=\"dataframe\">\n",
              "  <thead>\n",
              "    <tr style=\"text-align: right;\">\n",
              "      <th></th>\n",
              "      <th>0</th>\n",
              "    </tr>\n",
              "  </thead>\n",
              "  <tbody>\n",
              "    <tr>\n",
              "      <th>location</th>\n",
              "      <td>0</td>\n",
              "    </tr>\n",
              "    <tr>\n",
              "      <th>type</th>\n",
              "      <td>0</td>\n",
              "    </tr>\n",
              "    <tr>\n",
              "      <th>area</th>\n",
              "      <td>5</td>\n",
              "    </tr>\n",
              "    <tr>\n",
              "      <th>constructionyear</th>\n",
              "      <td>0</td>\n",
              "    </tr>\n",
              "    <tr>\n",
              "      <th>sellingyear</th>\n",
              "      <td>0</td>\n",
              "    </tr>\n",
              "    <tr>\n",
              "      <th>price</th>\n",
              "      <td>0</td>\n",
              "    </tr>\n",
              "  </tbody>\n",
              "</table>\n",
              "</div><br><label><b>dtype:</b> int64</label>"
            ]
          },
          "metadata": {},
          "execution_count": 18
        }
      ]
    },
    {
      "cell_type": "code",
      "source": [
        "# drop all rows with null values\n",
        "data2 = data.dropna()\n",
        "\n",
        "# check null values after dropping them\n",
        "data2.isnull().sum()"
      ],
      "metadata": {
        "colab": {
          "base_uri": "https://localhost:8080/",
          "height": 272
        },
        "id": "tSsfQO4j8SZI",
        "outputId": "542a9d74-ff7a-465d-e978-178b189714f1"
      },
      "execution_count": null,
      "outputs": [
        {
          "output_type": "execute_result",
          "data": {
            "text/plain": [
              "location            0\n",
              "type                0\n",
              "area                0\n",
              "constructionyear    0\n",
              "sellingyear         0\n",
              "price               0\n",
              "dtype: int64"
            ],
            "text/html": [
              "<div>\n",
              "<style scoped>\n",
              "    .dataframe tbody tr th:only-of-type {\n",
              "        vertical-align: middle;\n",
              "    }\n",
              "\n",
              "    .dataframe tbody tr th {\n",
              "        vertical-align: top;\n",
              "    }\n",
              "\n",
              "    .dataframe thead th {\n",
              "        text-align: right;\n",
              "    }\n",
              "</style>\n",
              "<table border=\"1\" class=\"dataframe\">\n",
              "  <thead>\n",
              "    <tr style=\"text-align: right;\">\n",
              "      <th></th>\n",
              "      <th>0</th>\n",
              "    </tr>\n",
              "  </thead>\n",
              "  <tbody>\n",
              "    <tr>\n",
              "      <th>location</th>\n",
              "      <td>0</td>\n",
              "    </tr>\n",
              "    <tr>\n",
              "      <th>type</th>\n",
              "      <td>0</td>\n",
              "    </tr>\n",
              "    <tr>\n",
              "      <th>area</th>\n",
              "      <td>0</td>\n",
              "    </tr>\n",
              "    <tr>\n",
              "      <th>constructionyear</th>\n",
              "      <td>0</td>\n",
              "    </tr>\n",
              "    <tr>\n",
              "      <th>sellingyear</th>\n",
              "      <td>0</td>\n",
              "    </tr>\n",
              "    <tr>\n",
              "      <th>price</th>\n",
              "      <td>0</td>\n",
              "    </tr>\n",
              "  </tbody>\n",
              "</table>\n",
              "</div><br><label><b>dtype:</b> int64</label>"
            ]
          },
          "metadata": {},
          "execution_count": 20
        }
      ]
    },
    {
      "cell_type": "code",
      "source": [
        "#  display the correlation matrix for all columns(features) of data\n",
        "data2.corr()"
      ],
      "metadata": {
        "colab": {
          "base_uri": "https://localhost:8080/",
          "height": 304
        },
        "id": "s-EnGeKR8SWU",
        "outputId": "1f8614b9-e58c-4120-c5c1-18cc4654d32a"
      },
      "execution_count": null,
      "outputs": [
        {
          "output_type": "error",
          "ename": "ValueError",
          "evalue": "could not convert string to float: 'Zografou'",
          "traceback": [
            "\u001b[0;31m---------------------------------------------------------------------------\u001b[0m",
            "\u001b[0;31mValueError\u001b[0m                                Traceback (most recent call last)",
            "\u001b[0;32m<ipython-input-21-08a8d554bf44>\u001b[0m in \u001b[0;36m<cell line: 2>\u001b[0;34m()\u001b[0m\n\u001b[1;32m      1\u001b[0m \u001b[0;31m#  display the correlation matrix for all columns(features) of data\u001b[0m\u001b[0;34m\u001b[0m\u001b[0;34m\u001b[0m\u001b[0m\n\u001b[0;32m----> 2\u001b[0;31m \u001b[0mdata2\u001b[0m\u001b[0;34m.\u001b[0m\u001b[0mcorr\u001b[0m\u001b[0;34m(\u001b[0m\u001b[0;34m)\u001b[0m\u001b[0;34m\u001b[0m\u001b[0;34m\u001b[0m\u001b[0m\n\u001b[0m",
            "\u001b[0;32m/usr/local/lib/python3.10/dist-packages/pandas/core/frame.py\u001b[0m in \u001b[0;36mcorr\u001b[0;34m(self, method, min_periods, numeric_only)\u001b[0m\n\u001b[1;32m  11047\u001b[0m         \u001b[0mcols\u001b[0m \u001b[0;34m=\u001b[0m \u001b[0mdata\u001b[0m\u001b[0;34m.\u001b[0m\u001b[0mcolumns\u001b[0m\u001b[0;34m\u001b[0m\u001b[0;34m\u001b[0m\u001b[0m\n\u001b[1;32m  11048\u001b[0m         \u001b[0midx\u001b[0m \u001b[0;34m=\u001b[0m \u001b[0mcols\u001b[0m\u001b[0;34m.\u001b[0m\u001b[0mcopy\u001b[0m\u001b[0;34m(\u001b[0m\u001b[0;34m)\u001b[0m\u001b[0;34m\u001b[0m\u001b[0;34m\u001b[0m\u001b[0m\n\u001b[0;32m> 11049\u001b[0;31m         \u001b[0mmat\u001b[0m \u001b[0;34m=\u001b[0m \u001b[0mdata\u001b[0m\u001b[0;34m.\u001b[0m\u001b[0mto_numpy\u001b[0m\u001b[0;34m(\u001b[0m\u001b[0mdtype\u001b[0m\u001b[0;34m=\u001b[0m\u001b[0mfloat\u001b[0m\u001b[0;34m,\u001b[0m \u001b[0mna_value\u001b[0m\u001b[0;34m=\u001b[0m\u001b[0mnp\u001b[0m\u001b[0;34m.\u001b[0m\u001b[0mnan\u001b[0m\u001b[0;34m,\u001b[0m \u001b[0mcopy\u001b[0m\u001b[0;34m=\u001b[0m\u001b[0;32mFalse\u001b[0m\u001b[0;34m)\u001b[0m\u001b[0;34m\u001b[0m\u001b[0;34m\u001b[0m\u001b[0m\n\u001b[0m\u001b[1;32m  11050\u001b[0m \u001b[0;34m\u001b[0m\u001b[0m\n\u001b[1;32m  11051\u001b[0m         \u001b[0;32mif\u001b[0m \u001b[0mmethod\u001b[0m \u001b[0;34m==\u001b[0m \u001b[0;34m\"pearson\"\u001b[0m\u001b[0;34m:\u001b[0m\u001b[0;34m\u001b[0m\u001b[0;34m\u001b[0m\u001b[0m\n",
            "\u001b[0;32m/usr/local/lib/python3.10/dist-packages/pandas/core/frame.py\u001b[0m in \u001b[0;36mto_numpy\u001b[0;34m(self, dtype, copy, na_value)\u001b[0m\n\u001b[1;32m   1991\u001b[0m         \u001b[0;32mif\u001b[0m \u001b[0mdtype\u001b[0m \u001b[0;32mis\u001b[0m \u001b[0;32mnot\u001b[0m \u001b[0;32mNone\u001b[0m\u001b[0;34m:\u001b[0m\u001b[0;34m\u001b[0m\u001b[0;34m\u001b[0m\u001b[0m\n\u001b[1;32m   1992\u001b[0m             \u001b[0mdtype\u001b[0m \u001b[0;34m=\u001b[0m \u001b[0mnp\u001b[0m\u001b[0;34m.\u001b[0m\u001b[0mdtype\u001b[0m\u001b[0;34m(\u001b[0m\u001b[0mdtype\u001b[0m\u001b[0;34m)\u001b[0m\u001b[0;34m\u001b[0m\u001b[0;34m\u001b[0m\u001b[0m\n\u001b[0;32m-> 1993\u001b[0;31m         \u001b[0mresult\u001b[0m \u001b[0;34m=\u001b[0m \u001b[0mself\u001b[0m\u001b[0;34m.\u001b[0m\u001b[0m_mgr\u001b[0m\u001b[0;34m.\u001b[0m\u001b[0mas_array\u001b[0m\u001b[0;34m(\u001b[0m\u001b[0mdtype\u001b[0m\u001b[0;34m=\u001b[0m\u001b[0mdtype\u001b[0m\u001b[0;34m,\u001b[0m \u001b[0mcopy\u001b[0m\u001b[0;34m=\u001b[0m\u001b[0mcopy\u001b[0m\u001b[0;34m,\u001b[0m \u001b[0mna_value\u001b[0m\u001b[0;34m=\u001b[0m\u001b[0mna_value\u001b[0m\u001b[0;34m)\u001b[0m\u001b[0;34m\u001b[0m\u001b[0;34m\u001b[0m\u001b[0m\n\u001b[0m\u001b[1;32m   1994\u001b[0m         \u001b[0;32mif\u001b[0m \u001b[0mresult\u001b[0m\u001b[0;34m.\u001b[0m\u001b[0mdtype\u001b[0m \u001b[0;32mis\u001b[0m \u001b[0;32mnot\u001b[0m \u001b[0mdtype\u001b[0m\u001b[0;34m:\u001b[0m\u001b[0;34m\u001b[0m\u001b[0;34m\u001b[0m\u001b[0m\n\u001b[1;32m   1995\u001b[0m             \u001b[0mresult\u001b[0m \u001b[0;34m=\u001b[0m \u001b[0mnp\u001b[0m\u001b[0;34m.\u001b[0m\u001b[0masarray\u001b[0m\u001b[0;34m(\u001b[0m\u001b[0mresult\u001b[0m\u001b[0;34m,\u001b[0m \u001b[0mdtype\u001b[0m\u001b[0;34m=\u001b[0m\u001b[0mdtype\u001b[0m\u001b[0;34m)\u001b[0m\u001b[0;34m\u001b[0m\u001b[0;34m\u001b[0m\u001b[0m\n",
            "\u001b[0;32m/usr/local/lib/python3.10/dist-packages/pandas/core/internals/managers.py\u001b[0m in \u001b[0;36mas_array\u001b[0;34m(self, dtype, copy, na_value)\u001b[0m\n\u001b[1;32m   1692\u001b[0m                 \u001b[0marr\u001b[0m\u001b[0;34m.\u001b[0m\u001b[0mflags\u001b[0m\u001b[0;34m.\u001b[0m\u001b[0mwriteable\u001b[0m \u001b[0;34m=\u001b[0m \u001b[0;32mFalse\u001b[0m\u001b[0;34m\u001b[0m\u001b[0;34m\u001b[0m\u001b[0m\n\u001b[1;32m   1693\u001b[0m         \u001b[0;32melse\u001b[0m\u001b[0;34m:\u001b[0m\u001b[0;34m\u001b[0m\u001b[0;34m\u001b[0m\u001b[0m\n\u001b[0;32m-> 1694\u001b[0;31m             \u001b[0marr\u001b[0m \u001b[0;34m=\u001b[0m \u001b[0mself\u001b[0m\u001b[0;34m.\u001b[0m\u001b[0m_interleave\u001b[0m\u001b[0;34m(\u001b[0m\u001b[0mdtype\u001b[0m\u001b[0;34m=\u001b[0m\u001b[0mdtype\u001b[0m\u001b[0;34m,\u001b[0m \u001b[0mna_value\u001b[0m\u001b[0;34m=\u001b[0m\u001b[0mna_value\u001b[0m\u001b[0;34m)\u001b[0m\u001b[0;34m\u001b[0m\u001b[0;34m\u001b[0m\u001b[0m\n\u001b[0m\u001b[1;32m   1695\u001b[0m             \u001b[0;31m# The underlying data was copied within _interleave, so no need\u001b[0m\u001b[0;34m\u001b[0m\u001b[0;34m\u001b[0m\u001b[0m\n\u001b[1;32m   1696\u001b[0m             \u001b[0;31m# to further copy if copy=True or setting na_value\u001b[0m\u001b[0;34m\u001b[0m\u001b[0;34m\u001b[0m\u001b[0m\n",
            "\u001b[0;32m/usr/local/lib/python3.10/dist-packages/pandas/core/internals/managers.py\u001b[0m in \u001b[0;36m_interleave\u001b[0;34m(self, dtype, na_value)\u001b[0m\n\u001b[1;32m   1751\u001b[0m             \u001b[0;32melse\u001b[0m\u001b[0;34m:\u001b[0m\u001b[0;34m\u001b[0m\u001b[0;34m\u001b[0m\u001b[0m\n\u001b[1;32m   1752\u001b[0m                 \u001b[0marr\u001b[0m \u001b[0;34m=\u001b[0m \u001b[0mblk\u001b[0m\u001b[0;34m.\u001b[0m\u001b[0mget_values\u001b[0m\u001b[0;34m(\u001b[0m\u001b[0mdtype\u001b[0m\u001b[0;34m)\u001b[0m\u001b[0;34m\u001b[0m\u001b[0;34m\u001b[0m\u001b[0m\n\u001b[0;32m-> 1753\u001b[0;31m             \u001b[0mresult\u001b[0m\u001b[0;34m[\u001b[0m\u001b[0mrl\u001b[0m\u001b[0;34m.\u001b[0m\u001b[0mindexer\u001b[0m\u001b[0;34m]\u001b[0m \u001b[0;34m=\u001b[0m \u001b[0marr\u001b[0m\u001b[0;34m\u001b[0m\u001b[0;34m\u001b[0m\u001b[0m\n\u001b[0m\u001b[1;32m   1754\u001b[0m             \u001b[0mitemmask\u001b[0m\u001b[0;34m[\u001b[0m\u001b[0mrl\u001b[0m\u001b[0;34m.\u001b[0m\u001b[0mindexer\u001b[0m\u001b[0;34m]\u001b[0m \u001b[0;34m=\u001b[0m \u001b[0;36m1\u001b[0m\u001b[0;34m\u001b[0m\u001b[0;34m\u001b[0m\u001b[0m\n\u001b[1;32m   1755\u001b[0m \u001b[0;34m\u001b[0m\u001b[0m\n",
            "\u001b[0;31mValueError\u001b[0m: could not convert string to float: 'Zografou'"
          ]
        }
      ]
    },
    {
      "cell_type": "code",
      "source": [
        "# check the datatypes of all columns\n",
        "for col in data.columns:\n",
        "    print(f\"{col}: {data[col].dtype}\")"
      ],
      "metadata": {
        "colab": {
          "base_uri": "https://localhost:8080/"
        },
        "id": "JF-HoFfw90I7",
        "outputId": "f0a8a5e4-5d26-44e4-f8c5-9923d761d8d2"
      },
      "execution_count": null,
      "outputs": [
        {
          "output_type": "stream",
          "name": "stdout",
          "text": [
            "location: object\n",
            "type: object\n",
            "area: float64\n",
            "constructionyear: int64\n",
            "sellingyear: int64\n",
            "price: int64\n"
          ]
        }
      ]
    },
    {
      "cell_type": "code",
      "source": [
        "# print correlation matrix for only numerical columns\n",
        "data3 = data2.drop(columns=['location', 'type'])\n",
        "data3.corr()"
      ],
      "metadata": {
        "colab": {
          "base_uri": "https://localhost:8080/",
          "height": 175
        },
        "id": "R4h1Nb2o9jt-",
        "outputId": "e186ad36-bdce-48ee-d760-34b596fa59c3"
      },
      "execution_count": null,
      "outputs": [
        {
          "output_type": "execute_result",
          "data": {
            "text/plain": [
              "                      area  constructionyear  sellingyear     price\n",
              "area              1.000000          0.176868     0.048214  0.618170\n",
              "constructionyear  0.176868          1.000000     0.054133  0.340533\n",
              "sellingyear       0.048214          0.054133     1.000000  0.043343\n",
              "price             0.618170          0.340533     0.043343  1.000000"
            ],
            "text/html": [
              "\n",
              "  <div id=\"df-503c27a3-70ad-4f5f-81df-e61ec0b463ac\" class=\"colab-df-container\">\n",
              "    <div>\n",
              "<style scoped>\n",
              "    .dataframe tbody tr th:only-of-type {\n",
              "        vertical-align: middle;\n",
              "    }\n",
              "\n",
              "    .dataframe tbody tr th {\n",
              "        vertical-align: top;\n",
              "    }\n",
              "\n",
              "    .dataframe thead th {\n",
              "        text-align: right;\n",
              "    }\n",
              "</style>\n",
              "<table border=\"1\" class=\"dataframe\">\n",
              "  <thead>\n",
              "    <tr style=\"text-align: right;\">\n",
              "      <th></th>\n",
              "      <th>area</th>\n",
              "      <th>constructionyear</th>\n",
              "      <th>sellingyear</th>\n",
              "      <th>price</th>\n",
              "    </tr>\n",
              "  </thead>\n",
              "  <tbody>\n",
              "    <tr>\n",
              "      <th>area</th>\n",
              "      <td>1.000000</td>\n",
              "      <td>0.176868</td>\n",
              "      <td>0.048214</td>\n",
              "      <td>0.618170</td>\n",
              "    </tr>\n",
              "    <tr>\n",
              "      <th>constructionyear</th>\n",
              "      <td>0.176868</td>\n",
              "      <td>1.000000</td>\n",
              "      <td>0.054133</td>\n",
              "      <td>0.340533</td>\n",
              "    </tr>\n",
              "    <tr>\n",
              "      <th>sellingyear</th>\n",
              "      <td>0.048214</td>\n",
              "      <td>0.054133</td>\n",
              "      <td>1.000000</td>\n",
              "      <td>0.043343</td>\n",
              "    </tr>\n",
              "    <tr>\n",
              "      <th>price</th>\n",
              "      <td>0.618170</td>\n",
              "      <td>0.340533</td>\n",
              "      <td>0.043343</td>\n",
              "      <td>1.000000</td>\n",
              "    </tr>\n",
              "  </tbody>\n",
              "</table>\n",
              "</div>\n",
              "    <div class=\"colab-df-buttons\">\n",
              "\n",
              "  <div class=\"colab-df-container\">\n",
              "    <button class=\"colab-df-convert\" onclick=\"convertToInteractive('df-503c27a3-70ad-4f5f-81df-e61ec0b463ac')\"\n",
              "            title=\"Convert this dataframe to an interactive table.\"\n",
              "            style=\"display:none;\">\n",
              "\n",
              "  <svg xmlns=\"http://www.w3.org/2000/svg\" height=\"24px\" viewBox=\"0 -960 960 960\">\n",
              "    <path d=\"M120-120v-720h720v720H120Zm60-500h600v-160H180v160Zm220 220h160v-160H400v160Zm0 220h160v-160H400v160ZM180-400h160v-160H180v160Zm440 0h160v-160H620v160ZM180-180h160v-160H180v160Zm440 0h160v-160H620v160Z\"/>\n",
              "  </svg>\n",
              "    </button>\n",
              "\n",
              "  <style>\n",
              "    .colab-df-container {\n",
              "      display:flex;\n",
              "      gap: 12px;\n",
              "    }\n",
              "\n",
              "    .colab-df-convert {\n",
              "      background-color: #E8F0FE;\n",
              "      border: none;\n",
              "      border-radius: 50%;\n",
              "      cursor: pointer;\n",
              "      display: none;\n",
              "      fill: #1967D2;\n",
              "      height: 32px;\n",
              "      padding: 0 0 0 0;\n",
              "      width: 32px;\n",
              "    }\n",
              "\n",
              "    .colab-df-convert:hover {\n",
              "      background-color: #E2EBFA;\n",
              "      box-shadow: 0px 1px 2px rgba(60, 64, 67, 0.3), 0px 1px 3px 1px rgba(60, 64, 67, 0.15);\n",
              "      fill: #174EA6;\n",
              "    }\n",
              "\n",
              "    .colab-df-buttons div {\n",
              "      margin-bottom: 4px;\n",
              "    }\n",
              "\n",
              "    [theme=dark] .colab-df-convert {\n",
              "      background-color: #3B4455;\n",
              "      fill: #D2E3FC;\n",
              "    }\n",
              "\n",
              "    [theme=dark] .colab-df-convert:hover {\n",
              "      background-color: #434B5C;\n",
              "      box-shadow: 0px 1px 3px 1px rgba(0, 0, 0, 0.15);\n",
              "      filter: drop-shadow(0px 1px 2px rgba(0, 0, 0, 0.3));\n",
              "      fill: #FFFFFF;\n",
              "    }\n",
              "  </style>\n",
              "\n",
              "    <script>\n",
              "      const buttonEl =\n",
              "        document.querySelector('#df-503c27a3-70ad-4f5f-81df-e61ec0b463ac button.colab-df-convert');\n",
              "      buttonEl.style.display =\n",
              "        google.colab.kernel.accessAllowed ? 'block' : 'none';\n",
              "\n",
              "      async function convertToInteractive(key) {\n",
              "        const element = document.querySelector('#df-503c27a3-70ad-4f5f-81df-e61ec0b463ac');\n",
              "        const dataTable =\n",
              "          await google.colab.kernel.invokeFunction('convertToInteractive',\n",
              "                                                    [key], {});\n",
              "        if (!dataTable) return;\n",
              "\n",
              "        const docLinkHtml = 'Like what you see? Visit the ' +\n",
              "          '<a target=\"_blank\" href=https://colab.research.google.com/notebooks/data_table.ipynb>data table notebook</a>'\n",
              "          + ' to learn more about interactive tables.';\n",
              "        element.innerHTML = '';\n",
              "        dataTable['output_type'] = 'display_data';\n",
              "        await google.colab.output.renderOutput(dataTable, element);\n",
              "        const docLink = document.createElement('div');\n",
              "        docLink.innerHTML = docLinkHtml;\n",
              "        element.appendChild(docLink);\n",
              "      }\n",
              "    </script>\n",
              "  </div>\n",
              "\n",
              "\n",
              "<div id=\"df-42a6c827-2c3a-4ac8-be42-48f8b16bc955\">\n",
              "  <button class=\"colab-df-quickchart\" onclick=\"quickchart('df-42a6c827-2c3a-4ac8-be42-48f8b16bc955')\"\n",
              "            title=\"Suggest charts\"\n",
              "            style=\"display:none;\">\n",
              "\n",
              "<svg xmlns=\"http://www.w3.org/2000/svg\" height=\"24px\"viewBox=\"0 0 24 24\"\n",
              "     width=\"24px\">\n",
              "    <g>\n",
              "        <path d=\"M19 3H5c-1.1 0-2 .9-2 2v14c0 1.1.9 2 2 2h14c1.1 0 2-.9 2-2V5c0-1.1-.9-2-2-2zM9 17H7v-7h2v7zm4 0h-2V7h2v10zm4 0h-2v-4h2v4z\"/>\n",
              "    </g>\n",
              "</svg>\n",
              "  </button>\n",
              "\n",
              "<style>\n",
              "  .colab-df-quickchart {\n",
              "      --bg-color: #E8F0FE;\n",
              "      --fill-color: #1967D2;\n",
              "      --hover-bg-color: #E2EBFA;\n",
              "      --hover-fill-color: #174EA6;\n",
              "      --disabled-fill-color: #AAA;\n",
              "      --disabled-bg-color: #DDD;\n",
              "  }\n",
              "\n",
              "  [theme=dark] .colab-df-quickchart {\n",
              "      --bg-color: #3B4455;\n",
              "      --fill-color: #D2E3FC;\n",
              "      --hover-bg-color: #434B5C;\n",
              "      --hover-fill-color: #FFFFFF;\n",
              "      --disabled-bg-color: #3B4455;\n",
              "      --disabled-fill-color: #666;\n",
              "  }\n",
              "\n",
              "  .colab-df-quickchart {\n",
              "    background-color: var(--bg-color);\n",
              "    border: none;\n",
              "    border-radius: 50%;\n",
              "    cursor: pointer;\n",
              "    display: none;\n",
              "    fill: var(--fill-color);\n",
              "    height: 32px;\n",
              "    padding: 0;\n",
              "    width: 32px;\n",
              "  }\n",
              "\n",
              "  .colab-df-quickchart:hover {\n",
              "    background-color: var(--hover-bg-color);\n",
              "    box-shadow: 0 1px 2px rgba(60, 64, 67, 0.3), 0 1px 3px 1px rgba(60, 64, 67, 0.15);\n",
              "    fill: var(--button-hover-fill-color);\n",
              "  }\n",
              "\n",
              "  .colab-df-quickchart-complete:disabled,\n",
              "  .colab-df-quickchart-complete:disabled:hover {\n",
              "    background-color: var(--disabled-bg-color);\n",
              "    fill: var(--disabled-fill-color);\n",
              "    box-shadow: none;\n",
              "  }\n",
              "\n",
              "  .colab-df-spinner {\n",
              "    border: 2px solid var(--fill-color);\n",
              "    border-color: transparent;\n",
              "    border-bottom-color: var(--fill-color);\n",
              "    animation:\n",
              "      spin 1s steps(1) infinite;\n",
              "  }\n",
              "\n",
              "  @keyframes spin {\n",
              "    0% {\n",
              "      border-color: transparent;\n",
              "      border-bottom-color: var(--fill-color);\n",
              "      border-left-color: var(--fill-color);\n",
              "    }\n",
              "    20% {\n",
              "      border-color: transparent;\n",
              "      border-left-color: var(--fill-color);\n",
              "      border-top-color: var(--fill-color);\n",
              "    }\n",
              "    30% {\n",
              "      border-color: transparent;\n",
              "      border-left-color: var(--fill-color);\n",
              "      border-top-color: var(--fill-color);\n",
              "      border-right-color: var(--fill-color);\n",
              "    }\n",
              "    40% {\n",
              "      border-color: transparent;\n",
              "      border-right-color: var(--fill-color);\n",
              "      border-top-color: var(--fill-color);\n",
              "    }\n",
              "    60% {\n",
              "      border-color: transparent;\n",
              "      border-right-color: var(--fill-color);\n",
              "    }\n",
              "    80% {\n",
              "      border-color: transparent;\n",
              "      border-right-color: var(--fill-color);\n",
              "      border-bottom-color: var(--fill-color);\n",
              "    }\n",
              "    90% {\n",
              "      border-color: transparent;\n",
              "      border-bottom-color: var(--fill-color);\n",
              "    }\n",
              "  }\n",
              "</style>\n",
              "\n",
              "  <script>\n",
              "    async function quickchart(key) {\n",
              "      const quickchartButtonEl =\n",
              "        document.querySelector('#' + key + ' button');\n",
              "      quickchartButtonEl.disabled = true;  // To prevent multiple clicks.\n",
              "      quickchartButtonEl.classList.add('colab-df-spinner');\n",
              "      try {\n",
              "        const charts = await google.colab.kernel.invokeFunction(\n",
              "            'suggestCharts', [key], {});\n",
              "      } catch (error) {\n",
              "        console.error('Error during call to suggestCharts:', error);\n",
              "      }\n",
              "      quickchartButtonEl.classList.remove('colab-df-spinner');\n",
              "      quickchartButtonEl.classList.add('colab-df-quickchart-complete');\n",
              "    }\n",
              "    (() => {\n",
              "      let quickchartButtonEl =\n",
              "        document.querySelector('#df-42a6c827-2c3a-4ac8-be42-48f8b16bc955 button');\n",
              "      quickchartButtonEl.style.display =\n",
              "        google.colab.kernel.accessAllowed ? 'block' : 'none';\n",
              "    })();\n",
              "  </script>\n",
              "</div>\n",
              "\n",
              "    </div>\n",
              "  </div>\n"
            ],
            "application/vnd.google.colaboratory.intrinsic+json": {
              "type": "dataframe",
              "summary": "{\n  \"name\": \"data3\",\n  \"rows\": 4,\n  \"fields\": [\n    {\n      \"column\": \"area\",\n      \"properties\": {\n        \"dtype\": \"number\",\n        \"std\": 0.43449083174719283,\n        \"min\": 0.04821393917334843,\n        \"max\": 1.0,\n        \"num_unique_values\": 4,\n        \"samples\": [\n          0.17686755955386232,\n          0.6181700128814598,\n          1.0\n        ],\n        \"semantic_type\": \"\",\n        \"description\": \"\"\n      }\n    },\n    {\n      \"column\": \"constructionyear\",\n      \"properties\": {\n        \"dtype\": \"number\",\n        \"std\": 0.4214046964604741,\n        \"min\": 0.054133119675880546,\n        \"max\": 1.0,\n        \"num_unique_values\": 4,\n        \"samples\": [\n          1.0,\n          0.3405327280084998,\n          0.17686755955386232\n        ],\n        \"semantic_type\": \"\",\n        \"description\": \"\"\n      }\n    },\n    {\n      \"column\": \"sellingyear\",\n      \"properties\": {\n        \"dtype\": \"number\",\n        \"std\": 0.47573884066269245,\n        \"min\": 0.04334265637541989,\n        \"max\": 1.0,\n        \"num_unique_values\": 4,\n        \"samples\": [\n          0.054133119675880546,\n          0.04334265637541989,\n          0.04821393917334843\n        ],\n        \"semantic_type\": \"\",\n        \"description\": \"\"\n      }\n    },\n    {\n      \"column\": \"price\",\n      \"properties\": {\n        \"dtype\": \"number\",\n        \"std\": 0.40740186808382867,\n        \"min\": 0.04334265637541989,\n        \"max\": 1.0,\n        \"num_unique_values\": 4,\n        \"samples\": [\n          0.3405327280084998,\n          1.0,\n          0.6181700128814598\n        ],\n        \"semantic_type\": \"\",\n        \"description\": \"\"\n      }\n    }\n  ]\n}"
            }
          },
          "metadata": {},
          "execution_count": 29
        }
      ]
    },
    {
      "cell_type": "code",
      "source": [
        "# print a scatter plot\n",
        "plt.scatter(data3['constructionyear'], data3['price'])\n",
        "plt.xlabel('Construction Year')\n",
        "plt.ylabel('Price')\n",
        "plt.title('Construction Year vs. Price')\n",
        "plt.show()"
      ],
      "metadata": {
        "colab": {
          "base_uri": "https://localhost:8080/",
          "height": 472
        },
        "id": "HqZ-Rc0LCF6Q",
        "outputId": "deb0f38f-82d1-4321-ea87-141b26687f8b"
      },
      "execution_count": null,
      "outputs": [
        {
          "output_type": "display_data",
          "data": {
            "text/plain": [
              "<Figure size 640x480 with 1 Axes>"
            ],
            "image/png": "[encoded data removed]"
          },
          "metadata": {}
        }
      ]
    },
    {
      "cell_type": "code",
      "source": [
        "# print another one scatter plot\n",
        "plt.scatter(data3['area'], data3['price'])\n",
        "plt.xlabel('Area')\n",
        "plt.ylabel('Price')\n",
        "plt.title('Area vs. Price')\n",
        "plt.show()"
      ],
      "metadata": {
        "colab": {
          "base_uri": "https://localhost:8080/",
          "height": 472
        },
        "id": "NqVQO0drFXMa",
        "outputId": "f9342e8c-46f6-4220-ea08-8ec6fc5b9965"
      },
      "execution_count": null,
      "outputs": [
        {
          "output_type": "display_data",
          "data": {
            "text/plain": [
              "<Figure size 640x480 with 1 Axes>"
            ],
            "image/png": "[encoded data removed]"
          },
          "metadata": {}
        }
      ]
    },
    {
      "cell_type": "markdown",
      "source": [
        "# **Pandas and Dataframes - Part 2**"
      ],
      "metadata": {
        "id": "dkzL5b2I7RnP"
      }
    },
    {
      "cell_type": "markdown",
      "source": [
        "**Gene data cooking**\n",
        "\n",
        "* gene_table.txt contains summary annotation on all human genes, based on the Ensembl annotation:\n",
        "* gene_name\n",
        "* gene_biotype (e.g., protein_coding, pseudogene, lincRNA, miRNA etc)\n",
        "* chromosome (on which the gene is located\n",
        "* strand (on which the gene is located)\n",
        "* transcript_count (the number of known isoforms of the gene)"
      ],
      "metadata": {
        "id": "hDy1kP9rFty9"
      }
    },
    {
      "cell_type": "code",
      "source": [
        "import pandas as pd"
      ],
      "metadata": {
        "id": "ObZUzkX37VPT"
      },
      "execution_count": null,
      "outputs": []
    },
    {
      "cell_type": "markdown",
      "source": [
        "## **Reading from CSV files**\n",
        ""
      ],
      "metadata": {
        "id": "AXwX2z8LGpRt"
      }
    },
    {
      "cell_type": "markdown",
      "source": [
        "Pandas provides the read_csv() function which can be used t reada data from a csv file."
      ],
      "metadata": {
        "id": "30MY9JTQOKYV"
      }
    },
    {
      "cell_type": "code",
      "source": [
        "# by read from txt file gene_table and delimit the fields using ','\n",
        "df=pd.read_csv('gene_table.txt', sep=',')\n",
        "df"
      ],
      "metadata": {
        "colab": {
          "base_uri": "https://localhost:8080/",
          "height": 424
        },
        "id": "gwGJeXGfHH4x",
        "outputId": "8e6fd957-362e-431d-8c12-bb1d6b9e253d"
      },
      "execution_count": null,
      "outputs": [
        {
          "output_type": "execute_result",
          "data": {
            "text/plain": [
              "           gene_name                   gene_biotype chromosome strand  \\\n",
              "0             TSPAN6                 protein_coding       chrX      -   \n",
              "1               TNMD                 protein_coding       chrX      +   \n",
              "2               DPM1                 protein_coding      chr20      -   \n",
              "3              SCYL3                 protein_coding       chr1      -   \n",
              "4           C1orf112                 protein_coding       chr1      +   \n",
              "...              ...                            ...        ...    ...   \n",
              "51322        MT-RNR1                        Mt_rRNA      chrMT      +   \n",
              "51323       CRYM-AS1  bidirectional_promoter_lncRNA      chr16      +   \n",
              "51324  RP11-100E13.1  bidirectional_promoter_lncRNA       chr1      -   \n",
              "51325       VTRNA2-1                       vaultRNA       chr5      -   \n",
              "51326         BCYRN1                          scRNA       chr2      +   \n",
              "\n",
              "       transcript_count  \n",
              "0                     5  \n",
              "1                     2  \n",
              "2                     6  \n",
              "3                     5  \n",
              "4                     9  \n",
              "...                 ...  \n",
              "51322                 1  \n",
              "51323                 3  \n",
              "51324                 1  \n",
              "51325                 1  \n",
              "51326                 1  \n",
              "\n",
              "[51327 rows x 5 columns]"
            ],
            "text/html": [
              "\n",
              "  <div id=\"df-11cdbc8b-c626-47af-8867-024baea573dc\" class=\"colab-df-container\">\n",
              "    <div>\n",
              "<style scoped>\n",
              "    .dataframe tbody tr th:only-of-type {\n",
              "        vertical-align: middle;\n",
              "    }\n",
              "\n",
              "    .dataframe tbody tr th {\n",
              "        vertical-align: top;\n",
              "    }\n",
              "\n",
              "    .dataframe thead th {\n",
              "        text-align: right;\n",
              "    }\n",
              "</style>\n",
              "<table border=\"1\" class=\"dataframe\">\n",
              "  <thead>\n",
              "    <tr style=\"text-align: right;\">\n",
              "      <th></th>\n",
              "      <th>gene_name</th>\n",
              "      <th>gene_biotype</th>\n",
              "      <th>chromosome</th>\n",
              "      <th>strand</th>\n",
              "      <th>transcript_count</th>\n",
              "    </tr>\n",
              "  </thead>\n",
              "  <tbody>\n",
              "    <tr>\n",
              "      <th>0</th>\n",
              "      <td>TSPAN6</td>\n",
              "      <td>protein_coding</td>\n",
              "      <td>chrX</td>\n",
              "      <td>-</td>\n",
              "      <td>5</td>\n",
              "    </tr>\n",
              "    <tr>\n",
              "      <th>1</th>\n",
              "      <td>TNMD</td>\n",
              "      <td>protein_coding</td>\n",
              "      <td>chrX</td>\n",
              "      <td>+</td>\n",
              "      <td>2</td>\n",
              "    </tr>\n",
              "    <tr>\n",
              "      <th>2</th>\n",
              "      <td>DPM1</td>\n",
              "      <td>protein_coding</td>\n",
              "      <td>chr20</td>\n",
              "      <td>-</td>\n",
              "      <td>6</td>\n",
              "    </tr>\n",
              "    <tr>\n",
              "      <th>3</th>\n",
              "      <td>SCYL3</td>\n",
              "      <td>protein_coding</td>\n",
              "      <td>chr1</td>\n",
              "      <td>-</td>\n",
              "      <td>5</td>\n",
              "    </tr>\n",
              "    <tr>\n",
              "      <th>4</th>\n",
              "      <td>C1orf112</td>\n",
              "      <td>protein_coding</td>\n",
              "      <td>chr1</td>\n",
              "      <td>+</td>\n",
              "      <td>9</td>\n",
              "    </tr>\n",
              "    <tr>\n",
              "      <th>...</th>\n",
              "      <td>...</td>\n",
              "      <td>...</td>\n",
              "      <td>...</td>\n",
              "      <td>...</td>\n",
              "      <td>...</td>\n",
              "    </tr>\n",
              "    <tr>\n",
              "      <th>51322</th>\n",
              "      <td>MT-RNR1</td>\n",
              "      <td>Mt_rRNA</td>\n",
              "      <td>chrMT</td>\n",
              "      <td>+</td>\n",
              "      <td>1</td>\n",
              "    </tr>\n",
              "    <tr>\n",
              "      <th>51323</th>\n",
              "      <td>CRYM-AS1</td>\n",
              "      <td>bidirectional_promoter_lncRNA</td>\n",
              "      <td>chr16</td>\n",
              "      <td>+</td>\n",
              "      <td>3</td>\n",
              "    </tr>\n",
              "    <tr>\n",
              "      <th>51324</th>\n",
              "      <td>RP11-100E13.1</td>\n",
              "      <td>bidirectional_promoter_lncRNA</td>\n",
              "      <td>chr1</td>\n",
              "      <td>-</td>\n",
              "      <td>1</td>\n",
              "    </tr>\n",
              "    <tr>\n",
              "      <th>51325</th>\n",
              "      <td>VTRNA2-1</td>\n",
              "      <td>vaultRNA</td>\n",
              "      <td>chr5</td>\n",
              "      <td>-</td>\n",
              "      <td>1</td>\n",
              "    </tr>\n",
              "    <tr>\n",
              "      <th>51326</th>\n",
              "      <td>BCYRN1</td>\n",
              "      <td>scRNA</td>\n",
              "      <td>chr2</td>\n",
              "      <td>+</td>\n",
              "      <td>1</td>\n",
              "    </tr>\n",
              "  </tbody>\n",
              "</table>\n",
              "<p>51327 rows × 5 columns</p>\n",
              "</div>\n",
              "    <div class=\"colab-df-buttons\">\n",
              "\n",
              "  <div class=\"colab-df-container\">\n",
              "    <button class=\"colab-df-convert\" onclick=\"convertToInteractive('df-11cdbc8b-c626-47af-8867-024baea573dc')\"\n",
              "            title=\"Convert this dataframe to an interactive table.\"\n",
              "            style=\"display:none;\">\n",
              "\n",
              "  <svg xmlns=\"http://www.w3.org/2000/svg\" height=\"24px\" viewBox=\"0 -960 960 960\">\n",
              "    <path d=\"M120-120v-720h720v720H120Zm60-500h600v-160H180v160Zm220 220h160v-160H400v160Zm0 220h160v-160H400v160ZM180-400h160v-160H180v160Zm440 0h160v-160H620v160ZM180-180h160v-160H180v160Zm440 0h160v-160H620v160Z\"/>\n",
              "  </svg>\n",
              "    </button>\n",
              "\n",
              "  <style>\n",
              "    .colab-df-container {\n",
              "      display:flex;\n",
              "      gap: 12px;\n",
              "    }\n",
              "\n",
              "    .colab-df-convert {\n",
              "      background-color: #E8F0FE;\n",
              "      border: none;\n",
              "      border-radius: 50%;\n",
              "      cursor: pointer;\n",
              "      display: none;\n",
              "      fill: #1967D2;\n",
              "      height: 32px;\n",
              "      padding: 0 0 0 0;\n",
              "      width: 32px;\n",
              "    }\n",
              "\n",
              "    .colab-df-convert:hover {\n",
              "      background-color: #E2EBFA;\n",
              "      box-shadow: 0px 1px 2px rgba(60, 64, 67, 0.3), 0px 1px 3px 1px rgba(60, 64, 67, 0.15);\n",
              "      fill: #174EA6;\n",
              "    }\n",
              "\n",
              "    .colab-df-buttons div {\n",
              "      margin-bottom: 4px;\n",
              "    }\n",
              "\n",
              "    [theme=dark] .colab-df-convert {\n",
              "      background-color: #3B4455;\n",
              "      fill: #D2E3FC;\n",
              "    }\n",
              "\n",
              "    [theme=dark] .colab-df-convert:hover {\n",
              "      background-color: #434B5C;\n",
              "      box-shadow: 0px 1px 3px 1px rgba(0, 0, 0, 0.15);\n",
              "      filter: drop-shadow(0px 1px 2px rgba(0, 0, 0, 0.3));\n",
              "      fill: #FFFFFF;\n",
              "    }\n",
              "  </style>\n",
              "\n",
              "    <script>\n",
              "      const buttonEl =\n",
              "        document.querySelector('#df-11cdbc8b-c626-47af-8867-024baea573dc button.colab-df-convert');\n",
              "      buttonEl.style.display =\n",
              "        google.colab.kernel.accessAllowed ? 'block' : 'none';\n",
              "\n",
              "      async function convertToInteractive(key) {\n",
              "        const element = document.querySelector('#df-11cdbc8b-c626-47af-8867-024baea573dc');\n",
              "        const dataTable =\n",
              "          await google.colab.kernel.invokeFunction('convertToInteractive',\n",
              "                                                    [key], {});\n",
              "        if (!dataTable) return;\n",
              "\n",
              "        const docLinkHtml = 'Like what you see? Visit the ' +\n",
              "          '<a target=\"_blank\" href=https://colab.research.google.com/notebooks/data_table.ipynb>data table notebook</a>'\n",
              "          + ' to learn more about interactive tables.';\n",
              "        element.innerHTML = '';\n",
              "        dataTable['output_type'] = 'display_data';\n",
              "        await google.colab.output.renderOutput(dataTable, element);\n",
              "        const docLink = document.createElement('div');\n",
              "        docLink.innerHTML = docLinkHtml;\n",
              "        element.appendChild(docLink);\n",
              "      }\n",
              "    </script>\n",
              "  </div>\n",
              "\n",
              "\n",
              "<div id=\"df-19588017-dc22-487a-9a8a-ad0696f363e6\">\n",
              "  <button class=\"colab-df-quickchart\" onclick=\"quickchart('df-19588017-dc22-487a-9a8a-ad0696f363e6')\"\n",
              "            title=\"Suggest charts\"\n",
              "            style=\"display:none;\">\n",
              "\n",
              "<svg xmlns=\"http://www.w3.org/2000/svg\" height=\"24px\"viewBox=\"0 0 24 24\"\n",
              "     width=\"24px\">\n",
              "    <g>\n",
              "        <path d=\"M19 3H5c-1.1 0-2 .9-2 2v14c0 1.1.9 2 2 2h14c1.1 0 2-.9 2-2V5c0-1.1-.9-2-2-2zM9 17H7v-7h2v7zm4 0h-2V7h2v10zm4 0h-2v-4h2v4z\"/>\n",
              "    </g>\n",
              "</svg>\n",
              "  </button>\n",
              "\n",
              "<style>\n",
              "  .colab-df-quickchart {\n",
              "      --bg-color: #E8F0FE;\n",
              "      --fill-color: #1967D2;\n",
              "      --hover-bg-color: #E2EBFA;\n",
              "      --hover-fill-color: #174EA6;\n",
              "      --disabled-fill-color: #AAA;\n",
              "      --disabled-bg-color: #DDD;\n",
              "  }\n",
              "\n",
              "  [theme=dark] .colab-df-quickchart {\n",
              "      --bg-color: #3B4455;\n",
              "      --fill-color: #D2E3FC;\n",
              "      --hover-bg-color: #434B5C;\n",
              "      --hover-fill-color: #FFFFFF;\n",
              "      --disabled-bg-color: #3B4455;\n",
              "      --disabled-fill-color: #666;\n",
              "  }\n",
              "\n",
              "  .colab-df-quickchart {\n",
              "    background-color: var(--bg-color);\n",
              "    border: none;\n",
              "    border-radius: 50%;\n",
              "    cursor: pointer;\n",
              "    display: none;\n",
              "    fill: var(--fill-color);\n",
              "    height: 32px;\n",
              "    padding: 0;\n",
              "    width: 32px;\n",
              "  }\n",
              "\n",
              "  .colab-df-quickchart:hover {\n",
              "    background-color: var(--hover-bg-color);\n",
              "    box-shadow: 0 1px 2px rgba(60, 64, 67, 0.3), 0 1px 3px 1px rgba(60, 64, 67, 0.15);\n",
              "    fill: var(--button-hover-fill-color);\n",
              "  }\n",
              "\n",
              "  .colab-df-quickchart-complete:disabled,\n",
              "  .colab-df-quickchart-complete:disabled:hover {\n",
              "    background-color: var(--disabled-bg-color);\n",
              "    fill: var(--disabled-fill-color);\n",
              "    box-shadow: none;\n",
              "  }\n",
              "\n",
              "  .colab-df-spinner {\n",
              "    border: 2px solid var(--fill-color);\n",
              "    border-color: transparent;\n",
              "    border-bottom-color: var(--fill-color);\n",
              "    animation:\n",
              "      spin 1s steps(1) infinite;\n",
              "  }\n",
              "\n",
              "  @keyframes spin {\n",
              "    0% {\n",
              "      border-color: transparent;\n",
              "      border-bottom-color: var(--fill-color);\n",
              "      border-left-color: var(--fill-color);\n",
              "    }\n",
              "    20% {\n",
              "      border-color: transparent;\n",
              "      border-left-color: var(--fill-color);\n",
              "      border-top-color: var(--fill-color);\n",
              "    }\n",
              "    30% {\n",
              "      border-color: transparent;\n",
              "      border-left-color: var(--fill-color);\n",
              "      border-top-color: var(--fill-color);\n",
              "      border-right-color: var(--fill-color);\n",
              "    }\n",
              "    40% {\n",
              "      border-color: transparent;\n",
              "      border-right-color: var(--fill-color);\n",
              "      border-top-color: var(--fill-color);\n",
              "    }\n",
              "    60% {\n",
              "      border-color: transparent;\n",
              "      border-right-color: var(--fill-color);\n",
              "    }\n",
              "    80% {\n",
              "      border-color: transparent;\n",
              "      border-right-color: var(--fill-color);\n",
              "      border-bottom-color: var(--fill-color);\n",
              "    }\n",
              "    90% {\n",
              "      border-color: transparent;\n",
              "      border-bottom-color: var(--fill-color);\n",
              "    }\n",
              "  }\n",
              "</style>\n",
              "\n",
              "  <script>\n",
              "    async function quickchart(key) {\n",
              "      const quickchartButtonEl =\n",
              "        document.querySelector('#' + key + ' button');\n",
              "      quickchartButtonEl.disabled = true;  // To prevent multiple clicks.\n",
              "      quickchartButtonEl.classList.add('colab-df-spinner');\n",
              "      try {\n",
              "        const charts = await google.colab.kernel.invokeFunction(\n",
              "            'suggestCharts', [key], {});\n",
              "      } catch (error) {\n",
              "        console.error('Error during call to suggestCharts:', error);\n",
              "      }\n",
              "      quickchartButtonEl.classList.remove('colab-df-spinner');\n",
              "      quickchartButtonEl.classList.add('colab-df-quickchart-complete');\n",
              "    }\n",
              "    (() => {\n",
              "      let quickchartButtonEl =\n",
              "        document.querySelector('#df-19588017-dc22-487a-9a8a-ad0696f363e6 button');\n",
              "      quickchartButtonEl.style.display =\n",
              "        google.colab.kernel.accessAllowed ? 'block' : 'none';\n",
              "    })();\n",
              "  </script>\n",
              "</div>\n",
              "\n",
              "  <div id=\"id_f59b6c95-5f2e-435b-90c5-0df4afa0c575\">\n",
              "    <style>\n",
              "      .colab-df-generate {\n",
              "        background-color: #E8F0FE;\n",
              "        border: none;\n",
              "        border-radius: 50%;\n",
              "        cursor: pointer;\n",
              "        display: none;\n",
              "        fill: #1967D2;\n",
              "        height: 32px;\n",
              "        padding: 0 0 0 0;\n",
              "        width: 32px;\n",
              "      }\n",
              "\n",
              "      .colab-df-generate:hover {\n",
              "        background-color: #E2EBFA;\n",
              "        box-shadow: 0px 1px 2px rgba(60, 64, 67, 0.3), 0px 1px 3px 1px rgba(60, 64, 67, 0.15);\n",
              "        fill: #174EA6;\n",
              "      }\n",
              "\n",
              "      [theme=dark] .colab-df-generate {\n",
              "        background-color: #3B4455;\n",
              "        fill: #D2E3FC;\n",
              "      }\n",
              "\n",
              "      [theme=dark] .colab-df-generate:hover {\n",
              "        background-color: #434B5C;\n",
              "        box-shadow: 0px 1px 3px 1px rgba(0, 0, 0, 0.15);\n",
              "        filter: drop-shadow(0px 1px 2px rgba(0, 0, 0, 0.3));\n",
              "        fill: #FFFFFF;\n",
              "      }\n",
              "    </style>\n",
              "    <button class=\"colab-df-generate\" onclick=\"generateWithVariable('df')\"\n",
              "            title=\"Generate code using this dataframe.\"\n",
              "            style=\"display:none;\">\n",
              "\n",
              "  <svg xmlns=\"http://www.w3.org/2000/svg\" height=\"24px\"viewBox=\"0 0 24 24\"\n",
              "       width=\"24px\">\n",
              "    <path d=\"M7,19H8.4L18.45,9,17,7.55,7,17.6ZM5,21V16.75L18.45,3.32a2,2,0,0,1,2.83,0l1.4,1.43a1.91,1.91,0,0,1,.58,1.4,1.91,1.91,0,0,1-.58,1.4L9.25,21ZM18.45,9,17,7.55Zm-12,3A5.31,5.31,0,0,0,4.9,8.1,5.31,5.31,0,0,0,1,6.5,5.31,5.31,0,0,0,4.9,4.9,5.31,5.31,0,0,0,6.5,1,5.31,5.31,0,0,0,8.1,4.9,5.31,5.31,0,0,0,12,6.5,5.46,5.46,0,0,0,6.5,12Z\"/>\n",
              "  </svg>\n",
              "    </button>\n",
              "    <script>\n",
              "      (() => {\n",
              "      const buttonEl =\n",
              "        document.querySelector('#id_f59b6c95-5f2e-435b-90c5-0df4afa0c575 button.colab-df-generate');\n",
              "      buttonEl.style.display =\n",
              "        google.colab.kernel.accessAllowed ? 'block' : 'none';\n",
              "\n",
              "      buttonEl.onclick = () => {\n",
              "        google.colab.notebook.generateWithVariable('df');\n",
              "      }\n",
              "      })();\n",
              "    </script>\n",
              "  </div>\n",
              "\n",
              "    </div>\n",
              "  </div>\n"
            ],
            "application/vnd.google.colaboratory.intrinsic+json": {
              "type": "dataframe",
              "variable_name": "df",
              "summary": "{\n  \"name\": \"df\",\n  \"rows\": 51327,\n  \"fields\": [\n    {\n      \"column\": \"gene_name\",\n      \"properties\": {\n        \"dtype\": \"string\",\n        \"num_unique_values\": 51327,\n        \"samples\": [\n          \"MIR518F\",\n          \"CTB-31O20.8\",\n          \"OR5AL1\"\n        ],\n        \"semantic_type\": \"\",\n        \"description\": \"\"\n      }\n    },\n    {\n      \"column\": \"gene_biotype\",\n      \"properties\": {\n        \"dtype\": \"category\",\n        \"num_unique_values\": 41,\n        \"samples\": [\n          \"TR_V_pseudogene\",\n          \"transcribed_processed_pseudogene\",\n          \"snoRNA\"\n        ],\n        \"semantic_type\": \"\",\n        \"description\": \"\"\n      }\n    },\n    {\n      \"column\": \"chromosome\",\n      \"properties\": {\n        \"dtype\": \"category\",\n        \"num_unique_values\": 56,\n        \"samples\": [\n          \"chrX\",\n          \"chr7\",\n          \"chrCHR_HSCHR17_1_CTG4\"\n        ],\n        \"semantic_type\": \"\",\n        \"description\": \"\"\n      }\n    },\n    {\n      \"column\": \"strand\",\n      \"properties\": {\n        \"dtype\": \"category\",\n        \"num_unique_values\": 2,\n        \"samples\": [\n          \"+\",\n          \"-\"\n        ],\n        \"semantic_type\": \"\",\n        \"description\": \"\"\n      }\n    },\n    {\n      \"column\": \"transcript_count\",\n      \"properties\": {\n        \"dtype\": \"number\",\n        \"std\": 5,\n        \"min\": 1,\n        \"max\": 170,\n        \"num_unique_values\": 74,\n        \"samples\": [\n          7,\n          74\n        ],\n        \"semantic_type\": \"\",\n        \"description\": \"\"\n      }\n    }\n  ]\n}"
            }
          },
          "metadata": {},
          "execution_count": 2
        }
      ]
    },
    {
      "cell_type": "markdown",
      "source": [
        "## **Accessing the Dataframe**"
      ],
      "metadata": {
        "id": "j9synVMjHNp0"
      }
    },
    {
      "cell_type": "markdown",
      "source": [
        "Displaying the Dataframe's top rows."
      ],
      "metadata": {
        "id": "n-ZQkm12ON9n"
      }
    },
    {
      "cell_type": "code",
      "source": [
        "# head() method displays by default the top-5 rows of a dataframe\n",
        "df.head()"
      ],
      "metadata": {
        "colab": {
          "base_uri": "https://localhost:8080/",
          "height": 206
        },
        "id": "LxtqhCEr749Q",
        "outputId": "a9539946-dd38-405e-a17d-9366e52b8118"
      },
      "execution_count": null,
      "outputs": [
        {
          "output_type": "execute_result",
          "data": {
            "text/plain": [
              "  gene_name    gene_biotype chromosome strand  transcript_count\n",
              "0    TSPAN6  protein_coding       chrX      -                 5\n",
              "1      TNMD  protein_coding       chrX      +                 2\n",
              "2      DPM1  protein_coding      chr20      -                 6\n",
              "3     SCYL3  protein_coding       chr1      -                 5\n",
              "4  C1orf112  protein_coding       chr1      +                 9"
            ],
            "text/html": [
              "\n",
              "  <div id=\"df-1961aa55-382f-4fde-9e5c-eb4e5f8369e4\" class=\"colab-df-container\">\n",
              "    <div>\n",
              "<style scoped>\n",
              "    .dataframe tbody tr th:only-of-type {\n",
              "        vertical-align: middle;\n",
              "    }\n",
              "\n",
              "    .dataframe tbody tr th {\n",
              "        vertical-align: top;\n",
              "    }\n",
              "\n",
              "    .dataframe thead th {\n",
              "        text-align: right;\n",
              "    }\n",
              "</style>\n",
              "<table border=\"1\" class=\"dataframe\">\n",
              "  <thead>\n",
              "    <tr style=\"text-align: right;\">\n",
              "      <th></th>\n",
              "      <th>gene_name</th>\n",
              "      <th>gene_biotype</th>\n",
              "      <th>chromosome</th>\n",
              "      <th>strand</th>\n",
              "      <th>transcript_count</th>\n",
              "    </tr>\n",
              "  </thead>\n",
              "  <tbody>\n",
              "    <tr>\n",
              "      <th>0</th>\n",
              "      <td>TSPAN6</td>\n",
              "      <td>protein_coding</td>\n",
              "      <td>chrX</td>\n",
              "      <td>-</td>\n",
              "      <td>5</td>\n",
              "    </tr>\n",
              "    <tr>\n",
              "      <th>1</th>\n",
              "      <td>TNMD</td>\n",
              "      <td>protein_coding</td>\n",
              "      <td>chrX</td>\n",
              "      <td>+</td>\n",
              "      <td>2</td>\n",
              "    </tr>\n",
              "    <tr>\n",
              "      <th>2</th>\n",
              "      <td>DPM1</td>\n",
              "      <td>protein_coding</td>\n",
              "      <td>chr20</td>\n",
              "      <td>-</td>\n",
              "      <td>6</td>\n",
              "    </tr>\n",
              "    <tr>\n",
              "      <th>3</th>\n",
              "      <td>SCYL3</td>\n",
              "      <td>protein_coding</td>\n",
              "      <td>chr1</td>\n",
              "      <td>-</td>\n",
              "      <td>5</td>\n",
              "    </tr>\n",
              "    <tr>\n",
              "      <th>4</th>\n",
              "      <td>C1orf112</td>\n",
              "      <td>protein_coding</td>\n",
              "      <td>chr1</td>\n",
              "      <td>+</td>\n",
              "      <td>9</td>\n",
              "    </tr>\n",
              "  </tbody>\n",
              "</table>\n",
              "</div>\n",
              "    <div class=\"colab-df-buttons\">\n",
              "\n",
              "  <div class=\"colab-df-container\">\n",
              "    <button class=\"colab-df-convert\" onclick=\"convertToInteractive('df-1961aa55-382f-4fde-9e5c-eb4e5f8369e4')\"\n",
              "            title=\"Convert this dataframe to an interactive table.\"\n",
              "            style=\"display:none;\">\n",
              "\n",
              "  <svg xmlns=\"http://www.w3.org/2000/svg\" height=\"24px\" viewBox=\"0 -960 960 960\">\n",
              "    <path d=\"M120-120v-720h720v720H120Zm60-500h600v-160H180v160Zm220 220h160v-160H400v160Zm0 220h160v-160H400v160ZM180-400h160v-160H180v160Zm440 0h160v-160H620v160ZM180-180h160v-160H180v160Zm440 0h160v-160H620v160Z\"/>\n",
              "  </svg>\n",
              "    </button>\n",
              "\n",
              "  <style>\n",
              "    .colab-df-container {\n",
              "      display:flex;\n",
              "      gap: 12px;\n",
              "    }\n",
              "\n",
              "    .colab-df-convert {\n",
              "      background-color: #E8F0FE;\n",
              "      border: none;\n",
              "      border-radius: 50%;\n",
              "      cursor: pointer;\n",
              "      display: none;\n",
              "      fill: #1967D2;\n",
              "      height: 32px;\n",
              "      padding: 0 0 0 0;\n",
              "      width: 32px;\n",
              "    }\n",
              "\n",
              "    .colab-df-convert:hover {\n",
              "      background-color: #E2EBFA;\n",
              "      box-shadow: 0px 1px 2px rgba(60, 64, 67, 0.3), 0px 1px 3px 1px rgba(60, 64, 67, 0.15);\n",
              "      fill: #174EA6;\n",
              "    }\n",
              "\n",
              "    .colab-df-buttons div {\n",
              "      margin-bottom: 4px;\n",
              "    }\n",
              "\n",
              "    [theme=dark] .colab-df-convert {\n",
              "      background-color: #3B4455;\n",
              "      fill: #D2E3FC;\n",
              "    }\n",
              "\n",
              "    [theme=dark] .colab-df-convert:hover {\n",
              "      background-color: #434B5C;\n",
              "      box-shadow: 0px 1px 3px 1px rgba(0, 0, 0, 0.15);\n",
              "      filter: drop-shadow(0px 1px 2px rgba(0, 0, 0, 0.3));\n",
              "      fill: #FFFFFF;\n",
              "    }\n",
              "  </style>\n",
              "\n",
              "    <script>\n",
              "      const buttonEl =\n",
              "        document.querySelector('#df-1961aa55-382f-4fde-9e5c-eb4e5f8369e4 button.colab-df-convert');\n",
              "      buttonEl.style.display =\n",
              "        google.colab.kernel.accessAllowed ? 'block' : 'none';\n",
              "\n",
              "      async function convertToInteractive(key) {\n",
              "        const element = document.querySelector('#df-1961aa55-382f-4fde-9e5c-eb4e5f8369e4');\n",
              "        const dataTable =\n",
              "          await google.colab.kernel.invokeFunction('convertToInteractive',\n",
              "                                                    [key], {});\n",
              "        if (!dataTable) return;\n",
              "\n",
              "        const docLinkHtml = 'Like what you see? Visit the ' +\n",
              "          '<a target=\"_blank\" href=https://colab.research.google.com/notebooks/data_table.ipynb>data table notebook</a>'\n",
              "          + ' to learn more about interactive tables.';\n",
              "        element.innerHTML = '';\n",
              "        dataTable['output_type'] = 'display_data';\n",
              "        await google.colab.output.renderOutput(dataTable, element);\n",
              "        const docLink = document.createElement('div');\n",
              "        docLink.innerHTML = docLinkHtml;\n",
              "        element.appendChild(docLink);\n",
              "      }\n",
              "    </script>\n",
              "  </div>\n",
              "\n",
              "\n",
              "<div id=\"df-734e3ba8-36f7-47ab-9ab0-cbbc191f8371\">\n",
              "  <button class=\"colab-df-quickchart\" onclick=\"quickchart('df-734e3ba8-36f7-47ab-9ab0-cbbc191f8371')\"\n",
              "            title=\"Suggest charts\"\n",
              "            style=\"display:none;\">\n",
              "\n",
              "<svg xmlns=\"http://www.w3.org/2000/svg\" height=\"24px\"viewBox=\"0 0 24 24\"\n",
              "     width=\"24px\">\n",
              "    <g>\n",
              "        <path d=\"M19 3H5c-1.1 0-2 .9-2 2v14c0 1.1.9 2 2 2h14c1.1 0 2-.9 2-2V5c0-1.1-.9-2-2-2zM9 17H7v-7h2v7zm4 0h-2V7h2v10zm4 0h-2v-4h2v4z\"/>\n",
              "    </g>\n",
              "</svg>\n",
              "  </button>\n",
              "\n",
              "<style>\n",
              "  .colab-df-quickchart {\n",
              "      --bg-color: #E8F0FE;\n",
              "      --fill-color: #1967D2;\n",
              "      --hover-bg-color: #E2EBFA;\n",
              "      --hover-fill-color: #174EA6;\n",
              "      --disabled-fill-color: #AAA;\n",
              "      --disabled-bg-color: #DDD;\n",
              "  }\n",
              "\n",
              "  [theme=dark] .colab-df-quickchart {\n",
              "      --bg-color: #3B4455;\n",
              "      --fill-color: #D2E3FC;\n",
              "      --hover-bg-color: #434B5C;\n",
              "      --hover-fill-color: #FFFFFF;\n",
              "      --disabled-bg-color: #3B4455;\n",
              "      --disabled-fill-color: #666;\n",
              "  }\n",
              "\n",
              "  .colab-df-quickchart {\n",
              "    background-color: var(--bg-color);\n",
              "    border: none;\n",
              "    border-radius: 50%;\n",
              "    cursor: pointer;\n",
              "    display: none;\n",
              "    fill: var(--fill-color);\n",
              "    height: 32px;\n",
              "    padding: 0;\n",
              "    width: 32px;\n",
              "  }\n",
              "\n",
              "  .colab-df-quickchart:hover {\n",
              "    background-color: var(--hover-bg-color);\n",
              "    box-shadow: 0 1px 2px rgba(60, 64, 67, 0.3), 0 1px 3px 1px rgba(60, 64, 67, 0.15);\n",
              "    fill: var(--button-hover-fill-color);\n",
              "  }\n",
              "\n",
              "  .colab-df-quickchart-complete:disabled,\n",
              "  .colab-df-quickchart-complete:disabled:hover {\n",
              "    background-color: var(--disabled-bg-color);\n",
              "    fill: var(--disabled-fill-color);\n",
              "    box-shadow: none;\n",
              "  }\n",
              "\n",
              "  .colab-df-spinner {\n",
              "    border: 2px solid var(--fill-color);\n",
              "    border-color: transparent;\n",
              "    border-bottom-color: var(--fill-color);\n",
              "    animation:\n",
              "      spin 1s steps(1) infinite;\n",
              "  }\n",
              "\n",
              "  @keyframes spin {\n",
              "    0% {\n",
              "      border-color: transparent;\n",
              "      border-bottom-color: var(--fill-color);\n",
              "      border-left-color: var(--fill-color);\n",
              "    }\n",
              "    20% {\n",
              "      border-color: transparent;\n",
              "      border-left-color: var(--fill-color);\n",
              "      border-top-color: var(--fill-color);\n",
              "    }\n",
              "    30% {\n",
              "      border-color: transparent;\n",
              "      border-left-color: var(--fill-color);\n",
              "      border-top-color: var(--fill-color);\n",
              "      border-right-color: var(--fill-color);\n",
              "    }\n",
              "    40% {\n",
              "      border-color: transparent;\n",
              "      border-right-color: var(--fill-color);\n",
              "      border-top-color: var(--fill-color);\n",
              "    }\n",
              "    60% {\n",
              "      border-color: transparent;\n",
              "      border-right-color: var(--fill-color);\n",
              "    }\n",
              "    80% {\n",
              "      border-color: transparent;\n",
              "      border-right-color: var(--fill-color);\n",
              "      border-bottom-color: var(--fill-color);\n",
              "    }\n",
              "    90% {\n",
              "      border-color: transparent;\n",
              "      border-bottom-color: var(--fill-color);\n",
              "    }\n",
              "  }\n",
              "</style>\n",
              "\n",
              "  <script>\n",
              "    async function quickchart(key) {\n",
              "      const quickchartButtonEl =\n",
              "        document.querySelector('#' + key + ' button');\n",
              "      quickchartButtonEl.disabled = true;  // To prevent multiple clicks.\n",
              "      quickchartButtonEl.classList.add('colab-df-spinner');\n",
              "      try {\n",
              "        const charts = await google.colab.kernel.invokeFunction(\n",
              "            'suggestCharts', [key], {});\n",
              "      } catch (error) {\n",
              "        console.error('Error during call to suggestCharts:', error);\n",
              "      }\n",
              "      quickchartButtonEl.classList.remove('colab-df-spinner');\n",
              "      quickchartButtonEl.classList.add('colab-df-quickchart-complete');\n",
              "    }\n",
              "    (() => {\n",
              "      let quickchartButtonEl =\n",
              "        document.querySelector('#df-734e3ba8-36f7-47ab-9ab0-cbbc191f8371 button');\n",
              "      quickchartButtonEl.style.display =\n",
              "        google.colab.kernel.accessAllowed ? 'block' : 'none';\n",
              "    })();\n",
              "  </script>\n",
              "</div>\n",
              "\n",
              "    </div>\n",
              "  </div>\n"
            ],
            "application/vnd.google.colaboratory.intrinsic+json": {
              "type": "dataframe",
              "variable_name": "df",
              "summary": "{\n  \"name\": \"df\",\n  \"rows\": 51327,\n  \"fields\": [\n    {\n      \"column\": \"gene_name\",\n      \"properties\": {\n        \"dtype\": \"string\",\n        \"num_unique_values\": 51327,\n        \"samples\": [\n          \"MIR518F\",\n          \"CTB-31O20.8\",\n          \"OR5AL1\"\n        ],\n        \"semantic_type\": \"\",\n        \"description\": \"\"\n      }\n    },\n    {\n      \"column\": \"gene_biotype\",\n      \"properties\": {\n        \"dtype\": \"category\",\n        \"num_unique_values\": 41,\n        \"samples\": [\n          \"TR_V_pseudogene\",\n          \"transcribed_processed_pseudogene\",\n          \"snoRNA\"\n        ],\n        \"semantic_type\": \"\",\n        \"description\": \"\"\n      }\n    },\n    {\n      \"column\": \"chromosome\",\n      \"properties\": {\n        \"dtype\": \"category\",\n        \"num_unique_values\": 56,\n        \"samples\": [\n          \"chrX\",\n          \"chr7\",\n          \"chrCHR_HSCHR17_1_CTG4\"\n        ],\n        \"semantic_type\": \"\",\n        \"description\": \"\"\n      }\n    },\n    {\n      \"column\": \"strand\",\n      \"properties\": {\n        \"dtype\": \"category\",\n        \"num_unique_values\": 2,\n        \"samples\": [\n          \"+\",\n          \"-\"\n        ],\n        \"semantic_type\": \"\",\n        \"description\": \"\"\n      }\n    },\n    {\n      \"column\": \"transcript_count\",\n      \"properties\": {\n        \"dtype\": \"number\",\n        \"std\": 5,\n        \"min\": 1,\n        \"max\": 170,\n        \"num_unique_values\": 74,\n        \"samples\": [\n          7,\n          74\n        ],\n        \"semantic_type\": \"\",\n        \"description\": \"\"\n      }\n    }\n  ]\n}"
            }
          },
          "metadata": {},
          "execution_count": 3
        }
      ]
    },
    {
      "cell_type": "code",
      "source": [
        "# head() accepts also a number which configures the number of top rows of the dataframe to be displayed %%\n",
        "df.head(10)"
      ],
      "metadata": {
        "colab": {
          "base_uri": "https://localhost:8080/",
          "height": 363
        },
        "id": "60jWljyT7455",
        "outputId": "5a8faedb-0dc7-4a64-e09d-696b7c904335"
      },
      "execution_count": null,
      "outputs": [
        {
          "output_type": "execute_result",
          "data": {
            "text/plain": [
              "  gene_name    gene_biotype chromosome strand  transcript_count\n",
              "0    TSPAN6  protein_coding       chrX      -                 5\n",
              "1      TNMD  protein_coding       chrX      +                 2\n",
              "2      DPM1  protein_coding      chr20      -                 6\n",
              "3     SCYL3  protein_coding       chr1      -                 5\n",
              "4  C1orf112  protein_coding       chr1      +                 9\n",
              "5       FGR  protein_coding       chr1      -                 7\n",
              "6       CFH  protein_coding       chr1      +                 6\n",
              "7     FUCA2  protein_coding       chr6      -                 3\n",
              "8      GCLC  protein_coding       chr6      -                13\n",
              "9      NFYA  protein_coding       chr6      +                 2"
            ],
            "text/html": [
              "\n",
              "  <div id=\"df-7fe76859-bb99-45f8-b574-3605725d546d\" class=\"colab-df-container\">\n",
              "    <div>\n",
              "<style scoped>\n",
              "    .dataframe tbody tr th:only-of-type {\n",
              "        vertical-align: middle;\n",
              "    }\n",
              "\n",
              "    .dataframe tbody tr th {\n",
              "        vertical-align: top;\n",
              "    }\n",
              "\n",
              "    .dataframe thead th {\n",
              "        text-align: right;\n",
              "    }\n",
              "</style>\n",
              "<table border=\"1\" class=\"dataframe\">\n",
              "  <thead>\n",
              "    <tr style=\"text-align: right;\">\n",
              "      <th></th>\n",
              "      <th>gene_name</th>\n",
              "      <th>gene_biotype</th>\n",
              "      <th>chromosome</th>\n",
              "      <th>strand</th>\n",
              "      <th>transcript_count</th>\n",
              "    </tr>\n",
              "  </thead>\n",
              "  <tbody>\n",
              "    <tr>\n",
              "      <th>0</th>\n",
              "      <td>TSPAN6</td>\n",
              "      <td>protein_coding</td>\n",
              "      <td>chrX</td>\n",
              "      <td>-</td>\n",
              "      <td>5</td>\n",
              "    </tr>\n",
              "    <tr>\n",
              "      <th>1</th>\n",
              "      <td>TNMD</td>\n",
              "      <td>protein_coding</td>\n",
              "      <td>chrX</td>\n",
              "      <td>+</td>\n",
              "      <td>2</td>\n",
              "    </tr>\n",
              "    <tr>\n",
              "      <th>2</th>\n",
              "      <td>DPM1</td>\n",
              "      <td>protein_coding</td>\n",
              "      <td>chr20</td>\n",
              "      <td>-</td>\n",
              "      <td>6</td>\n",
              "    </tr>\n",
              "    <tr>\n",
              "      <th>3</th>\n",
              "      <td>SCYL3</td>\n",
              "      <td>protein_coding</td>\n",
              "      <td>chr1</td>\n",
              "      <td>-</td>\n",
              "      <td>5</td>\n",
              "    </tr>\n",
              "    <tr>\n",
              "      <th>4</th>\n",
              "      <td>C1orf112</td>\n",
              "      <td>protein_coding</td>\n",
              "      <td>chr1</td>\n",
              "      <td>+</td>\n",
              "      <td>9</td>\n",
              "    </tr>\n",
              "    <tr>\n",
              "      <th>5</th>\n",
              "      <td>FGR</td>\n",
              "      <td>protein_coding</td>\n",
              "      <td>chr1</td>\n",
              "      <td>-</td>\n",
              "      <td>7</td>\n",
              "    </tr>\n",
              "    <tr>\n",
              "      <th>6</th>\n",
              "      <td>CFH</td>\n",
              "      <td>protein_coding</td>\n",
              "      <td>chr1</td>\n",
              "      <td>+</td>\n",
              "      <td>6</td>\n",
              "    </tr>\n",
              "    <tr>\n",
              "      <th>7</th>\n",
              "      <td>FUCA2</td>\n",
              "      <td>protein_coding</td>\n",
              "      <td>chr6</td>\n",
              "      <td>-</td>\n",
              "      <td>3</td>\n",
              "    </tr>\n",
              "    <tr>\n",
              "      <th>8</th>\n",
              "      <td>GCLC</td>\n",
              "      <td>protein_coding</td>\n",
              "      <td>chr6</td>\n",
              "      <td>-</td>\n",
              "      <td>13</td>\n",
              "    </tr>\n",
              "    <tr>\n",
              "      <th>9</th>\n",
              "      <td>NFYA</td>\n",
              "      <td>protein_coding</td>\n",
              "      <td>chr6</td>\n",
              "      <td>+</td>\n",
              "      <td>2</td>\n",
              "    </tr>\n",
              "  </tbody>\n",
              "</table>\n",
              "</div>\n",
              "    <div class=\"colab-df-buttons\">\n",
              "\n",
              "  <div class=\"colab-df-container\">\n",
              "    <button class=\"colab-df-convert\" onclick=\"convertToInteractive('df-7fe76859-bb99-45f8-b574-3605725d546d')\"\n",
              "            title=\"Convert this dataframe to an interactive table.\"\n",
              "            style=\"display:none;\">\n",
              "\n",
              "  <svg xmlns=\"http://www.w3.org/2000/svg\" height=\"24px\" viewBox=\"0 -960 960 960\">\n",
              "    <path d=\"M120-120v-720h720v720H120Zm60-500h600v-160H180v160Zm220 220h160v-160H400v160Zm0 220h160v-160H400v160ZM180-400h160v-160H180v160Zm440 0h160v-160H620v160ZM180-180h160v-160H180v160Zm440 0h160v-160H620v160Z\"/>\n",
              "  </svg>\n",
              "    </button>\n",
              "\n",
              "  <style>\n",
              "    .colab-df-container {\n",
              "      display:flex;\n",
              "      gap: 12px;\n",
              "    }\n",
              "\n",
              "    .colab-df-convert {\n",
              "      background-color: #E8F0FE;\n",
              "      border: none;\n",
              "      border-radius: 50%;\n",
              "      cursor: pointer;\n",
              "      display: none;\n",
              "      fill: #1967D2;\n",
              "      height: 32px;\n",
              "      padding: 0 0 0 0;\n",
              "      width: 32px;\n",
              "    }\n",
              "\n",
              "    .colab-df-convert:hover {\n",
              "      background-color: #E2EBFA;\n",
              "      box-shadow: 0px 1px 2px rgba(60, 64, 67, 0.3), 0px 1px 3px 1px rgba(60, 64, 67, 0.15);\n",
              "      fill: #174EA6;\n",
              "    }\n",
              "\n",
              "    .colab-df-buttons div {\n",
              "      margin-bottom: 4px;\n",
              "    }\n",
              "\n",
              "    [theme=dark] .colab-df-convert {\n",
              "      background-color: #3B4455;\n",
              "      fill: #D2E3FC;\n",
              "    }\n",
              "\n",
              "    [theme=dark] .colab-df-convert:hover {\n",
              "      background-color: #434B5C;\n",
              "      box-shadow: 0px 1px 3px 1px rgba(0, 0, 0, 0.15);\n",
              "      filter: drop-shadow(0px 1px 2px rgba(0, 0, 0, 0.3));\n",
              "      fill: #FFFFFF;\n",
              "    }\n",
              "  </style>\n",
              "\n",
              "    <script>\n",
              "      const buttonEl =\n",
              "        document.querySelector('#df-7fe76859-bb99-45f8-b574-3605725d546d button.colab-df-convert');\n",
              "      buttonEl.style.display =\n",
              "        google.colab.kernel.accessAllowed ? 'block' : 'none';\n",
              "\n",
              "      async function convertToInteractive(key) {\n",
              "        const element = document.querySelector('#df-7fe76859-bb99-45f8-b574-3605725d546d');\n",
              "        const dataTable =\n",
              "          await google.colab.kernel.invokeFunction('convertToInteractive',\n",
              "                                                    [key], {});\n",
              "        if (!dataTable) return;\n",
              "\n",
              "        const docLinkHtml = 'Like what you see? Visit the ' +\n",
              "          '<a target=\"_blank\" href=https://colab.research.google.com/notebooks/data_table.ipynb>data table notebook</a>'\n",
              "          + ' to learn more about interactive tables.';\n",
              "        element.innerHTML = '';\n",
              "        dataTable['output_type'] = 'display_data';\n",
              "        await google.colab.output.renderOutput(dataTable, element);\n",
              "        const docLink = document.createElement('div');\n",
              "        docLink.innerHTML = docLinkHtml;\n",
              "        element.appendChild(docLink);\n",
              "      }\n",
              "    </script>\n",
              "  </div>\n",
              "\n",
              "\n",
              "<div id=\"df-ee378078-26ac-4659-93d7-53b9e1a9afde\">\n",
              "  <button class=\"colab-df-quickchart\" onclick=\"quickchart('df-ee378078-26ac-4659-93d7-53b9e1a9afde')\"\n",
              "            title=\"Suggest charts\"\n",
              "            style=\"display:none;\">\n",
              "\n",
              "<svg xmlns=\"http://www.w3.org/2000/svg\" height=\"24px\"viewBox=\"0 0 24 24\"\n",
              "     width=\"24px\">\n",
              "    <g>\n",
              "        <path d=\"M19 3H5c-1.1 0-2 .9-2 2v14c0 1.1.9 2 2 2h14c1.1 0 2-.9 2-2V5c0-1.1-.9-2-2-2zM9 17H7v-7h2v7zm4 0h-2V7h2v10zm4 0h-2v-4h2v4z\"/>\n",
              "    </g>\n",
              "</svg>\n",
              "  </button>\n",
              "\n",
              "<style>\n",
              "  .colab-df-quickchart {\n",
              "      --bg-color: #E8F0FE;\n",
              "      --fill-color: #1967D2;\n",
              "      --hover-bg-color: #E2EBFA;\n",
              "      --hover-fill-color: #174EA6;\n",
              "      --disabled-fill-color: #AAA;\n",
              "      --disabled-bg-color: #DDD;\n",
              "  }\n",
              "\n",
              "  [theme=dark] .colab-df-quickchart {\n",
              "      --bg-color: #3B4455;\n",
              "      --fill-color: #D2E3FC;\n",
              "      --hover-bg-color: #434B5C;\n",
              "      --hover-fill-color: #FFFFFF;\n",
              "      --disabled-bg-color: #3B4455;\n",
              "      --disabled-fill-color: #666;\n",
              "  }\n",
              "\n",
              "  .colab-df-quickchart {\n",
              "    background-color: var(--bg-color);\n",
              "    border: none;\n",
              "    border-radius: 50%;\n",
              "    cursor: pointer;\n",
              "    display: none;\n",
              "    fill: var(--fill-color);\n",
              "    height: 32px;\n",
              "    padding: 0;\n",
              "    width: 32px;\n",
              "  }\n",
              "\n",
              "  .colab-df-quickchart:hover {\n",
              "    background-color: var(--hover-bg-color);\n",
              "    box-shadow: 0 1px 2px rgba(60, 64, 67, 0.3), 0 1px 3px 1px rgba(60, 64, 67, 0.15);\n",
              "    fill: var(--button-hover-fill-color);\n",
              "  }\n",
              "\n",
              "  .colab-df-quickchart-complete:disabled,\n",
              "  .colab-df-quickchart-complete:disabled:hover {\n",
              "    background-color: var(--disabled-bg-color);\n",
              "    fill: var(--disabled-fill-color);\n",
              "    box-shadow: none;\n",
              "  }\n",
              "\n",
              "  .colab-df-spinner {\n",
              "    border: 2px solid var(--fill-color);\n",
              "    border-color: transparent;\n",
              "    border-bottom-color: var(--fill-color);\n",
              "    animation:\n",
              "      spin 1s steps(1) infinite;\n",
              "  }\n",
              "\n",
              "  @keyframes spin {\n",
              "    0% {\n",
              "      border-color: transparent;\n",
              "      border-bottom-color: var(--fill-color);\n",
              "      border-left-color: var(--fill-color);\n",
              "    }\n",
              "    20% {\n",
              "      border-color: transparent;\n",
              "      border-left-color: var(--fill-color);\n",
              "      border-top-color: var(--fill-color);\n",
              "    }\n",
              "    30% {\n",
              "      border-color: transparent;\n",
              "      border-left-color: var(--fill-color);\n",
              "      border-top-color: var(--fill-color);\n",
              "      border-right-color: var(--fill-color);\n",
              "    }\n",
              "    40% {\n",
              "      border-color: transparent;\n",
              "      border-right-color: var(--fill-color);\n",
              "      border-top-color: var(--fill-color);\n",
              "    }\n",
              "    60% {\n",
              "      border-color: transparent;\n",
              "      border-right-color: var(--fill-color);\n",
              "    }\n",
              "    80% {\n",
              "      border-color: transparent;\n",
              "      border-right-color: var(--fill-color);\n",
              "      border-bottom-color: var(--fill-color);\n",
              "    }\n",
              "    90% {\n",
              "      border-color: transparent;\n",
              "      border-bottom-color: var(--fill-color);\n",
              "    }\n",
              "  }\n",
              "</style>\n",
              "\n",
              "  <script>\n",
              "    async function quickchart(key) {\n",
              "      const quickchartButtonEl =\n",
              "        document.querySelector('#' + key + ' button');\n",
              "      quickchartButtonEl.disabled = true;  // To prevent multiple clicks.\n",
              "      quickchartButtonEl.classList.add('colab-df-spinner');\n",
              "      try {\n",
              "        const charts = await google.colab.kernel.invokeFunction(\n",
              "            'suggestCharts', [key], {});\n",
              "      } catch (error) {\n",
              "        console.error('Error during call to suggestCharts:', error);\n",
              "      }\n",
              "      quickchartButtonEl.classList.remove('colab-df-spinner');\n",
              "      quickchartButtonEl.classList.add('colab-df-quickchart-complete');\n",
              "    }\n",
              "    (() => {\n",
              "      let quickchartButtonEl =\n",
              "        document.querySelector('#df-ee378078-26ac-4659-93d7-53b9e1a9afde button');\n",
              "      quickchartButtonEl.style.display =\n",
              "        google.colab.kernel.accessAllowed ? 'block' : 'none';\n",
              "    })();\n",
              "  </script>\n",
              "</div>\n",
              "\n",
              "    </div>\n",
              "  </div>\n"
            ],
            "application/vnd.google.colaboratory.intrinsic+json": {
              "type": "dataframe",
              "variable_name": "df",
              "summary": "{\n  \"name\": \"df\",\n  \"rows\": 51327,\n  \"fields\": [\n    {\n      \"column\": \"gene_name\",\n      \"properties\": {\n        \"dtype\": \"string\",\n        \"num_unique_values\": 51327,\n        \"samples\": [\n          \"MIR518F\",\n          \"CTB-31O20.8\",\n          \"OR5AL1\"\n        ],\n        \"semantic_type\": \"\",\n        \"description\": \"\"\n      }\n    },\n    {\n      \"column\": \"gene_biotype\",\n      \"properties\": {\n        \"dtype\": \"category\",\n        \"num_unique_values\": 41,\n        \"samples\": [\n          \"TR_V_pseudogene\",\n          \"transcribed_processed_pseudogene\",\n          \"snoRNA\"\n        ],\n        \"semantic_type\": \"\",\n        \"description\": \"\"\n      }\n    },\n    {\n      \"column\": \"chromosome\",\n      \"properties\": {\n        \"dtype\": \"category\",\n        \"num_unique_values\": 56,\n        \"samples\": [\n          \"chrX\",\n          \"chr7\",\n          \"chrCHR_HSCHR17_1_CTG4\"\n        ],\n        \"semantic_type\": \"\",\n        \"description\": \"\"\n      }\n    },\n    {\n      \"column\": \"strand\",\n      \"properties\": {\n        \"dtype\": \"category\",\n        \"num_unique_values\": 2,\n        \"samples\": [\n          \"+\",\n          \"-\"\n        ],\n        \"semantic_type\": \"\",\n        \"description\": \"\"\n      }\n    },\n    {\n      \"column\": \"transcript_count\",\n      \"properties\": {\n        \"dtype\": \"number\",\n        \"std\": 5,\n        \"min\": 1,\n        \"max\": 170,\n        \"num_unique_values\": 74,\n        \"samples\": [\n          7,\n          74\n        ],\n        \"semantic_type\": \"\",\n        \"description\": \"\"\n      }\n    }\n  ]\n}"
            }
          },
          "metadata": {},
          "execution_count": 4
        }
      ]
    },
    {
      "cell_type": "markdown",
      "source": [
        "Displaying the Dataframe's last rows."
      ],
      "metadata": {
        "id": "-g4gY_RoHyEK"
      }
    },
    {
      "cell_type": "code",
      "source": [
        "# similarly tail() displays the last 5 rows of a dataframe\n",
        "df.tail()"
      ],
      "metadata": {
        "colab": {
          "base_uri": "https://localhost:8080/",
          "height": 206
        },
        "id": "HBXXCBfi742t",
        "outputId": "cabc2e82-48f3-4e1d-da77-daee146fa55f"
      },
      "execution_count": null,
      "outputs": [
        {
          "output_type": "execute_result",
          "data": {
            "text/plain": [
              "           gene_name                   gene_biotype chromosome strand  \\\n",
              "51322        MT-RNR1                        Mt_rRNA      chrMT      +   \n",
              "51323       CRYM-AS1  bidirectional_promoter_lncRNA      chr16      +   \n",
              "51324  RP11-100E13.1  bidirectional_promoter_lncRNA       chr1      -   \n",
              "51325       VTRNA2-1                       vaultRNA       chr5      -   \n",
              "51326         BCYRN1                          scRNA       chr2      +   \n",
              "\n",
              "       transcript_count  \n",
              "51322                 1  \n",
              "51323                 3  \n",
              "51324                 1  \n",
              "51325                 1  \n",
              "51326                 1  "
            ],
            "text/html": [
              "\n",
              "  <div id=\"df-8a76129e-a6cd-4dab-b278-da6dece357c2\" class=\"colab-df-container\">\n",
              "    <div>\n",
              "<style scoped>\n",
              "    .dataframe tbody tr th:only-of-type {\n",
              "        vertical-align: middle;\n",
              "    }\n",
              "\n",
              "    .dataframe tbody tr th {\n",
              "        vertical-align: top;\n",
              "    }\n",
              "\n",
              "    .dataframe thead th {\n",
              "        text-align: right;\n",
              "    }\n",
              "</style>\n",
              "<table border=\"1\" class=\"dataframe\">\n",
              "  <thead>\n",
              "    <tr style=\"text-align: right;\">\n",
              "      <th></th>\n",
              "      <th>gene_name</th>\n",
              "      <th>gene_biotype</th>\n",
              "      <th>chromosome</th>\n",
              "      <th>strand</th>\n",
              "      <th>transcript_count</th>\n",
              "    </tr>\n",
              "  </thead>\n",
              "  <tbody>\n",
              "    <tr>\n",
              "      <th>51322</th>\n",
              "      <td>MT-RNR1</td>\n",
              "      <td>Mt_rRNA</td>\n",
              "      <td>chrMT</td>\n",
              "      <td>+</td>\n",
              "      <td>1</td>\n",
              "    </tr>\n",
              "    <tr>\n",
              "      <th>51323</th>\n",
              "      <td>CRYM-AS1</td>\n",
              "      <td>bidirectional_promoter_lncRNA</td>\n",
              "      <td>chr16</td>\n",
              "      <td>+</td>\n",
              "      <td>3</td>\n",
              "    </tr>\n",
              "    <tr>\n",
              "      <th>51324</th>\n",
              "      <td>RP11-100E13.1</td>\n",
              "      <td>bidirectional_promoter_lncRNA</td>\n",
              "      <td>chr1</td>\n",
              "      <td>-</td>\n",
              "      <td>1</td>\n",
              "    </tr>\n",
              "    <tr>\n",
              "      <th>51325</th>\n",
              "      <td>VTRNA2-1</td>\n",
              "      <td>vaultRNA</td>\n",
              "      <td>chr5</td>\n",
              "      <td>-</td>\n",
              "      <td>1</td>\n",
              "    </tr>\n",
              "    <tr>\n",
              "      <th>51326</th>\n",
              "      <td>BCYRN1</td>\n",
              "      <td>scRNA</td>\n",
              "      <td>chr2</td>\n",
              "      <td>+</td>\n",
              "      <td>1</td>\n",
              "    </tr>\n",
              "  </tbody>\n",
              "</table>\n",
              "</div>\n",
              "    <div class=\"colab-df-buttons\">\n",
              "\n",
              "  <div class=\"colab-df-container\">\n",
              "    <button class=\"colab-df-convert\" onclick=\"convertToInteractive('df-8a76129e-a6cd-4dab-b278-da6dece357c2')\"\n",
              "            title=\"Convert this dataframe to an interactive table.\"\n",
              "            style=\"display:none;\">\n",
              "\n",
              "  <svg xmlns=\"http://www.w3.org/2000/svg\" height=\"24px\" viewBox=\"0 -960 960 960\">\n",
              "    <path d=\"M120-120v-720h720v720H120Zm60-500h600v-160H180v160Zm220 220h160v-160H400v160Zm0 220h160v-160H400v160ZM180-400h160v-160H180v160Zm440 0h160v-160H620v160ZM180-180h160v-160H180v160Zm440 0h160v-160H620v160Z\"/>\n",
              "  </svg>\n",
              "    </button>\n",
              "\n",
              "  <style>\n",
              "    .colab-df-container {\n",
              "      display:flex;\n",
              "      gap: 12px;\n",
              "    }\n",
              "\n",
              "    .colab-df-convert {\n",
              "      background-color: #E8F0FE;\n",
              "      border: none;\n",
              "      border-radius: 50%;\n",
              "      cursor: pointer;\n",
              "      display: none;\n",
              "      fill: #1967D2;\n",
              "      height: 32px;\n",
              "      padding: 0 0 0 0;\n",
              "      width: 32px;\n",
              "    }\n",
              "\n",
              "    .colab-df-convert:hover {\n",
              "      background-color: #E2EBFA;\n",
              "      box-shadow: 0px 1px 2px rgba(60, 64, 67, 0.3), 0px 1px 3px 1px rgba(60, 64, 67, 0.15);\n",
              "      fill: #174EA6;\n",
              "    }\n",
              "\n",
              "    .colab-df-buttons div {\n",
              "      margin-bottom: 4px;\n",
              "    }\n",
              "\n",
              "    [theme=dark] .colab-df-convert {\n",
              "      background-color: #3B4455;\n",
              "      fill: #D2E3FC;\n",
              "    }\n",
              "\n",
              "    [theme=dark] .colab-df-convert:hover {\n",
              "      background-color: #434B5C;\n",
              "      box-shadow: 0px 1px 3px 1px rgba(0, 0, 0, 0.15);\n",
              "      filter: drop-shadow(0px 1px 2px rgba(0, 0, 0, 0.3));\n",
              "      fill: #FFFFFF;\n",
              "    }\n",
              "  </style>\n",
              "\n",
              "    <script>\n",
              "      const buttonEl =\n",
              "        document.querySelector('#df-8a76129e-a6cd-4dab-b278-da6dece357c2 button.colab-df-convert');\n",
              "      buttonEl.style.display =\n",
              "        google.colab.kernel.accessAllowed ? 'block' : 'none';\n",
              "\n",
              "      async function convertToInteractive(key) {\n",
              "        const element = document.querySelector('#df-8a76129e-a6cd-4dab-b278-da6dece357c2');\n",
              "        const dataTable =\n",
              "          await google.colab.kernel.invokeFunction('convertToInteractive',\n",
              "                                                    [key], {});\n",
              "        if (!dataTable) return;\n",
              "\n",
              "        const docLinkHtml = 'Like what you see? Visit the ' +\n",
              "          '<a target=\"_blank\" href=https://colab.research.google.com/notebooks/data_table.ipynb>data table notebook</a>'\n",
              "          + ' to learn more about interactive tables.';\n",
              "        element.innerHTML = '';\n",
              "        dataTable['output_type'] = 'display_data';\n",
              "        await google.colab.output.renderOutput(dataTable, element);\n",
              "        const docLink = document.createElement('div');\n",
              "        docLink.innerHTML = docLinkHtml;\n",
              "        element.appendChild(docLink);\n",
              "      }\n",
              "    </script>\n",
              "  </div>\n",
              "\n",
              "\n",
              "<div id=\"df-ef22a06f-1ed6-4d16-9d4f-0988fe5ecb3d\">\n",
              "  <button class=\"colab-df-quickchart\" onclick=\"quickchart('df-ef22a06f-1ed6-4d16-9d4f-0988fe5ecb3d')\"\n",
              "            title=\"Suggest charts\"\n",
              "            style=\"display:none;\">\n",
              "\n",
              "<svg xmlns=\"http://www.w3.org/2000/svg\" height=\"24px\"viewBox=\"0 0 24 24\"\n",
              "     width=\"24px\">\n",
              "    <g>\n",
              "        <path d=\"M19 3H5c-1.1 0-2 .9-2 2v14c0 1.1.9 2 2 2h14c1.1 0 2-.9 2-2V5c0-1.1-.9-2-2-2zM9 17H7v-7h2v7zm4 0h-2V7h2v10zm4 0h-2v-4h2v4z\"/>\n",
              "    </g>\n",
              "</svg>\n",
              "  </button>\n",
              "\n",
              "<style>\n",
              "  .colab-df-quickchart {\n",
              "      --bg-color: #E8F0FE;\n",
              "      --fill-color: #1967D2;\n",
              "      --hover-bg-color: #E2EBFA;\n",
              "      --hover-fill-color: #174EA6;\n",
              "      --disabled-fill-color: #AAA;\n",
              "      --disabled-bg-color: #DDD;\n",
              "  }\n",
              "\n",
              "  [theme=dark] .colab-df-quickchart {\n",
              "      --bg-color: #3B4455;\n",
              "      --fill-color: #D2E3FC;\n",
              "      --hover-bg-color: #434B5C;\n",
              "      --hover-fill-color: #FFFFFF;\n",
              "      --disabled-bg-color: #3B4455;\n",
              "      --disabled-fill-color: #666;\n",
              "  }\n",
              "\n",
              "  .colab-df-quickchart {\n",
              "    background-color: var(--bg-color);\n",
              "    border: none;\n",
              "    border-radius: 50%;\n",
              "    cursor: pointer;\n",
              "    display: none;\n",
              "    fill: var(--fill-color);\n",
              "    height: 32px;\n",
              "    padding: 0;\n",
              "    width: 32px;\n",
              "  }\n",
              "\n",
              "  .colab-df-quickchart:hover {\n",
              "    background-color: var(--hover-bg-color);\n",
              "    box-shadow: 0 1px 2px rgba(60, 64, 67, 0.3), 0 1px 3px 1px rgba(60, 64, 67, 0.15);\n",
              "    fill: var(--button-hover-fill-color);\n",
              "  }\n",
              "\n",
              "  .colab-df-quickchart-complete:disabled,\n",
              "  .colab-df-quickchart-complete:disabled:hover {\n",
              "    background-color: var(--disabled-bg-color);\n",
              "    fill: var(--disabled-fill-color);\n",
              "    box-shadow: none;\n",
              "  }\n",
              "\n",
              "  .colab-df-spinner {\n",
              "    border: 2px solid var(--fill-color);\n",
              "    border-color: transparent;\n",
              "    border-bottom-color: var(--fill-color);\n",
              "    animation:\n",
              "      spin 1s steps(1) infinite;\n",
              "  }\n",
              "\n",
              "  @keyframes spin {\n",
              "    0% {\n",
              "      border-color: transparent;\n",
              "      border-bottom-color: var(--fill-color);\n",
              "      border-left-color: var(--fill-color);\n",
              "    }\n",
              "    20% {\n",
              "      border-color: transparent;\n",
              "      border-left-color: var(--fill-color);\n",
              "      border-top-color: var(--fill-color);\n",
              "    }\n",
              "    30% {\n",
              "      border-color: transparent;\n",
              "      border-left-color: var(--fill-color);\n",
              "      border-top-color: var(--fill-color);\n",
              "      border-right-color: var(--fill-color);\n",
              "    }\n",
              "    40% {\n",
              "      border-color: transparent;\n",
              "      border-right-color: var(--fill-color);\n",
              "      border-top-color: var(--fill-color);\n",
              "    }\n",
              "    60% {\n",
              "      border-color: transparent;\n",
              "      border-right-color: var(--fill-color);\n",
              "    }\n",
              "    80% {\n",
              "      border-color: transparent;\n",
              "      border-right-color: var(--fill-color);\n",
              "      border-bottom-color: var(--fill-color);\n",
              "    }\n",
              "    90% {\n",
              "      border-color: transparent;\n",
              "      border-bottom-color: var(--fill-color);\n",
              "    }\n",
              "  }\n",
              "</style>\n",
              "\n",
              "  <script>\n",
              "    async function quickchart(key) {\n",
              "      const quickchartButtonEl =\n",
              "        document.querySelector('#' + key + ' button');\n",
              "      quickchartButtonEl.disabled = true;  // To prevent multiple clicks.\n",
              "      quickchartButtonEl.classList.add('colab-df-spinner');\n",
              "      try {\n",
              "        const charts = await google.colab.kernel.invokeFunction(\n",
              "            'suggestCharts', [key], {});\n",
              "      } catch (error) {\n",
              "        console.error('Error during call to suggestCharts:', error);\n",
              "      }\n",
              "      quickchartButtonEl.classList.remove('colab-df-spinner');\n",
              "      quickchartButtonEl.classList.add('colab-df-quickchart-complete');\n",
              "    }\n",
              "    (() => {\n",
              "      let quickchartButtonEl =\n",
              "        document.querySelector('#df-ef22a06f-1ed6-4d16-9d4f-0988fe5ecb3d button');\n",
              "      quickchartButtonEl.style.display =\n",
              "        google.colab.kernel.accessAllowed ? 'block' : 'none';\n",
              "    })();\n",
              "  </script>\n",
              "</div>\n",
              "\n",
              "    </div>\n",
              "  </div>\n"
            ],
            "application/vnd.google.colaboratory.intrinsic+json": {
              "type": "dataframe",
              "summary": "{\n  \"name\": \"df\",\n  \"rows\": 5,\n  \"fields\": [\n    {\n      \"column\": \"gene_name\",\n      \"properties\": {\n        \"dtype\": \"string\",\n        \"num_unique_values\": 5,\n        \"samples\": [\n          \"CRYM-AS1\",\n          \"BCYRN1\",\n          \"RP11-100E13.1\"\n        ],\n        \"semantic_type\": \"\",\n        \"description\": \"\"\n      }\n    },\n    {\n      \"column\": \"gene_biotype\",\n      \"properties\": {\n        \"dtype\": \"string\",\n        \"num_unique_values\": 4,\n        \"samples\": [\n          \"bidirectional_promoter_lncRNA\",\n          \"scRNA\",\n          \"Mt_rRNA\"\n        ],\n        \"semantic_type\": \"\",\n        \"description\": \"\"\n      }\n    },\n    {\n      \"column\": \"chromosome\",\n      \"properties\": {\n        \"dtype\": \"string\",\n        \"num_unique_values\": 5,\n        \"samples\": [\n          \"chr16\",\n          \"chr2\",\n          \"chr1\"\n        ],\n        \"semantic_type\": \"\",\n        \"description\": \"\"\n      }\n    },\n    {\n      \"column\": \"strand\",\n      \"properties\": {\n        \"dtype\": \"category\",\n        \"num_unique_values\": 2,\n        \"samples\": [\n          \"-\",\n          \"+\"\n        ],\n        \"semantic_type\": \"\",\n        \"description\": \"\"\n      }\n    },\n    {\n      \"column\": \"transcript_count\",\n      \"properties\": {\n        \"dtype\": \"number\",\n        \"std\": 0,\n        \"min\": 1,\n        \"max\": 3,\n        \"num_unique_values\": 2,\n        \"samples\": [\n          3,\n          1\n        ],\n        \"semantic_type\": \"\",\n        \"description\": \"\"\n      }\n    }\n  ]\n}"
            }
          },
          "metadata": {},
          "execution_count": 5
        }
      ]
    },
    {
      "cell_type": "code",
      "source": [
        "# or a different amount if an argument is specified\n",
        "df.tail(10)"
      ],
      "metadata": {
        "colab": {
          "base_uri": "https://localhost:8080/",
          "height": 363
        },
        "id": "jYFHB1rDH4gq",
        "outputId": "ead3b2e1-a286-43dc-e4fc-de9e0e2d56b8"
      },
      "execution_count": null,
      "outputs": [
        {
          "output_type": "execute_result",
          "data": {
            "text/plain": [
              "           gene_name                   gene_biotype chromosome strand  \\\n",
              "51317         IGHJ3P                IG_J_pseudogene      chr14      -   \n",
              "51318         IGHJ2P                IG_J_pseudogene      chr14      -   \n",
              "51319         OR5AL1                     pseudogene      chr11      +   \n",
              "51320         OR52E1                     pseudogene      chr11      +   \n",
              "51321        MT-RNR2                        Mt_rRNA      chrMT      +   \n",
              "51322        MT-RNR1                        Mt_rRNA      chrMT      +   \n",
              "51323       CRYM-AS1  bidirectional_promoter_lncRNA      chr16      +   \n",
              "51324  RP11-100E13.1  bidirectional_promoter_lncRNA       chr1      -   \n",
              "51325       VTRNA2-1                       vaultRNA       chr5      -   \n",
              "51326         BCYRN1                          scRNA       chr2      +   \n",
              "\n",
              "       transcript_count  \n",
              "51317                 1  \n",
              "51318                 1  \n",
              "51319                 1  \n",
              "51320                 1  \n",
              "51321                 1  \n",
              "51322                 1  \n",
              "51323                 3  \n",
              "51324                 1  \n",
              "51325                 1  \n",
              "51326                 1  "
            ],
            "text/html": [
              "\n",
              "  <div id=\"df-a7dbf1f8-c71d-4415-b4d9-d6d91100299a\" class=\"colab-df-container\">\n",
              "    <div>\n",
              "<style scoped>\n",
              "    .dataframe tbody tr th:only-of-type {\n",
              "        vertical-align: middle;\n",
              "    }\n",
              "\n",
              "    .dataframe tbody tr th {\n",
              "        vertical-align: top;\n",
              "    }\n",
              "\n",
              "    .dataframe thead th {\n",
              "        text-align: right;\n",
              "    }\n",
              "</style>\n",
              "<table border=\"1\" class=\"dataframe\">\n",
              "  <thead>\n",
              "    <tr style=\"text-align: right;\">\n",
              "      <th></th>\n",
              "      <th>gene_name</th>\n",
              "      <th>gene_biotype</th>\n",
              "      <th>chromosome</th>\n",
              "      <th>strand</th>\n",
              "      <th>transcript_count</th>\n",
              "    </tr>\n",
              "  </thead>\n",
              "  <tbody>\n",
              "    <tr>\n",
              "      <th>51317</th>\n",
              "      <td>IGHJ3P</td>\n",
              "      <td>IG_J_pseudogene</td>\n",
              "      <td>chr14</td>\n",
              "      <td>-</td>\n",
              "      <td>1</td>\n",
              "    </tr>\n",
              "    <tr>\n",
              "      <th>51318</th>\n",
              "      <td>IGHJ2P</td>\n",
              "      <td>IG_J_pseudogene</td>\n",
              "      <td>chr14</td>\n",
              "      <td>-</td>\n",
              "      <td>1</td>\n",
              "    </tr>\n",
              "    <tr>\n",
              "      <th>51319</th>\n",
              "      <td>OR5AL1</td>\n",
              "      <td>pseudogene</td>\n",
              "      <td>chr11</td>\n",
              "      <td>+</td>\n",
              "      <td>1</td>\n",
              "    </tr>\n",
              "    <tr>\n",
              "      <th>51320</th>\n",
              "      <td>OR52E1</td>\n",
              "      <td>pseudogene</td>\n",
              "      <td>chr11</td>\n",
              "      <td>+</td>\n",
              "      <td>1</td>\n",
              "    </tr>\n",
              "    <tr>\n",
              "      <th>51321</th>\n",
              "      <td>MT-RNR2</td>\n",
              "      <td>Mt_rRNA</td>\n",
              "      <td>chrMT</td>\n",
              "      <td>+</td>\n",
              "      <td>1</td>\n",
              "    </tr>\n",
              "    <tr>\n",
              "      <th>51322</th>\n",
              "      <td>MT-RNR1</td>\n",
              "      <td>Mt_rRNA</td>\n",
              "      <td>chrMT</td>\n",
              "      <td>+</td>\n",
              "      <td>1</td>\n",
              "    </tr>\n",
              "    <tr>\n",
              "      <th>51323</th>\n",
              "      <td>CRYM-AS1</td>\n",
              "      <td>bidirectional_promoter_lncRNA</td>\n",
              "      <td>chr16</td>\n",
              "      <td>+</td>\n",
              "      <td>3</td>\n",
              "    </tr>\n",
              "    <tr>\n",
              "      <th>51324</th>\n",
              "      <td>RP11-100E13.1</td>\n",
              "      <td>bidirectional_promoter_lncRNA</td>\n",
              "      <td>chr1</td>\n",
              "      <td>-</td>\n",
              "      <td>1</td>\n",
              "    </tr>\n",
              "    <tr>\n",
              "      <th>51325</th>\n",
              "      <td>VTRNA2-1</td>\n",
              "      <td>vaultRNA</td>\n",
              "      <td>chr5</td>\n",
              "      <td>-</td>\n",
              "      <td>1</td>\n",
              "    </tr>\n",
              "    <tr>\n",
              "      <th>51326</th>\n",
              "      <td>BCYRN1</td>\n",
              "      <td>scRNA</td>\n",
              "      <td>chr2</td>\n",
              "      <td>+</td>\n",
              "      <td>1</td>\n",
              "    </tr>\n",
              "  </tbody>\n",
              "</table>\n",
              "</div>\n",
              "    <div class=\"colab-df-buttons\">\n",
              "\n",
              "  <div class=\"colab-df-container\">\n",
              "    <button class=\"colab-df-convert\" onclick=\"convertToInteractive('df-a7dbf1f8-c71d-4415-b4d9-d6d91100299a')\"\n",
              "            title=\"Convert this dataframe to an interactive table.\"\n",
              "            style=\"display:none;\">\n",
              "\n",
              "  <svg xmlns=\"http://www.w3.org/2000/svg\" height=\"24px\" viewBox=\"0 -960 960 960\">\n",
              "    <path d=\"M120-120v-720h720v720H120Zm60-500h600v-160H180v160Zm220 220h160v-160H400v160Zm0 220h160v-160H400v160ZM180-400h160v-160H180v160Zm440 0h160v-160H620v160ZM180-180h160v-160H180v160Zm440 0h160v-160H620v160Z\"/>\n",
              "  </svg>\n",
              "    </button>\n",
              "\n",
              "  <style>\n",
              "    .colab-df-container {\n",
              "      display:flex;\n",
              "      gap: 12px;\n",
              "    }\n",
              "\n",
              "    .colab-df-convert {\n",
              "      background-color: #E8F0FE;\n",
              "      border: none;\n",
              "      border-radius: 50%;\n",
              "      cursor: pointer;\n",
              "      display: none;\n",
              "      fill: #1967D2;\n",
              "      height: 32px;\n",
              "      padding: 0 0 0 0;\n",
              "      width: 32px;\n",
              "    }\n",
              "\n",
              "    .colab-df-convert:hover {\n",
              "      background-color: #E2EBFA;\n",
              "      box-shadow: 0px 1px 2px rgba(60, 64, 67, 0.3), 0px 1px 3px 1px rgba(60, 64, 67, 0.15);\n",
              "      fill: #174EA6;\n",
              "    }\n",
              "\n",
              "    .colab-df-buttons div {\n",
              "      margin-bottom: 4px;\n",
              "    }\n",
              "\n",
              "    [theme=dark] .colab-df-convert {\n",
              "      background-color: #3B4455;\n",
              "      fill: #D2E3FC;\n",
              "    }\n",
              "\n",
              "    [theme=dark] .colab-df-convert:hover {\n",
              "      background-color: #434B5C;\n",
              "      box-shadow: 0px 1px 3px 1px rgba(0, 0, 0, 0.15);\n",
              "      filter: drop-shadow(0px 1px 2px rgba(0, 0, 0, 0.3));\n",
              "      fill: #FFFFFF;\n",
              "    }\n",
              "  </style>\n",
              "\n",
              "    <script>\n",
              "      const buttonEl =\n",
              "        document.querySelector('#df-a7dbf1f8-c71d-4415-b4d9-d6d91100299a button.colab-df-convert');\n",
              "      buttonEl.style.display =\n",
              "        google.colab.kernel.accessAllowed ? 'block' : 'none';\n",
              "\n",
              "      async function convertToInteractive(key) {\n",
              "        const element = document.querySelector('#df-a7dbf1f8-c71d-4415-b4d9-d6d91100299a');\n",
              "        const dataTable =\n",
              "          await google.colab.kernel.invokeFunction('convertToInteractive',\n",
              "                                                    [key], {});\n",
              "        if (!dataTable) return;\n",
              "\n",
              "        const docLinkHtml = 'Like what you see? Visit the ' +\n",
              "          '<a target=\"_blank\" href=https://colab.research.google.com/notebooks/data_table.ipynb>data table notebook</a>'\n",
              "          + ' to learn more about interactive tables.';\n",
              "        element.innerHTML = '';\n",
              "        dataTable['output_type'] = 'display_data';\n",
              "        await google.colab.output.renderOutput(dataTable, element);\n",
              "        const docLink = document.createElement('div');\n",
              "        docLink.innerHTML = docLinkHtml;\n",
              "        element.appendChild(docLink);\n",
              "      }\n",
              "    </script>\n",
              "  </div>\n",
              "\n",
              "\n",
              "<div id=\"df-22df99ed-2fcb-4a37-96dd-ad461028aa88\">\n",
              "  <button class=\"colab-df-quickchart\" onclick=\"quickchart('df-22df99ed-2fcb-4a37-96dd-ad461028aa88')\"\n",
              "            title=\"Suggest charts\"\n",
              "            style=\"display:none;\">\n",
              "\n",
              "<svg xmlns=\"http://www.w3.org/2000/svg\" height=\"24px\"viewBox=\"0 0 24 24\"\n",
              "     width=\"24px\">\n",
              "    <g>\n",
              "        <path d=\"M19 3H5c-1.1 0-2 .9-2 2v14c0 1.1.9 2 2 2h14c1.1 0 2-.9 2-2V5c0-1.1-.9-2-2-2zM9 17H7v-7h2v7zm4 0h-2V7h2v10zm4 0h-2v-4h2v4z\"/>\n",
              "    </g>\n",
              "</svg>\n",
              "  </button>\n",
              "\n",
              "<style>\n",
              "  .colab-df-quickchart {\n",
              "      --bg-color: #E8F0FE;\n",
              "      --fill-color: #1967D2;\n",
              "      --hover-bg-color: #E2EBFA;\n",
              "      --hover-fill-color: #174EA6;\n",
              "      --disabled-fill-color: #AAA;\n",
              "      --disabled-bg-color: #DDD;\n",
              "  }\n",
              "\n",
              "  [theme=dark] .colab-df-quickchart {\n",
              "      --bg-color: #3B4455;\n",
              "      --fill-color: #D2E3FC;\n",
              "      --hover-bg-color: #434B5C;\n",
              "      --hover-fill-color: #FFFFFF;\n",
              "      --disabled-bg-color: #3B4455;\n",
              "      --disabled-fill-color: #666;\n",
              "  }\n",
              "\n",
              "  .colab-df-quickchart {\n",
              "    background-color: var(--bg-color);\n",
              "    border: none;\n",
              "    border-radius: 50%;\n",
              "    cursor: pointer;\n",
              "    display: none;\n",
              "    fill: var(--fill-color);\n",
              "    height: 32px;\n",
              "    padding: 0;\n",
              "    width: 32px;\n",
              "  }\n",
              "\n",
              "  .colab-df-quickchart:hover {\n",
              "    background-color: var(--hover-bg-color);\n",
              "    box-shadow: 0 1px 2px rgba(60, 64, 67, 0.3), 0 1px 3px 1px rgba(60, 64, 67, 0.15);\n",
              "    fill: var(--button-hover-fill-color);\n",
              "  }\n",
              "\n",
              "  .colab-df-quickchart-complete:disabled,\n",
              "  .colab-df-quickchart-complete:disabled:hover {\n",
              "    background-color: var(--disabled-bg-color);\n",
              "    fill: var(--disabled-fill-color);\n",
              "    box-shadow: none;\n",
              "  }\n",
              "\n",
              "  .colab-df-spinner {\n",
              "    border: 2px solid var(--fill-color);\n",
              "    border-color: transparent;\n",
              "    border-bottom-color: var(--fill-color);\n",
              "    animation:\n",
              "      spin 1s steps(1) infinite;\n",
              "  }\n",
              "\n",
              "  @keyframes spin {\n",
              "    0% {\n",
              "      border-color: transparent;\n",
              "      border-bottom-color: var(--fill-color);\n",
              "      border-left-color: var(--fill-color);\n",
              "    }\n",
              "    20% {\n",
              "      border-color: transparent;\n",
              "      border-left-color: var(--fill-color);\n",
              "      border-top-color: var(--fill-color);\n",
              "    }\n",
              "    30% {\n",
              "      border-color: transparent;\n",
              "      border-left-color: var(--fill-color);\n",
              "      border-top-color: var(--fill-color);\n",
              "      border-right-color: var(--fill-color);\n",
              "    }\n",
              "    40% {\n",
              "      border-color: transparent;\n",
              "      border-right-color: var(--fill-color);\n",
              "      border-top-color: var(--fill-color);\n",
              "    }\n",
              "    60% {\n",
              "      border-color: transparent;\n",
              "      border-right-color: var(--fill-color);\n",
              "    }\n",
              "    80% {\n",
              "      border-color: transparent;\n",
              "      border-right-color: var(--fill-color);\n",
              "      border-bottom-color: var(--fill-color);\n",
              "    }\n",
              "    90% {\n",
              "      border-color: transparent;\n",
              "      border-bottom-color: var(--fill-color);\n",
              "    }\n",
              "  }\n",
              "</style>\n",
              "\n",
              "  <script>\n",
              "    async function quickchart(key) {\n",
              "      const quickchartButtonEl =\n",
              "        document.querySelector('#' + key + ' button');\n",
              "      quickchartButtonEl.disabled = true;  // To prevent multiple clicks.\n",
              "      quickchartButtonEl.classList.add('colab-df-spinner');\n",
              "      try {\n",
              "        const charts = await google.colab.kernel.invokeFunction(\n",
              "            'suggestCharts', [key], {});\n",
              "      } catch (error) {\n",
              "        console.error('Error during call to suggestCharts:', error);\n",
              "      }\n",
              "      quickchartButtonEl.classList.remove('colab-df-spinner');\n",
              "      quickchartButtonEl.classList.add('colab-df-quickchart-complete');\n",
              "    }\n",
              "    (() => {\n",
              "      let quickchartButtonEl =\n",
              "        document.querySelector('#df-22df99ed-2fcb-4a37-96dd-ad461028aa88 button');\n",
              "      quickchartButtonEl.style.display =\n",
              "        google.colab.kernel.accessAllowed ? 'block' : 'none';\n",
              "    })();\n",
              "  </script>\n",
              "</div>\n",
              "\n",
              "    </div>\n",
              "  </div>\n"
            ],
            "application/vnd.google.colaboratory.intrinsic+json": {
              "type": "dataframe",
              "summary": "{\n  \"name\": \"df\",\n  \"rows\": 10,\n  \"fields\": [\n    {\n      \"column\": \"gene_name\",\n      \"properties\": {\n        \"dtype\": \"string\",\n        \"num_unique_values\": 10,\n        \"samples\": [\n          \"VTRNA2-1\",\n          \"IGHJ2P\",\n          \"MT-RNR1\"\n        ],\n        \"semantic_type\": \"\",\n        \"description\": \"\"\n      }\n    },\n    {\n      \"column\": \"gene_biotype\",\n      \"properties\": {\n        \"dtype\": \"string\",\n        \"num_unique_values\": 6,\n        \"samples\": [\n          \"IG_J_pseudogene\",\n          \"pseudogene\",\n          \"scRNA\"\n        ],\n        \"semantic_type\": \"\",\n        \"description\": \"\"\n      }\n    },\n    {\n      \"column\": \"chromosome\",\n      \"properties\": {\n        \"dtype\": \"string\",\n        \"num_unique_values\": 7,\n        \"samples\": [\n          \"chr14\",\n          \"chr11\",\n          \"chr5\"\n        ],\n        \"semantic_type\": \"\",\n        \"description\": \"\"\n      }\n    },\n    {\n      \"column\": \"strand\",\n      \"properties\": {\n        \"dtype\": \"category\",\n        \"num_unique_values\": 2,\n        \"samples\": [\n          \"+\",\n          \"-\"\n        ],\n        \"semantic_type\": \"\",\n        \"description\": \"\"\n      }\n    },\n    {\n      \"column\": \"transcript_count\",\n      \"properties\": {\n        \"dtype\": \"number\",\n        \"std\": 0,\n        \"min\": 1,\n        \"max\": 3,\n        \"num_unique_values\": 2,\n        \"samples\": [\n          3,\n          1\n        ],\n        \"semantic_type\": \"\",\n        \"description\": \"\"\n      }\n    }\n  ]\n}"
            }
          },
          "metadata": {},
          "execution_count": 6
        }
      ]
    },
    {
      "cell_type": "markdown",
      "source": [
        "Retrieving the Dataframe's dimensions."
      ],
      "metadata": {
        "id": "ecMkE8UFH719"
      }
    },
    {
      "cell_type": "code",
      "source": [
        "# dimensions of the dataframe\n",
        "df.shape"
      ],
      "metadata": {
        "colab": {
          "base_uri": "https://localhost:8080/"
        },
        "id": "vHP2MihxIAZ7",
        "outputId": "2a3f7a7b-36a7-44ea-a86f-66e9c8c3c5a7"
      },
      "execution_count": null,
      "outputs": [
        {
          "output_type": "execute_result",
          "data": {
            "text/plain": [
              "(51327, 5)"
            ]
          },
          "metadata": {},
          "execution_count": 7
        }
      ]
    },
    {
      "cell_type": "markdown",
      "source": [
        "## **Selecting Dataframe partitions**"
      ],
      "metadata": {
        "id": "ffX98ftRIvfp"
      }
    },
    {
      "cell_type": "markdown",
      "source": [
        "### **Selecting Dataframe rows**"
      ],
      "metadata": {
        "id": "Qc7S_asyI-mw"
      }
    },
    {
      "cell_type": "markdown",
      "source": [
        "\n",
        "\n",
        "*   single row\n",
        "\n"
      ],
      "metadata": {
        "id": "5wITFiiMsQNv"
      }
    },
    {
      "cell_type": "code",
      "source": [
        "# take the first single row of the dataframe\n",
        "df[0:1]"
      ],
      "metadata": {
        "colab": {
          "base_uri": "https://localhost:8080/",
          "height": 81
        },
        "id": "xsItC05DI8a3",
        "outputId": "fbffd210-8fec-4447-c059-5c3fb4e9f02d"
      },
      "execution_count": null,
      "outputs": [
        {
          "output_type": "execute_result",
          "data": {
            "text/plain": [
              "  gene_name    gene_biotype chromosome strand  transcript_count\n",
              "0    TSPAN6  protein_coding       chrX      -                 5"
            ],
            "text/html": [
              "\n",
              "  <div id=\"df-a458f20b-5df0-4983-94c7-fb0b3c56c21c\" class=\"colab-df-container\">\n",
              "    <div>\n",
              "<style scoped>\n",
              "    .dataframe tbody tr th:only-of-type {\n",
              "        vertical-align: middle;\n",
              "    }\n",
              "\n",
              "    .dataframe tbody tr th {\n",
              "        vertical-align: top;\n",
              "    }\n",
              "\n",
              "    .dataframe thead th {\n",
              "        text-align: right;\n",
              "    }\n",
              "</style>\n",
              "<table border=\"1\" class=\"dataframe\">\n",
              "  <thead>\n",
              "    <tr style=\"text-align: right;\">\n",
              "      <th></th>\n",
              "      <th>gene_name</th>\n",
              "      <th>gene_biotype</th>\n",
              "      <th>chromosome</th>\n",
              "      <th>strand</th>\n",
              "      <th>transcript_count</th>\n",
              "    </tr>\n",
              "  </thead>\n",
              "  <tbody>\n",
              "    <tr>\n",
              "      <th>0</th>\n",
              "      <td>TSPAN6</td>\n",
              "      <td>protein_coding</td>\n",
              "      <td>chrX</td>\n",
              "      <td>-</td>\n",
              "      <td>5</td>\n",
              "    </tr>\n",
              "  </tbody>\n",
              "</table>\n",
              "</div>\n",
              "    <div class=\"colab-df-buttons\">\n",
              "\n",
              "  <div class=\"colab-df-container\">\n",
              "    <button class=\"colab-df-convert\" onclick=\"convertToInteractive('df-a458f20b-5df0-4983-94c7-fb0b3c56c21c')\"\n",
              "            title=\"Convert this dataframe to an interactive table.\"\n",
              "            style=\"display:none;\">\n",
              "\n",
              "  <svg xmlns=\"http://www.w3.org/2000/svg\" height=\"24px\" viewBox=\"0 -960 960 960\">\n",
              "    <path d=\"M120-120v-720h720v720H120Zm60-500h600v-160H180v160Zm220 220h160v-160H400v160Zm0 220h160v-160H400v160ZM180-400h160v-160H180v160Zm440 0h160v-160H620v160ZM180-180h160v-160H180v160Zm440 0h160v-160H620v160Z\"/>\n",
              "  </svg>\n",
              "    </button>\n",
              "\n",
              "  <style>\n",
              "    .colab-df-container {\n",
              "      display:flex;\n",
              "      gap: 12px;\n",
              "    }\n",
              "\n",
              "    .colab-df-convert {\n",
              "      background-color: #E8F0FE;\n",
              "      border: none;\n",
              "      border-radius: 50%;\n",
              "      cursor: pointer;\n",
              "      display: none;\n",
              "      fill: #1967D2;\n",
              "      height: 32px;\n",
              "      padding: 0 0 0 0;\n",
              "      width: 32px;\n",
              "    }\n",
              "\n",
              "    .colab-df-convert:hover {\n",
              "      background-color: #E2EBFA;\n",
              "      box-shadow: 0px 1px 2px rgba(60, 64, 67, 0.3), 0px 1px 3px 1px rgba(60, 64, 67, 0.15);\n",
              "      fill: #174EA6;\n",
              "    }\n",
              "\n",
              "    .colab-df-buttons div {\n",
              "      margin-bottom: 4px;\n",
              "    }\n",
              "\n",
              "    [theme=dark] .colab-df-convert {\n",
              "      background-color: #3B4455;\n",
              "      fill: #D2E3FC;\n",
              "    }\n",
              "\n",
              "    [theme=dark] .colab-df-convert:hover {\n",
              "      background-color: #434B5C;\n",
              "      box-shadow: 0px 1px 3px 1px rgba(0, 0, 0, 0.15);\n",
              "      filter: drop-shadow(0px 1px 2px rgba(0, 0, 0, 0.3));\n",
              "      fill: #FFFFFF;\n",
              "    }\n",
              "  </style>\n",
              "\n",
              "    <script>\n",
              "      const buttonEl =\n",
              "        document.querySelector('#df-a458f20b-5df0-4983-94c7-fb0b3c56c21c button.colab-df-convert');\n",
              "      buttonEl.style.display =\n",
              "        google.colab.kernel.accessAllowed ? 'block' : 'none';\n",
              "\n",
              "      async function convertToInteractive(key) {\n",
              "        const element = document.querySelector('#df-a458f20b-5df0-4983-94c7-fb0b3c56c21c');\n",
              "        const dataTable =\n",
              "          await google.colab.kernel.invokeFunction('convertToInteractive',\n",
              "                                                    [key], {});\n",
              "        if (!dataTable) return;\n",
              "\n",
              "        const docLinkHtml = 'Like what you see? Visit the ' +\n",
              "          '<a target=\"_blank\" href=https://colab.research.google.com/notebooks/data_table.ipynb>data table notebook</a>'\n",
              "          + ' to learn more about interactive tables.';\n",
              "        element.innerHTML = '';\n",
              "        dataTable['output_type'] = 'display_data';\n",
              "        await google.colab.output.renderOutput(dataTable, element);\n",
              "        const docLink = document.createElement('div');\n",
              "        docLink.innerHTML = docLinkHtml;\n",
              "        element.appendChild(docLink);\n",
              "      }\n",
              "    </script>\n",
              "  </div>\n",
              "\n",
              "\n",
              "    </div>\n",
              "  </div>\n"
            ],
            "application/vnd.google.colaboratory.intrinsic+json": {
              "type": "dataframe",
              "summary": "{\n  \"name\": \"df[0:1]\",\n  \"rows\": 1,\n  \"fields\": [\n    {\n      \"column\": \"gene_name\",\n      \"properties\": {\n        \"dtype\": \"string\",\n        \"num_unique_values\": 1,\n        \"samples\": [\n          \"TSPAN6\"\n        ],\n        \"semantic_type\": \"\",\n        \"description\": \"\"\n      }\n    },\n    {\n      \"column\": \"gene_biotype\",\n      \"properties\": {\n        \"dtype\": \"string\",\n        \"num_unique_values\": 1,\n        \"samples\": [\n          \"protein_coding\"\n        ],\n        \"semantic_type\": \"\",\n        \"description\": \"\"\n      }\n    },\n    {\n      \"column\": \"chromosome\",\n      \"properties\": {\n        \"dtype\": \"string\",\n        \"num_unique_values\": 1,\n        \"samples\": [\n          \"chrX\"\n        ],\n        \"semantic_type\": \"\",\n        \"description\": \"\"\n      }\n    },\n    {\n      \"column\": \"strand\",\n      \"properties\": {\n        \"dtype\": \"string\",\n        \"num_unique_values\": 1,\n        \"samples\": [\n          \"-\"\n        ],\n        \"semantic_type\": \"\",\n        \"description\": \"\"\n      }\n    },\n    {\n      \"column\": \"transcript_count\",\n      \"properties\": {\n        \"dtype\": \"number\",\n        \"std\": null,\n        \"min\": 5,\n        \"max\": 5,\n        \"num_unique_values\": 1,\n        \"samples\": [\n          5\n        ],\n        \"semantic_type\": \"\",\n        \"description\": \"\"\n      }\n    }\n  ]\n}"
            }
          },
          "metadata": {},
          "execution_count": 13
        }
      ]
    },
    {
      "cell_type": "markdown",
      "source": [
        "\n",
        "\n",
        "*   locate rows: loc[] when using row label/index, iloc when using index\n",
        "\n"
      ],
      "metadata": {
        "id": "GQNFzTzDocPT"
      }
    },
    {
      "cell_type": "code",
      "source": [
        "# retrieving a dataframe row by row label/index\n",
        "print(\"Row with label 5 of Dataframe:\")\n",
        "print(df.loc[5])"
      ],
      "metadata": {
        "colab": {
          "base_uri": "https://localhost:8080/"
        },
        "id": "ybw9sjfEn0ri",
        "outputId": "5736db6f-84f8-4581-85c2-6ac4b5efa5ab"
      },
      "execution_count": null,
      "outputs": [
        {
          "output_type": "stream",
          "name": "stdout",
          "text": [
            "Row with label 5 of Dataframe:\n",
            "gene_name                      FGR\n",
            "gene_biotype        protein_coding\n",
            "chromosome                    chr1\n",
            "strand                           -\n",
            "transcript_count                 7\n",
            "Name: 5, dtype: object\n"
          ]
        }
      ]
    },
    {
      "cell_type": "code",
      "source": [
        "# retrieving a dataframe row by index\n",
        "print(df.iloc[0])"
      ],
      "metadata": {
        "colab": {
          "base_uri": "https://localhost:8080/"
        },
        "id": "R6C0eVdSn0ny",
        "outputId": "e1ffe34f-3267-48a2-d0a7-291307def551"
      },
      "execution_count": null,
      "outputs": [
        {
          "output_type": "stream",
          "name": "stdout",
          "text": [
            "gene_name                   TSPAN6\n",
            "gene_biotype        protein_coding\n",
            "chromosome                    chrX\n",
            "strand                           -\n",
            "transcript_count                 5\n",
            "Name: 0, dtype: object\n"
          ]
        }
      ]
    },
    {
      "cell_type": "markdown",
      "source": [
        "\n",
        "\n",
        "*   multiple rows by slicing\n",
        "\n"
      ],
      "metadata": {
        "id": "BSfXpzM4qsCr"
      }
    },
    {
      "cell_type": "code",
      "source": [
        "# using a slice in 'loc', returns the part of the DataFrame, between the rows given in the slice\n",
        "print(\"Displaying rows between label 8 and 11\")\n",
        "print(df.loc[8:11])"
      ],
      "metadata": {
        "colab": {
          "base_uri": "https://localhost:8080/"
        },
        "id": "c-GtuWOGqpyU",
        "outputId": "a3666eb0-c734-4fe8-863a-e2f9b7eb8746"
      },
      "execution_count": null,
      "outputs": [
        {
          "output_type": "stream",
          "name": "stdout",
          "text": [
            "Displaying rows between label 8 and 11\n",
            "   gene_name    gene_biotype chromosome strand  transcript_count\n",
            "8       GCLC  protein_coding       chr6      -                13\n",
            "9       NFYA  protein_coding       chr6      +                 2\n",
            "10     STPG1  protein_coding       chr1      -                12\n",
            "11    NIPAL3  protein_coding       chr1      +                 7\n"
          ]
        }
      ]
    },
    {
      "cell_type": "code",
      "source": [
        "# using a slice in iloc, returns the part of the DataFrame, indexed by the numbers in the slice\n",
        "# (same idea as in Python lists)\n",
        "print(\"Displaying rows whose index>=8  and index<11:\")\n",
        "print(df.iloc[8:11])"
      ],
      "metadata": {
        "colab": {
          "base_uri": "https://localhost:8080/"
        },
        "id": "D6wfHc2orLIT",
        "outputId": "1c78c3ec-1afe-4a99-ebc8-683f8d9161c1"
      },
      "execution_count": null,
      "outputs": [
        {
          "output_type": "stream",
          "name": "stdout",
          "text": [
            "Displaying rows whose index>=8  and index<11:\n",
            "   gene_name    gene_biotype chromosome strand  transcript_count\n",
            "8       GCLC  protein_coding       chr6      -                13\n",
            "9       NFYA  protein_coding       chr6      +                 2\n",
            "10     STPG1  protein_coding       chr1      -                12\n"
          ]
        }
      ]
    },
    {
      "cell_type": "markdown",
      "source": [
        "You may have changed the row labels from 0, 1, 2, 3... e.g. to 10, 20, 30..., so be careful when you work with iloc and loc!!!! See how to change row labels, eg increase them by 10.."
      ],
      "metadata": {
        "id": "ppXC7XmWrhie"
      }
    },
    {
      "cell_type": "code",
      "source": [
        "# row labels\n",
        "df.index"
      ],
      "metadata": {
        "colab": {
          "base_uri": "https://localhost:8080/"
        },
        "id": "4cjJiR-4rii5",
        "outputId": "b98c6451-577a-4010-d606-32aa05511759"
      },
      "execution_count": null,
      "outputs": [
        {
          "output_type": "execute_result",
          "data": {
            "text/plain": [
              "RangeIndex(start=0, stop=51327, step=1)"
            ]
          },
          "metadata": {},
          "execution_count": 20
        }
      ]
    },
    {
      "cell_type": "code",
      "source": [
        "# increase it by 10\n",
        "df.index += 10\n",
        "df.index"
      ],
      "metadata": {
        "colab": {
          "base_uri": "https://localhost:8080/"
        },
        "id": "haTQlMyYrieR",
        "outputId": "44b069e2-fb03-43b5-8028-73e3f5896703"
      },
      "execution_count": null,
      "outputs": [
        {
          "output_type": "execute_result",
          "data": {
            "text/plain": [
              "RangeIndex(start=10, stop=51337, step=1)"
            ]
          },
          "metadata": {},
          "execution_count": 21
        }
      ]
    },
    {
      "cell_type": "code",
      "source": [
        "# check the dataframe now\n",
        "df.head()"
      ],
      "metadata": {
        "colab": {
          "base_uri": "https://localhost:8080/",
          "height": 206
        },
        "id": "l1cDWxWgr_ZI",
        "outputId": "7a06b4cb-9240-49c2-b607-0212f61cdd64"
      },
      "execution_count": null,
      "outputs": [
        {
          "output_type": "execute_result",
          "data": {
            "text/plain": [
              "   gene_name    gene_biotype chromosome strand  transcript_count\n",
              "10    TSPAN6  protein_coding       chrX      -                 5\n",
              "11      TNMD  protein_coding       chrX      +                 2\n",
              "12      DPM1  protein_coding      chr20      -                 6\n",
              "13     SCYL3  protein_coding       chr1      -                 5\n",
              "14  C1orf112  protein_coding       chr1      +                 9"
            ],
            "text/html": [
              "\n",
              "  <div id=\"df-8244b201-a429-454e-8613-12e2d2ef1076\" class=\"colab-df-container\">\n",
              "    <div>\n",
              "<style scoped>\n",
              "    .dataframe tbody tr th:only-of-type {\n",
              "        vertical-align: middle;\n",
              "    }\n",
              "\n",
              "    .dataframe tbody tr th {\n",
              "        vertical-align: top;\n",
              "    }\n",
              "\n",
              "    .dataframe thead th {\n",
              "        text-align: right;\n",
              "    }\n",
              "</style>\n",
              "<table border=\"1\" class=\"dataframe\">\n",
              "  <thead>\n",
              "    <tr style=\"text-align: right;\">\n",
              "      <th></th>\n",
              "      <th>gene_name</th>\n",
              "      <th>gene_biotype</th>\n",
              "      <th>chromosome</th>\n",
              "      <th>strand</th>\n",
              "      <th>transcript_count</th>\n",
              "    </tr>\n",
              "  </thead>\n",
              "  <tbody>\n",
              "    <tr>\n",
              "      <th>10</th>\n",
              "      <td>TSPAN6</td>\n",
              "      <td>protein_coding</td>\n",
              "      <td>chrX</td>\n",
              "      <td>-</td>\n",
              "      <td>5</td>\n",
              "    </tr>\n",
              "    <tr>\n",
              "      <th>11</th>\n",
              "      <td>TNMD</td>\n",
              "      <td>protein_coding</td>\n",
              "      <td>chrX</td>\n",
              "      <td>+</td>\n",
              "      <td>2</td>\n",
              "    </tr>\n",
              "    <tr>\n",
              "      <th>12</th>\n",
              "      <td>DPM1</td>\n",
              "      <td>protein_coding</td>\n",
              "      <td>chr20</td>\n",
              "      <td>-</td>\n",
              "      <td>6</td>\n",
              "    </tr>\n",
              "    <tr>\n",
              "      <th>13</th>\n",
              "      <td>SCYL3</td>\n",
              "      <td>protein_coding</td>\n",
              "      <td>chr1</td>\n",
              "      <td>-</td>\n",
              "      <td>5</td>\n",
              "    </tr>\n",
              "    <tr>\n",
              "      <th>14</th>\n",
              "      <td>C1orf112</td>\n",
              "      <td>protein_coding</td>\n",
              "      <td>chr1</td>\n",
              "      <td>+</td>\n",
              "      <td>9</td>\n",
              "    </tr>\n",
              "  </tbody>\n",
              "</table>\n",
              "</div>\n",
              "    <div class=\"colab-df-buttons\">\n",
              "\n",
              "  <div class=\"colab-df-container\">\n",
              "    <button class=\"colab-df-convert\" onclick=\"convertToInteractive('df-8244b201-a429-454e-8613-12e2d2ef1076')\"\n",
              "            title=\"Convert this dataframe to an interactive table.\"\n",
              "            style=\"display:none;\">\n",
              "\n",
              "  <svg xmlns=\"http://www.w3.org/2000/svg\" height=\"24px\" viewBox=\"0 -960 960 960\">\n",
              "    <path d=\"M120-120v-720h720v720H120Zm60-500h600v-160H180v160Zm220 220h160v-160H400v160Zm0 220h160v-160H400v160ZM180-400h160v-160H180v160Zm440 0h160v-160H620v160ZM180-180h160v-160H180v160Zm440 0h160v-160H620v160Z\"/>\n",
              "  </svg>\n",
              "    </button>\n",
              "\n",
              "  <style>\n",
              "    .colab-df-container {\n",
              "      display:flex;\n",
              "      gap: 12px;\n",
              "    }\n",
              "\n",
              "    .colab-df-convert {\n",
              "      background-color: #E8F0FE;\n",
              "      border: none;\n",
              "      border-radius: 50%;\n",
              "      cursor: pointer;\n",
              "      display: none;\n",
              "      fill: #1967D2;\n",
              "      height: 32px;\n",
              "      padding: 0 0 0 0;\n",
              "      width: 32px;\n",
              "    }\n",
              "\n",
              "    .colab-df-convert:hover {\n",
              "      background-color: #E2EBFA;\n",
              "      box-shadow: 0px 1px 2px rgba(60, 64, 67, 0.3), 0px 1px 3px 1px rgba(60, 64, 67, 0.15);\n",
              "      fill: #174EA6;\n",
              "    }\n",
              "\n",
              "    .colab-df-buttons div {\n",
              "      margin-bottom: 4px;\n",
              "    }\n",
              "\n",
              "    [theme=dark] .colab-df-convert {\n",
              "      background-color: #3B4455;\n",
              "      fill: #D2E3FC;\n",
              "    }\n",
              "\n",
              "    [theme=dark] .colab-df-convert:hover {\n",
              "      background-color: #434B5C;\n",
              "      box-shadow: 0px 1px 3px 1px rgba(0, 0, 0, 0.15);\n",
              "      filter: drop-shadow(0px 1px 2px rgba(0, 0, 0, 0.3));\n",
              "      fill: #FFFFFF;\n",
              "    }\n",
              "  </style>\n",
              "\n",
              "    <script>\n",
              "      const buttonEl =\n",
              "        document.querySelector('#df-8244b201-a429-454e-8613-12e2d2ef1076 button.colab-df-convert');\n",
              "      buttonEl.style.display =\n",
              "        google.colab.kernel.accessAllowed ? 'block' : 'none';\n",
              "\n",
              "      async function convertToInteractive(key) {\n",
              "        const element = document.querySelector('#df-8244b201-a429-454e-8613-12e2d2ef1076');\n",
              "        const dataTable =\n",
              "          await google.colab.kernel.invokeFunction('convertToInteractive',\n",
              "                                                    [key], {});\n",
              "        if (!dataTable) return;\n",
              "\n",
              "        const docLinkHtml = 'Like what you see? Visit the ' +\n",
              "          '<a target=\"_blank\" href=https://colab.research.google.com/notebooks/data_table.ipynb>data table notebook</a>'\n",
              "          + ' to learn more about interactive tables.';\n",
              "        element.innerHTML = '';\n",
              "        dataTable['output_type'] = 'display_data';\n",
              "        await google.colab.output.renderOutput(dataTable, element);\n",
              "        const docLink = document.createElement('div');\n",
              "        docLink.innerHTML = docLinkHtml;\n",
              "        element.appendChild(docLink);\n",
              "      }\n",
              "    </script>\n",
              "  </div>\n",
              "\n",
              "\n",
              "<div id=\"df-a6a6f802-3444-44ed-a1ee-11743ff6ebf4\">\n",
              "  <button class=\"colab-df-quickchart\" onclick=\"quickchart('df-a6a6f802-3444-44ed-a1ee-11743ff6ebf4')\"\n",
              "            title=\"Suggest charts\"\n",
              "            style=\"display:none;\">\n",
              "\n",
              "<svg xmlns=\"http://www.w3.org/2000/svg\" height=\"24px\"viewBox=\"0 0 24 24\"\n",
              "     width=\"24px\">\n",
              "    <g>\n",
              "        <path d=\"M19 3H5c-1.1 0-2 .9-2 2v14c0 1.1.9 2 2 2h14c1.1 0 2-.9 2-2V5c0-1.1-.9-2-2-2zM9 17H7v-7h2v7zm4 0h-2V7h2v10zm4 0h-2v-4h2v4z\"/>\n",
              "    </g>\n",
              "</svg>\n",
              "  </button>\n",
              "\n",
              "<style>\n",
              "  .colab-df-quickchart {\n",
              "      --bg-color: #E8F0FE;\n",
              "      --fill-color: #1967D2;\n",
              "      --hover-bg-color: #E2EBFA;\n",
              "      --hover-fill-color: #174EA6;\n",
              "      --disabled-fill-color: #AAA;\n",
              "      --disabled-bg-color: #DDD;\n",
              "  }\n",
              "\n",
              "  [theme=dark] .colab-df-quickchart {\n",
              "      --bg-color: #3B4455;\n",
              "      --fill-color: #D2E3FC;\n",
              "      --hover-bg-color: #434B5C;\n",
              "      --hover-fill-color: #FFFFFF;\n",
              "      --disabled-bg-color: #3B4455;\n",
              "      --disabled-fill-color: #666;\n",
              "  }\n",
              "\n",
              "  .colab-df-quickchart {\n",
              "    background-color: var(--bg-color);\n",
              "    border: none;\n",
              "    border-radius: 50%;\n",
              "    cursor: pointer;\n",
              "    display: none;\n",
              "    fill: var(--fill-color);\n",
              "    height: 32px;\n",
              "    padding: 0;\n",
              "    width: 32px;\n",
              "  }\n",
              "\n",
              "  .colab-df-quickchart:hover {\n",
              "    background-color: var(--hover-bg-color);\n",
              "    box-shadow: 0 1px 2px rgba(60, 64, 67, 0.3), 0 1px 3px 1px rgba(60, 64, 67, 0.15);\n",
              "    fill: var(--button-hover-fill-color);\n",
              "  }\n",
              "\n",
              "  .colab-df-quickchart-complete:disabled,\n",
              "  .colab-df-quickchart-complete:disabled:hover {\n",
              "    background-color: var(--disabled-bg-color);\n",
              "    fill: var(--disabled-fill-color);\n",
              "    box-shadow: none;\n",
              "  }\n",
              "\n",
              "  .colab-df-spinner {\n",
              "    border: 2px solid var(--fill-color);\n",
              "    border-color: transparent;\n",
              "    border-bottom-color: var(--fill-color);\n",
              "    animation:\n",
              "      spin 1s steps(1) infinite;\n",
              "  }\n",
              "\n",
              "  @keyframes spin {\n",
              "    0% {\n",
              "      border-color: transparent;\n",
              "      border-bottom-color: var(--fill-color);\n",
              "      border-left-color: var(--fill-color);\n",
              "    }\n",
              "    20% {\n",
              "      border-color: transparent;\n",
              "      border-left-color: var(--fill-color);\n",
              "      border-top-color: var(--fill-color);\n",
              "    }\n",
              "    30% {\n",
              "      border-color: transparent;\n",
              "      border-left-color: var(--fill-color);\n",
              "      border-top-color: var(--fill-color);\n",
              "      border-right-color: var(--fill-color);\n",
              "    }\n",
              "    40% {\n",
              "      border-color: transparent;\n",
              "      border-right-color: var(--fill-color);\n",
              "      border-top-color: var(--fill-color);\n",
              "    }\n",
              "    60% {\n",
              "      border-color: transparent;\n",
              "      border-right-color: var(--fill-color);\n",
              "    }\n",
              "    80% {\n",
              "      border-color: transparent;\n",
              "      border-right-color: var(--fill-color);\n",
              "      border-bottom-color: var(--fill-color);\n",
              "    }\n",
              "    90% {\n",
              "      border-color: transparent;\n",
              "      border-bottom-color: var(--fill-color);\n",
              "    }\n",
              "  }\n",
              "</style>\n",
              "\n",
              "  <script>\n",
              "    async function quickchart(key) {\n",
              "      const quickchartButtonEl =\n",
              "        document.querySelector('#' + key + ' button');\n",
              "      quickchartButtonEl.disabled = true;  // To prevent multiple clicks.\n",
              "      quickchartButtonEl.classList.add('colab-df-spinner');\n",
              "      try {\n",
              "        const charts = await google.colab.kernel.invokeFunction(\n",
              "            'suggestCharts', [key], {});\n",
              "      } catch (error) {\n",
              "        console.error('Error during call to suggestCharts:', error);\n",
              "      }\n",
              "      quickchartButtonEl.classList.remove('colab-df-spinner');\n",
              "      quickchartButtonEl.classList.add('colab-df-quickchart-complete');\n",
              "    }\n",
              "    (() => {\n",
              "      let quickchartButtonEl =\n",
              "        document.querySelector('#df-a6a6f802-3444-44ed-a1ee-11743ff6ebf4 button');\n",
              "      quickchartButtonEl.style.display =\n",
              "        google.colab.kernel.accessAllowed ? 'block' : 'none';\n",
              "    })();\n",
              "  </script>\n",
              "</div>\n",
              "\n",
              "    </div>\n",
              "  </div>\n"
            ],
            "application/vnd.google.colaboratory.intrinsic+json": {
              "type": "dataframe",
              "variable_name": "df",
              "summary": "{\n  \"name\": \"df\",\n  \"rows\": 51327,\n  \"fields\": [\n    {\n      \"column\": \"gene_name\",\n      \"properties\": {\n        \"dtype\": \"string\",\n        \"num_unique_values\": 51327,\n        \"samples\": [\n          \"MIR518F\",\n          \"CTB-31O20.8\",\n          \"OR5AL1\"\n        ],\n        \"semantic_type\": \"\",\n        \"description\": \"\"\n      }\n    },\n    {\n      \"column\": \"gene_biotype\",\n      \"properties\": {\n        \"dtype\": \"category\",\n        \"num_unique_values\": 41,\n        \"samples\": [\n          \"TR_V_pseudogene\",\n          \"transcribed_processed_pseudogene\",\n          \"snoRNA\"\n        ],\n        \"semantic_type\": \"\",\n        \"description\": \"\"\n      }\n    },\n    {\n      \"column\": \"chromosome\",\n      \"properties\": {\n        \"dtype\": \"category\",\n        \"num_unique_values\": 56,\n        \"samples\": [\n          \"chrX\",\n          \"chr7\",\n          \"chrCHR_HSCHR17_1_CTG4\"\n        ],\n        \"semantic_type\": \"\",\n        \"description\": \"\"\n      }\n    },\n    {\n      \"column\": \"strand\",\n      \"properties\": {\n        \"dtype\": \"category\",\n        \"num_unique_values\": 2,\n        \"samples\": [\n          \"+\",\n          \"-\"\n        ],\n        \"semantic_type\": \"\",\n        \"description\": \"\"\n      }\n    },\n    {\n      \"column\": \"transcript_count\",\n      \"properties\": {\n        \"dtype\": \"number\",\n        \"std\": 5,\n        \"min\": 1,\n        \"max\": 170,\n        \"num_unique_values\": 74,\n        \"samples\": [\n          7,\n          74\n        ],\n        \"semantic_type\": \"\",\n        \"description\": \"\"\n      }\n    }\n  ]\n}"
            }
          },
          "metadata": {},
          "execution_count": 22
        }
      ]
    },
    {
      "cell_type": "code",
      "source": [
        "#brings df to its original form to continute!!!\n",
        "df.index -= 10\n",
        "df.head()"
      ],
      "metadata": {
        "colab": {
          "base_uri": "https://localhost:8080/",
          "height": 206
        },
        "id": "jr1xPuOTsFEm",
        "outputId": "5d9ac75f-ac99-4759-ec8d-0da315006492"
      },
      "execution_count": null,
      "outputs": [
        {
          "output_type": "execute_result",
          "data": {
            "text/plain": [
              "  gene_name    gene_biotype chromosome strand  transcript_count\n",
              "0    TSPAN6  protein_coding       chrX      -                 5\n",
              "1      TNMD  protein_coding       chrX      +                 2\n",
              "2      DPM1  protein_coding      chr20      -                 6\n",
              "3     SCYL3  protein_coding       chr1      -                 5\n",
              "4  C1orf112  protein_coding       chr1      +                 9"
            ],
            "text/html": [
              "\n",
              "  <div id=\"df-1137a314-1d49-437b-9897-ca1c5dd3739a\" class=\"colab-df-container\">\n",
              "    <div>\n",
              "<style scoped>\n",
              "    .dataframe tbody tr th:only-of-type {\n",
              "        vertical-align: middle;\n",
              "    }\n",
              "\n",
              "    .dataframe tbody tr th {\n",
              "        vertical-align: top;\n",
              "    }\n",
              "\n",
              "    .dataframe thead th {\n",
              "        text-align: right;\n",
              "    }\n",
              "</style>\n",
              "<table border=\"1\" class=\"dataframe\">\n",
              "  <thead>\n",
              "    <tr style=\"text-align: right;\">\n",
              "      <th></th>\n",
              "      <th>gene_name</th>\n",
              "      <th>gene_biotype</th>\n",
              "      <th>chromosome</th>\n",
              "      <th>strand</th>\n",
              "      <th>transcript_count</th>\n",
              "    </tr>\n",
              "  </thead>\n",
              "  <tbody>\n",
              "    <tr>\n",
              "      <th>0</th>\n",
              "      <td>TSPAN6</td>\n",
              "      <td>protein_coding</td>\n",
              "      <td>chrX</td>\n",
              "      <td>-</td>\n",
              "      <td>5</td>\n",
              "    </tr>\n",
              "    <tr>\n",
              "      <th>1</th>\n",
              "      <td>TNMD</td>\n",
              "      <td>protein_coding</td>\n",
              "      <td>chrX</td>\n",
              "      <td>+</td>\n",
              "      <td>2</td>\n",
              "    </tr>\n",
              "    <tr>\n",
              "      <th>2</th>\n",
              "      <td>DPM1</td>\n",
              "      <td>protein_coding</td>\n",
              "      <td>chr20</td>\n",
              "      <td>-</td>\n",
              "      <td>6</td>\n",
              "    </tr>\n",
              "    <tr>\n",
              "      <th>3</th>\n",
              "      <td>SCYL3</td>\n",
              "      <td>protein_coding</td>\n",
              "      <td>chr1</td>\n",
              "      <td>-</td>\n",
              "      <td>5</td>\n",
              "    </tr>\n",
              "    <tr>\n",
              "      <th>4</th>\n",
              "      <td>C1orf112</td>\n",
              "      <td>protein_coding</td>\n",
              "      <td>chr1</td>\n",
              "      <td>+</td>\n",
              "      <td>9</td>\n",
              "    </tr>\n",
              "  </tbody>\n",
              "</table>\n",
              "</div>\n",
              "    <div class=\"colab-df-buttons\">\n",
              "\n",
              "  <div class=\"colab-df-container\">\n",
              "    <button class=\"colab-df-convert\" onclick=\"convertToInteractive('df-1137a314-1d49-437b-9897-ca1c5dd3739a')\"\n",
              "            title=\"Convert this dataframe to an interactive table.\"\n",
              "            style=\"display:none;\">\n",
              "\n",
              "  <svg xmlns=\"http://www.w3.org/2000/svg\" height=\"24px\" viewBox=\"0 -960 960 960\">\n",
              "    <path d=\"M120-120v-720h720v720H120Zm60-500h600v-160H180v160Zm220 220h160v-160H400v160Zm0 220h160v-160H400v160ZM180-400h160v-160H180v160Zm440 0h160v-160H620v160ZM180-180h160v-160H180v160Zm440 0h160v-160H620v160Z\"/>\n",
              "  </svg>\n",
              "    </button>\n",
              "\n",
              "  <style>\n",
              "    .colab-df-container {\n",
              "      display:flex;\n",
              "      gap: 12px;\n",
              "    }\n",
              "\n",
              "    .colab-df-convert {\n",
              "      background-color: #E8F0FE;\n",
              "      border: none;\n",
              "      border-radius: 50%;\n",
              "      cursor: pointer;\n",
              "      display: none;\n",
              "      fill: #1967D2;\n",
              "      height: 32px;\n",
              "      padding: 0 0 0 0;\n",
              "      width: 32px;\n",
              "    }\n",
              "\n",
              "    .colab-df-convert:hover {\n",
              "      background-color: #E2EBFA;\n",
              "      box-shadow: 0px 1px 2px rgba(60, 64, 67, 0.3), 0px 1px 3px 1px rgba(60, 64, 67, 0.15);\n",
              "      fill: #174EA6;\n",
              "    }\n",
              "\n",
              "    .colab-df-buttons div {\n",
              "      margin-bottom: 4px;\n",
              "    }\n",
              "\n",
              "    [theme=dark] .colab-df-convert {\n",
              "      background-color: #3B4455;\n",
              "      fill: #D2E3FC;\n",
              "    }\n",
              "\n",
              "    [theme=dark] .colab-df-convert:hover {\n",
              "      background-color: #434B5C;\n",
              "      box-shadow: 0px 1px 3px 1px rgba(0, 0, 0, 0.15);\n",
              "      filter: drop-shadow(0px 1px 2px rgba(0, 0, 0, 0.3));\n",
              "      fill: #FFFFFF;\n",
              "    }\n",
              "  </style>\n",
              "\n",
              "    <script>\n",
              "      const buttonEl =\n",
              "        document.querySelector('#df-1137a314-1d49-437b-9897-ca1c5dd3739a button.colab-df-convert');\n",
              "      buttonEl.style.display =\n",
              "        google.colab.kernel.accessAllowed ? 'block' : 'none';\n",
              "\n",
              "      async function convertToInteractive(key) {\n",
              "        const element = document.querySelector('#df-1137a314-1d49-437b-9897-ca1c5dd3739a');\n",
              "        const dataTable =\n",
              "          await google.colab.kernel.invokeFunction('convertToInteractive',\n",
              "                                                    [key], {});\n",
              "        if (!dataTable) return;\n",
              "\n",
              "        const docLinkHtml = 'Like what you see? Visit the ' +\n",
              "          '<a target=\"_blank\" href=https://colab.research.google.com/notebooks/data_table.ipynb>data table notebook</a>'\n",
              "          + ' to learn more about interactive tables.';\n",
              "        element.innerHTML = '';\n",
              "        dataTable['output_type'] = 'display_data';\n",
              "        await google.colab.output.renderOutput(dataTable, element);\n",
              "        const docLink = document.createElement('div');\n",
              "        docLink.innerHTML = docLinkHtml;\n",
              "        element.appendChild(docLink);\n",
              "      }\n",
              "    </script>\n",
              "  </div>\n",
              "\n",
              "\n",
              "<div id=\"df-f97a1d4b-2f85-40ac-8136-a28b5cab9384\">\n",
              "  <button class=\"colab-df-quickchart\" onclick=\"quickchart('df-f97a1d4b-2f85-40ac-8136-a28b5cab9384')\"\n",
              "            title=\"Suggest charts\"\n",
              "            style=\"display:none;\">\n",
              "\n",
              "<svg xmlns=\"http://www.w3.org/2000/svg\" height=\"24px\"viewBox=\"0 0 24 24\"\n",
              "     width=\"24px\">\n",
              "    <g>\n",
              "        <path d=\"M19 3H5c-1.1 0-2 .9-2 2v14c0 1.1.9 2 2 2h14c1.1 0 2-.9 2-2V5c0-1.1-.9-2-2-2zM9 17H7v-7h2v7zm4 0h-2V7h2v10zm4 0h-2v-4h2v4z\"/>\n",
              "    </g>\n",
              "</svg>\n",
              "  </button>\n",
              "\n",
              "<style>\n",
              "  .colab-df-quickchart {\n",
              "      --bg-color: #E8F0FE;\n",
              "      --fill-color: #1967D2;\n",
              "      --hover-bg-color: #E2EBFA;\n",
              "      --hover-fill-color: #174EA6;\n",
              "      --disabled-fill-color: #AAA;\n",
              "      --disabled-bg-color: #DDD;\n",
              "  }\n",
              "\n",
              "  [theme=dark] .colab-df-quickchart {\n",
              "      --bg-color: #3B4455;\n",
              "      --fill-color: #D2E3FC;\n",
              "      --hover-bg-color: #434B5C;\n",
              "      --hover-fill-color: #FFFFFF;\n",
              "      --disabled-bg-color: #3B4455;\n",
              "      --disabled-fill-color: #666;\n",
              "  }\n",
              "\n",
              "  .colab-df-quickchart {\n",
              "    background-color: var(--bg-color);\n",
              "    border: none;\n",
              "    border-radius: 50%;\n",
              "    cursor: pointer;\n",
              "    display: none;\n",
              "    fill: var(--fill-color);\n",
              "    height: 32px;\n",
              "    padding: 0;\n",
              "    width: 32px;\n",
              "  }\n",
              "\n",
              "  .colab-df-quickchart:hover {\n",
              "    background-color: var(--hover-bg-color);\n",
              "    box-shadow: 0 1px 2px rgba(60, 64, 67, 0.3), 0 1px 3px 1px rgba(60, 64, 67, 0.15);\n",
              "    fill: var(--button-hover-fill-color);\n",
              "  }\n",
              "\n",
              "  .colab-df-quickchart-complete:disabled,\n",
              "  .colab-df-quickchart-complete:disabled:hover {\n",
              "    background-color: var(--disabled-bg-color);\n",
              "    fill: var(--disabled-fill-color);\n",
              "    box-shadow: none;\n",
              "  }\n",
              "\n",
              "  .colab-df-spinner {\n",
              "    border: 2px solid var(--fill-color);\n",
              "    border-color: transparent;\n",
              "    border-bottom-color: var(--fill-color);\n",
              "    animation:\n",
              "      spin 1s steps(1) infinite;\n",
              "  }\n",
              "\n",
              "  @keyframes spin {\n",
              "    0% {\n",
              "      border-color: transparent;\n",
              "      border-bottom-color: var(--fill-color);\n",
              "      border-left-color: var(--fill-color);\n",
              "    }\n",
              "    20% {\n",
              "      border-color: transparent;\n",
              "      border-left-color: var(--fill-color);\n",
              "      border-top-color: var(--fill-color);\n",
              "    }\n",
              "    30% {\n",
              "      border-color: transparent;\n",
              "      border-left-color: var(--fill-color);\n",
              "      border-top-color: var(--fill-color);\n",
              "      border-right-color: var(--fill-color);\n",
              "    }\n",
              "    40% {\n",
              "      border-color: transparent;\n",
              "      border-right-color: var(--fill-color);\n",
              "      border-top-color: var(--fill-color);\n",
              "    }\n",
              "    60% {\n",
              "      border-color: transparent;\n",
              "      border-right-color: var(--fill-color);\n",
              "    }\n",
              "    80% {\n",
              "      border-color: transparent;\n",
              "      border-right-color: var(--fill-color);\n",
              "      border-bottom-color: var(--fill-color);\n",
              "    }\n",
              "    90% {\n",
              "      border-color: transparent;\n",
              "      border-bottom-color: var(--fill-color);\n",
              "    }\n",
              "  }\n",
              "</style>\n",
              "\n",
              "  <script>\n",
              "    async function quickchart(key) {\n",
              "      const quickchartButtonEl =\n",
              "        document.querySelector('#' + key + ' button');\n",
              "      quickchartButtonEl.disabled = true;  // To prevent multiple clicks.\n",
              "      quickchartButtonEl.classList.add('colab-df-spinner');\n",
              "      try {\n",
              "        const charts = await google.colab.kernel.invokeFunction(\n",
              "            'suggestCharts', [key], {});\n",
              "      } catch (error) {\n",
              "        console.error('Error during call to suggestCharts:', error);\n",
              "      }\n",
              "      quickchartButtonEl.classList.remove('colab-df-spinner');\n",
              "      quickchartButtonEl.classList.add('colab-df-quickchart-complete');\n",
              "    }\n",
              "    (() => {\n",
              "      let quickchartButtonEl =\n",
              "        document.querySelector('#df-f97a1d4b-2f85-40ac-8136-a28b5cab9384 button');\n",
              "      quickchartButtonEl.style.display =\n",
              "        google.colab.kernel.accessAllowed ? 'block' : 'none';\n",
              "    })();\n",
              "  </script>\n",
              "</div>\n",
              "\n",
              "    </div>\n",
              "  </div>\n"
            ],
            "application/vnd.google.colaboratory.intrinsic+json": {
              "type": "dataframe",
              "variable_name": "df",
              "summary": "{\n  \"name\": \"df\",\n  \"rows\": 51327,\n  \"fields\": [\n    {\n      \"column\": \"gene_name\",\n      \"properties\": {\n        \"dtype\": \"string\",\n        \"num_unique_values\": 51327,\n        \"samples\": [\n          \"MIR518F\",\n          \"CTB-31O20.8\",\n          \"OR5AL1\"\n        ],\n        \"semantic_type\": \"\",\n        \"description\": \"\"\n      }\n    },\n    {\n      \"column\": \"gene_biotype\",\n      \"properties\": {\n        \"dtype\": \"category\",\n        \"num_unique_values\": 41,\n        \"samples\": [\n          \"TR_V_pseudogene\",\n          \"transcribed_processed_pseudogene\",\n          \"snoRNA\"\n        ],\n        \"semantic_type\": \"\",\n        \"description\": \"\"\n      }\n    },\n    {\n      \"column\": \"chromosome\",\n      \"properties\": {\n        \"dtype\": \"category\",\n        \"num_unique_values\": 56,\n        \"samples\": [\n          \"chrX\",\n          \"chr7\",\n          \"chrCHR_HSCHR17_1_CTG4\"\n        ],\n        \"semantic_type\": \"\",\n        \"description\": \"\"\n      }\n    },\n    {\n      \"column\": \"strand\",\n      \"properties\": {\n        \"dtype\": \"category\",\n        \"num_unique_values\": 2,\n        \"samples\": [\n          \"+\",\n          \"-\"\n        ],\n        \"semantic_type\": \"\",\n        \"description\": \"\"\n      }\n    },\n    {\n      \"column\": \"transcript_count\",\n      \"properties\": {\n        \"dtype\": \"number\",\n        \"std\": 5,\n        \"min\": 1,\n        \"max\": 170,\n        \"num_unique_values\": 74,\n        \"samples\": [\n          7,\n          74\n        ],\n        \"semantic_type\": \"\",\n        \"description\": \"\"\n      }\n    }\n  ]\n}"
            }
          },
          "metadata": {},
          "execution_count": 23
        }
      ]
    },
    {
      "cell_type": "markdown",
      "source": [
        "### **Selecting Dataframe columns**"
      ],
      "metadata": {
        "id": "PIr05wZbJEmG"
      }
    },
    {
      "cell_type": "markdown",
      "source": [
        "\n",
        "\n",
        "*   single column\n",
        "\n"
      ],
      "metadata": {
        "id": "IxVabjKXsWDi"
      }
    },
    {
      "cell_type": "code",
      "source": [
        "# retrieving gene_name as a key value\n",
        "print(df['gene_name'])"
      ],
      "metadata": {
        "colab": {
          "base_uri": "https://localhost:8080/"
        },
        "id": "RNFec5pTI8XY",
        "outputId": "aca189ca-c426-4152-d229-a94b1c261cd0"
      },
      "execution_count": null,
      "outputs": [
        {
          "output_type": "stream",
          "name": "stdout",
          "text": [
            "0               TSPAN6\n",
            "1                 TNMD\n",
            "2                 DPM1\n",
            "3                SCYL3\n",
            "4             C1orf112\n",
            "             ...      \n",
            "51322          MT-RNR1\n",
            "51323         CRYM-AS1\n",
            "51324    RP11-100E13.1\n",
            "51325         VTRNA2-1\n",
            "51326           BCYRN1\n",
            "Name: gene_name, Length: 51327, dtype: object\n"
          ]
        }
      ]
    },
    {
      "cell_type": "code",
      "source": [
        "# get method can also be used to make sure no error is raised when the given column does not exist\n",
        "print(df.get('gene-name', 'No column was found'))"
      ],
      "metadata": {
        "colab": {
          "base_uri": "https://localhost:8080/"
        },
        "id": "coVvP8PVqlXP",
        "outputId": "b6b2c174-ce45-4a9d-fd95-5e8961b24d4d"
      },
      "execution_count": null,
      "outputs": [
        {
          "output_type": "stream",
          "name": "stdout",
          "text": [
            "No column was found\n"
          ]
        }
      ]
    },
    {
      "cell_type": "markdown",
      "source": [
        "- selecting multiple columns (returns a new DataFrame)"
      ],
      "metadata": {
        "id": "dATtWEyJsn8H"
      }
    },
    {
      "cell_type": "code",
      "source": [
        "# retrieving multiple columns of a DataFrame\n",
        "print(df[['gene_name', 'strand','transcript_count']])"
      ],
      "metadata": {
        "colab": {
          "base_uri": "https://localhost:8080/"
        },
        "id": "nh77cDWIqlUQ",
        "outputId": "96bcb055-c64c-466c-be58-05aa7a0e5e95"
      },
      "execution_count": null,
      "outputs": [
        {
          "output_type": "stream",
          "name": "stdout",
          "text": [
            "           gene_name strand  transcript_count\n",
            "0             TSPAN6      -                 5\n",
            "1               TNMD      +                 2\n",
            "2               DPM1      -                 6\n",
            "3              SCYL3      -                 5\n",
            "4           C1orf112      +                 9\n",
            "...              ...    ...               ...\n",
            "51322        MT-RNR1      +                 1\n",
            "51323       CRYM-AS1      +                 3\n",
            "51324  RP11-100E13.1      -                 1\n",
            "51325       VTRNA2-1      -                 1\n",
            "51326         BCYRN1      +                 1\n",
            "\n",
            "[51327 rows x 3 columns]\n"
          ]
        }
      ]
    },
    {
      "cell_type": "markdown",
      "source": [
        "## **Iterating through a Dataframe's rows**"
      ],
      "metadata": {
        "id": "zzfv33oiJI7b"
      }
    },
    {
      "cell_type": "markdown",
      "source": [
        "* The iterrows() method generates an iterator object of the DataFrame, allowing us to iterate each row in the DataFrame.\n",
        "* Each iteration produces an index object and a row object (a Pandas Series object)."
      ],
      "metadata": {
        "id": "DgDeNnITJPih"
      }
    },
    {
      "cell_type": "code",
      "source": [
        "# get first 3 rows of the dataframe\n",
        "tiny_df = df.iloc[0:3] # 0, 1, 2\n",
        "# iterate over each row\n",
        "for index, row in tiny_df.iterrows():\n",
        "  # iterrows returns an index and a panda series\n",
        "  print(index, row)\n",
        "  print(\" \")"
      ],
      "metadata": {
        "colab": {
          "base_uri": "https://localhost:8080/"
        },
        "id": "pr-CcJDEI8Uj",
        "outputId": "aa7b4086-3073-48fa-d49d-d33af414b619"
      },
      "execution_count": null,
      "outputs": [
        {
          "output_type": "stream",
          "name": "stdout",
          "text": [
            "0 gene_name                   TSPAN6\n",
            "gene_biotype        protein_coding\n",
            "chromosome                    chrX\n",
            "strand                           -\n",
            "transcript_count                 5\n",
            "Name: 0, dtype: object\n",
            " \n",
            "1 gene_name                     TNMD\n",
            "gene_biotype        protein_coding\n",
            "chromosome                    chrX\n",
            "strand                           +\n",
            "transcript_count                 2\n",
            "Name: 1, dtype: object\n",
            " \n",
            "2 gene_name                     DPM1\n",
            "gene_biotype        protein_coding\n",
            "chromosome                   chr20\n",
            "strand                           -\n",
            "transcript_count                 6\n",
            "Name: 2, dtype: object\n",
            " \n"
          ]
        }
      ]
    },
    {
      "cell_type": "markdown",
      "source": [
        "## **Retrieving statistics**"
      ],
      "metadata": {
        "id": "hbcwxUj2JSUq"
      }
    },
    {
      "cell_type": "markdown",
      "source": [
        "- by using statistical methods provided by pandas"
      ],
      "metadata": {
        "id": "ePCZQ4LDJXPR"
      }
    },
    {
      "cell_type": "code",
      "source": [
        "# for numerical columns there may be a need to retrieve basic statistics\n",
        "transcript_column=df.transcript_count # df['transcript_count']\n",
        "print(transcript_column)"
      ],
      "metadata": {
        "colab": {
          "base_uri": "https://localhost:8080/"
        },
        "id": "UUK9ahRCI8R2",
        "outputId": "281d2363-cb70-4f51-f814-ac0409c63e61"
      },
      "execution_count": null,
      "outputs": [
        {
          "output_type": "stream",
          "name": "stdout",
          "text": [
            "0        5\n",
            "1        2\n",
            "2        6\n",
            "3        5\n",
            "4        9\n",
            "        ..\n",
            "51322    1\n",
            "51323    3\n",
            "51324    1\n",
            "51325    1\n",
            "51326    1\n",
            "Name: transcript_count, Length: 51327, dtype: int64\n"
          ]
        }
      ]
    },
    {
      "cell_type": "code",
      "source": [
        "# let's retrieve the statistics for the transcript_count column\n",
        "print(\"The maximum transcript_count observed: \", transcript_column.max())"
      ],
      "metadata": {
        "colab": {
          "base_uri": "https://localhost:8080/"
        },
        "id": "zgBvh7RWtx2q",
        "outputId": "2d06bb49-b8ba-49d4-9121-de597e6978a4"
      },
      "execution_count": null,
      "outputs": [
        {
          "output_type": "stream",
          "name": "stdout",
          "text": [
            "The maximum transcript_count observed:  170\n"
          ]
        }
      ]
    },
    {
      "cell_type": "code",
      "source": [
        "print(\"The minimum transcript_count observed: \", transcript_column.min())"
      ],
      "metadata": {
        "colab": {
          "base_uri": "https://localhost:8080/"
        },
        "id": "8G7d_DShty9t",
        "outputId": "89a48aa8-92de-41f9-ab6c-8a1dbb32fc88"
      },
      "execution_count": null,
      "outputs": [
        {
          "output_type": "stream",
          "name": "stdout",
          "text": [
            "The minimum transcript_count observed:  1\n"
          ]
        }
      ]
    },
    {
      "cell_type": "code",
      "source": [
        "print(\"The average transcript_count observed: \", transcript_column.mean())"
      ],
      "metadata": {
        "colab": {
          "base_uri": "https://localhost:8080/"
        },
        "id": "0Cy8oI4wt1gU",
        "outputId": "a2a54589-dff9-4411-d920-ef21bc29b0d7"
      },
      "execution_count": null,
      "outputs": [
        {
          "output_type": "stream",
          "name": "stdout",
          "text": [
            "The average transcript_count observed:  3.700469538449549\n"
          ]
        }
      ]
    },
    {
      "cell_type": "code",
      "source": [
        "# the median is the middle element of a sorted sequence of elements\n",
        "# e.g. 1,1,3,4,103,2014,98531 -> median: 4\n",
        "print(\"The median of all transcript counts: \", transcript_column.median())"
      ],
      "metadata": {
        "colab": {
          "base_uri": "https://localhost:8080/"
        },
        "id": "MvFtyd52t4Ey",
        "outputId": "a07f76d7-e92b-422e-d506-184d3d118391"
      },
      "execution_count": null,
      "outputs": [
        {
          "output_type": "stream",
          "name": "stdout",
          "text": [
            "The median of all transcript counts:  1.0\n"
          ]
        }
      ]
    },
    {
      "cell_type": "markdown",
      "source": [
        "- by using the describe() method"
      ],
      "metadata": {
        "id": "2p5YdwEJJa9D"
      }
    },
    {
      "cell_type": "code",
      "source": [
        "# pandas also provides the describe() method for statistics in numerical columns\n",
        "transcript_column.describe()"
      ],
      "metadata": {
        "colab": {
          "base_uri": "https://localhost:8080/",
          "height": 335
        },
        "id": "ie7MCBL3I85T",
        "outputId": "94999703-4a0a-4af0-931f-b26ef9eabd9c"
      },
      "execution_count": null,
      "outputs": [
        {
          "output_type": "execute_result",
          "data": {
            "text/plain": [
              "count    51327.000000\n",
              "mean         3.700470\n",
              "std          5.336323\n",
              "min          1.000000\n",
              "25%          1.000000\n",
              "50%          1.000000\n",
              "75%          4.000000\n",
              "max        170.000000\n",
              "Name: transcript_count, dtype: float64"
            ],
            "text/html": [
              "<div>\n",
              "<style scoped>\n",
              "    .dataframe tbody tr th:only-of-type {\n",
              "        vertical-align: middle;\n",
              "    }\n",
              "\n",
              "    .dataframe tbody tr th {\n",
              "        vertical-align: top;\n",
              "    }\n",
              "\n",
              "    .dataframe thead th {\n",
              "        text-align: right;\n",
              "    }\n",
              "</style>\n",
              "<table border=\"1\" class=\"dataframe\">\n",
              "  <thead>\n",
              "    <tr style=\"text-align: right;\">\n",
              "      <th></th>\n",
              "      <th>transcript_count</th>\n",
              "    </tr>\n",
              "  </thead>\n",
              "  <tbody>\n",
              "    <tr>\n",
              "      <th>count</th>\n",
              "      <td>51327.000000</td>\n",
              "    </tr>\n",
              "    <tr>\n",
              "      <th>mean</th>\n",
              "      <td>3.700470</td>\n",
              "    </tr>\n",
              "    <tr>\n",
              "      <th>std</th>\n",
              "      <td>5.336323</td>\n",
              "    </tr>\n",
              "    <tr>\n",
              "      <th>min</th>\n",
              "      <td>1.000000</td>\n",
              "    </tr>\n",
              "    <tr>\n",
              "      <th>25%</th>\n",
              "      <td>1.000000</td>\n",
              "    </tr>\n",
              "    <tr>\n",
              "      <th>50%</th>\n",
              "      <td>1.000000</td>\n",
              "    </tr>\n",
              "    <tr>\n",
              "      <th>75%</th>\n",
              "      <td>4.000000</td>\n",
              "    </tr>\n",
              "    <tr>\n",
              "      <th>max</th>\n",
              "      <td>170.000000</td>\n",
              "    </tr>\n",
              "  </tbody>\n",
              "</table>\n",
              "</div><br><label><b>dtype:</b> float64</label>"
            ]
          },
          "metadata": {},
          "execution_count": 34
        }
      ]
    },
    {
      "cell_type": "markdown",
      "source": [
        "Plotting a histogram on a numerical column."
      ],
      "metadata": {
        "id": "PL60krL-JgWc"
      }
    },
    {
      "cell_type": "code",
      "source": [
        "transcript_column.plot(kind=\"hist\",bins=50)\n",
        "# bins: refers to the number of bars that appear (configures the histogram resolution)"
      ],
      "metadata": {
        "colab": {
          "base_uri": "https://localhost:8080/",
          "height": 447
        },
        "id": "5dA9yWYuI82b",
        "outputId": "2430607e-3193-4ea6-9141-476edf859ebe"
      },
      "execution_count": null,
      "outputs": [
        {
          "output_type": "execute_result",
          "data": {
            "text/plain": [
              "<Axes: ylabel='Frequency'>"
            ]
          },
          "metadata": {},
          "execution_count": 35
        },
        {
          "output_type": "display_data",
          "data": {
            "text/plain": [
              "<Figure size 640x480 with 1 Axes>"
            ],
            "image/png": "[encoded data removed]"
          },
          "metadata": {}
        }
      ]
    },
    {
      "cell_type": "markdown",
      "source": [
        "## **Sorting Dataframe rows**"
      ],
      "metadata": {
        "id": "--X6FFOmJkex"
      }
    },
    {
      "cell_type": "markdown",
      "source": [
        "Sorted by values of one (or more) columns.\n",
        "\n",
        "Sorting returns a new sorted DataFrame."
      ],
      "metadata": {
        "id": "wnP28qsNueD9"
      }
    },
    {
      "cell_type": "markdown",
      "source": [
        "- ascending"
      ],
      "metadata": {
        "id": "3ZxA3EROukG7"
      }
    },
    {
      "cell_type": "code",
      "source": [
        "# sorting DataFrame, by alphabetical order of gene_name\n",
        "df.sort_values('gene_name')"
      ],
      "metadata": {
        "colab": {
          "base_uri": "https://localhost:8080/",
          "height": 424
        },
        "id": "J3-d0_nHvFqR",
        "outputId": "0a352100-3ab1-4e62-8391-4d691786cc47"
      },
      "execution_count": null,
      "outputs": [
        {
          "output_type": "execute_result",
          "data": {
            "text/plain": [
              "        gene_name          gene_biotype                  chromosome strand  \\\n",
              "49450     5S_rRNA                  rRNA                        chrX      -   \n",
              "45842         7SK              misc_RNA  chrCHR_HSCHR6_MHC_QBL_CTG1      +   \n",
              "5125         A1BG        protein_coding                       chr19      -   \n",
              "40623    A1BG-AS1             antisense                       chr19      +   \n",
              "9009         A1CF        protein_coding                       chr10      -   \n",
              "...           ...                   ...                         ...    ...   \n",
              "47501     snoZ278                snoRNA                       chr15      +   \n",
              "47251      snoZ40                snoRNA                        chr3      +   \n",
              "47495       snoZ6                snoRNA                       chr19      -   \n",
              "47404    snosnR66                snoRNA                       chr11      -   \n",
              "19746  yR211F11.2  processed_pseudogene                        chr6      -   \n",
              "\n",
              "       transcript_count  \n",
              "49450                 1  \n",
              "45842                 1  \n",
              "5125                  5  \n",
              "40623                 7  \n",
              "9009                 10  \n",
              "...                 ...  \n",
              "47501                 1  \n",
              "47251                 1  \n",
              "47495                 1  \n",
              "47404                 1  \n",
              "19746                 1  \n",
              "\n",
              "[51327 rows x 5 columns]"
            ],
            "text/html": [
              "\n",
              "  <div id=\"df-829430e0-60f4-400a-9824-dfa74cf84644\" class=\"colab-df-container\">\n",
              "    <div>\n",
              "<style scoped>\n",
              "    .dataframe tbody tr th:only-of-type {\n",
              "        vertical-align: middle;\n",
              "    }\n",
              "\n",
              "    .dataframe tbody tr th {\n",
              "        vertical-align: top;\n",
              "    }\n",
              "\n",
              "    .dataframe thead th {\n",
              "        text-align: right;\n",
              "    }\n",
              "</style>\n",
              "<table border=\"1\" class=\"dataframe\">\n",
              "  <thead>\n",
              "    <tr style=\"text-align: right;\">\n",
              "      <th></th>\n",
              "      <th>gene_name</th>\n",
              "      <th>gene_biotype</th>\n",
              "      <th>chromosome</th>\n",
              "      <th>strand</th>\n",
              "      <th>transcript_count</th>\n",
              "    </tr>\n",
              "  </thead>\n",
              "  <tbody>\n",
              "    <tr>\n",
              "      <th>49450</th>\n",
              "      <td>5S_rRNA</td>\n",
              "      <td>rRNA</td>\n",
              "      <td>chrX</td>\n",
              "      <td>-</td>\n",
              "      <td>1</td>\n",
              "    </tr>\n",
              "    <tr>\n",
              "      <th>45842</th>\n",
              "      <td>7SK</td>\n",
              "      <td>misc_RNA</td>\n",
              "      <td>chrCHR_HSCHR6_MHC_QBL_CTG1</td>\n",
              "      <td>+</td>\n",
              "      <td>1</td>\n",
              "    </tr>\n",
              "    <tr>\n",
              "      <th>5125</th>\n",
              "      <td>A1BG</td>\n",
              "      <td>protein_coding</td>\n",
              "      <td>chr19</td>\n",
              "      <td>-</td>\n",
              "      <td>5</td>\n",
              "    </tr>\n",
              "    <tr>\n",
              "      <th>40623</th>\n",
              "      <td>A1BG-AS1</td>\n",
              "      <td>antisense</td>\n",
              "      <td>chr19</td>\n",
              "      <td>+</td>\n",
              "      <td>7</td>\n",
              "    </tr>\n",
              "    <tr>\n",
              "      <th>9009</th>\n",
              "      <td>A1CF</td>\n",
              "      <td>protein_coding</td>\n",
              "      <td>chr10</td>\n",
              "      <td>-</td>\n",
              "      <td>10</td>\n",
              "    </tr>\n",
              "    <tr>\n",
              "      <th>...</th>\n",
              "      <td>...</td>\n",
              "      <td>...</td>\n",
              "      <td>...</td>\n",
              "      <td>...</td>\n",
              "      <td>...</td>\n",
              "    </tr>\n",
              "    <tr>\n",
              "      <th>47501</th>\n",
              "      <td>snoZ278</td>\n",
              "      <td>snoRNA</td>\n",
              "      <td>chr15</td>\n",
              "      <td>+</td>\n",
              "      <td>1</td>\n",
              "    </tr>\n",
              "    <tr>\n",
              "      <th>47251</th>\n",
              "      <td>snoZ40</td>\n",
              "      <td>snoRNA</td>\n",
              "      <td>chr3</td>\n",
              "      <td>+</td>\n",
              "      <td>1</td>\n",
              "    </tr>\n",
              "    <tr>\n",
              "      <th>47495</th>\n",
              "      <td>snoZ6</td>\n",
              "      <td>snoRNA</td>\n",
              "      <td>chr19</td>\n",
              "      <td>-</td>\n",
              "      <td>1</td>\n",
              "    </tr>\n",
              "    <tr>\n",
              "      <th>47404</th>\n",
              "      <td>snosnR66</td>\n",
              "      <td>snoRNA</td>\n",
              "      <td>chr11</td>\n",
              "      <td>-</td>\n",
              "      <td>1</td>\n",
              "    </tr>\n",
              "    <tr>\n",
              "      <th>19746</th>\n",
              "      <td>yR211F11.2</td>\n",
              "      <td>processed_pseudogene</td>\n",
              "      <td>chr6</td>\n",
              "      <td>-</td>\n",
              "      <td>1</td>\n",
              "    </tr>\n",
              "  </tbody>\n",
              "</table>\n",
              "<p>51327 rows × 5 columns</p>\n",
              "</div>\n",
              "    <div class=\"colab-df-buttons\">\n",
              "\n",
              "  <div class=\"colab-df-container\">\n",
              "    <button class=\"colab-df-convert\" onclick=\"convertToInteractive('df-829430e0-60f4-400a-9824-dfa74cf84644')\"\n",
              "            title=\"Convert this dataframe to an interactive table.\"\n",
              "            style=\"display:none;\">\n",
              "\n",
              "  <svg xmlns=\"http://www.w3.org/2000/svg\" height=\"24px\" viewBox=\"0 -960 960 960\">\n",
              "    <path d=\"M120-120v-720h720v720H120Zm60-500h600v-160H180v160Zm220 220h160v-160H400v160Zm0 220h160v-160H400v160ZM180-400h160v-160H180v160Zm440 0h160v-160H620v160ZM180-180h160v-160H180v160Zm440 0h160v-160H620v160Z\"/>\n",
              "  </svg>\n",
              "    </button>\n",
              "\n",
              "  <style>\n",
              "    .colab-df-container {\n",
              "      display:flex;\n",
              "      gap: 12px;\n",
              "    }\n",
              "\n",
              "    .colab-df-convert {\n",
              "      background-color: #E8F0FE;\n",
              "      border: none;\n",
              "      border-radius: 50%;\n",
              "      cursor: pointer;\n",
              "      display: none;\n",
              "      fill: #1967D2;\n",
              "      height: 32px;\n",
              "      padding: 0 0 0 0;\n",
              "      width: 32px;\n",
              "    }\n",
              "\n",
              "    .colab-df-convert:hover {\n",
              "      background-color: #E2EBFA;\n",
              "      box-shadow: 0px 1px 2px rgba(60, 64, 67, 0.3), 0px 1px 3px 1px rgba(60, 64, 67, 0.15);\n",
              "      fill: #174EA6;\n",
              "    }\n",
              "\n",
              "    .colab-df-buttons div {\n",
              "      margin-bottom: 4px;\n",
              "    }\n",
              "\n",
              "    [theme=dark] .colab-df-convert {\n",
              "      background-color: #3B4455;\n",
              "      fill: #D2E3FC;\n",
              "    }\n",
              "\n",
              "    [theme=dark] .colab-df-convert:hover {\n",
              "      background-color: #434B5C;\n",
              "      box-shadow: 0px 1px 3px 1px rgba(0, 0, 0, 0.15);\n",
              "      filter: drop-shadow(0px 1px 2px rgba(0, 0, 0, 0.3));\n",
              "      fill: #FFFFFF;\n",
              "    }\n",
              "  </style>\n",
              "\n",
              "    <script>\n",
              "      const buttonEl =\n",
              "        document.querySelector('#df-829430e0-60f4-400a-9824-dfa74cf84644 button.colab-df-convert');\n",
              "      buttonEl.style.display =\n",
              "        google.colab.kernel.accessAllowed ? 'block' : 'none';\n",
              "\n",
              "      async function convertToInteractive(key) {\n",
              "        const element = document.querySelector('#df-829430e0-60f4-400a-9824-dfa74cf84644');\n",
              "        const dataTable =\n",
              "          await google.colab.kernel.invokeFunction('convertToInteractive',\n",
              "                                                    [key], {});\n",
              "        if (!dataTable) return;\n",
              "\n",
              "        const docLinkHtml = 'Like what you see? Visit the ' +\n",
              "          '<a target=\"_blank\" href=https://colab.research.google.com/notebooks/data_table.ipynb>data table notebook</a>'\n",
              "          + ' to learn more about interactive tables.';\n",
              "        element.innerHTML = '';\n",
              "        dataTable['output_type'] = 'display_data';\n",
              "        await google.colab.output.renderOutput(dataTable, element);\n",
              "        const docLink = document.createElement('div');\n",
              "        docLink.innerHTML = docLinkHtml;\n",
              "        element.appendChild(docLink);\n",
              "      }\n",
              "    </script>\n",
              "  </div>\n",
              "\n",
              "\n",
              "<div id=\"df-4f33e9c4-38b8-4377-8346-1befbdc029e2\">\n",
              "  <button class=\"colab-df-quickchart\" onclick=\"quickchart('df-4f33e9c4-38b8-4377-8346-1befbdc029e2')\"\n",
              "            title=\"Suggest charts\"\n",
              "            style=\"display:none;\">\n",
              "\n",
              "<svg xmlns=\"http://www.w3.org/2000/svg\" height=\"24px\"viewBox=\"0 0 24 24\"\n",
              "     width=\"24px\">\n",
              "    <g>\n",
              "        <path d=\"M19 3H5c-1.1 0-2 .9-2 2v14c0 1.1.9 2 2 2h14c1.1 0 2-.9 2-2V5c0-1.1-.9-2-2-2zM9 17H7v-7h2v7zm4 0h-2V7h2v10zm4 0h-2v-4h2v4z\"/>\n",
              "    </g>\n",
              "</svg>\n",
              "  </button>\n",
              "\n",
              "<style>\n",
              "  .colab-df-quickchart {\n",
              "      --bg-color: #E8F0FE;\n",
              "      --fill-color: #1967D2;\n",
              "      --hover-bg-color: #E2EBFA;\n",
              "      --hover-fill-color: #174EA6;\n",
              "      --disabled-fill-color: #AAA;\n",
              "      --disabled-bg-color: #DDD;\n",
              "  }\n",
              "\n",
              "  [theme=dark] .colab-df-quickchart {\n",
              "      --bg-color: #3B4455;\n",
              "      --fill-color: #D2E3FC;\n",
              "      --hover-bg-color: #434B5C;\n",
              "      --hover-fill-color: #FFFFFF;\n",
              "      --disabled-bg-color: #3B4455;\n",
              "      --disabled-fill-color: #666;\n",
              "  }\n",
              "\n",
              "  .colab-df-quickchart {\n",
              "    background-color: var(--bg-color);\n",
              "    border: none;\n",
              "    border-radius: 50%;\n",
              "    cursor: pointer;\n",
              "    display: none;\n",
              "    fill: var(--fill-color);\n",
              "    height: 32px;\n",
              "    padding: 0;\n",
              "    width: 32px;\n",
              "  }\n",
              "\n",
              "  .colab-df-quickchart:hover {\n",
              "    background-color: var(--hover-bg-color);\n",
              "    box-shadow: 0 1px 2px rgba(60, 64, 67, 0.3), 0 1px 3px 1px rgba(60, 64, 67, 0.15);\n",
              "    fill: var(--button-hover-fill-color);\n",
              "  }\n",
              "\n",
              "  .colab-df-quickchart-complete:disabled,\n",
              "  .colab-df-quickchart-complete:disabled:hover {\n",
              "    background-color: var(--disabled-bg-color);\n",
              "    fill: var(--disabled-fill-color);\n",
              "    box-shadow: none;\n",
              "  }\n",
              "\n",
              "  .colab-df-spinner {\n",
              "    border: 2px solid var(--fill-color);\n",
              "    border-color: transparent;\n",
              "    border-bottom-color: var(--fill-color);\n",
              "    animation:\n",
              "      spin 1s steps(1) infinite;\n",
              "  }\n",
              "\n",
              "  @keyframes spin {\n",
              "    0% {\n",
              "      border-color: transparent;\n",
              "      border-bottom-color: var(--fill-color);\n",
              "      border-left-color: var(--fill-color);\n",
              "    }\n",
              "    20% {\n",
              "      border-color: transparent;\n",
              "      border-left-color: var(--fill-color);\n",
              "      border-top-color: var(--fill-color);\n",
              "    }\n",
              "    30% {\n",
              "      border-color: transparent;\n",
              "      border-left-color: var(--fill-color);\n",
              "      border-top-color: var(--fill-color);\n",
              "      border-right-color: var(--fill-color);\n",
              "    }\n",
              "    40% {\n",
              "      border-color: transparent;\n",
              "      border-right-color: var(--fill-color);\n",
              "      border-top-color: var(--fill-color);\n",
              "    }\n",
              "    60% {\n",
              "      border-color: transparent;\n",
              "      border-right-color: var(--fill-color);\n",
              "    }\n",
              "    80% {\n",
              "      border-color: transparent;\n",
              "      border-right-color: var(--fill-color);\n",
              "      border-bottom-color: var(--fill-color);\n",
              "    }\n",
              "    90% {\n",
              "      border-color: transparent;\n",
              "      border-bottom-color: var(--fill-color);\n",
              "    }\n",
              "  }\n",
              "</style>\n",
              "\n",
              "  <script>\n",
              "    async function quickchart(key) {\n",
              "      const quickchartButtonEl =\n",
              "        document.querySelector('#' + key + ' button');\n",
              "      quickchartButtonEl.disabled = true;  // To prevent multiple clicks.\n",
              "      quickchartButtonEl.classList.add('colab-df-spinner');\n",
              "      try {\n",
              "        const charts = await google.colab.kernel.invokeFunction(\n",
              "            'suggestCharts', [key], {});\n",
              "      } catch (error) {\n",
              "        console.error('Error during call to suggestCharts:', error);\n",
              "      }\n",
              "      quickchartButtonEl.classList.remove('colab-df-spinner');\n",
              "      quickchartButtonEl.classList.add('colab-df-quickchart-complete');\n",
              "    }\n",
              "    (() => {\n",
              "      let quickchartButtonEl =\n",
              "        document.querySelector('#df-4f33e9c4-38b8-4377-8346-1befbdc029e2 button');\n",
              "      quickchartButtonEl.style.display =\n",
              "        google.colab.kernel.accessAllowed ? 'block' : 'none';\n",
              "    })();\n",
              "  </script>\n",
              "</div>\n",
              "\n",
              "    </div>\n",
              "  </div>\n"
            ],
            "application/vnd.google.colaboratory.intrinsic+json": {
              "type": "dataframe",
              "summary": "{\n  \"name\": \"df\",\n  \"rows\": 51327,\n  \"fields\": [\n    {\n      \"column\": \"gene_name\",\n      \"properties\": {\n        \"dtype\": \"string\",\n        \"num_unique_values\": 51327,\n        \"samples\": [\n          \"SPHKAP\",\n          \"RP11-813I20.2\",\n          \"snoU2-30\"\n        ],\n        \"semantic_type\": \"\",\n        \"description\": \"\"\n      }\n    },\n    {\n      \"column\": \"gene_biotype\",\n      \"properties\": {\n        \"dtype\": \"category\",\n        \"num_unique_values\": 41,\n        \"samples\": [\n          \"IG_J_gene\",\n          \"transcribed_unitary_pseudogene\",\n          \"unprocessed_pseudogene\"\n        ],\n        \"semantic_type\": \"\",\n        \"description\": \"\"\n      }\n    },\n    {\n      \"column\": \"chromosome\",\n      \"properties\": {\n        \"dtype\": \"category\",\n        \"num_unique_values\": 56,\n        \"samples\": [\n          \"chrX\",\n          \"chr1\",\n          \"chrCHR_HSCHR15_4_CTG8\"\n        ],\n        \"semantic_type\": \"\",\n        \"description\": \"\"\n      }\n    },\n    {\n      \"column\": \"strand\",\n      \"properties\": {\n        \"dtype\": \"category\",\n        \"num_unique_values\": 2,\n        \"samples\": [\n          \"+\",\n          \"-\"\n        ],\n        \"semantic_type\": \"\",\n        \"description\": \"\"\n      }\n    },\n    {\n      \"column\": \"transcript_count\",\n      \"properties\": {\n        \"dtype\": \"number\",\n        \"std\": 5,\n        \"min\": 1,\n        \"max\": 170,\n        \"num_unique_values\": 74,\n        \"samples\": [\n          13,\n          67\n        ],\n        \"semantic_type\": \"\",\n        \"description\": \"\"\n      }\n    }\n  ]\n}"
            }
          },
          "metadata": {},
          "execution_count": 39
        }
      ]
    },
    {
      "cell_type": "code",
      "source": [
        "# sorting DataFrame, by the number of transcripts of each gene, in descending order\n",
        "df.sort_values('transcript_count', ascending=False).head(10)"
      ],
      "metadata": {
        "colab": {
          "base_uri": "https://localhost:8080/",
          "height": 363
        },
        "id": "34WvU9FKI8zn",
        "outputId": "49922062-7730-4c3f-a35a-9e5992c50134"
      },
      "execution_count": null,
      "outputs": [
        {
          "output_type": "execute_result",
          "data": {
            "text/plain": [
              "        gene_name          gene_biotype chromosome strand  transcript_count\n",
              "47550   PCBP1-AS1  processed_transcript       chr2      -               170\n",
              "32044   LINC00969               lincRNA       chr3      +               142\n",
              "30080       TEX41               lincRNA       chr2      +               103\n",
              "16363        TCF4        protein_coding      chr18      -                90\n",
              "11524       NDRG2        protein_coding      chr14      -                79\n",
              "17421      ADGRG1        protein_coding      chr16      +                77\n",
              "14712      CACNB4        protein_coding       chr2      -                74\n",
              "47657   SATB1-AS1  processed_transcript       chr3      +                73\n",
              "37157  AC012594.1             antisense       chr2      -                73\n",
              "37845     TTN-AS1             antisense       chr2      +                71"
            ],
            "text/html": [
              "\n",
              "  <div id=\"df-2231dcbb-baed-4452-b3ec-be5bbb647e9a\" class=\"colab-df-container\">\n",
              "    <div>\n",
              "<style scoped>\n",
              "    .dataframe tbody tr th:only-of-type {\n",
              "        vertical-align: middle;\n",
              "    }\n",
              "\n",
              "    .dataframe tbody tr th {\n",
              "        vertical-align: top;\n",
              "    }\n",
              "\n",
              "    .dataframe thead th {\n",
              "        text-align: right;\n",
              "    }\n",
              "</style>\n",
              "<table border=\"1\" class=\"dataframe\">\n",
              "  <thead>\n",
              "    <tr style=\"text-align: right;\">\n",
              "      <th></th>\n",
              "      <th>gene_name</th>\n",
              "      <th>gene_biotype</th>\n",
              "      <th>chromosome</th>\n",
              "      <th>strand</th>\n",
              "      <th>transcript_count</th>\n",
              "    </tr>\n",
              "  </thead>\n",
              "  <tbody>\n",
              "    <tr>\n",
              "      <th>47550</th>\n",
              "      <td>PCBP1-AS1</td>\n",
              "      <td>processed_transcript</td>\n",
              "      <td>chr2</td>\n",
              "      <td>-</td>\n",
              "      <td>170</td>\n",
              "    </tr>\n",
              "    <tr>\n",
              "      <th>32044</th>\n",
              "      <td>LINC00969</td>\n",
              "      <td>lincRNA</td>\n",
              "      <td>chr3</td>\n",
              "      <td>+</td>\n",
              "      <td>142</td>\n",
              "    </tr>\n",
              "    <tr>\n",
              "      <th>30080</th>\n",
              "      <td>TEX41</td>\n",
              "      <td>lincRNA</td>\n",
              "      <td>chr2</td>\n",
              "      <td>+</td>\n",
              "      <td>103</td>\n",
              "    </tr>\n",
              "    <tr>\n",
              "      <th>16363</th>\n",
              "      <td>TCF4</td>\n",
              "      <td>protein_coding</td>\n",
              "      <td>chr18</td>\n",
              "      <td>-</td>\n",
              "      <td>90</td>\n",
              "    </tr>\n",
              "    <tr>\n",
              "      <th>11524</th>\n",
              "      <td>NDRG2</td>\n",
              "      <td>protein_coding</td>\n",
              "      <td>chr14</td>\n",
              "      <td>-</td>\n",
              "      <td>79</td>\n",
              "    </tr>\n",
              "    <tr>\n",
              "      <th>17421</th>\n",
              "      <td>ADGRG1</td>\n",
              "      <td>protein_coding</td>\n",
              "      <td>chr16</td>\n",
              "      <td>+</td>\n",
              "      <td>77</td>\n",
              "    </tr>\n",
              "    <tr>\n",
              "      <th>14712</th>\n",
              "      <td>CACNB4</td>\n",
              "      <td>protein_coding</td>\n",
              "      <td>chr2</td>\n",
              "      <td>-</td>\n",
              "      <td>74</td>\n",
              "    </tr>\n",
              "    <tr>\n",
              "      <th>47657</th>\n",
              "      <td>SATB1-AS1</td>\n",
              "      <td>processed_transcript</td>\n",
              "      <td>chr3</td>\n",
              "      <td>+</td>\n",
              "      <td>73</td>\n",
              "    </tr>\n",
              "    <tr>\n",
              "      <th>37157</th>\n",
              "      <td>AC012594.1</td>\n",
              "      <td>antisense</td>\n",
              "      <td>chr2</td>\n",
              "      <td>-</td>\n",
              "      <td>73</td>\n",
              "    </tr>\n",
              "    <tr>\n",
              "      <th>37845</th>\n",
              "      <td>TTN-AS1</td>\n",
              "      <td>antisense</td>\n",
              "      <td>chr2</td>\n",
              "      <td>+</td>\n",
              "      <td>71</td>\n",
              "    </tr>\n",
              "  </tbody>\n",
              "</table>\n",
              "</div>\n",
              "    <div class=\"colab-df-buttons\">\n",
              "\n",
              "  <div class=\"colab-df-container\">\n",
              "    <button class=\"colab-df-convert\" onclick=\"convertToInteractive('df-2231dcbb-baed-4452-b3ec-be5bbb647e9a')\"\n",
              "            title=\"Convert this dataframe to an interactive table.\"\n",
              "            style=\"display:none;\">\n",
              "\n",
              "  <svg xmlns=\"http://www.w3.org/2000/svg\" height=\"24px\" viewBox=\"0 -960 960 960\">\n",
              "    <path d=\"M120-120v-720h720v720H120Zm60-500h600v-160H180v160Zm220 220h160v-160H400v160Zm0 220h160v-160H400v160ZM180-400h160v-160H180v160Zm440 0h160v-160H620v160ZM180-180h160v-160H180v160Zm440 0h160v-160H620v160Z\"/>\n",
              "  </svg>\n",
              "    </button>\n",
              "\n",
              "  <style>\n",
              "    .colab-df-container {\n",
              "      display:flex;\n",
              "      gap: 12px;\n",
              "    }\n",
              "\n",
              "    .colab-df-convert {\n",
              "      background-color: #E8F0FE;\n",
              "      border: none;\n",
              "      border-radius: 50%;\n",
              "      cursor: pointer;\n",
              "      display: none;\n",
              "      fill: #1967D2;\n",
              "      height: 32px;\n",
              "      padding: 0 0 0 0;\n",
              "      width: 32px;\n",
              "    }\n",
              "\n",
              "    .colab-df-convert:hover {\n",
              "      background-color: #E2EBFA;\n",
              "      box-shadow: 0px 1px 2px rgba(60, 64, 67, 0.3), 0px 1px 3px 1px rgba(60, 64, 67, 0.15);\n",
              "      fill: #174EA6;\n",
              "    }\n",
              "\n",
              "    .colab-df-buttons div {\n",
              "      margin-bottom: 4px;\n",
              "    }\n",
              "\n",
              "    [theme=dark] .colab-df-convert {\n",
              "      background-color: #3B4455;\n",
              "      fill: #D2E3FC;\n",
              "    }\n",
              "\n",
              "    [theme=dark] .colab-df-convert:hover {\n",
              "      background-color: #434B5C;\n",
              "      box-shadow: 0px 1px 3px 1px rgba(0, 0, 0, 0.15);\n",
              "      filter: drop-shadow(0px 1px 2px rgba(0, 0, 0, 0.3));\n",
              "      fill: #FFFFFF;\n",
              "    }\n",
              "  </style>\n",
              "\n",
              "    <script>\n",
              "      const buttonEl =\n",
              "        document.querySelector('#df-2231dcbb-baed-4452-b3ec-be5bbb647e9a button.colab-df-convert');\n",
              "      buttonEl.style.display =\n",
              "        google.colab.kernel.accessAllowed ? 'block' : 'none';\n",
              "\n",
              "      async function convertToInteractive(key) {\n",
              "        const element = document.querySelector('#df-2231dcbb-baed-4452-b3ec-be5bbb647e9a');\n",
              "        const dataTable =\n",
              "          await google.colab.kernel.invokeFunction('convertToInteractive',\n",
              "                                                    [key], {});\n",
              "        if (!dataTable) return;\n",
              "\n",
              "        const docLinkHtml = 'Like what you see? Visit the ' +\n",
              "          '<a target=\"_blank\" href=https://colab.research.google.com/notebooks/data_table.ipynb>data table notebook</a>'\n",
              "          + ' to learn more about interactive tables.';\n",
              "        element.innerHTML = '';\n",
              "        dataTable['output_type'] = 'display_data';\n",
              "        await google.colab.output.renderOutput(dataTable, element);\n",
              "        const docLink = document.createElement('div');\n",
              "        docLink.innerHTML = docLinkHtml;\n",
              "        element.appendChild(docLink);\n",
              "      }\n",
              "    </script>\n",
              "  </div>\n",
              "\n",
              "\n",
              "<div id=\"df-0d533ccc-1193-439f-8536-e84af1037d50\">\n",
              "  <button class=\"colab-df-quickchart\" onclick=\"quickchart('df-0d533ccc-1193-439f-8536-e84af1037d50')\"\n",
              "            title=\"Suggest charts\"\n",
              "            style=\"display:none;\">\n",
              "\n",
              "<svg xmlns=\"http://www.w3.org/2000/svg\" height=\"24px\"viewBox=\"0 0 24 24\"\n",
              "     width=\"24px\">\n",
              "    <g>\n",
              "        <path d=\"M19 3H5c-1.1 0-2 .9-2 2v14c0 1.1.9 2 2 2h14c1.1 0 2-.9 2-2V5c0-1.1-.9-2-2-2zM9 17H7v-7h2v7zm4 0h-2V7h2v10zm4 0h-2v-4h2v4z\"/>\n",
              "    </g>\n",
              "</svg>\n",
              "  </button>\n",
              "\n",
              "<style>\n",
              "  .colab-df-quickchart {\n",
              "      --bg-color: #E8F0FE;\n",
              "      --fill-color: #1967D2;\n",
              "      --hover-bg-color: #E2EBFA;\n",
              "      --hover-fill-color: #174EA6;\n",
              "      --disabled-fill-color: #AAA;\n",
              "      --disabled-bg-color: #DDD;\n",
              "  }\n",
              "\n",
              "  [theme=dark] .colab-df-quickchart {\n",
              "      --bg-color: #3B4455;\n",
              "      --fill-color: #D2E3FC;\n",
              "      --hover-bg-color: #434B5C;\n",
              "      --hover-fill-color: #FFFFFF;\n",
              "      --disabled-bg-color: #3B4455;\n",
              "      --disabled-fill-color: #666;\n",
              "  }\n",
              "\n",
              "  .colab-df-quickchart {\n",
              "    background-color: var(--bg-color);\n",
              "    border: none;\n",
              "    border-radius: 50%;\n",
              "    cursor: pointer;\n",
              "    display: none;\n",
              "    fill: var(--fill-color);\n",
              "    height: 32px;\n",
              "    padding: 0;\n",
              "    width: 32px;\n",
              "  }\n",
              "\n",
              "  .colab-df-quickchart:hover {\n",
              "    background-color: var(--hover-bg-color);\n",
              "    box-shadow: 0 1px 2px rgba(60, 64, 67, 0.3), 0 1px 3px 1px rgba(60, 64, 67, 0.15);\n",
              "    fill: var(--button-hover-fill-color);\n",
              "  }\n",
              "\n",
              "  .colab-df-quickchart-complete:disabled,\n",
              "  .colab-df-quickchart-complete:disabled:hover {\n",
              "    background-color: var(--disabled-bg-color);\n",
              "    fill: var(--disabled-fill-color);\n",
              "    box-shadow: none;\n",
              "  }\n",
              "\n",
              "  .colab-df-spinner {\n",
              "    border: 2px solid var(--fill-color);\n",
              "    border-color: transparent;\n",
              "    border-bottom-color: var(--fill-color);\n",
              "    animation:\n",
              "      spin 1s steps(1) infinite;\n",
              "  }\n",
              "\n",
              "  @keyframes spin {\n",
              "    0% {\n",
              "      border-color: transparent;\n",
              "      border-bottom-color: var(--fill-color);\n",
              "      border-left-color: var(--fill-color);\n",
              "    }\n",
              "    20% {\n",
              "      border-color: transparent;\n",
              "      border-left-color: var(--fill-color);\n",
              "      border-top-color: var(--fill-color);\n",
              "    }\n",
              "    30% {\n",
              "      border-color: transparent;\n",
              "      border-left-color: var(--fill-color);\n",
              "      border-top-color: var(--fill-color);\n",
              "      border-right-color: var(--fill-color);\n",
              "    }\n",
              "    40% {\n",
              "      border-color: transparent;\n",
              "      border-right-color: var(--fill-color);\n",
              "      border-top-color: var(--fill-color);\n",
              "    }\n",
              "    60% {\n",
              "      border-color: transparent;\n",
              "      border-right-color: var(--fill-color);\n",
              "    }\n",
              "    80% {\n",
              "      border-color: transparent;\n",
              "      border-right-color: var(--fill-color);\n",
              "      border-bottom-color: var(--fill-color);\n",
              "    }\n",
              "    90% {\n",
              "      border-color: transparent;\n",
              "      border-bottom-color: var(--fill-color);\n",
              "    }\n",
              "  }\n",
              "</style>\n",
              "\n",
              "  <script>\n",
              "    async function quickchart(key) {\n",
              "      const quickchartButtonEl =\n",
              "        document.querySelector('#' + key + ' button');\n",
              "      quickchartButtonEl.disabled = true;  // To prevent multiple clicks.\n",
              "      quickchartButtonEl.classList.add('colab-df-spinner');\n",
              "      try {\n",
              "        const charts = await google.colab.kernel.invokeFunction(\n",
              "            'suggestCharts', [key], {});\n",
              "      } catch (error) {\n",
              "        console.error('Error during call to suggestCharts:', error);\n",
              "      }\n",
              "      quickchartButtonEl.classList.remove('colab-df-spinner');\n",
              "      quickchartButtonEl.classList.add('colab-df-quickchart-complete');\n",
              "    }\n",
              "    (() => {\n",
              "      let quickchartButtonEl =\n",
              "        document.querySelector('#df-0d533ccc-1193-439f-8536-e84af1037d50 button');\n",
              "      quickchartButtonEl.style.display =\n",
              "        google.colab.kernel.accessAllowed ? 'block' : 'none';\n",
              "    })();\n",
              "  </script>\n",
              "</div>\n",
              "\n",
              "    </div>\n",
              "  </div>\n"
            ],
            "application/vnd.google.colaboratory.intrinsic+json": {
              "type": "dataframe",
              "summary": "{\n  \"name\": \"df\",\n  \"rows\": 10,\n  \"fields\": [\n    {\n      \"column\": \"gene_name\",\n      \"properties\": {\n        \"dtype\": \"string\",\n        \"num_unique_values\": 10,\n        \"samples\": [\n          \"AC012594.1\",\n          \"LINC00969\",\n          \"ADGRG1\"\n        ],\n        \"semantic_type\": \"\",\n        \"description\": \"\"\n      }\n    },\n    {\n      \"column\": \"gene_biotype\",\n      \"properties\": {\n        \"dtype\": \"category\",\n        \"num_unique_values\": 4,\n        \"samples\": [\n          \"lincRNA\",\n          \"antisense\",\n          \"processed_transcript\"\n        ],\n        \"semantic_type\": \"\",\n        \"description\": \"\"\n      }\n    },\n    {\n      \"column\": \"chromosome\",\n      \"properties\": {\n        \"dtype\": \"string\",\n        \"num_unique_values\": 5,\n        \"samples\": [\n          \"chr3\",\n          \"chr16\",\n          \"chr18\"\n        ],\n        \"semantic_type\": \"\",\n        \"description\": \"\"\n      }\n    },\n    {\n      \"column\": \"strand\",\n      \"properties\": {\n        \"dtype\": \"category\",\n        \"num_unique_values\": 2,\n        \"samples\": [\n          \"+\",\n          \"-\"\n        ],\n        \"semantic_type\": \"\",\n        \"description\": \"\"\n      }\n    },\n    {\n      \"column\": \"transcript_count\",\n      \"properties\": {\n        \"dtype\": \"number\",\n        \"std\": 34,\n        \"min\": 71,\n        \"max\": 170,\n        \"num_unique_values\": 9,\n        \"samples\": [\n          73,\n          142\n        ],\n        \"semantic_type\": \"\",\n        \"description\": \"\"\n      }\n    }\n  ]\n}"
            }
          },
          "metadata": {},
          "execution_count": 40
        }
      ]
    },
    {
      "cell_type": "markdown",
      "source": [
        "- descending"
      ],
      "metadata": {
        "id": "7BMpnvrTunR_"
      }
    },
    {
      "cell_type": "markdown",
      "source": [
        "## **Grouping examples**"
      ],
      "metadata": {
        "id": "m2rgr2zMJo2-"
      }
    },
    {
      "cell_type": "markdown",
      "source": [
        "* For each biotype, find the average number of transcripts associated to genes belonging to the biotype"
      ],
      "metadata": {
        "id": "P_sNNes9Jt1w"
      }
    },
    {
      "cell_type": "code",
      "source": [
        "# call a head() just to remember how df looks like...\n",
        "df.head(10)"
      ],
      "metadata": {
        "colab": {
          "base_uri": "https://localhost:8080/",
          "height": 363
        },
        "id": "vIoYeZHmwDdd",
        "outputId": "66250c4a-2d14-4ca0-a638-24ba8c4b4c32"
      },
      "execution_count": null,
      "outputs": [
        {
          "output_type": "execute_result",
          "data": {
            "text/plain": [
              "  gene_name    gene_biotype chromosome strand  transcript_count\n",
              "0    TSPAN6  protein_coding       chrX      -                 5\n",
              "1      TNMD  protein_coding       chrX      +                 2\n",
              "2      DPM1  protein_coding      chr20      -                 6\n",
              "3     SCYL3  protein_coding       chr1      -                 5\n",
              "4  C1orf112  protein_coding       chr1      +                 9\n",
              "5       FGR  protein_coding       chr1      -                 7\n",
              "6       CFH  protein_coding       chr1      +                 6\n",
              "7     FUCA2  protein_coding       chr6      -                 3\n",
              "8      GCLC  protein_coding       chr6      -                13\n",
              "9      NFYA  protein_coding       chr6      +                 2"
            ],
            "text/html": [
              "\n",
              "  <div id=\"df-f814a03f-9ad2-4f38-9ffa-89bffb7012a7\" class=\"colab-df-container\">\n",
              "    <div>\n",
              "<style scoped>\n",
              "    .dataframe tbody tr th:only-of-type {\n",
              "        vertical-align: middle;\n",
              "    }\n",
              "\n",
              "    .dataframe tbody tr th {\n",
              "        vertical-align: top;\n",
              "    }\n",
              "\n",
              "    .dataframe thead th {\n",
              "        text-align: right;\n",
              "    }\n",
              "</style>\n",
              "<table border=\"1\" class=\"dataframe\">\n",
              "  <thead>\n",
              "    <tr style=\"text-align: right;\">\n",
              "      <th></th>\n",
              "      <th>gene_name</th>\n",
              "      <th>gene_biotype</th>\n",
              "      <th>chromosome</th>\n",
              "      <th>strand</th>\n",
              "      <th>transcript_count</th>\n",
              "    </tr>\n",
              "  </thead>\n",
              "  <tbody>\n",
              "    <tr>\n",
              "      <th>0</th>\n",
              "      <td>TSPAN6</td>\n",
              "      <td>protein_coding</td>\n",
              "      <td>chrX</td>\n",
              "      <td>-</td>\n",
              "      <td>5</td>\n",
              "    </tr>\n",
              "    <tr>\n",
              "      <th>1</th>\n",
              "      <td>TNMD</td>\n",
              "      <td>protein_coding</td>\n",
              "      <td>chrX</td>\n",
              "      <td>+</td>\n",
              "      <td>2</td>\n",
              "    </tr>\n",
              "    <tr>\n",
              "      <th>2</th>\n",
              "      <td>DPM1</td>\n",
              "      <td>protein_coding</td>\n",
              "      <td>chr20</td>\n",
              "      <td>-</td>\n",
              "      <td>6</td>\n",
              "    </tr>\n",
              "    <tr>\n",
              "      <th>3</th>\n",
              "      <td>SCYL3</td>\n",
              "      <td>protein_coding</td>\n",
              "      <td>chr1</td>\n",
              "      <td>-</td>\n",
              "      <td>5</td>\n",
              "    </tr>\n",
              "    <tr>\n",
              "      <th>4</th>\n",
              "      <td>C1orf112</td>\n",
              "      <td>protein_coding</td>\n",
              "      <td>chr1</td>\n",
              "      <td>+</td>\n",
              "      <td>9</td>\n",
              "    </tr>\n",
              "    <tr>\n",
              "      <th>5</th>\n",
              "      <td>FGR</td>\n",
              "      <td>protein_coding</td>\n",
              "      <td>chr1</td>\n",
              "      <td>-</td>\n",
              "      <td>7</td>\n",
              "    </tr>\n",
              "    <tr>\n",
              "      <th>6</th>\n",
              "      <td>CFH</td>\n",
              "      <td>protein_coding</td>\n",
              "      <td>chr1</td>\n",
              "      <td>+</td>\n",
              "      <td>6</td>\n",
              "    </tr>\n",
              "    <tr>\n",
              "      <th>7</th>\n",
              "      <td>FUCA2</td>\n",
              "      <td>protein_coding</td>\n",
              "      <td>chr6</td>\n",
              "      <td>-</td>\n",
              "      <td>3</td>\n",
              "    </tr>\n",
              "    <tr>\n",
              "      <th>8</th>\n",
              "      <td>GCLC</td>\n",
              "      <td>protein_coding</td>\n",
              "      <td>chr6</td>\n",
              "      <td>-</td>\n",
              "      <td>13</td>\n",
              "    </tr>\n",
              "    <tr>\n",
              "      <th>9</th>\n",
              "      <td>NFYA</td>\n",
              "      <td>protein_coding</td>\n",
              "      <td>chr6</td>\n",
              "      <td>+</td>\n",
              "      <td>2</td>\n",
              "    </tr>\n",
              "  </tbody>\n",
              "</table>\n",
              "</div>\n",
              "    <div class=\"colab-df-buttons\">\n",
              "\n",
              "  <div class=\"colab-df-container\">\n",
              "    <button class=\"colab-df-convert\" onclick=\"convertToInteractive('df-f814a03f-9ad2-4f38-9ffa-89bffb7012a7')\"\n",
              "            title=\"Convert this dataframe to an interactive table.\"\n",
              "            style=\"display:none;\">\n",
              "\n",
              "  <svg xmlns=\"http://www.w3.org/2000/svg\" height=\"24px\" viewBox=\"0 -960 960 960\">\n",
              "    <path d=\"M120-120v-720h720v720H120Zm60-500h600v-160H180v160Zm220 220h160v-160H400v160Zm0 220h160v-160H400v160ZM180-400h160v-160H180v160Zm440 0h160v-160H620v160ZM180-180h160v-160H180v160Zm440 0h160v-160H620v160Z\"/>\n",
              "  </svg>\n",
              "    </button>\n",
              "\n",
              "  <style>\n",
              "    .colab-df-container {\n",
              "      display:flex;\n",
              "      gap: 12px;\n",
              "    }\n",
              "\n",
              "    .colab-df-convert {\n",
              "      background-color: #E8F0FE;\n",
              "      border: none;\n",
              "      border-radius: 50%;\n",
              "      cursor: pointer;\n",
              "      display: none;\n",
              "      fill: #1967D2;\n",
              "      height: 32px;\n",
              "      padding: 0 0 0 0;\n",
              "      width: 32px;\n",
              "    }\n",
              "\n",
              "    .colab-df-convert:hover {\n",
              "      background-color: #E2EBFA;\n",
              "      box-shadow: 0px 1px 2px rgba(60, 64, 67, 0.3), 0px 1px 3px 1px rgba(60, 64, 67, 0.15);\n",
              "      fill: #174EA6;\n",
              "    }\n",
              "\n",
              "    .colab-df-buttons div {\n",
              "      margin-bottom: 4px;\n",
              "    }\n",
              "\n",
              "    [theme=dark] .colab-df-convert {\n",
              "      background-color: #3B4455;\n",
              "      fill: #D2E3FC;\n",
              "    }\n",
              "\n",
              "    [theme=dark] .colab-df-convert:hover {\n",
              "      background-color: #434B5C;\n",
              "      box-shadow: 0px 1px 3px 1px rgba(0, 0, 0, 0.15);\n",
              "      filter: drop-shadow(0px 1px 2px rgba(0, 0, 0, 0.3));\n",
              "      fill: #FFFFFF;\n",
              "    }\n",
              "  </style>\n",
              "\n",
              "    <script>\n",
              "      const buttonEl =\n",
              "        document.querySelector('#df-f814a03f-9ad2-4f38-9ffa-89bffb7012a7 button.colab-df-convert');\n",
              "      buttonEl.style.display =\n",
              "        google.colab.kernel.accessAllowed ? 'block' : 'none';\n",
              "\n",
              "      async function convertToInteractive(key) {\n",
              "        const element = document.querySelector('#df-f814a03f-9ad2-4f38-9ffa-89bffb7012a7');\n",
              "        const dataTable =\n",
              "          await google.colab.kernel.invokeFunction('convertToInteractive',\n",
              "                                                    [key], {});\n",
              "        if (!dataTable) return;\n",
              "\n",
              "        const docLinkHtml = 'Like what you see? Visit the ' +\n",
              "          '<a target=\"_blank\" href=https://colab.research.google.com/notebooks/data_table.ipynb>data table notebook</a>'\n",
              "          + ' to learn more about interactive tables.';\n",
              "        element.innerHTML = '';\n",
              "        dataTable['output_type'] = 'display_data';\n",
              "        await google.colab.output.renderOutput(dataTable, element);\n",
              "        const docLink = document.createElement('div');\n",
              "        docLink.innerHTML = docLinkHtml;\n",
              "        element.appendChild(docLink);\n",
              "      }\n",
              "    </script>\n",
              "  </div>\n",
              "\n",
              "\n",
              "<div id=\"df-a63a3dec-edab-4fc6-ba26-b238d60160fb\">\n",
              "  <button class=\"colab-df-quickchart\" onclick=\"quickchart('df-a63a3dec-edab-4fc6-ba26-b238d60160fb')\"\n",
              "            title=\"Suggest charts\"\n",
              "            style=\"display:none;\">\n",
              "\n",
              "<svg xmlns=\"http://www.w3.org/2000/svg\" height=\"24px\"viewBox=\"0 0 24 24\"\n",
              "     width=\"24px\">\n",
              "    <g>\n",
              "        <path d=\"M19 3H5c-1.1 0-2 .9-2 2v14c0 1.1.9 2 2 2h14c1.1 0 2-.9 2-2V5c0-1.1-.9-2-2-2zM9 17H7v-7h2v7zm4 0h-2V7h2v10zm4 0h-2v-4h2v4z\"/>\n",
              "    </g>\n",
              "</svg>\n",
              "  </button>\n",
              "\n",
              "<style>\n",
              "  .colab-df-quickchart {\n",
              "      --bg-color: #E8F0FE;\n",
              "      --fill-color: #1967D2;\n",
              "      --hover-bg-color: #E2EBFA;\n",
              "      --hover-fill-color: #174EA6;\n",
              "      --disabled-fill-color: #AAA;\n",
              "      --disabled-bg-color: #DDD;\n",
              "  }\n",
              "\n",
              "  [theme=dark] .colab-df-quickchart {\n",
              "      --bg-color: #3B4455;\n",
              "      --fill-color: #D2E3FC;\n",
              "      --hover-bg-color: #434B5C;\n",
              "      --hover-fill-color: #FFFFFF;\n",
              "      --disabled-bg-color: #3B4455;\n",
              "      --disabled-fill-color: #666;\n",
              "  }\n",
              "\n",
              "  .colab-df-quickchart {\n",
              "    background-color: var(--bg-color);\n",
              "    border: none;\n",
              "    border-radius: 50%;\n",
              "    cursor: pointer;\n",
              "    display: none;\n",
              "    fill: var(--fill-color);\n",
              "    height: 32px;\n",
              "    padding: 0;\n",
              "    width: 32px;\n",
              "  }\n",
              "\n",
              "  .colab-df-quickchart:hover {\n",
              "    background-color: var(--hover-bg-color);\n",
              "    box-shadow: 0 1px 2px rgba(60, 64, 67, 0.3), 0 1px 3px 1px rgba(60, 64, 67, 0.15);\n",
              "    fill: var(--button-hover-fill-color);\n",
              "  }\n",
              "\n",
              "  .colab-df-quickchart-complete:disabled,\n",
              "  .colab-df-quickchart-complete:disabled:hover {\n",
              "    background-color: var(--disabled-bg-color);\n",
              "    fill: var(--disabled-fill-color);\n",
              "    box-shadow: none;\n",
              "  }\n",
              "\n",
              "  .colab-df-spinner {\n",
              "    border: 2px solid var(--fill-color);\n",
              "    border-color: transparent;\n",
              "    border-bottom-color: var(--fill-color);\n",
              "    animation:\n",
              "      spin 1s steps(1) infinite;\n",
              "  }\n",
              "\n",
              "  @keyframes spin {\n",
              "    0% {\n",
              "      border-color: transparent;\n",
              "      border-bottom-color: var(--fill-color);\n",
              "      border-left-color: var(--fill-color);\n",
              "    }\n",
              "    20% {\n",
              "      border-color: transparent;\n",
              "      border-left-color: var(--fill-color);\n",
              "      border-top-color: var(--fill-color);\n",
              "    }\n",
              "    30% {\n",
              "      border-color: transparent;\n",
              "      border-left-color: var(--fill-color);\n",
              "      border-top-color: var(--fill-color);\n",
              "      border-right-color: var(--fill-color);\n",
              "    }\n",
              "    40% {\n",
              "      border-color: transparent;\n",
              "      border-right-color: var(--fill-color);\n",
              "      border-top-color: var(--fill-color);\n",
              "    }\n",
              "    60% {\n",
              "      border-color: transparent;\n",
              "      border-right-color: var(--fill-color);\n",
              "    }\n",
              "    80% {\n",
              "      border-color: transparent;\n",
              "      border-right-color: var(--fill-color);\n",
              "      border-bottom-color: var(--fill-color);\n",
              "    }\n",
              "    90% {\n",
              "      border-color: transparent;\n",
              "      border-bottom-color: var(--fill-color);\n",
              "    }\n",
              "  }\n",
              "</style>\n",
              "\n",
              "  <script>\n",
              "    async function quickchart(key) {\n",
              "      const quickchartButtonEl =\n",
              "        document.querySelector('#' + key + ' button');\n",
              "      quickchartButtonEl.disabled = true;  // To prevent multiple clicks.\n",
              "      quickchartButtonEl.classList.add('colab-df-spinner');\n",
              "      try {\n",
              "        const charts = await google.colab.kernel.invokeFunction(\n",
              "            'suggestCharts', [key], {});\n",
              "      } catch (error) {\n",
              "        console.error('Error during call to suggestCharts:', error);\n",
              "      }\n",
              "      quickchartButtonEl.classList.remove('colab-df-spinner');\n",
              "      quickchartButtonEl.classList.add('colab-df-quickchart-complete');\n",
              "    }\n",
              "    (() => {\n",
              "      let quickchartButtonEl =\n",
              "        document.querySelector('#df-a63a3dec-edab-4fc6-ba26-b238d60160fb button');\n",
              "      quickchartButtonEl.style.display =\n",
              "        google.colab.kernel.accessAllowed ? 'block' : 'none';\n",
              "    })();\n",
              "  </script>\n",
              "</div>\n",
              "\n",
              "    </div>\n",
              "  </div>\n"
            ],
            "application/vnd.google.colaboratory.intrinsic+json": {
              "type": "dataframe",
              "variable_name": "df",
              "summary": "{\n  \"name\": \"df\",\n  \"rows\": 51327,\n  \"fields\": [\n    {\n      \"column\": \"gene_name\",\n      \"properties\": {\n        \"dtype\": \"string\",\n        \"num_unique_values\": 51327,\n        \"samples\": [\n          \"MIR518F\",\n          \"CTB-31O20.8\",\n          \"OR5AL1\"\n        ],\n        \"semantic_type\": \"\",\n        \"description\": \"\"\n      }\n    },\n    {\n      \"column\": \"gene_biotype\",\n      \"properties\": {\n        \"dtype\": \"category\",\n        \"num_unique_values\": 41,\n        \"samples\": [\n          \"TR_V_pseudogene\",\n          \"transcribed_processed_pseudogene\",\n          \"snoRNA\"\n        ],\n        \"semantic_type\": \"\",\n        \"description\": \"\"\n      }\n    },\n    {\n      \"column\": \"chromosome\",\n      \"properties\": {\n        \"dtype\": \"category\",\n        \"num_unique_values\": 56,\n        \"samples\": [\n          \"chrX\",\n          \"chr7\",\n          \"chrCHR_HSCHR17_1_CTG4\"\n        ],\n        \"semantic_type\": \"\",\n        \"description\": \"\"\n      }\n    },\n    {\n      \"column\": \"strand\",\n      \"properties\": {\n        \"dtype\": \"category\",\n        \"num_unique_values\": 2,\n        \"samples\": [\n          \"+\",\n          \"-\"\n        ],\n        \"semantic_type\": \"\",\n        \"description\": \"\"\n      }\n    },\n    {\n      \"column\": \"transcript_count\",\n      \"properties\": {\n        \"dtype\": \"number\",\n        \"std\": 5,\n        \"min\": 1,\n        \"max\": 170,\n        \"num_unique_values\": 74,\n        \"samples\": [\n          7,\n          74\n        ],\n        \"semantic_type\": \"\",\n        \"description\": \"\"\n      }\n    }\n  ]\n}"
            }
          },
          "metadata": {},
          "execution_count": 41
        }
      ]
    },
    {
      "cell_type": "code",
      "source": [
        "# Constructing the command:\n",
        "#\n",
        "# Dataframe:\n",
        "#           df\n",
        "#\n",
        "# Groub by gene_biotype:\n",
        "#           df.groupby('gene_biotype')\n",
        "#\n",
        "\n",
        "result = df.groupby('gene_biotype')['transcript_count'].max()\n",
        "print(result)"
      ],
      "metadata": {
        "colab": {
          "base_uri": "https://localhost:8080/"
        },
        "id": "oAeCfOpN75V1",
        "outputId": "d1a8ac29-2cc6-46d2-85a1-9091c080faac"
      },
      "execution_count": null,
      "outputs": [
        {
          "output_type": "stream",
          "name": "stdout",
          "text": [
            "gene_biotype\n",
            "3prime_overlapping_ncRNA                2\n",
            "IG_C_gene                               3\n",
            "IG_C_pseudogene                         1\n",
            "IG_D_gene                               1\n",
            "IG_J_gene                               1\n",
            "IG_J_pseudogene                         1\n",
            "IG_V_gene                               2\n",
            "IG_V_pseudogene                         1\n",
            "Mt_rRNA                                 1\n",
            "Mt_tRNA                                 1\n",
            "TEC                                     2\n",
            "TR_C_gene                               4\n",
            "TR_D_gene                               1\n",
            "TR_J_gene                               1\n",
            "TR_J_pseudogene                         1\n",
            "TR_V_gene                               2\n",
            "TR_V_pseudogene                         1\n",
            "antisense                              73\n",
            "bidirectional_promoter_lncRNA           3\n",
            "lincRNA                               142\n",
            "miRNA                                   1\n",
            "misc_RNA                                1\n",
            "polymorphic_pseudogene                 12\n",
            "processed_pseudogene                    2\n",
            "processed_transcript                  170\n",
            "protein_coding                         90\n",
            "pseudogene                              1\n",
            "rRNA                                    1\n",
            "ribozyme                                1\n",
            "scRNA                                   1\n",
            "scaRNA                                  1\n",
            "sense_intronic                          6\n",
            "sense_overlapping                      59\n",
            "snRNA                                   1\n",
            "snoRNA                                  3\n",
            "transcribed_processed_pseudogene       19\n",
            "transcribed_unitary_pseudogene         15\n",
            "transcribed_unprocessed_pseudogene     19\n",
            "unitary_pseudogene                     17\n",
            "unprocessed_pseudogene                  2\n",
            "vaultRNA                                1\n",
            "Name: transcript_count, dtype: int64\n"
          ]
        }
      ]
    },
    {
      "cell_type": "code",
      "source": [
        "# plot the results\n",
        "result.plot(kind=\"hist\",bins=50,color=\"Crimson\")"
      ],
      "metadata": {
        "colab": {
          "base_uri": "https://localhost:8080/",
          "height": 447
        },
        "id": "D1cpRW9BwQ-Q",
        "outputId": "fb4408c5-cae7-474f-b117-9548f5b4782f"
      },
      "execution_count": null,
      "outputs": [
        {
          "output_type": "execute_result",
          "data": {
            "text/plain": [
              "<Axes: ylabel='Frequency'>"
            ]
          },
          "metadata": {},
          "execution_count": 43
        },
        {
          "output_type": "display_data",
          "data": {
            "text/plain": [
              "<Figure size 640x480 with 1 Axes>"
            ],
            "image/png": "[encoded data removed]"
          },
          "metadata": {}
        }
      ]
    },
    {
      "cell_type": "markdown",
      "source": [
        "# **Pandas and Dataframes - Part 3**"
      ],
      "metadata": {
        "id": "xSdbt6jW7d3E"
      }
    },
    {
      "cell_type": "markdown",
      "source": [
        "Read file 'transcript_table.txt'\n",
        "- transcript_name: composed of the gene name plus a numeric identifier\n",
        "- transcript_biotype: for example protein_coding, retained_intron, nonsense_mediated_decay\n",
        "- transcript_length: the length of the transcript (without considering introns an poly A tail)\n",
        "- utr5_length: the length of the 5’ UTR region (without considering introns)\n",
        "- cds_length: the length of the CDS region (without considering introns)\n",
        "- utr3_length: the length of the 3’ UTR region (without considering introns)\n",
        "- exon_count: the number of exons of the transcript\n",
        "- canonical_flag: a boolean indicating if the isoform is canonical (T: true, F: false)"
      ],
      "metadata": {
        "id": "MxpAP9tCwfTP"
      }
    },
    {
      "cell_type": "code",
      "source": [
        "import pandas as pd"
      ],
      "metadata": {
        "id": "kAMjq8w775S9"
      },
      "execution_count": null,
      "outputs": []
    },
    {
      "cell_type": "code",
      "source": [
        "# reading from the transcript_table.txt\n",
        "df=pd.read_csv('transcript_table.txt',sep=',')"
      ],
      "metadata": {
        "id": "Asji3Q7YJyjK"
      },
      "execution_count": null,
      "outputs": []
    },
    {
      "cell_type": "code",
      "source": [
        "# call a head() just to remember how df looks like...\n",
        "df.head()"
      ],
      "metadata": {
        "colab": {
          "base_uri": "https://localhost:8080/",
          "height": 226
        },
        "id": "-RJGGAHCxKaV",
        "outputId": "878634e1-790e-4b05-e115-1b261692f387"
      },
      "execution_count": null,
      "outputs": [
        {
          "output_type": "execute_result",
          "data": {
            "text/plain": [
              "  transcript_name transcript_biotype  transcript_length  utr5_length  \\\n",
              "0        ARF5-001     protein_coding               1103          154   \n",
              "1        M6PR-001     protein_coding               2756          469   \n",
              "2       ESRRA-002     protein_coding               2215          171   \n",
              "3       FKBP4-001     protein_coding               3732          187   \n",
              "4     CYP26B1-001     protein_coding               4732          204   \n",
              "\n",
              "   cds_length  utr3_length  exon_count canonical_flag  \n",
              "0         543        406.0         6.0              T  \n",
              "1         834       1453.0         7.0              T  \n",
              "2        1272        772.0         7.0              F  \n",
              "3        1380       2165.0        10.0              T  \n",
              "4        1539       2989.0         6.0              T  "
            ],
            "text/html": [
              "\n",
              "  <div id=\"df-2f3f9d75-a09d-40b0-acfa-ca4daa073c09\" class=\"colab-df-container\">\n",
              "    <div>\n",
              "<style scoped>\n",
              "    .dataframe tbody tr th:only-of-type {\n",
              "        vertical-align: middle;\n",
              "    }\n",
              "\n",
              "    .dataframe tbody tr th {\n",
              "        vertical-align: top;\n",
              "    }\n",
              "\n",
              "    .dataframe thead th {\n",
              "        text-align: right;\n",
              "    }\n",
              "</style>\n",
              "<table border=\"1\" class=\"dataframe\">\n",
              "  <thead>\n",
              "    <tr style=\"text-align: right;\">\n",
              "      <th></th>\n",
              "      <th>transcript_name</th>\n",
              "      <th>transcript_biotype</th>\n",
              "      <th>transcript_length</th>\n",
              "      <th>utr5_length</th>\n",
              "      <th>cds_length</th>\n",
              "      <th>utr3_length</th>\n",
              "      <th>exon_count</th>\n",
              "      <th>canonical_flag</th>\n",
              "    </tr>\n",
              "  </thead>\n",
              "  <tbody>\n",
              "    <tr>\n",
              "      <th>0</th>\n",
              "      <td>ARF5-001</td>\n",
              "      <td>protein_coding</td>\n",
              "      <td>1103</td>\n",
              "      <td>154</td>\n",
              "      <td>543</td>\n",
              "      <td>406.0</td>\n",
              "      <td>6.0</td>\n",
              "      <td>T</td>\n",
              "    </tr>\n",
              "    <tr>\n",
              "      <th>1</th>\n",
              "      <td>M6PR-001</td>\n",
              "      <td>protein_coding</td>\n",
              "      <td>2756</td>\n",
              "      <td>469</td>\n",
              "      <td>834</td>\n",
              "      <td>1453.0</td>\n",
              "      <td>7.0</td>\n",
              "      <td>T</td>\n",
              "    </tr>\n",
              "    <tr>\n",
              "      <th>2</th>\n",
              "      <td>ESRRA-002</td>\n",
              "      <td>protein_coding</td>\n",
              "      <td>2215</td>\n",
              "      <td>171</td>\n",
              "      <td>1272</td>\n",
              "      <td>772.0</td>\n",
              "      <td>7.0</td>\n",
              "      <td>F</td>\n",
              "    </tr>\n",
              "    <tr>\n",
              "      <th>3</th>\n",
              "      <td>FKBP4-001</td>\n",
              "      <td>protein_coding</td>\n",
              "      <td>3732</td>\n",
              "      <td>187</td>\n",
              "      <td>1380</td>\n",
              "      <td>2165.0</td>\n",
              "      <td>10.0</td>\n",
              "      <td>T</td>\n",
              "    </tr>\n",
              "    <tr>\n",
              "      <th>4</th>\n",
              "      <td>CYP26B1-001</td>\n",
              "      <td>protein_coding</td>\n",
              "      <td>4732</td>\n",
              "      <td>204</td>\n",
              "      <td>1539</td>\n",
              "      <td>2989.0</td>\n",
              "      <td>6.0</td>\n",
              "      <td>T</td>\n",
              "    </tr>\n",
              "  </tbody>\n",
              "</table>\n",
              "</div>\n",
              "    <div class=\"colab-df-buttons\">\n",
              "\n",
              "  <div class=\"colab-df-container\">\n",
              "    <button class=\"colab-df-convert\" onclick=\"convertToInteractive('df-2f3f9d75-a09d-40b0-acfa-ca4daa073c09')\"\n",
              "            title=\"Convert this dataframe to an interactive table.\"\n",
              "            style=\"display:none;\">\n",
              "\n",
              "  <svg xmlns=\"http://www.w3.org/2000/svg\" height=\"24px\" viewBox=\"0 -960 960 960\">\n",
              "    <path d=\"M120-120v-720h720v720H120Zm60-500h600v-160H180v160Zm220 220h160v-160H400v160Zm0 220h160v-160H400v160ZM180-400h160v-160H180v160Zm440 0h160v-160H620v160ZM180-180h160v-160H180v160Zm440 0h160v-160H620v160Z\"/>\n",
              "  </svg>\n",
              "    </button>\n",
              "\n",
              "  <style>\n",
              "    .colab-df-container {\n",
              "      display:flex;\n",
              "      gap: 12px;\n",
              "    }\n",
              "\n",
              "    .colab-df-convert {\n",
              "      background-color: #E8F0FE;\n",
              "      border: none;\n",
              "      border-radius: 50%;\n",
              "      cursor: pointer;\n",
              "      display: none;\n",
              "      fill: #1967D2;\n",
              "      height: 32px;\n",
              "      padding: 0 0 0 0;\n",
              "      width: 32px;\n",
              "    }\n",
              "\n",
              "    .colab-df-convert:hover {\n",
              "      background-color: #E2EBFA;\n",
              "      box-shadow: 0px 1px 2px rgba(60, 64, 67, 0.3), 0px 1px 3px 1px rgba(60, 64, 67, 0.15);\n",
              "      fill: #174EA6;\n",
              "    }\n",
              "\n",
              "    .colab-df-buttons div {\n",
              "      margin-bottom: 4px;\n",
              "    }\n",
              "\n",
              "    [theme=dark] .colab-df-convert {\n",
              "      background-color: #3B4455;\n",
              "      fill: #D2E3FC;\n",
              "    }\n",
              "\n",
              "    [theme=dark] .colab-df-convert:hover {\n",
              "      background-color: #434B5C;\n",
              "      box-shadow: 0px 1px 3px 1px rgba(0, 0, 0, 0.15);\n",
              "      filter: drop-shadow(0px 1px 2px rgba(0, 0, 0, 0.3));\n",
              "      fill: #FFFFFF;\n",
              "    }\n",
              "  </style>\n",
              "\n",
              "    <script>\n",
              "      const buttonEl =\n",
              "        document.querySelector('#df-2f3f9d75-a09d-40b0-acfa-ca4daa073c09 button.colab-df-convert');\n",
              "      buttonEl.style.display =\n",
              "        google.colab.kernel.accessAllowed ? 'block' : 'none';\n",
              "\n",
              "      async function convertToInteractive(key) {\n",
              "        const element = document.querySelector('#df-2f3f9d75-a09d-40b0-acfa-ca4daa073c09');\n",
              "        const dataTable =\n",
              "          await google.colab.kernel.invokeFunction('convertToInteractive',\n",
              "                                                    [key], {});\n",
              "        if (!dataTable) return;\n",
              "\n",
              "        const docLinkHtml = 'Like what you see? Visit the ' +\n",
              "          '<a target=\"_blank\" href=https://colab.research.google.com/notebooks/data_table.ipynb>data table notebook</a>'\n",
              "          + ' to learn more about interactive tables.';\n",
              "        element.innerHTML = '';\n",
              "        dataTable['output_type'] = 'display_data';\n",
              "        await google.colab.output.renderOutput(dataTable, element);\n",
              "        const docLink = document.createElement('div');\n",
              "        docLink.innerHTML = docLinkHtml;\n",
              "        element.appendChild(docLink);\n",
              "      }\n",
              "    </script>\n",
              "  </div>\n",
              "\n",
              "\n",
              "<div id=\"df-e063ede3-0906-4b60-872a-65de24062cd2\">\n",
              "  <button class=\"colab-df-quickchart\" onclick=\"quickchart('df-e063ede3-0906-4b60-872a-65de24062cd2')\"\n",
              "            title=\"Suggest charts\"\n",
              "            style=\"display:none;\">\n",
              "\n",
              "<svg xmlns=\"http://www.w3.org/2000/svg\" height=\"24px\"viewBox=\"0 0 24 24\"\n",
              "     width=\"24px\">\n",
              "    <g>\n",
              "        <path d=\"M19 3H5c-1.1 0-2 .9-2 2v14c0 1.1.9 2 2 2h14c1.1 0 2-.9 2-2V5c0-1.1-.9-2-2-2zM9 17H7v-7h2v7zm4 0h-2V7h2v10zm4 0h-2v-4h2v4z\"/>\n",
              "    </g>\n",
              "</svg>\n",
              "  </button>\n",
              "\n",
              "<style>\n",
              "  .colab-df-quickchart {\n",
              "      --bg-color: #E8F0FE;\n",
              "      --fill-color: #1967D2;\n",
              "      --hover-bg-color: #E2EBFA;\n",
              "      --hover-fill-color: #174EA6;\n",
              "      --disabled-fill-color: #AAA;\n",
              "      --disabled-bg-color: #DDD;\n",
              "  }\n",
              "\n",
              "  [theme=dark] .colab-df-quickchart {\n",
              "      --bg-color: #3B4455;\n",
              "      --fill-color: #D2E3FC;\n",
              "      --hover-bg-color: #434B5C;\n",
              "      --hover-fill-color: #FFFFFF;\n",
              "      --disabled-bg-color: #3B4455;\n",
              "      --disabled-fill-color: #666;\n",
              "  }\n",
              "\n",
              "  .colab-df-quickchart {\n",
              "    background-color: var(--bg-color);\n",
              "    border: none;\n",
              "    border-radius: 50%;\n",
              "    cursor: pointer;\n",
              "    display: none;\n",
              "    fill: var(--fill-color);\n",
              "    height: 32px;\n",
              "    padding: 0;\n",
              "    width: 32px;\n",
              "  }\n",
              "\n",
              "  .colab-df-quickchart:hover {\n",
              "    background-color: var(--hover-bg-color);\n",
              "    box-shadow: 0 1px 2px rgba(60, 64, 67, 0.3), 0 1px 3px 1px rgba(60, 64, 67, 0.15);\n",
              "    fill: var(--button-hover-fill-color);\n",
              "  }\n",
              "\n",
              "  .colab-df-quickchart-complete:disabled,\n",
              "  .colab-df-quickchart-complete:disabled:hover {\n",
              "    background-color: var(--disabled-bg-color);\n",
              "    fill: var(--disabled-fill-color);\n",
              "    box-shadow: none;\n",
              "  }\n",
              "\n",
              "  .colab-df-spinner {\n",
              "    border: 2px solid var(--fill-color);\n",
              "    border-color: transparent;\n",
              "    border-bottom-color: var(--fill-color);\n",
              "    animation:\n",
              "      spin 1s steps(1) infinite;\n",
              "  }\n",
              "\n",
              "  @keyframes spin {\n",
              "    0% {\n",
              "      border-color: transparent;\n",
              "      border-bottom-color: var(--fill-color);\n",
              "      border-left-color: var(--fill-color);\n",
              "    }\n",
              "    20% {\n",
              "      border-color: transparent;\n",
              "      border-left-color: var(--fill-color);\n",
              "      border-top-color: var(--fill-color);\n",
              "    }\n",
              "    30% {\n",
              "      border-color: transparent;\n",
              "      border-left-color: var(--fill-color);\n",
              "      border-top-color: var(--fill-color);\n",
              "      border-right-color: var(--fill-color);\n",
              "    }\n",
              "    40% {\n",
              "      border-color: transparent;\n",
              "      border-right-color: var(--fill-color);\n",
              "      border-top-color: var(--fill-color);\n",
              "    }\n",
              "    60% {\n",
              "      border-color: transparent;\n",
              "      border-right-color: var(--fill-color);\n",
              "    }\n",
              "    80% {\n",
              "      border-color: transparent;\n",
              "      border-right-color: var(--fill-color);\n",
              "      border-bottom-color: var(--fill-color);\n",
              "    }\n",
              "    90% {\n",
              "      border-color: transparent;\n",
              "      border-bottom-color: var(--fill-color);\n",
              "    }\n",
              "  }\n",
              "</style>\n",
              "\n",
              "  <script>\n",
              "    async function quickchart(key) {\n",
              "      const quickchartButtonEl =\n",
              "        document.querySelector('#' + key + ' button');\n",
              "      quickchartButtonEl.disabled = true;  // To prevent multiple clicks.\n",
              "      quickchartButtonEl.classList.add('colab-df-spinner');\n",
              "      try {\n",
              "        const charts = await google.colab.kernel.invokeFunction(\n",
              "            'suggestCharts', [key], {});\n",
              "      } catch (error) {\n",
              "        console.error('Error during call to suggestCharts:', error);\n",
              "      }\n",
              "      quickchartButtonEl.classList.remove('colab-df-spinner');\n",
              "      quickchartButtonEl.classList.add('colab-df-quickchart-complete');\n",
              "    }\n",
              "    (() => {\n",
              "      let quickchartButtonEl =\n",
              "        document.querySelector('#df-e063ede3-0906-4b60-872a-65de24062cd2 button');\n",
              "      quickchartButtonEl.style.display =\n",
              "        google.colab.kernel.accessAllowed ? 'block' : 'none';\n",
              "    })();\n",
              "  </script>\n",
              "</div>\n",
              "\n",
              "    </div>\n",
              "  </div>\n"
            ],
            "application/vnd.google.colaboratory.intrinsic+json": {
              "type": "dataframe",
              "variable_name": "df"
            }
          },
          "metadata": {},
          "execution_count": 47
        }
      ]
    },
    {
      "cell_type": "markdown",
      "source": [
        "- Initially let's calculate the number of transcripts for human genome and some statistics"
      ],
      "metadata": {
        "id": "BuWI9QM2xOdI"
      }
    },
    {
      "cell_type": "code",
      "source": [
        "# shape of the dataframe\n",
        "df.shape"
      ],
      "metadata": {
        "colab": {
          "base_uri": "https://localhost:8080/"
        },
        "id": "_1VtM7JpxcO2",
        "outputId": "d511eab8-3346-49a0-e682-12be7c12bafe"
      },
      "execution_count": null,
      "outputs": [
        {
          "output_type": "execute_result",
          "data": {
            "text/plain": [
              "(136216, 8)"
            ]
          },
          "metadata": {},
          "execution_count": 50
        }
      ]
    },
    {
      "cell_type": "code",
      "source": [
        "# number of transcripts\n",
        "print(\"Number of transcripts in human genome: \", df.shape[0])"
      ],
      "metadata": {
        "colab": {
          "base_uri": "https://localhost:8080/"
        },
        "id": "n466pPgAJygD",
        "outputId": "5d8adade-fad6-4e76-9dc8-0378d94dfd3d"
      },
      "execution_count": null,
      "outputs": [
        {
          "output_type": "stream",
          "name": "stdout",
          "text": [
            "Number of transcripts in human genome:  136216\n"
          ]
        }
      ]
    },
    {
      "cell_type": "code",
      "source": [
        "# statistics\n",
        "print(\"\\tStatistics for transcript length\")\n",
        "print(\"\\tMinimum transcript length observed: \", df.transcript_length.min())\n",
        "print(\"\\tMaximum transcript length observed: \", df.transcript_length.max())\n",
        "print(\"\\tMean transcript length observed: \", df.transcript_length.mean())\n",
        "print(\"\\tMedian transcript length observed: \", df.transcript_length.median())"
      ],
      "metadata": {
        "colab": {
          "base_uri": "https://localhost:8080/"
        },
        "id": "He_QZm1K7hWc",
        "outputId": "8004f619-abf4-470a-bd4f-126c5a97737c"
      },
      "execution_count": null,
      "outputs": [
        {
          "output_type": "stream",
          "name": "stdout",
          "text": [
            "\tStatistics for transcript length\n",
            "\tMinimum transcript length observed:  8\n",
            "\tMaximum transcript length observed:  101518\n",
            "\tMean transcript length observed:  1619.7243862688672\n",
            "\tMedian transcript length observed:  860.0\n"
          ]
        }
      ]
    },
    {
      "cell_type": "markdown",
      "source": [
        "We can retrieve rows of a DataFrame that satisfy a condition, as if we were using the row in an 'if' statement. This is shown in the example below:\n",
        "\n",
        "e.g. Get the rows that have a transcript_length greater than 2433\n",
        "\n",
        "`df[  df.transcript_length>2433      ]`\n",
        "\n",
        "**NOTE: the condition in the square brackets is written as it would in an 'if' statement**."
      ],
      "metadata": {
        "id": "Cgrn1lkCx2fs"
      }
    },
    {
      "cell_type": "code",
      "source": [
        "# get the rows that have transcript_length > 2433\n",
        "df[df.transcript_length>2433]"
      ],
      "metadata": {
        "colab": {
          "base_uri": "https://localhost:8080/",
          "height": 444
        },
        "id": "MTbnK34cxiAm",
        "outputId": "08511117-1b22-4af5-a8f8-40ad2f040340"
      },
      "execution_count": null,
      "outputs": [
        {
          "output_type": "execute_result",
          "data": {
            "text/plain": [
              "       transcript_name transcript_biotype  transcript_length  utr5_length  \\\n",
              "1             M6PR-001     protein_coding               2756          469   \n",
              "3            FKBP4-001     protein_coding               3732          187   \n",
              "4          CYP26B1-001     protein_coding               4732          204   \n",
              "8           HS3ST1-001     protein_coding               8031         1175   \n",
              "9           SEMA3F-001     protein_coding               3802          484   \n",
              "...                ...                ...                ...          ...   \n",
              "136126        TNS2-008     protein_coding               4429            0   \n",
              "136131     CYP4F12-008    retained_intron               3256            0   \n",
              "136146     TCP11L2-004     protein_coding               3198          159   \n",
              "136189      SNHG14-022          antisense               8842            0   \n",
              "136211        FGD6-004     protein_coding               4568          224   \n",
              "\n",
              "        cds_length  utr3_length  exon_count canonical_flag  \n",
              "1              834       1453.0         7.0              T  \n",
              "3             1380       2165.0        10.0              T  \n",
              "4             1539       2989.0         6.0              T  \n",
              "8              924       5932.0         2.0              T  \n",
              "9             2358        960.0        19.0              T  \n",
              "...            ...          ...         ...            ...  \n",
              "136126        3939        490.0        29.0              F  \n",
              "136131           0          0.0         6.0              F  \n",
              "136146         819       2220.0         6.0              F  \n",
              "136189           0          0.0        17.0              F  \n",
              "136211        4125        219.0        19.0              F  \n",
              "\n",
              "[27956 rows x 8 columns]"
            ],
            "text/html": [
              "\n",
              "  <div id=\"df-0a01c288-2ec9-4a06-bc26-e99d4ed65395\" class=\"colab-df-container\">\n",
              "    <div>\n",
              "<style scoped>\n",
              "    .dataframe tbody tr th:only-of-type {\n",
              "        vertical-align: middle;\n",
              "    }\n",
              "\n",
              "    .dataframe tbody tr th {\n",
              "        vertical-align: top;\n",
              "    }\n",
              "\n",
              "    .dataframe thead th {\n",
              "        text-align: right;\n",
              "    }\n",
              "</style>\n",
              "<table border=\"1\" class=\"dataframe\">\n",
              "  <thead>\n",
              "    <tr style=\"text-align: right;\">\n",
              "      <th></th>\n",
              "      <th>transcript_name</th>\n",
              "      <th>transcript_biotype</th>\n",
              "      <th>transcript_length</th>\n",
              "      <th>utr5_length</th>\n",
              "      <th>cds_length</th>\n",
              "      <th>utr3_length</th>\n",
              "      <th>exon_count</th>\n",
              "      <th>canonical_flag</th>\n",
              "    </tr>\n",
              "  </thead>\n",
              "  <tbody>\n",
              "    <tr>\n",
              "      <th>1</th>\n",
              "      <td>M6PR-001</td>\n",
              "      <td>protein_coding</td>\n",
              "      <td>2756</td>\n",
              "      <td>469</td>\n",
              "      <td>834</td>\n",
              "      <td>1453.0</td>\n",
              "      <td>7.0</td>\n",
              "      <td>T</td>\n",
              "    </tr>\n",
              "    <tr>\n",
              "      <th>3</th>\n",
              "      <td>FKBP4-001</td>\n",
              "      <td>protein_coding</td>\n",
              "      <td>3732</td>\n",
              "      <td>187</td>\n",
              "      <td>1380</td>\n",
              "      <td>2165.0</td>\n",
              "      <td>10.0</td>\n",
              "      <td>T</td>\n",
              "    </tr>\n",
              "    <tr>\n",
              "      <th>4</th>\n",
              "      <td>CYP26B1-001</td>\n",
              "      <td>protein_coding</td>\n",
              "      <td>4732</td>\n",
              "      <td>204</td>\n",
              "      <td>1539</td>\n",
              "      <td>2989.0</td>\n",
              "      <td>6.0</td>\n",
              "      <td>T</td>\n",
              "    </tr>\n",
              "    <tr>\n",
              "      <th>8</th>\n",
              "      <td>HS3ST1-001</td>\n",
              "      <td>protein_coding</td>\n",
              "      <td>8031</td>\n",
              "      <td>1175</td>\n",
              "      <td>924</td>\n",
              "      <td>5932.0</td>\n",
              "      <td>2.0</td>\n",
              "      <td>T</td>\n",
              "    </tr>\n",
              "    <tr>\n",
              "      <th>9</th>\n",
              "      <td>SEMA3F-001</td>\n",
              "      <td>protein_coding</td>\n",
              "      <td>3802</td>\n",
              "      <td>484</td>\n",
              "      <td>2358</td>\n",
              "      <td>960.0</td>\n",
              "      <td>19.0</td>\n",
              "      <td>T</td>\n",
              "    </tr>\n",
              "    <tr>\n",
              "      <th>...</th>\n",
              "      <td>...</td>\n",
              "      <td>...</td>\n",
              "      <td>...</td>\n",
              "      <td>...</td>\n",
              "      <td>...</td>\n",
              "      <td>...</td>\n",
              "      <td>...</td>\n",
              "      <td>...</td>\n",
              "    </tr>\n",
              "    <tr>\n",
              "      <th>136126</th>\n",
              "      <td>TNS2-008</td>\n",
              "      <td>protein_coding</td>\n",
              "      <td>4429</td>\n",
              "      <td>0</td>\n",
              "      <td>3939</td>\n",
              "      <td>490.0</td>\n",
              "      <td>29.0</td>\n",
              "      <td>F</td>\n",
              "    </tr>\n",
              "    <tr>\n",
              "      <th>136131</th>\n",
              "      <td>CYP4F12-008</td>\n",
              "      <td>retained_intron</td>\n",
              "      <td>3256</td>\n",
              "      <td>0</td>\n",
              "      <td>0</td>\n",
              "      <td>0.0</td>\n",
              "      <td>6.0</td>\n",
              "      <td>F</td>\n",
              "    </tr>\n",
              "    <tr>\n",
              "      <th>136146</th>\n",
              "      <td>TCP11L2-004</td>\n",
              "      <td>protein_coding</td>\n",
              "      <td>3198</td>\n",
              "      <td>159</td>\n",
              "      <td>819</td>\n",
              "      <td>2220.0</td>\n",
              "      <td>6.0</td>\n",
              "      <td>F</td>\n",
              "    </tr>\n",
              "    <tr>\n",
              "      <th>136189</th>\n",
              "      <td>SNHG14-022</td>\n",
              "      <td>antisense</td>\n",
              "      <td>8842</td>\n",
              "      <td>0</td>\n",
              "      <td>0</td>\n",
              "      <td>0.0</td>\n",
              "      <td>17.0</td>\n",
              "      <td>F</td>\n",
              "    </tr>\n",
              "    <tr>\n",
              "      <th>136211</th>\n",
              "      <td>FGD6-004</td>\n",
              "      <td>protein_coding</td>\n",
              "      <td>4568</td>\n",
              "      <td>224</td>\n",
              "      <td>4125</td>\n",
              "      <td>219.0</td>\n",
              "      <td>19.0</td>\n",
              "      <td>F</td>\n",
              "    </tr>\n",
              "  </tbody>\n",
              "</table>\n",
              "<p>27956 rows × 8 columns</p>\n",
              "</div>\n",
              "    <div class=\"colab-df-buttons\">\n",
              "\n",
              "  <div class=\"colab-df-container\">\n",
              "    <button class=\"colab-df-convert\" onclick=\"convertToInteractive('df-0a01c288-2ec9-4a06-bc26-e99d4ed65395')\"\n",
              "            title=\"Convert this dataframe to an interactive table.\"\n",
              "            style=\"display:none;\">\n",
              "\n",
              "  <svg xmlns=\"http://www.w3.org/2000/svg\" height=\"24px\" viewBox=\"0 -960 960 960\">\n",
              "    <path d=\"M120-120v-720h720v720H120Zm60-500h600v-160H180v160Zm220 220h160v-160H400v160Zm0 220h160v-160H400v160ZM180-400h160v-160H180v160Zm440 0h160v-160H620v160ZM180-180h160v-160H180v160Zm440 0h160v-160H620v160Z\"/>\n",
              "  </svg>\n",
              "    </button>\n",
              "\n",
              "  <style>\n",
              "    .colab-df-container {\n",
              "      display:flex;\n",
              "      gap: 12px;\n",
              "    }\n",
              "\n",
              "    .colab-df-convert {\n",
              "      background-color: #E8F0FE;\n",
              "      border: none;\n",
              "      border-radius: 50%;\n",
              "      cursor: pointer;\n",
              "      display: none;\n",
              "      fill: #1967D2;\n",
              "      height: 32px;\n",
              "      padding: 0 0 0 0;\n",
              "      width: 32px;\n",
              "    }\n",
              "\n",
              "    .colab-df-convert:hover {\n",
              "      background-color: #E2EBFA;\n",
              "      box-shadow: 0px 1px 2px rgba(60, 64, 67, 0.3), 0px 1px 3px 1px rgba(60, 64, 67, 0.15);\n",
              "      fill: #174EA6;\n",
              "    }\n",
              "\n",
              "    .colab-df-buttons div {\n",
              "      margin-bottom: 4px;\n",
              "    }\n",
              "\n",
              "    [theme=dark] .colab-df-convert {\n",
              "      background-color: #3B4455;\n",
              "      fill: #D2E3FC;\n",
              "    }\n",
              "\n",
              "    [theme=dark] .colab-df-convert:hover {\n",
              "      background-color: #434B5C;\n",
              "      box-shadow: 0px 1px 3px 1px rgba(0, 0, 0, 0.15);\n",
              "      filter: drop-shadow(0px 1px 2px rgba(0, 0, 0, 0.3));\n",
              "      fill: #FFFFFF;\n",
              "    }\n",
              "  </style>\n",
              "\n",
              "    <script>\n",
              "      const buttonEl =\n",
              "        document.querySelector('#df-0a01c288-2ec9-4a06-bc26-e99d4ed65395 button.colab-df-convert');\n",
              "      buttonEl.style.display =\n",
              "        google.colab.kernel.accessAllowed ? 'block' : 'none';\n",
              "\n",
              "      async function convertToInteractive(key) {\n",
              "        const element = document.querySelector('#df-0a01c288-2ec9-4a06-bc26-e99d4ed65395');\n",
              "        const dataTable =\n",
              "          await google.colab.kernel.invokeFunction('convertToInteractive',\n",
              "                                                    [key], {});\n",
              "        if (!dataTable) return;\n",
              "\n",
              "        const docLinkHtml = 'Like what you see? Visit the ' +\n",
              "          '<a target=\"_blank\" href=https://colab.research.google.com/notebooks/data_table.ipynb>data table notebook</a>'\n",
              "          + ' to learn more about interactive tables.';\n",
              "        element.innerHTML = '';\n",
              "        dataTable['output_type'] = 'display_data';\n",
              "        await google.colab.output.renderOutput(dataTable, element);\n",
              "        const docLink = document.createElement('div');\n",
              "        docLink.innerHTML = docLinkHtml;\n",
              "        element.appendChild(docLink);\n",
              "      }\n",
              "    </script>\n",
              "  </div>\n",
              "\n",
              "\n",
              "<div id=\"df-2a60cbc1-4f9f-45d5-8975-df0bfebf358c\">\n",
              "  <button class=\"colab-df-quickchart\" onclick=\"quickchart('df-2a60cbc1-4f9f-45d5-8975-df0bfebf358c')\"\n",
              "            title=\"Suggest charts\"\n",
              "            style=\"display:none;\">\n",
              "\n",
              "<svg xmlns=\"http://www.w3.org/2000/svg\" height=\"24px\"viewBox=\"0 0 24 24\"\n",
              "     width=\"24px\">\n",
              "    <g>\n",
              "        <path d=\"M19 3H5c-1.1 0-2 .9-2 2v14c0 1.1.9 2 2 2h14c1.1 0 2-.9 2-2V5c0-1.1-.9-2-2-2zM9 17H7v-7h2v7zm4 0h-2V7h2v10zm4 0h-2v-4h2v4z\"/>\n",
              "    </g>\n",
              "</svg>\n",
              "  </button>\n",
              "\n",
              "<style>\n",
              "  .colab-df-quickchart {\n",
              "      --bg-color: #E8F0FE;\n",
              "      --fill-color: #1967D2;\n",
              "      --hover-bg-color: #E2EBFA;\n",
              "      --hover-fill-color: #174EA6;\n",
              "      --disabled-fill-color: #AAA;\n",
              "      --disabled-bg-color: #DDD;\n",
              "  }\n",
              "\n",
              "  [theme=dark] .colab-df-quickchart {\n",
              "      --bg-color: #3B4455;\n",
              "      --fill-color: #D2E3FC;\n",
              "      --hover-bg-color: #434B5C;\n",
              "      --hover-fill-color: #FFFFFF;\n",
              "      --disabled-bg-color: #3B4455;\n",
              "      --disabled-fill-color: #666;\n",
              "  }\n",
              "\n",
              "  .colab-df-quickchart {\n",
              "    background-color: var(--bg-color);\n",
              "    border: none;\n",
              "    border-radius: 50%;\n",
              "    cursor: pointer;\n",
              "    display: none;\n",
              "    fill: var(--fill-color);\n",
              "    height: 32px;\n",
              "    padding: 0;\n",
              "    width: 32px;\n",
              "  }\n",
              "\n",
              "  .colab-df-quickchart:hover {\n",
              "    background-color: var(--hover-bg-color);\n",
              "    box-shadow: 0 1px 2px rgba(60, 64, 67, 0.3), 0 1px 3px 1px rgba(60, 64, 67, 0.15);\n",
              "    fill: var(--button-hover-fill-color);\n",
              "  }\n",
              "\n",
              "  .colab-df-quickchart-complete:disabled,\n",
              "  .colab-df-quickchart-complete:disabled:hover {\n",
              "    background-color: var(--disabled-bg-color);\n",
              "    fill: var(--disabled-fill-color);\n",
              "    box-shadow: none;\n",
              "  }\n",
              "\n",
              "  .colab-df-spinner {\n",
              "    border: 2px solid var(--fill-color);\n",
              "    border-color: transparent;\n",
              "    border-bottom-color: var(--fill-color);\n",
              "    animation:\n",
              "      spin 1s steps(1) infinite;\n",
              "  }\n",
              "\n",
              "  @keyframes spin {\n",
              "    0% {\n",
              "      border-color: transparent;\n",
              "      border-bottom-color: var(--fill-color);\n",
              "      border-left-color: var(--fill-color);\n",
              "    }\n",
              "    20% {\n",
              "      border-color: transparent;\n",
              "      border-left-color: var(--fill-color);\n",
              "      border-top-color: var(--fill-color);\n",
              "    }\n",
              "    30% {\n",
              "      border-color: transparent;\n",
              "      border-left-color: var(--fill-color);\n",
              "      border-top-color: var(--fill-color);\n",
              "      border-right-color: var(--fill-color);\n",
              "    }\n",
              "    40% {\n",
              "      border-color: transparent;\n",
              "      border-right-color: var(--fill-color);\n",
              "      border-top-color: var(--fill-color);\n",
              "    }\n",
              "    60% {\n",
              "      border-color: transparent;\n",
              "      border-right-color: var(--fill-color);\n",
              "    }\n",
              "    80% {\n",
              "      border-color: transparent;\n",
              "      border-right-color: var(--fill-color);\n",
              "      border-bottom-color: var(--fill-color);\n",
              "    }\n",
              "    90% {\n",
              "      border-color: transparent;\n",
              "      border-bottom-color: var(--fill-color);\n",
              "    }\n",
              "  }\n",
              "</style>\n",
              "\n",
              "  <script>\n",
              "    async function quickchart(key) {\n",
              "      const quickchartButtonEl =\n",
              "        document.querySelector('#' + key + ' button');\n",
              "      quickchartButtonEl.disabled = true;  // To prevent multiple clicks.\n",
              "      quickchartButtonEl.classList.add('colab-df-spinner');\n",
              "      try {\n",
              "        const charts = await google.colab.kernel.invokeFunction(\n",
              "            'suggestCharts', [key], {});\n",
              "      } catch (error) {\n",
              "        console.error('Error during call to suggestCharts:', error);\n",
              "      }\n",
              "      quickchartButtonEl.classList.remove('colab-df-spinner');\n",
              "      quickchartButtonEl.classList.add('colab-df-quickchart-complete');\n",
              "    }\n",
              "    (() => {\n",
              "      let quickchartButtonEl =\n",
              "        document.querySelector('#df-2a60cbc1-4f9f-45d5-8975-df0bfebf358c button');\n",
              "      quickchartButtonEl.style.display =\n",
              "        google.colab.kernel.accessAllowed ? 'block' : 'none';\n",
              "    })();\n",
              "  </script>\n",
              "</div>\n",
              "\n",
              "    </div>\n",
              "  </div>\n"
            ],
            "application/vnd.google.colaboratory.intrinsic+json": {
              "type": "dataframe",
              "summary": "{\n  \"name\": \"df[df\",\n  \"rows\": 27956,\n  \"fields\": [\n    {\n      \"column\": \"transcript_name\",\n      \"properties\": {\n        \"dtype\": \"string\",\n        \"num_unique_values\": 27956,\n        \"samples\": [\n          \"FRMD1-001\",\n          \"SIRT5-003\",\n          \"RUNX3-201\"\n        ],\n        \"semantic_type\": \"\",\n        \"description\": \"\"\n      }\n    },\n    {\n      \"column\": \"transcript_biotype\",\n      \"properties\": {\n        \"dtype\": \"category\",\n        \"num_unique_values\": 19,\n        \"samples\": [\n          \"protein_coding\",\n          \"lincRNA\",\n          \"IG_C_gene\"\n        ],\n        \"semantic_type\": \"\",\n        \"description\": \"\"\n      }\n    },\n    {\n      \"column\": \"transcript_length\",\n      \"properties\": {\n        \"dtype\": \"number\",\n        \"std\": 2377,\n        \"min\": 2434,\n        \"max\": 101518,\n        \"num_unique_values\": 6403,\n        \"samples\": [\n          3154,\n          5068,\n          3917\n        ],\n        \"semantic_type\": \"\",\n        \"description\": \"\"\n      }\n    },\n    {\n      \"column\": \"utr5_length\",\n      \"properties\": {\n        \"dtype\": \"number\",\n        \"std\": 324,\n        \"min\": 0,\n        \"max\": 7720,\n        \"num_unique_values\": 1473,\n        \"samples\": [\n          639,\n          103,\n          3551\n        ],\n        \"semantic_type\": \"\",\n        \"description\": \"\"\n      }\n    },\n    {\n      \"column\": \"cds_length\",\n      \"properties\": {\n        \"dtype\": \"number\",\n        \"std\": 2052,\n        \"min\": 0,\n        \"max\": 100272,\n        \"num_unique_values\": 3060,\n        \"samples\": [\n          8337,\n          2256,\n          3579\n        ],\n        \"semantic_type\": \"\",\n        \"description\": \"\"\n      }\n    },\n    {\n      \"column\": \"utr3_length\",\n      \"properties\": {\n        \"dtype\": \"number\",\n        \"std\": 1873.6024848964687,\n        \"min\": 0.0,\n        \"max\": 32870.0,\n        \"num_unique_values\": 5538,\n        \"samples\": [\n          5142.0,\n          5935.0,\n          2234.0\n        ],\n        \"semantic_type\": \"\",\n        \"description\": \"\"\n      }\n    },\n    {\n      \"column\": \"exon_count\",\n      \"properties\": {\n        \"dtype\": \"number\",\n        \"std\": 11.348537816119393,\n        \"min\": 1.0,\n        \"max\": 312.0,\n        \"num_unique_values\": 111,\n        \"samples\": [\n          71.0,\n          11.0,\n          19.0\n        ],\n        \"semantic_type\": \"\",\n        \"description\": \"\"\n      }\n    },\n    {\n      \"column\": \"canonical_flag\",\n      \"properties\": {\n        \"dtype\": \"category\",\n        \"num_unique_values\": 2,\n        \"samples\": [\n          \"F\",\n          \"T\"\n        ],\n        \"semantic_type\": \"\",\n        \"description\": \"\"\n      }\n    }\n  ]\n}"
            }
          },
          "metadata": {},
          "execution_count": 53
        }
      ]
    },
    {
      "cell_type": "markdown",
      "source": [
        "- Calculating statistics of CDS length, excluding rows where CDS length is 0"
      ],
      "metadata": {
        "id": "UJ75yl1VyXjs"
      }
    },
    {
      "cell_type": "code",
      "source": [
        "print(\"\\tStatistics for transcript length\")\n",
        "# != means NOT\n",
        "print(\"\\tMinimum CDS length: \", df.cds_length[df.cds_length!=0].min())\n",
        "print(\"\\tMaximum CDS length: \", df.cds_length[df.cds_length!=0].max())\n",
        "print(\"\\tMean CDS length: \", df.cds_length[df.cds_length!=0].mean())\n",
        "print(\"\\tMedian CDS length: \", df.cds_length[df.cds_length!=0].median())"
      ],
      "metadata": {
        "colab": {
          "base_uri": "https://localhost:8080/"
        },
        "id": "W_IEph26xh9l",
        "outputId": "d2eacb71-f1c9-4058-b28d-6d2acd14b36e"
      },
      "execution_count": null,
      "outputs": [
        {
          "output_type": "stream",
          "name": "stdout",
          "text": [
            "\tStatistics for transcript length\n",
            "\tMinimum CDS length:  2\n",
            "\tMaximum CDS length:  100272\n",
            "\tMean CDS length:  1217.0452462199632\n",
            "\tMedian CDS length:  793.0\n"
          ]
        }
      ]
    },
    {
      "cell_type": "markdown",
      "source": [
        "- Calculating the percentage of human transcripts with a CDS length that is a multiple of 3 in the total set of transcripts with non-zero length.\n",
        "- Recall that df.shape[0] gives the number of rows, and df.shape[1]) the number of columns in dataframe df"
      ],
      "metadata": {
        "id": "qQBaNJnMyyKX"
      }
    },
    {
      "cell_type": "code",
      "source": [
        "# Number of transcripts where CDS length is not equal to 0\n",
        "# Note: .shape[0] returns num of rows!!!\n",
        "cds_number = df.cds_length[df.cds_length>0].shape[0]\n",
        "print(\"Number of transcripts with CDS length: \", cds_number)"
      ],
      "metadata": {
        "colab": {
          "base_uri": "https://localhost:8080/"
        },
        "id": "zKext3Dzya2W",
        "outputId": "fd662b79-d57b-4bde-8d87-1e358ae8bb7c"
      },
      "execution_count": null,
      "outputs": [
        {
          "output_type": "stream",
          "name": "stdout",
          "text": [
            "Number of transcripts with CDS length:  70039\n"
          ]
        }
      ]
    },
    {
      "cell_type": "code",
      "source": [
        "# Number of transcripts where CDS length is not equal to 0 and a multiple of 3\n",
        "cds_multiple_of_3 = df.cds_length[(df.cds_length>0) & (df.cds_length%3==0)].shape[0]\n",
        "print(\"Number of transcripts with CDS length that is a multiple of 3: \", cds_multiple_of_3)"
      ],
      "metadata": {
        "colab": {
          "base_uri": "https://localhost:8080/"
        },
        "id": "dNE8rOcAy97r",
        "outputId": "1e08aee6-72da-438b-903e-04a6a062e9b3"
      },
      "execution_count": null,
      "outputs": [
        {
          "output_type": "stream",
          "name": "stdout",
          "text": [
            "Number of transcripts with CDS length that is a multiple of 3:  57889\n"
          ]
        }
      ]
    },
    {
      "cell_type": "code",
      "source": [
        "print((cds_multiple_of_3/cds_number)*100, \"%\")"
      ],
      "metadata": {
        "colab": {
          "base_uri": "https://localhost:8080/"
        },
        "id": "_-HeEurkzrkP",
        "outputId": "b53a4c71-1b6d-4ede-f8cc-397c746f10c3"
      },
      "execution_count": null,
      "outputs": [
        {
          "output_type": "stream",
          "name": "stdout",
          "text": [
            "82.65252216622167 %\n"
          ]
        }
      ]
    },
    {
      "cell_type": "markdown",
      "source": [
        "- For each transcript_biotype, find the average transcript length"
      ],
      "metadata": {
        "id": "wV32oLZXz50z"
      }
    },
    {
      "cell_type": "code",
      "source": [
        "#result = df.groupby('transcript_biotype').aggregate(pd.DataFrame.mean)['transcript_length']\n",
        "result = df.groupby('transcript_biotype')['transcript_length'].mean()\n",
        "print(result)"
      ],
      "metadata": {
        "colab": {
          "base_uri": "https://localhost:8080/"
        },
        "id": "Mmo7N8psz2Ai",
        "outputId": "641c2121-e9b1-4a5a-f147-f85990e55440"
      },
      "execution_count": null,
      "outputs": [
        {
          "output_type": "stream",
          "name": "stdout",
          "text": [
            "transcript_biotype\n",
            "3prime_overlapping_ncRNA               598.176471\n",
            "IG_C_gene                             1087.125000\n",
            "IG_C_pseudogene                        608.428571\n",
            "IG_D_gene                               22.555556\n",
            "IG_J_gene                               66.555556\n",
            "IG_J_pseudogene                         55.000000\n",
            "IG_V_gene                              416.795082\n",
            "IG_V_pseudogene                        294.153333\n",
            "Mt_rRNA                               1256.500000\n",
            "Mt_tRNA                                 68.545455\n",
            "TEC                                   1567.750000\n",
            "TR_C_gene                             1305.250000\n",
            "TR_D_gene                               10.000000\n",
            "TR_J_gene                               58.915493\n",
            "TR_J_pseudogene                         59.250000\n",
            "TR_V_gene                              427.549451\n",
            "TR_V_pseudogene                        328.120000\n",
            "antisense                              939.814124\n",
            "bidirectional_promoter_lncRNA         1457.666667\n",
            "lincRNA                                942.456052\n",
            "miRNA                                   88.980303\n",
            "misc_RNA                               279.395755\n",
            "non_stop_decay                        1111.269231\n",
            "nonsense_mediated_decay               1611.164301\n",
            "polymorphic_pseudogene                1568.818182\n",
            "processed_pseudogene                   710.415501\n",
            "processed_transcript                   880.251722\n",
            "protein_coding                        2384.302961\n",
            "pseudogene                            1219.909091\n",
            "rRNA                                   113.177165\n",
            "retained_intron                       1265.059158\n",
            "ribozyme                               230.400000\n",
            "scRNA                                  200.000000\n",
            "scaRNA                                 177.687500\n",
            "sense_intronic                         735.668421\n",
            "sense_overlapping                      902.941667\n",
            "snRNA                                  109.781879\n",
            "snoRNA                                 103.056995\n",
            "transcribed_processed_pseudogene       826.312268\n",
            "transcribed_unitary_pseudogene        1315.133333\n",
            "transcribed_unprocessed_pseudogene    1254.905312\n",
            "unitary_pseudogene                    1382.914729\n",
            "unprocessed_pseudogene                 843.700510\n",
            "Name: transcript_length, dtype: float64\n"
          ]
        }
      ]
    },
    {
      "cell_type": "code",
      "source": [
        "# plot it\n",
        "result.plot(kind='hist', bins=100)"
      ],
      "metadata": {
        "colab": {
          "base_uri": "https://localhost:8080/",
          "height": 447
        },
        "id": "MXDRjtE_z80V",
        "outputId": "97db5ed4-d104-4ff4-8d93-e5a4dcf54b9a"
      },
      "execution_count": null,
      "outputs": [
        {
          "output_type": "execute_result",
          "data": {
            "text/plain": [
              "<Axes: ylabel='Frequency'>"
            ]
          },
          "metadata": {},
          "execution_count": 63
        },
        {
          "output_type": "display_data",
          "data": {
            "text/plain": [
              "<Figure size 640x480 with 1 Axes>"
            ],
            "image/png": "[encoded data removed]"
          },
          "metadata": {}
        }
      ]
    },
    {
      "cell_type": "markdown",
      "source": [
        "* But... check the type of result variable! It is a Series"
      ],
      "metadata": {
        "id": "P8K3xl2Q0DsH"
      }
    },
    {
      "cell_type": "code",
      "source": [
        "type(result)"
      ],
      "metadata": {
        "colab": {
          "base_uri": "https://localhost:8080/",
          "height": 204
        },
        "id": "2GCVAT4m0Bmo",
        "outputId": "40ac1578-2ab8-4f7e-d5eb-f56f861e6c8a"
      },
      "execution_count": null,
      "outputs": [
        {
          "output_type": "execute_result",
          "data": {
            "text/plain": [
              "pandas.core.series.Series"
            ],
            "text/html": [
              "<div style=\"max-width:800px; border: 1px solid var(--colab-border-color);\"><style>\n",
              "      pre.function-repr-contents {\n",
              "        overflow-x: auto;\n",
              "        padding: 8px 12px;\n",
              "        max-height: 500px;\n",
              "      }\n",
              "\n",
              "      pre.function-repr-contents.function-repr-contents-collapsed {\n",
              "        cursor: pointer;\n",
              "        max-height: 100px;\n",
              "      }\n",
              "    </style>\n",
              "    <pre style=\"white-space: initial; background:\n",
              "         var(--colab-secondary-surface-color); padding: 8px 12px;\n",
              "         border-bottom: 1px solid var(--colab-border-color);\"><b>pandas.core.series.Series</b><br/>def __init__(data=None, index=None, dtype: Dtype | None=None, name=None, copy: bool | None=None, fastpath: bool | lib.NoDefault=lib.no_default) -&gt; None</pre><pre class=\"function-repr-contents function-repr-contents-collapsed\" style=\"\"><a class=\"filepath\" style=\"display:none\" href=\"#\">/usr/local/lib/python3.10/dist-packages/pandas/core/series.py</a>One-dimensional ndarray with axis labels (including time series).\n",
              "\n",
              "Labels need not be unique but must be a hashable type. The object\n",
              "supports both integer- and label-based indexing and provides a host of\n",
              "methods for performing operations involving the index. Statistical\n",
              "methods from ndarray have been overridden to automatically exclude\n",
              "missing data (currently represented as NaN).\n",
              "\n",
              "Operations between Series (+, -, /, \\*, \\*\\*) align values based on their\n",
              "associated index values-- they need not be the same length. The result\n",
              "index will be the sorted union of the two indexes.\n",
              "\n",
              "Parameters\n",
              "----------\n",
              "data : array-like, Iterable, dict, or scalar value\n",
              "    Contains data stored in Series. If data is a dict, argument order is\n",
              "    maintained.\n",
              "index : array-like or Index (1d)\n",
              "    Values must be hashable and have the same length as `data`.\n",
              "    Non-unique index values are allowed. Will default to\n",
              "    RangeIndex (0, 1, 2, ..., n) if not provided. If data is dict-like\n",
              "    and index is None, then the keys in the data are used as the index. If the\n",
              "    index is not None, the resulting Series is reindexed with the index values.\n",
              "dtype : str, numpy.dtype, or ExtensionDtype, optional\n",
              "    Data type for the output Series. If not specified, this will be\n",
              "    inferred from `data`.\n",
              "    See the :ref:`user guide &lt;basics.dtypes&gt;` for more usages.\n",
              "name : Hashable, default None\n",
              "    The name to give to the Series.\n",
              "copy : bool, default False\n",
              "    Copy input data. Only affects Series or 1d ndarray input. See examples.\n",
              "\n",
              "Notes\n",
              "-----\n",
              "Please reference the :ref:`User Guide &lt;basics.series&gt;` for more information.\n",
              "\n",
              "Examples\n",
              "--------\n",
              "Constructing Series from a dictionary with an Index specified\n",
              "\n",
              "&gt;&gt;&gt; d = {&#x27;a&#x27;: 1, &#x27;b&#x27;: 2, &#x27;c&#x27;: 3}\n",
              "&gt;&gt;&gt; ser = pd.Series(data=d, index=[&#x27;a&#x27;, &#x27;b&#x27;, &#x27;c&#x27;])\n",
              "&gt;&gt;&gt; ser\n",
              "a   1\n",
              "b   2\n",
              "c   3\n",
              "dtype: int64\n",
              "\n",
              "The keys of the dictionary match with the Index values, hence the Index\n",
              "values have no effect.\n",
              "\n",
              "&gt;&gt;&gt; d = {&#x27;a&#x27;: 1, &#x27;b&#x27;: 2, &#x27;c&#x27;: 3}\n",
              "&gt;&gt;&gt; ser = pd.Series(data=d, index=[&#x27;x&#x27;, &#x27;y&#x27;, &#x27;z&#x27;])\n",
              "&gt;&gt;&gt; ser\n",
              "x   NaN\n",
              "y   NaN\n",
              "z   NaN\n",
              "dtype: float64\n",
              "\n",
              "Note that the Index is first build with the keys from the dictionary.\n",
              "After this the Series is reindexed with the given Index values, hence we\n",
              "get all NaN as a result.\n",
              "\n",
              "Constructing Series from a list with `copy=False`.\n",
              "\n",
              "&gt;&gt;&gt; r = [1, 2]\n",
              "&gt;&gt;&gt; ser = pd.Series(r, copy=False)\n",
              "&gt;&gt;&gt; ser.iloc[0] = 999\n",
              "&gt;&gt;&gt; r\n",
              "[1, 2]\n",
              "&gt;&gt;&gt; ser\n",
              "0    999\n",
              "1      2\n",
              "dtype: int64\n",
              "\n",
              "Due to input data type the Series has a `copy` of\n",
              "the original data even though `copy=False`, so\n",
              "the data is unchanged.\n",
              "\n",
              "Constructing Series from a 1d ndarray with `copy=False`.\n",
              "\n",
              "&gt;&gt;&gt; r = np.array([1, 2])\n",
              "&gt;&gt;&gt; ser = pd.Series(r, copy=False)\n",
              "&gt;&gt;&gt; ser.iloc[0] = 999\n",
              "&gt;&gt;&gt; r\n",
              "array([999,   2])\n",
              "&gt;&gt;&gt; ser\n",
              "0    999\n",
              "1      2\n",
              "dtype: int64\n",
              "\n",
              "Due to input data type the Series has a `view` on\n",
              "the original data, so\n",
              "the data is changed as well.</pre>\n",
              "      <script>\n",
              "      if (google.colab.kernel.accessAllowed && google.colab.files && google.colab.files.view) {\n",
              "        for (const element of document.querySelectorAll('.filepath')) {\n",
              "          element.style.display = 'block'\n",
              "          element.onclick = (event) => {\n",
              "            event.preventDefault();\n",
              "            event.stopPropagation();\n",
              "            google.colab.files.view(element.textContent, 263);\n",
              "          };\n",
              "        }\n",
              "      }\n",
              "      for (const element of document.querySelectorAll('.function-repr-contents')) {\n",
              "        element.onclick = (event) => {\n",
              "          event.preventDefault();\n",
              "          event.stopPropagation();\n",
              "          element.classList.toggle('function-repr-contents-collapsed');\n",
              "        };\n",
              "      }\n",
              "      </script>\n",
              "      </div>"
            ]
          },
          "metadata": {},
          "execution_count": 64
        }
      ]
    },
    {
      "cell_type": "code",
      "source": [
        "result.index"
      ],
      "metadata": {
        "colab": {
          "base_uri": "https://localhost:8080/"
        },
        "id": "6PaPODat0HHP",
        "outputId": "bcf30084-27aa-48d0-9517-ca2498ff0662"
      },
      "execution_count": null,
      "outputs": [
        {
          "output_type": "execute_result",
          "data": {
            "text/plain": [
              "Index(['3prime_overlapping_ncRNA', 'IG_C_gene', 'IG_C_pseudogene', 'IG_D_gene',\n",
              "       'IG_J_gene', 'IG_J_pseudogene', 'IG_V_gene', 'IG_V_pseudogene',\n",
              "       'Mt_rRNA', 'Mt_tRNA', 'TEC', 'TR_C_gene', 'TR_D_gene', 'TR_J_gene',\n",
              "       'TR_J_pseudogene', 'TR_V_gene', 'TR_V_pseudogene', 'antisense',\n",
              "       'bidirectional_promoter_lncRNA', 'lincRNA', 'miRNA', 'misc_RNA',\n",
              "       'non_stop_decay', 'nonsense_mediated_decay', 'polymorphic_pseudogene',\n",
              "       'processed_pseudogene', 'processed_transcript', 'protein_coding',\n",
              "       'pseudogene', 'rRNA', 'retained_intron', 'ribozyme', 'scRNA', 'scaRNA',\n",
              "       'sense_intronic', 'sense_overlapping', 'snRNA', 'snoRNA',\n",
              "       'transcribed_processed_pseudogene', 'transcribed_unitary_pseudogene',\n",
              "       'transcribed_unprocessed_pseudogene', 'unitary_pseudogene',\n",
              "       'unprocessed_pseudogene'],\n",
              "      dtype='object', name='transcript_biotype')"
            ]
          },
          "metadata": {},
          "execution_count": 65
        }
      ]
    },
    {
      "cell_type": "markdown",
      "source": [
        "* Better to convert the panda series to a dataframe with two columns: Transcr. Biotype, AVG Transcr. length"
      ],
      "metadata": {
        "id": "AaJFgyF_0N1H"
      }
    },
    {
      "cell_type": "code",
      "source": [
        "result = result.reset_index()\n",
        "# or, another way is result = df.groupby('transcript_biotype')[['transcript_length']].mean() which directly returns a dataframe\n",
        "\n",
        "\n",
        "result.columns = ['Transcr. Biotype', 'AVG Transcr. length']\n",
        "print(result)"
      ],
      "metadata": {
        "colab": {
          "base_uri": "https://localhost:8080/"
        },
        "id": "fqlSLveR0JdD",
        "outputId": "50dd4eea-cdc3-4e87-948a-65e65aa21459"
      },
      "execution_count": null,
      "outputs": [
        {
          "output_type": "stream",
          "name": "stdout",
          "text": [
            "                      Transcr. Biotype  AVG Transcr. length\n",
            "0             3prime_overlapping_ncRNA           598.176471\n",
            "1                            IG_C_gene          1087.125000\n",
            "2                      IG_C_pseudogene           608.428571\n",
            "3                            IG_D_gene            22.555556\n",
            "4                            IG_J_gene            66.555556\n",
            "5                      IG_J_pseudogene            55.000000\n",
            "6                            IG_V_gene           416.795082\n",
            "7                      IG_V_pseudogene           294.153333\n",
            "8                              Mt_rRNA          1256.500000\n",
            "9                              Mt_tRNA            68.545455\n",
            "10                                 TEC          1567.750000\n",
            "11                           TR_C_gene          1305.250000\n",
            "12                           TR_D_gene            10.000000\n",
            "13                           TR_J_gene            58.915493\n",
            "14                     TR_J_pseudogene            59.250000\n",
            "15                           TR_V_gene           427.549451\n",
            "16                     TR_V_pseudogene           328.120000\n",
            "17                           antisense           939.814124\n",
            "18       bidirectional_promoter_lncRNA          1457.666667\n",
            "19                             lincRNA           942.456052\n",
            "20                               miRNA            88.980303\n",
            "21                            misc_RNA           279.395755\n",
            "22                      non_stop_decay          1111.269231\n",
            "23             nonsense_mediated_decay          1611.164301\n",
            "24              polymorphic_pseudogene          1568.818182\n",
            "25                processed_pseudogene           710.415501\n",
            "26                processed_transcript           880.251722\n",
            "27                      protein_coding          2384.302961\n",
            "28                          pseudogene          1219.909091\n",
            "29                                rRNA           113.177165\n",
            "30                     retained_intron          1265.059158\n",
            "31                            ribozyme           230.400000\n",
            "32                               scRNA           200.000000\n",
            "33                              scaRNA           177.687500\n",
            "34                      sense_intronic           735.668421\n",
            "35                   sense_overlapping           902.941667\n",
            "36                               snRNA           109.781879\n",
            "37                              snoRNA           103.056995\n",
            "38    transcribed_processed_pseudogene           826.312268\n",
            "39      transcribed_unitary_pseudogene          1315.133333\n",
            "40  transcribed_unprocessed_pseudogene          1254.905312\n",
            "41                  unitary_pseudogene          1382.914729\n",
            "42              unprocessed_pseudogene           843.700510\n"
          ]
        }
      ]
    },
    {
      "cell_type": "markdown",
      "source": [
        "- For each transcript_biotype, find the average transcript length, in increasing order"
      ],
      "metadata": {
        "id": "j2yCoX3C0rN5"
      }
    },
    {
      "cell_type": "code",
      "source": [
        "result = result.sort_values('AVG Transcr. length')\n",
        "print(result)"
      ],
      "metadata": {
        "colab": {
          "base_uri": "https://localhost:8080/"
        },
        "id": "qsF54kAv0nP8",
        "outputId": "4c0cbe5c-89f9-4d0d-a3ba-c92a2368d069"
      },
      "execution_count": null,
      "outputs": [
        {
          "output_type": "stream",
          "name": "stdout",
          "text": [
            "                      Transcr. Biotype  AVG Transcr. length\n",
            "12                           TR_D_gene            10.000000\n",
            "3                            IG_D_gene            22.555556\n",
            "5                      IG_J_pseudogene            55.000000\n",
            "13                           TR_J_gene            58.915493\n",
            "14                     TR_J_pseudogene            59.250000\n",
            "4                            IG_J_gene            66.555556\n",
            "9                              Mt_tRNA            68.545455\n",
            "20                               miRNA            88.980303\n",
            "37                              snoRNA           103.056995\n",
            "36                               snRNA           109.781879\n",
            "29                                rRNA           113.177165\n",
            "33                              scaRNA           177.687500\n",
            "32                               scRNA           200.000000\n",
            "31                            ribozyme           230.400000\n",
            "21                            misc_RNA           279.395755\n",
            "7                      IG_V_pseudogene           294.153333\n",
            "16                     TR_V_pseudogene           328.120000\n",
            "6                            IG_V_gene           416.795082\n",
            "15                           TR_V_gene           427.549451\n",
            "0             3prime_overlapping_ncRNA           598.176471\n",
            "2                      IG_C_pseudogene           608.428571\n",
            "25                processed_pseudogene           710.415501\n",
            "34                      sense_intronic           735.668421\n",
            "38    transcribed_processed_pseudogene           826.312268\n",
            "42              unprocessed_pseudogene           843.700510\n",
            "26                processed_transcript           880.251722\n",
            "35                   sense_overlapping           902.941667\n",
            "17                           antisense           939.814124\n",
            "19                             lincRNA           942.456052\n",
            "1                            IG_C_gene          1087.125000\n",
            "22                      non_stop_decay          1111.269231\n",
            "28                          pseudogene          1219.909091\n",
            "40  transcribed_unprocessed_pseudogene          1254.905312\n",
            "8                              Mt_rRNA          1256.500000\n",
            "30                     retained_intron          1265.059158\n",
            "11                           TR_C_gene          1305.250000\n",
            "39      transcribed_unitary_pseudogene          1315.133333\n",
            "41                  unitary_pseudogene          1382.914729\n",
            "18       bidirectional_promoter_lncRNA          1457.666667\n",
            "10                                 TEC          1567.750000\n",
            "24              polymorphic_pseudogene          1568.818182\n",
            "23             nonsense_mediated_decay          1611.164301\n",
            "27                      protein_coding          2384.302961\n"
          ]
        }
      ]
    },
    {
      "cell_type": "markdown",
      "source": [
        "- For protein_coding transcripts, find the average length of the 5’UTR, CDS and 3’ UTR"
      ],
      "metadata": {
        "id": "OqTFWyIq0wLX"
      }
    },
    {
      "cell_type": "code",
      "source": [
        "filtered = df[df.transcript_biotype=='protein_coding']\n",
        "print(filtered)\n",
        "\n",
        "print(\"For transcript_biotype = 'protein_coding':\")\n",
        "print(\"\\tAverage length of UTR5: \", filtered.utr5_length.mean())\n",
        "print(\"\\tAverage length of UTR3: \", filtered.utr3_length.mean())\n",
        "print(\"\\tAverage length of CDS: \", filtered.cds_length.mean())"
      ],
      "metadata": {
        "colab": {
          "base_uri": "https://localhost:8080/"
        },
        "id": "410X2kM40tl5",
        "outputId": "6a21d5a0-2d89-4187-b96f-184bf3380d46"
      },
      "execution_count": null,
      "outputs": [
        {
          "output_type": "stream",
          "name": "stdout",
          "text": [
            "       transcript_name transcript_biotype  transcript_length  utr5_length  \\\n",
            "0             ARF5-001     protein_coding               1103          154   \n",
            "1             M6PR-001     protein_coding               2756          469   \n",
            "2            ESRRA-002     protein_coding               2215          171   \n",
            "3            FKBP4-001     protein_coding               3732          187   \n",
            "4          CYP26B1-001     protein_coding               4732          204   \n",
            "...                ...                ...                ...          ...   \n",
            "136204       RPH3A-026     protein_coding                561          312   \n",
            "136206      CORO1C-020     protein_coding                577            0   \n",
            "136211        FGD6-004     protein_coding               4568          224   \n",
            "136213       HVCN1-006     protein_coding                539          304   \n",
            "136215      ZNF606-007     protein_coding                636           89   \n",
            "\n",
            "        cds_length  utr3_length  exon_count canonical_flag  \n",
            "0              543        406.0         6.0              T  \n",
            "1              834       1453.0         7.0              T  \n",
            "2             1272        772.0         7.0              F  \n",
            "3             1380       2165.0        10.0              T  \n",
            "4             1539       2989.0         6.0              T  \n",
            "...            ...          ...         ...            ...  \n",
            "136204         249          0.0         7.0              F  \n",
            "136206         498         79.0         5.0              F  \n",
            "136211        4125        219.0        19.0              F  \n",
            "136213         235          0.0         5.0              F  \n",
            "136215           2          NaN         NaN            NaN  \n",
            "\n",
            "[60681 rows x 8 columns]\n",
            "For transcript_biotype = 'protein_coding':\n",
            "\tAverage length of UTR5:  218.70445444208235\n",
            "\tAverage length of UTR3:  837.6723632168754\n",
            "\tAverage length of CDS:  1327.9309668594783\n"
          ]
        }
      ]
    }
  ]
}