{
  "cells": [
    {
      "cell_type": "markdown",
      "metadata": {
        "id": "view-in-github",
        "colab_type": "text"
      },
      "source": [
        "<a href=\"https://colab.research.google.com/github/GiX007/ml-quickstart-notebooks/blob/main/notebooks/03_introduction_to_numpy.ipynb\" target=\"_parent\"><img src=\"https://colab.research.google.com/assets/colab-badge.svg\" alt=\"Open In Colab\"/></a>"
      ]
    },
    {
      "cell_type": "markdown",
      "metadata": {
        "id": "A3g8Rk_RMJa9"
      },
      "source": [
        "# A Quick Introduction to Numerical Data Manipulation with Python and NumPy"
      ]
    },
    {
      "cell_type": "code",
      "execution_count": null,
      "metadata": {
        "tags": [],
        "id": "v_oEQ2ToMJbA",
        "outputId": "87321bec-b545-4747-8c9c-4616e074e133"
      },
      "outputs": [
        {
          "name": "stdout",
          "output_type": "stream",
          "text": [
            "Last updated: 2024-09-05 13:15:36.894029\n"
          ]
        }
      ],
      "source": [
        "import datetime\n",
        "print(f\"Last updated: {datetime.datetime.now()}\")"
      ]
    },
    {
      "cell_type": "markdown",
      "source": [
        "## What is NumPy?"
      ],
      "metadata": {
        "id": "lLnzEA6QqfP-"
      }
    },
    {
      "cell_type": "markdown",
      "metadata": {
        "id": "6SW5gfFxMJbB"
      },
      "source": [
        "[NumPy](https://numpy.org/doc/stable/index.html) stands for numerical Python. It's the backbone of all kinds of scientific and numerical computing in Python.\n",
        "\n",
        "And since machine learning is all about turning data into numbers and then figuring out the patterns, NumPy often comes into play.\n",
        "\n",
        "<img src=\"https://github.com/GiX007/ml-quickstart-notebooks/blob/main/data/images/numpy-6-step-ml-framework-tools-numpy-highlight.png?raw=1\" alt=\"a 6 step machine learning framework along will tools you can use for each step\" width=\"700\"/>"
      ]
    },
    {
      "cell_type": "markdown",
      "source": [
        "## Why NumPy?"
      ],
      "metadata": {
        "id": "ktzYN-MWqiVi"
      }
    },
    {
      "cell_type": "markdown",
      "metadata": {
        "id": "NXlCjBTLMJbC"
      },
      "source": [
        "You can do numerical calculations using pure Python. In the beginning, you might think Python is fast but once your data gets large, you'll start to notice slow downs.\n",
        "\n",
        "One of the main reasons you use NumPy is because it's fast. Behind the scenes, the code has been optimized to run using C. Which is another programming language, which can do things much faster than Python.\n",
        "\n",
        "The benefit of this being behind the scenes is you don't need to know any C to take advantage of it. You can write your numerical computations in Python using NumPy and get the added speed benefits.\n",
        "\n",
        "If your curious as to what causes this speed benefit, it's a process called vectorization. [Vectorization](https://en.wikipedia.org/wiki/Vectorization) aims to do calculations by avoiding loops as loops can create potential bottlenecks.\n",
        "\n",
        "NumPy achieves vectorization through a process called [broadcasting](https://docs.scipy.org/doc/numpy/user/basics.broadcasting.html#module-numpy.doc.broadcasting)."
      ]
    },
    {
      "cell_type": "markdown",
      "source": [
        "## What does this notebook cover?"
      ],
      "metadata": {
        "id": "o0ZF_0o6ql83"
      }
    },
    {
      "cell_type": "markdown",
      "metadata": {
        "id": "hBYwD1NVMJbC"
      },
      "source": [
        "The NumPy library is very capable. However, learning everything off by heart isn't necessary. Instead, this notebook focuses on the main concepts of NumPy and the `ndarray` datatype.\n",
        "\n",
        "You can think of the `ndarray` datatype as a very flexible array of numbers.\n",
        "\n",
        "More specifically, we'll look at:\n",
        "* NumPy datatypes & attributes\n",
        "* Creating arrays\n",
        "* Viewing arrays & matrices (indexing)\n",
        "* Manipulating & comparing arrays\n",
        "* Sorting arrays\n",
        "* Use cases (examples of turning things into numbers)\n",
        "\n",
        "After going through it, you'll have the base knolwedge of NumPy you need to keep moving forward."
      ]
    },
    {
      "cell_type": "markdown",
      "source": [
        "## Where can I get help?"
      ],
      "metadata": {
        "id": "D2dIwSzqqoyT"
      }
    },
    {
      "cell_type": "markdown",
      "metadata": {
        "id": "ot06ozXxMJbC"
      },
      "source": [
        "If you get stuck or think of something you'd like to do which this notebook doesn't cover, don't fear!\n",
        "\n",
        "The recommended steps you take are:\n",
        "1. **Try it** - Since NumPy is very friendly, your first step should be to use what you know and try figure out the answer to your own question (getting it wrong is part of the process). If in doubt, run your code.\n",
        "2. **Search for it** - If trying it on your own doesn't work, since someone else has probably tried to do something similar, try searching for your problem in the following places (either via a search engine or direct):\n",
        "    * [NumPy documentation](https://numpy.org/doc/stable/index.html) - The ground truth for everything NumPy, this resource covers all of the NumPy functionality.\n",
        "    * [Stack Overflow](https://stackoverflow.com/) - This is the developers Q&A hub, it's full of questions and answers of different problems across a wide range of software development topics and chances are, there's one related to your problem.\n",
        "    * [ChatGPT](https://chat.openai.com/) - ChatGPT is very good at explaining code, however, it can make mistakes. Best to verify the code it writes first before using it. Try asking \"Can you explain the following code for me? {your code here}\" and then continue with follow up questions from there. Avoid straight copying and pasting and instead, only use things that you could yourself reproduce with adequate effort.\n",
        "    \n",
        "An example of searching for a NumPy function might be:\n",
        "\n",
        "> \"how to find unique elements in a numpy array\"\n",
        "\n",
        "Searching this on Google leads to the NumPy documentation for the `np.unique()` function: https://numpy.org/doc/stable/reference/generated/numpy.unique.html\n",
        "\n",
        "The next steps here are to read through the documentation, check the examples and see if they line up to the problem you're trying to solve.\n",
        "\n",
        "If they do, **rewrite the code** to suit your needs, run it, and see what the outcomes are.\n",
        "\n",
        "3. **Ask for help** - If you've been through the above 2 steps and you're still stuck, you might want to ask your question on [Stack Overflow](https://www.stackoverflow.com). Be as specific as possible and provide details on what you've tried.\n",
        "\n",
        "Remember, you don't have to learn all of the functions off by heart to begin with.\n",
        "\n",
        "What's most important is continually asking yourself, \"what am I trying to do with the data?\".\n",
        "\n",
        "Start by answering that question and then practicing finding the code which does it.\n",
        "\n",
        "Let's get started."
      ]
    },
    {
      "cell_type": "markdown",
      "source": [
        "## 0. Importing NumPy"
      ],
      "metadata": {
        "id": "neG7EINsquTc"
      }
    },
    {
      "cell_type": "markdown",
      "metadata": {
        "id": "hESrlultMJbD"
      },
      "source": [
        "To get started using NumPy, the first step is to import it.\n",
        "\n",
        "The most common way (and method you should use) is to import NumPy as the abbreviation `np`.\n",
        "\n",
        "If you see the letters `np` used anywhere in machine learning or data science, it's probably referring to the NumPy library."
      ]
    },
    {
      "cell_type": "code",
      "execution_count": null,
      "metadata": {
        "id": "oY198WOoMJbD",
        "outputId": "97d59c0c-2251-4bee-a425-8690bfb4999d"
      },
      "outputs": [
        {
          "name": "stdout",
          "output_type": "stream",
          "text": [
            "2.1.1\n"
          ]
        }
      ],
      "source": [
        "import numpy as np\n",
        "\n",
        "# Check the version\n",
        "print(np.__version__)"
      ]
    },
    {
      "cell_type": "markdown",
      "source": [
        "## 1. DataTypes and attributes"
      ],
      "metadata": {
        "id": "lN9558cFqxCC"
      }
    },
    {
      "cell_type": "markdown",
      "metadata": {
        "id": "7GVD8GH_MJbF"
      },
      "source": [
        "> **Note:** Important to remember the main type in NumPy is `ndarray`, even seemingly different kinds of arrays are still `ndarray`'s. This means an operation you do on one array, will work on another."
      ]
    },
    {
      "cell_type": "code",
      "execution_count": null,
      "metadata": {
        "id": "UOAZFFqYMJbF"
      },
      "outputs": [],
      "source": [
        "# 1-dimensonal array, also referred to as a vector\n",
        "a1 = np.array([1, 2, 3])\n",
        "\n",
        "# 2-dimensional array, also referred to as matrix\n",
        "a2 = np.array([[1, 2.0, 3.3],\n",
        "               [4, 5, 6.5]])\n",
        "\n",
        "# 3-dimensional array, also referred to as a matrix\n",
        "a3 = np.array([[[1, 2, 3],\n",
        "                [4, 5, 6],\n",
        "                [7, 8, 9]],\n",
        "                [[10, 11, 12],\n",
        "                 [13, 14, 15],\n",
        "                 [16, 17, 18]]])"
      ]
    },
    {
      "cell_type": "code",
      "execution_count": null,
      "metadata": {
        "id": "dC2heUW0MJbF",
        "outputId": "1385ee69-1641-459d-eb1c-be7df0553e9b"
      },
      "outputs": [
        {
          "data": {
            "text/plain": [
              "((3,), 1, dtype('int64'), 3, numpy.ndarray)"
            ]
          },
          "execution_count": 4,
          "metadata": {},
          "output_type": "execute_result"
        }
      ],
      "source": [
        "a1.shape, a1.ndim, a1.dtype, a1.size, type(a1)"
      ]
    },
    {
      "cell_type": "code",
      "execution_count": null,
      "metadata": {
        "id": "Gt1qraVwMJbF",
        "outputId": "b969bd33-bd71-4176-be4b-4a88aaa22f5b"
      },
      "outputs": [
        {
          "data": {
            "text/plain": [
              "((2, 3), 2, dtype('float64'), 6, numpy.ndarray)"
            ]
          },
          "execution_count": 5,
          "metadata": {},
          "output_type": "execute_result"
        }
      ],
      "source": [
        "a2.shape, a2.ndim, a2.dtype, a2.size, type(a2)"
      ]
    },
    {
      "cell_type": "code",
      "execution_count": null,
      "metadata": {
        "id": "_IPrrPx-MJbG",
        "outputId": "0bf5abbd-c7ca-479e-9016-9bb05c2f3e0e"
      },
      "outputs": [
        {
          "data": {
            "text/plain": [
              "((2, 3, 3), 3, dtype('int64'), 18, numpy.ndarray)"
            ]
          },
          "execution_count": 6,
          "metadata": {},
          "output_type": "execute_result"
        }
      ],
      "source": [
        "a3.shape, a3.ndim, a3.dtype, a3.size, type(a3)"
      ]
    },
    {
      "cell_type": "code",
      "execution_count": null,
      "metadata": {
        "id": "wTbhTuGYMJbG",
        "outputId": "9e64574c-b3bc-4062-a271-00784bb2ffad"
      },
      "outputs": [
        {
          "data": {
            "text/plain": [
              "array([1, 2, 3])"
            ]
          },
          "execution_count": 7,
          "metadata": {},
          "output_type": "execute_result"
        }
      ],
      "source": [
        "a1"
      ]
    },
    {
      "cell_type": "code",
      "execution_count": null,
      "metadata": {
        "id": "UPCUSNyVMJbG",
        "outputId": "bd96a4e6-c57c-448a-b570-58c8dfe9990b"
      },
      "outputs": [
        {
          "data": {
            "text/plain": [
              "array([[1. , 2. , 3.3],\n",
              "       [4. , 5. , 6.5]])"
            ]
          },
          "execution_count": 8,
          "metadata": {},
          "output_type": "execute_result"
        }
      ],
      "source": [
        "a2"
      ]
    },
    {
      "cell_type": "code",
      "execution_count": null,
      "metadata": {
        "id": "zkQ2s-1CMJbG",
        "outputId": "b136c1e6-892f-486f-fe28-7f2059c47d13"
      },
      "outputs": [
        {
          "data": {
            "text/plain": [
              "array([[[ 1,  2,  3],\n",
              "        [ 4,  5,  6],\n",
              "        [ 7,  8,  9]],\n",
              "\n",
              "       [[10, 11, 12],\n",
              "        [13, 14, 15],\n",
              "        [16, 17, 18]]])"
            ]
          },
          "execution_count": 9,
          "metadata": {},
          "output_type": "execute_result"
        }
      ],
      "source": [
        "a3"
      ]
    },
    {
      "cell_type": "markdown",
      "source": [
        "### Anatomy of an array"
      ],
      "metadata": {
        "id": "iQqMvqDsq3SV"
      }
    },
    {
      "cell_type": "markdown",
      "metadata": {
        "id": "BxPJJ-htMJbG"
      },
      "source": [
        "<img src=\"https://github.com/GiX007/ml-quickstart-notebooks/blob/main/data/images/numpy-anatomy-of-an-array-updated.png?raw=1\" alt=\"anatomy of a numpy array\"/>\n",
        "\n",
        "Key terms:\n",
        "* **Array** - A list of numbers, can be multi-dimensional.\n",
        "* **Scalar** - A single number (e.g. `7`).\n",
        "* **Vector** - A list of numbers with 1-dimension (e.g. `np.array([1, 2, 3])`).\n",
        "* **Matrix** - A (usually) multi-dimensional list of numbers (e.g. `np.array([[1, 2, 3], [4, 5, 6]])`)."
      ]
    },
    {
      "cell_type": "markdown",
      "source": [
        "### pandas DataFrame out of NumPy arrays"
      ],
      "metadata": {
        "id": "IcFYDBSUq7S0"
      }
    },
    {
      "cell_type": "markdown",
      "metadata": {
        "id": "dpuTEtqgMJbH"
      },
      "source": [
        "This is to examplify how NumPy is the backbone of many other libraries."
      ]
    },
    {
      "cell_type": "code",
      "execution_count": null,
      "metadata": {
        "id": "IilOxo3XMJbH",
        "outputId": "07161ccd-3133-4c61-ed09-4cd059d18d92"
      },
      "outputs": [
        {
          "data": {
            "text/html": [
              "<div>\n",
              "<style scoped>\n",
              "    .dataframe tbody tr th:only-of-type {\n",
              "        vertical-align: middle;\n",
              "    }\n",
              "\n",
              "    .dataframe tbody tr th {\n",
              "        vertical-align: top;\n",
              "    }\n",
              "\n",
              "    .dataframe thead th {\n",
              "        text-align: right;\n",
              "    }\n",
              "</style>\n",
              "<table border=\"1\" class=\"dataframe\">\n",
              "  <thead>\n",
              "    <tr style=\"text-align: right;\">\n",
              "      <th></th>\n",
              "      <th>a</th>\n",
              "      <th>b</th>\n",
              "      <th>c</th>\n",
              "    </tr>\n",
              "  </thead>\n",
              "  <tbody>\n",
              "    <tr>\n",
              "      <th>0</th>\n",
              "      <td>5</td>\n",
              "      <td>8</td>\n",
              "      <td>0</td>\n",
              "    </tr>\n",
              "    <tr>\n",
              "      <th>1</th>\n",
              "      <td>3</td>\n",
              "      <td>3</td>\n",
              "      <td>2</td>\n",
              "    </tr>\n",
              "    <tr>\n",
              "      <th>2</th>\n",
              "      <td>1</td>\n",
              "      <td>6</td>\n",
              "      <td>7</td>\n",
              "    </tr>\n",
              "    <tr>\n",
              "      <th>3</th>\n",
              "      <td>7</td>\n",
              "      <td>3</td>\n",
              "      <td>9</td>\n",
              "    </tr>\n",
              "    <tr>\n",
              "      <th>4</th>\n",
              "      <td>6</td>\n",
              "      <td>6</td>\n",
              "      <td>7</td>\n",
              "    </tr>\n",
              "  </tbody>\n",
              "</table>\n",
              "</div>"
            ],
            "text/plain": [
              "   a  b  c\n",
              "0  5  8  0\n",
              "1  3  3  2\n",
              "2  1  6  7\n",
              "3  7  3  9\n",
              "4  6  6  7"
            ]
          },
          "execution_count": 10,
          "metadata": {},
          "output_type": "execute_result"
        }
      ],
      "source": [
        "import pandas as pd\n",
        "df = pd.DataFrame(np.random.randint(10, size=(5, 3)),\n",
        "                                    columns=['a', 'b', 'c'])\n",
        "df"
      ]
    },
    {
      "cell_type": "code",
      "execution_count": null,
      "metadata": {
        "id": "8YHuqT9_MJbH",
        "outputId": "c0b77df7-9c7f-465f-af11-0a605536998c"
      },
      "outputs": [
        {
          "data": {
            "text/plain": [
              "array([[1. , 2. , 3.3],\n",
              "       [4. , 5. , 6.5]])"
            ]
          },
          "execution_count": 11,
          "metadata": {},
          "output_type": "execute_result"
        }
      ],
      "source": [
        "a2"
      ]
    },
    {
      "cell_type": "code",
      "execution_count": null,
      "metadata": {
        "id": "cVy0gwzjMJbH",
        "outputId": "d54bf42d-fa5b-4a38-db3c-1fbefefe986a"
      },
      "outputs": [
        {
          "data": {
            "text/html": [
              "<div>\n",
              "<style scoped>\n",
              "    .dataframe tbody tr th:only-of-type {\n",
              "        vertical-align: middle;\n",
              "    }\n",
              "\n",
              "    .dataframe tbody tr th {\n",
              "        vertical-align: top;\n",
              "    }\n",
              "\n",
              "    .dataframe thead th {\n",
              "        text-align: right;\n",
              "    }\n",
              "</style>\n",
              "<table border=\"1\" class=\"dataframe\">\n",
              "  <thead>\n",
              "    <tr style=\"text-align: right;\">\n",
              "      <th></th>\n",
              "      <th>0</th>\n",
              "      <th>1</th>\n",
              "      <th>2</th>\n",
              "    </tr>\n",
              "  </thead>\n",
              "  <tbody>\n",
              "    <tr>\n",
              "      <th>0</th>\n",
              "      <td>1.0</td>\n",
              "      <td>2.0</td>\n",
              "      <td>3.3</td>\n",
              "    </tr>\n",
              "    <tr>\n",
              "      <th>1</th>\n",
              "      <td>4.0</td>\n",
              "      <td>5.0</td>\n",
              "      <td>6.5</td>\n",
              "    </tr>\n",
              "  </tbody>\n",
              "</table>\n",
              "</div>"
            ],
            "text/plain": [
              "     0    1    2\n",
              "0  1.0  2.0  3.3\n",
              "1  4.0  5.0  6.5"
            ]
          },
          "execution_count": 12,
          "metadata": {},
          "output_type": "execute_result"
        }
      ],
      "source": [
        "df2 = pd.DataFrame(a2)\n",
        "df2"
      ]
    },
    {
      "cell_type": "markdown",
      "source": [
        "## 2. Creating arrays"
      ],
      "metadata": {
        "id": "EqDCV3sTtSgN"
      }
    },
    {
      "cell_type": "markdown",
      "metadata": {
        "id": "OH94FvR_MJbH"
      },
      "source": [
        "* `np.array()`\n",
        "* `np.ones()`\n",
        "* `np.zeros()`\n",
        "* `np.random.rand(5, 3)`\n",
        "* `np.random.randint(10, size=5)`\n",
        "* `np.random.seed()` - pseudo random numbers\n",
        "* Searching the documentation example (finding `np.unique()` and using it)"
      ]
    },
    {
      "cell_type": "code",
      "execution_count": null,
      "metadata": {
        "id": "ZzJTJzy6MJbH",
        "outputId": "00a662c3-e833-4bf7-ea5f-29f9a8a80c41"
      },
      "outputs": [
        {
          "data": {
            "text/plain": [
              "array([1, 2, 3])"
            ]
          },
          "execution_count": 13,
          "metadata": {},
          "output_type": "execute_result"
        }
      ],
      "source": [
        "# Create a simple array\n",
        "simple_array = np.array([1, 2, 3])\n",
        "simple_array"
      ]
    },
    {
      "cell_type": "code",
      "execution_count": null,
      "metadata": {
        "id": "V7R1DuWhMJbH",
        "outputId": "4cc97191-7253-4b1f-e369-6f63f9b6de5c"
      },
      "outputs": [
        {
          "data": {
            "text/plain": [
              "(array([1, 2, 3]), dtype('int64'))"
            ]
          },
          "execution_count": 14,
          "metadata": {},
          "output_type": "execute_result"
        }
      ],
      "source": [
        "simple_array = np.array((1, 2, 3))\n",
        "simple_array, simple_array.dtype"
      ]
    },
    {
      "cell_type": "code",
      "execution_count": null,
      "metadata": {
        "id": "OnEA4kaoMJbI",
        "outputId": "338e4be5-f9d5-4d6d-91c9-07cef4e30113"
      },
      "outputs": [
        {
          "data": {
            "text/plain": [
              "array([[1., 1.],\n",
              "       [1., 1.],\n",
              "       [1., 1.],\n",
              "       [1., 1.],\n",
              "       [1., 1.],\n",
              "       [1., 1.],\n",
              "       [1., 1.],\n",
              "       [1., 1.],\n",
              "       [1., 1.],\n",
              "       [1., 1.]])"
            ]
          },
          "execution_count": 15,
          "metadata": {},
          "output_type": "execute_result"
        }
      ],
      "source": [
        "# Create an array of ones\n",
        "ones = np.ones((10, 2))\n",
        "ones"
      ]
    },
    {
      "cell_type": "code",
      "execution_count": null,
      "metadata": {
        "id": "puUY4j3FMJbI",
        "outputId": "387b66df-3093-45cd-ca10-71e5d1140139"
      },
      "outputs": [
        {
          "data": {
            "text/plain": [
              "dtype('float64')"
            ]
          },
          "execution_count": 16,
          "metadata": {},
          "output_type": "execute_result"
        }
      ],
      "source": [
        "# The default datatype is 'float64'\n",
        "ones.dtype"
      ]
    },
    {
      "cell_type": "code",
      "execution_count": null,
      "metadata": {
        "id": "77NkWYacMJbI",
        "outputId": "d2145018-e2c0-4085-ebea-3b8dcbc42f81"
      },
      "outputs": [
        {
          "data": {
            "text/plain": [
              "array([[1, 1],\n",
              "       [1, 1],\n",
              "       [1, 1],\n",
              "       [1, 1],\n",
              "       [1, 1],\n",
              "       [1, 1],\n",
              "       [1, 1],\n",
              "       [1, 1],\n",
              "       [1, 1],\n",
              "       [1, 1]])"
            ]
          },
          "execution_count": 17,
          "metadata": {},
          "output_type": "execute_result"
        }
      ],
      "source": [
        "# You can change the datatype with .astype()\n",
        "ones.astype(int)"
      ]
    },
    {
      "cell_type": "code",
      "execution_count": null,
      "metadata": {
        "id": "_f6183LdMJbI",
        "outputId": "28474b6a-f2ac-4e1c-d87e-99ff7f9a3aca"
      },
      "outputs": [
        {
          "data": {
            "text/plain": [
              "array([[[0., 0., 0.],\n",
              "        [0., 0., 0.],\n",
              "        [0., 0., 0.]],\n",
              "\n",
              "       [[0., 0., 0.],\n",
              "        [0., 0., 0.],\n",
              "        [0., 0., 0.]],\n",
              "\n",
              "       [[0., 0., 0.],\n",
              "        [0., 0., 0.],\n",
              "        [0., 0., 0.]],\n",
              "\n",
              "       [[0., 0., 0.],\n",
              "        [0., 0., 0.],\n",
              "        [0., 0., 0.]],\n",
              "\n",
              "       [[0., 0., 0.],\n",
              "        [0., 0., 0.],\n",
              "        [0., 0., 0.]]])"
            ]
          },
          "execution_count": 18,
          "metadata": {},
          "output_type": "execute_result"
        }
      ],
      "source": [
        "# Create an array of zeros\n",
        "zeros = np.zeros((5, 3, 3))\n",
        "zeros"
      ]
    },
    {
      "cell_type": "code",
      "execution_count": null,
      "metadata": {
        "id": "DN83QkTBMJbI",
        "outputId": "4907bdb4-12b4-48cf-e9bb-b635160bda17"
      },
      "outputs": [
        {
          "data": {
            "text/plain": [
              "dtype('float64')"
            ]
          },
          "execution_count": 19,
          "metadata": {},
          "output_type": "execute_result"
        }
      ],
      "source": [
        "zeros.dtype"
      ]
    },
    {
      "cell_type": "code",
      "execution_count": null,
      "metadata": {
        "id": "5t3k63kNMJbI",
        "outputId": "fad2a9f2-69e4-44c3-9fff-e9f7d5c1a17f"
      },
      "outputs": [
        {
          "data": {
            "text/plain": [
              "array([0, 2, 4, 6, 8])"
            ]
          },
          "execution_count": 20,
          "metadata": {},
          "output_type": "execute_result"
        }
      ],
      "source": [
        "# Create an array within a range of values\n",
        "range_array = np.arange(0, 10, 2)\n",
        "range_array"
      ]
    },
    {
      "cell_type": "code",
      "execution_count": null,
      "metadata": {
        "id": "6OE3pzGuMJbI",
        "outputId": "7ae77e5d-b2dc-4c6d-ca88-73c1d809a8bd"
      },
      "outputs": [
        {
          "data": {
            "text/plain": [
              "array([[8, 7, 6],\n",
              "       [4, 2, 7],\n",
              "       [6, 0, 6],\n",
              "       [0, 8, 5],\n",
              "       [6, 2, 9]])"
            ]
          },
          "execution_count": 21,
          "metadata": {},
          "output_type": "execute_result"
        }
      ],
      "source": [
        "# Random array\n",
        "random_array = np.random.randint(10, size=(5, 3))\n",
        "random_array"
      ]
    },
    {
      "cell_type": "code",
      "execution_count": null,
      "metadata": {
        "id": "v68S4c6lMJbI",
        "outputId": "59c13ab7-4dd6-47cf-863e-0bcb5b689f6e"
      },
      "outputs": [
        {
          "data": {
            "text/plain": [
              "array([[0.47811645, 0.49437395, 0.09426995],\n",
              "       [0.80062461, 0.41609157, 0.45268566],\n",
              "       [0.24531914, 0.56982162, 0.36856519],\n",
              "       [0.32292926, 0.03760924, 0.13312765],\n",
              "       [0.66844485, 0.88781517, 0.21807957]])"
            ]
          },
          "execution_count": 22,
          "metadata": {},
          "output_type": "execute_result"
        }
      ],
      "source": [
        "# Random array of floats (between 0 & 1)\n",
        "np.random.random((5, 3))"
      ]
    },
    {
      "cell_type": "code",
      "execution_count": null,
      "metadata": {
        "id": "i-4x3zniMJbJ",
        "outputId": "441c6e6e-50d8-4bc7-bbc9-575e7d48b035"
      },
      "outputs": [
        {
          "data": {
            "text/plain": [
              "array([[0.96868201, 0.87777028, 0.21900062],\n",
              "       [0.88225041, 0.73815918, 0.83321165],\n",
              "       [0.14038979, 0.79643185, 0.2741666 ],\n",
              "       [0.48166491, 0.74364069, 0.75385132],\n",
              "       [0.58920305, 0.43270563, 0.42922598]])"
            ]
          },
          "execution_count": 23,
          "metadata": {},
          "output_type": "execute_result"
        }
      ],
      "source": [
        "np.random.random((5, 3))"
      ]
    },
    {
      "cell_type": "code",
      "execution_count": null,
      "metadata": {
        "id": "_0YN-GI-MJbJ",
        "outputId": "c0c08ffd-fa8d-47e3-be3c-2080309f31d0"
      },
      "outputs": [
        {
          "data": {
            "text/plain": [
              "array([[0.90225603, 0.76253433, 0.84856067],\n",
              "       [0.8961939 , 0.37019149, 0.00568981],\n",
              "       [0.78797133, 0.07953581, 0.99870521],\n",
              "       [0.07481087, 0.74846133, 0.0788899 ],\n",
              "       [0.40156115, 0.80716411, 0.37204142]])"
            ]
          },
          "execution_count": 24,
          "metadata": {},
          "output_type": "execute_result"
        }
      ],
      "source": [
        "# Random 5x3 array of floats (between 0 & 1), similar to above\n",
        "np.random.rand(5, 3)"
      ]
    },
    {
      "cell_type": "code",
      "execution_count": null,
      "metadata": {
        "id": "ytXqCC9BMJbJ",
        "outputId": "8ccaaf5b-138e-482e-b2f8-43a0daa27f80"
      },
      "outputs": [
        {
          "data": {
            "text/plain": [
              "array([[0.80767414, 0.62863218, 0.32492877],\n",
              "       [0.71402148, 0.06601142, 0.16626604],\n",
              "       [0.81986587, 0.75875945, 0.73266779],\n",
              "       [0.4233863 , 0.52077358, 0.21571921],\n",
              "       [0.75862881, 0.65817717, 0.74667541]])"
            ]
          },
          "execution_count": 25,
          "metadata": {},
          "output_type": "execute_result"
        }
      ],
      "source": [
        "np.random.rand(5, 3)"
      ]
    },
    {
      "cell_type": "markdown",
      "metadata": {
        "id": "ktR8eQx1MJbJ"
      },
      "source": [
        "NumPy uses pseudo-random numbers, which means, the numbers look random but aren't really, they're predetermined.\n",
        "\n",
        "For consistency, you might want to keep the random numbers you generate similar throughout experiments.\n",
        "\n",
        "To do this, you can use [`np.random.seed()`](https://docs.scipy.org/doc/numpy-1.15.0/reference/generated/numpy.random.seed.html).\n",
        "\n",
        "What this does is it tells NumPy, \"Hey, I want you to create random numbers but keep them aligned with the seed.\"\n",
        "\n",
        "Let's see it."
      ]
    },
    {
      "cell_type": "code",
      "execution_count": null,
      "metadata": {
        "id": "FWzSjPQtMJbJ",
        "outputId": "95e1d3ac-25c4-4239-a4e1-8da1e7f75306"
      },
      "outputs": [
        {
          "data": {
            "text/plain": [
              "array([[5, 0, 3],\n",
              "       [3, 7, 9],\n",
              "       [3, 5, 2],\n",
              "       [4, 7, 6],\n",
              "       [8, 8, 1]])"
            ]
          },
          "execution_count": 26,
          "metadata": {},
          "output_type": "execute_result"
        }
      ],
      "source": [
        "# Set random seed to 0\n",
        "np.random.seed(0)\n",
        "\n",
        "# Make 'random' numbers\n",
        "np.random.randint(10, size=(5, 3))"
      ]
    },
    {
      "cell_type": "markdown",
      "metadata": {
        "id": "lI1cz2oLMJbJ"
      },
      "source": [
        "With `np.random.seed()` set, every time you run the cell above, the same random numbers will be generated.\n",
        "\n",
        "What if `np.random.seed()` wasn't set?\n",
        "\n",
        "Every time you run the cell below, a new set of numbers will appear."
      ]
    },
    {
      "cell_type": "code",
      "execution_count": null,
      "metadata": {
        "id": "2LOa1RLeMJbJ",
        "outputId": "ba0a709b-9b32-4bd7-fb88-f06fee14e3ff"
      },
      "outputs": [
        {
          "data": {
            "text/plain": [
              "array([[6, 7, 7],\n",
              "       [8, 1, 5],\n",
              "       [9, 8, 9],\n",
              "       [4, 3, 0],\n",
              "       [3, 5, 0]])"
            ]
          },
          "execution_count": 27,
          "metadata": {},
          "output_type": "execute_result"
        }
      ],
      "source": [
        "# Make more random numbers\n",
        "np.random.randint(10, size=(5, 3))"
      ]
    },
    {
      "cell_type": "markdown",
      "metadata": {
        "id": "C-eiGNrhMJbN"
      },
      "source": [
        "Let's see it in action again, we'll stay consistent and set the random seed to 0."
      ]
    },
    {
      "cell_type": "code",
      "execution_count": null,
      "metadata": {
        "id": "-MhXj1-bMJbN",
        "outputId": "2371bfa4-e75d-4639-8297-69c46737622f"
      },
      "outputs": [
        {
          "data": {
            "text/plain": [
              "array([[5, 0, 3],\n",
              "       [3, 7, 9],\n",
              "       [3, 5, 2],\n",
              "       [4, 7, 6],\n",
              "       [8, 8, 1]])"
            ]
          },
          "execution_count": 28,
          "metadata": {},
          "output_type": "execute_result"
        }
      ],
      "source": [
        "# Set random seed to same number as above\n",
        "np.random.seed(0)\n",
        "\n",
        "# The same random numbers come out\n",
        "np.random.randint(10, size=(5, 3))"
      ]
    },
    {
      "cell_type": "markdown",
      "metadata": {
        "id": "-KmitGGPMJbN"
      },
      "source": [
        "Because `np.random.seed()` is set to 0, the random numbers are the same as the cell with `np.random.seed()` set to 0 as well.\n",
        "\n",
        "Setting `np.random.seed()` is not 100% necessary but it's helpful to keep numbers the same throughout your experiments.\n",
        "\n",
        "For example, say you wanted to split your data randomly into training and test sets.\n",
        "\n",
        "Every time you randomly split, you might get different rows in each set.\n",
        "\n",
        "If you shared your work with someone else, they'd get different rows in each set too.\n",
        "\n",
        "Setting `np.random.seed()` ensures there's still randomness, it just makes the randomness repeatable. Hence the 'pseudo-random' numbers."
      ]
    },
    {
      "cell_type": "code",
      "execution_count": null,
      "metadata": {
        "id": "Tk58ys_RMJbO",
        "outputId": "d63cf60d-6355-4253-f950-41765b658dd0"
      },
      "outputs": [
        {
          "data": {
            "text/html": [
              "<div>\n",
              "<style scoped>\n",
              "    .dataframe tbody tr th:only-of-type {\n",
              "        vertical-align: middle;\n",
              "    }\n",
              "\n",
              "    .dataframe tbody tr th {\n",
              "        vertical-align: top;\n",
              "    }\n",
              "\n",
              "    .dataframe thead th {\n",
              "        text-align: right;\n",
              "    }\n",
              "</style>\n",
              "<table border=\"1\" class=\"dataframe\">\n",
              "  <thead>\n",
              "    <tr style=\"text-align: right;\">\n",
              "      <th></th>\n",
              "      <th>0</th>\n",
              "      <th>1</th>\n",
              "      <th>2</th>\n",
              "    </tr>\n",
              "  </thead>\n",
              "  <tbody>\n",
              "    <tr>\n",
              "      <th>0</th>\n",
              "      <td>5</td>\n",
              "      <td>0</td>\n",
              "      <td>3</td>\n",
              "    </tr>\n",
              "    <tr>\n",
              "      <th>1</th>\n",
              "      <td>3</td>\n",
              "      <td>7</td>\n",
              "      <td>9</td>\n",
              "    </tr>\n",
              "    <tr>\n",
              "      <th>2</th>\n",
              "      <td>3</td>\n",
              "      <td>5</td>\n",
              "      <td>2</td>\n",
              "    </tr>\n",
              "    <tr>\n",
              "      <th>3</th>\n",
              "      <td>4</td>\n",
              "      <td>7</td>\n",
              "      <td>6</td>\n",
              "    </tr>\n",
              "    <tr>\n",
              "      <th>4</th>\n",
              "      <td>8</td>\n",
              "      <td>8</td>\n",
              "      <td>1</td>\n",
              "    </tr>\n",
              "  </tbody>\n",
              "</table>\n",
              "</div>"
            ],
            "text/plain": [
              "   0  1  2\n",
              "0  5  0  3\n",
              "1  3  7  9\n",
              "2  3  5  2\n",
              "3  4  7  6\n",
              "4  8  8  1"
            ]
          },
          "execution_count": 29,
          "metadata": {},
          "output_type": "execute_result"
        }
      ],
      "source": [
        "np.random.seed(0)\n",
        "df = pd.DataFrame(np.random.randint(10, size=(5, 3)))\n",
        "df"
      ]
    },
    {
      "cell_type": "markdown",
      "source": [
        "### What unique values are in the array a3?"
      ],
      "metadata": {
        "id": "4WQw9LPFtYCR"
      }
    },
    {
      "cell_type": "markdown",
      "metadata": {
        "id": "5X_ulD0yMJbO"
      },
      "source": [
        "Now you've seen a few different ways to create arrays, as an exercise, try find out what NumPy function you could use to find the unique values are within the `a3` array.\n",
        "\n",
        "You might want to search some like, \"how to find the unqiue values in a numpy array\"."
      ]
    },
    {
      "cell_type": "code",
      "execution_count": null,
      "metadata": {
        "id": "_LivX1-NMJbO"
      },
      "outputs": [],
      "source": [
        "# Your code here"
      ]
    },
    {
      "cell_type": "markdown",
      "source": [
        "## 3. Viewing arrays and matrices (indexing)"
      ],
      "metadata": {
        "id": "7xK10in0taZG"
      }
    },
    {
      "cell_type": "markdown",
      "metadata": {
        "id": "7NHVtiL_MJbO"
      },
      "source": [
        "Remember, because arrays and matrices are both `ndarray`'s, they can be viewed in similar ways.\n",
        "\n",
        "Let's check out our 3 arrays again."
      ]
    },
    {
      "cell_type": "code",
      "execution_count": null,
      "metadata": {
        "id": "EcRg9lXbMJbO",
        "outputId": "46f4c9d1-3612-431e-845b-750cb1971b4d"
      },
      "outputs": [
        {
          "data": {
            "text/plain": [
              "array([1, 2, 3])"
            ]
          },
          "execution_count": 31,
          "metadata": {},
          "output_type": "execute_result"
        }
      ],
      "source": [
        "a1"
      ]
    },
    {
      "cell_type": "code",
      "execution_count": null,
      "metadata": {
        "id": "DKXS3vdwMJbO",
        "outputId": "ba56ab76-001f-4c58-caa9-50c22595d030"
      },
      "outputs": [
        {
          "data": {
            "text/plain": [
              "array([[1. , 2. , 3.3],\n",
              "       [4. , 5. , 6.5]])"
            ]
          },
          "execution_count": 32,
          "metadata": {},
          "output_type": "execute_result"
        }
      ],
      "source": [
        "a2"
      ]
    },
    {
      "cell_type": "code",
      "execution_count": null,
      "metadata": {
        "id": "WLM4wkhSMJbO",
        "outputId": "2c683e79-e11b-4a89-f4a7-7227d7734a12"
      },
      "outputs": [
        {
          "data": {
            "text/plain": [
              "array([[[ 1,  2,  3],\n",
              "        [ 4,  5,  6],\n",
              "        [ 7,  8,  9]],\n",
              "\n",
              "       [[10, 11, 12],\n",
              "        [13, 14, 15],\n",
              "        [16, 17, 18]]])"
            ]
          },
          "execution_count": 33,
          "metadata": {},
          "output_type": "execute_result"
        }
      ],
      "source": [
        "a3"
      ]
    },
    {
      "cell_type": "markdown",
      "metadata": {
        "id": "NFbOWm-_MJbO"
      },
      "source": [
        "Array shapes are always listed in the format `(row, column, n, n, n...)` where `n` is optional extra dimensions."
      ]
    },
    {
      "cell_type": "code",
      "execution_count": null,
      "metadata": {
        "id": "B7rDMOyrMJbP",
        "outputId": "797099d5-878b-4613-c87d-a7fb6ff24e1e"
      },
      "outputs": [
        {
          "data": {
            "text/plain": [
              "np.int64(1)"
            ]
          },
          "execution_count": 34,
          "metadata": {},
          "output_type": "execute_result"
        }
      ],
      "source": [
        "a1[0]"
      ]
    },
    {
      "cell_type": "code",
      "execution_count": null,
      "metadata": {
        "id": "C4BIEnFtMJbP",
        "outputId": "3cc5057a-5cd1-47c1-c9f7-0b829a057b33"
      },
      "outputs": [
        {
          "data": {
            "text/plain": [
              "array([1. , 2. , 3.3])"
            ]
          },
          "execution_count": 35,
          "metadata": {},
          "output_type": "execute_result"
        }
      ],
      "source": [
        "a2[0]"
      ]
    },
    {
      "cell_type": "code",
      "execution_count": null,
      "metadata": {
        "id": "pfHA4t9CMJbP",
        "outputId": "713e59d0-39b2-48d0-a87c-5c56b04648fc"
      },
      "outputs": [
        {
          "data": {
            "text/plain": [
              "array([[1, 2, 3],\n",
              "       [4, 5, 6],\n",
              "       [7, 8, 9]])"
            ]
          },
          "execution_count": 36,
          "metadata": {},
          "output_type": "execute_result"
        }
      ],
      "source": [
        "a3[0]"
      ]
    },
    {
      "cell_type": "code",
      "execution_count": null,
      "metadata": {
        "id": "9PW2R1_JMJbP",
        "outputId": "3d4fbdc7-38f8-40ed-dc72-5622204eb4b9"
      },
      "outputs": [
        {
          "data": {
            "text/plain": [
              "array([4. , 5. , 6.5])"
            ]
          },
          "execution_count": 37,
          "metadata": {},
          "output_type": "execute_result"
        }
      ],
      "source": [
        "# Get 2nd row (index 1) of a2\n",
        "a2[1]"
      ]
    },
    {
      "cell_type": "code",
      "execution_count": null,
      "metadata": {
        "id": "rSgOljTFMJbP",
        "outputId": "0a083af4-ea8d-4ced-dafe-3c04868fcbab"
      },
      "outputs": [
        {
          "data": {
            "text/plain": [
              "array([[[ 1,  2],\n",
              "        [ 4,  5]],\n",
              "\n",
              "       [[10, 11],\n",
              "        [13, 14]]])"
            ]
          },
          "execution_count": 38,
          "metadata": {},
          "output_type": "execute_result"
        }
      ],
      "source": [
        "# Get the first 2 values of the first 2 rows of both arrays\n",
        "a3[:2, :2, :2]"
      ]
    },
    {
      "cell_type": "markdown",
      "metadata": {
        "id": "29ADjhCuMJbP"
      },
      "source": [
        "This takes a bit of practice, especially when the dimensions get higher. Usually, it takes me a little trial and error of trying to get certain values, viewing the output in the notebook and trying again.\n",
        "\n",
        "NumPy arrays get printed from outside to inside. This means the number at the end of the shape comes first, and the number at the start of the shape comes last."
      ]
    },
    {
      "cell_type": "code",
      "execution_count": null,
      "metadata": {
        "id": "EukjQFgKMJbP",
        "outputId": "555f0fae-346e-439a-8b9c-b86faaef9663"
      },
      "outputs": [
        {
          "data": {
            "text/plain": [
              "array([[[[6, 7, 7, 8, 1],\n",
              "         [5, 9, 8, 9, 4],\n",
              "         [3, 0, 3, 5, 0],\n",
              "         [2, 3, 8, 1, 3]],\n",
              "\n",
              "        [[3, 3, 7, 0, 1],\n",
              "         [9, 9, 0, 4, 7],\n",
              "         [3, 2, 7, 2, 0],\n",
              "         [0, 4, 5, 5, 6]],\n",
              "\n",
              "        [[8, 4, 1, 4, 9],\n",
              "         [8, 1, 1, 7, 9],\n",
              "         [9, 3, 6, 7, 2],\n",
              "         [0, 3, 5, 9, 4]]],\n",
              "\n",
              "\n",
              "       [[[4, 6, 4, 4, 3],\n",
              "         [4, 4, 8, 4, 3],\n",
              "         [7, 5, 5, 0, 1],\n",
              "         [5, 9, 3, 0, 5]],\n",
              "\n",
              "        [[0, 1, 2, 4, 2],\n",
              "         [0, 3, 2, 0, 7],\n",
              "         [5, 9, 0, 2, 7],\n",
              "         [2, 9, 2, 3, 3]],\n",
              "\n",
              "        [[2, 3, 4, 1, 2],\n",
              "         [9, 1, 4, 6, 8],\n",
              "         [2, 3, 0, 0, 6],\n",
              "         [0, 6, 3, 3, 8]]]])"
            ]
          },
          "execution_count": 39,
          "metadata": {},
          "output_type": "execute_result"
        }
      ],
      "source": [
        "a4 = np.random.randint(10, size=(2, 3, 4, 5))\n",
        "a4"
      ]
    },
    {
      "cell_type": "code",
      "execution_count": null,
      "metadata": {
        "id": "GqeKpviqMJbQ",
        "outputId": "30fd862b-9e1c-42c1-b5d9-5c827324abfe"
      },
      "outputs": [
        {
          "data": {
            "text/plain": [
              "(2, 3, 4, 5)"
            ]
          },
          "execution_count": 40,
          "metadata": {},
          "output_type": "execute_result"
        }
      ],
      "source": [
        "a4.shape"
      ]
    },
    {
      "cell_type": "code",
      "execution_count": null,
      "metadata": {
        "id": "iNqONv7GMJbQ",
        "outputId": "28e2bc27-2111-458d-db8b-f183d8369f29"
      },
      "outputs": [
        {
          "data": {
            "text/plain": [
              "array([[[[6, 7, 7, 8],\n",
              "         [5, 9, 8, 9],\n",
              "         [3, 0, 3, 5],\n",
              "         [2, 3, 8, 1]],\n",
              "\n",
              "        [[3, 3, 7, 0],\n",
              "         [9, 9, 0, 4],\n",
              "         [3, 2, 7, 2],\n",
              "         [0, 4, 5, 5]],\n",
              "\n",
              "        [[8, 4, 1, 4],\n",
              "         [8, 1, 1, 7],\n",
              "         [9, 3, 6, 7],\n",
              "         [0, 3, 5, 9]]],\n",
              "\n",
              "\n",
              "       [[[4, 6, 4, 4],\n",
              "         [4, 4, 8, 4],\n",
              "         [7, 5, 5, 0],\n",
              "         [5, 9, 3, 0]],\n",
              "\n",
              "        [[0, 1, 2, 4],\n",
              "         [0, 3, 2, 0],\n",
              "         [5, 9, 0, 2],\n",
              "         [2, 9, 2, 3]],\n",
              "\n",
              "        [[2, 3, 4, 1],\n",
              "         [9, 1, 4, 6],\n",
              "         [2, 3, 0, 0],\n",
              "         [0, 6, 3, 3]]]])"
            ]
          },
          "execution_count": 41,
          "metadata": {},
          "output_type": "execute_result"
        }
      ],
      "source": [
        "# Get only the first 4 numbers of each single vector\n",
        "a4[:, :, :, :4]"
      ]
    },
    {
      "cell_type": "markdown",
      "metadata": {
        "id": "YmuWYKKZMJbQ"
      },
      "source": [
        "`a4`'s shape is (2, 3, 4, 5), this means it gets displayed like so:\n",
        "* Inner most array = size 5\n",
        "* Next array = size 4\n",
        "* Next array = size 3\n",
        "* Outer most array = size 2"
      ]
    },
    {
      "cell_type": "markdown",
      "source": [
        "## 4. Manipulating and comparing arrays"
      ],
      "metadata": {
        "id": "0M2QUfXwteQr"
      }
    },
    {
      "cell_type": "markdown",
      "metadata": {
        "id": "jzozlI_PMJbQ"
      },
      "source": [
        "* Arithmetic\n",
        "    * `+`, `-`, `*`, `/`, `//`, `**`, `%`\n",
        "    * `np.exp()`\n",
        "    * `np.log()`\n",
        "    * [Dot product](https://www.mathsisfun.com/algebra/matrix-multiplying.html) - `np.dot()`\n",
        "    * Broadcasting\n",
        "* Aggregation\n",
        "    * `np.sum()` - faster than Python's `.sum()` for NumPy arrays\n",
        "    * `np.mean()`\n",
        "    * `np.std()`\n",
        "    * `np.var()`\n",
        "    * `np.min()`\n",
        "    * `np.max()`\n",
        "    * `np.argmin()` - find index of minimum value\n",
        "    * `np.argmax()` - find index of maximum value\n",
        "    * These work on all `ndarray`'s\n",
        "        * `a4.min(axis=0)` -- you can use axis as well\n",
        "* Reshaping\n",
        "    * `np.reshape()`\n",
        "* Transposing\n",
        "    * `a3.T`\n",
        "* Comparison operators\n",
        "    * `>`\n",
        "    * `<`\n",
        "    * `<=`\n",
        "    * `>=`\n",
        "    * `x != 3`\n",
        "    * `x == 3`\n",
        "    * `np.sum(x > 3)`"
      ]
    },
    {
      "cell_type": "markdown",
      "source": [
        "### Arithmetic"
      ],
      "metadata": {
        "id": "BIWKYn1jtgl-"
      }
    },
    {
      "cell_type": "code",
      "execution_count": null,
      "metadata": {
        "id": "0T0-EyFJMJbQ",
        "outputId": "f08a2049-8f2a-4c35-ec56-473af59307b0"
      },
      "outputs": [
        {
          "data": {
            "text/plain": [
              "array([1, 2, 3])"
            ]
          },
          "execution_count": 42,
          "metadata": {},
          "output_type": "execute_result"
        }
      ],
      "source": [
        "a1"
      ]
    },
    {
      "cell_type": "code",
      "execution_count": null,
      "metadata": {
        "id": "VSsYPcbZMJbQ",
        "outputId": "55bbef49-8d01-4ef3-e7fb-6ae2aceda7ac"
      },
      "outputs": [
        {
          "data": {
            "text/plain": [
              "array([1., 1., 1.])"
            ]
          },
          "execution_count": 43,
          "metadata": {},
          "output_type": "execute_result"
        }
      ],
      "source": [
        "ones = np.ones(3)\n",
        "ones"
      ]
    },
    {
      "cell_type": "code",
      "execution_count": null,
      "metadata": {
        "id": "wQpYhZwxMJbQ",
        "outputId": "88bb6663-e512-4f78-b49a-595c1d50e5ed"
      },
      "outputs": [
        {
          "data": {
            "text/plain": [
              "array([2., 3., 4.])"
            ]
          },
          "execution_count": 44,
          "metadata": {},
          "output_type": "execute_result"
        }
      ],
      "source": [
        "# Add two arrays\n",
        "a1 + ones"
      ]
    },
    {
      "cell_type": "code",
      "execution_count": null,
      "metadata": {
        "id": "E7plc06PMJbR",
        "outputId": "b21527e5-99f2-4dbf-b700-ba19f5e92b77"
      },
      "outputs": [
        {
          "data": {
            "text/plain": [
              "array([0., 1., 2.])"
            ]
          },
          "execution_count": 45,
          "metadata": {},
          "output_type": "execute_result"
        }
      ],
      "source": [
        "# Subtract two arrays\n",
        "a1 - ones"
      ]
    },
    {
      "cell_type": "code",
      "execution_count": null,
      "metadata": {
        "id": "8GHXkdzlMJbR",
        "outputId": "279277c5-feaf-4e50-ecd9-20a81c68032b"
      },
      "outputs": [
        {
          "data": {
            "text/plain": [
              "array([1., 2., 3.])"
            ]
          },
          "execution_count": 46,
          "metadata": {},
          "output_type": "execute_result"
        }
      ],
      "source": [
        "# Multiply two arrays\n",
        "a1 * ones"
      ]
    },
    {
      "cell_type": "code",
      "execution_count": null,
      "metadata": {
        "id": "Wb-OIpNaMJbR",
        "outputId": "d8fcb200-5d81-4925-ba0c-9be29ae975bf"
      },
      "outputs": [
        {
          "data": {
            "text/plain": [
              "array([[ 1. ,  4. ,  9.9],\n",
              "       [ 4. , 10. , 19.5]])"
            ]
          },
          "execution_count": 47,
          "metadata": {},
          "output_type": "execute_result"
        }
      ],
      "source": [
        "# Multiply two arrays\n",
        "a1 * a2"
      ]
    },
    {
      "cell_type": "code",
      "execution_count": null,
      "metadata": {
        "id": "0XAZfuu5MJbR",
        "outputId": "55a7294a-da33-42ad-ca53-be48f2d20314"
      },
      "outputs": [
        {
          "data": {
            "text/plain": [
              "((3,), (2, 3))"
            ]
          },
          "execution_count": 48,
          "metadata": {},
          "output_type": "execute_result"
        }
      ],
      "source": [
        "a1.shape, a2.shape"
      ]
    },
    {
      "cell_type": "code",
      "execution_count": null,
      "metadata": {
        "id": "cNSJ_VXhMJbR",
        "outputId": "ff2f39bb-d0fd-4714-9486-8109fde69531"
      },
      "outputs": [
        {
          "ename": "ValueError",
          "evalue": "operands could not be broadcast together with shapes (2,3) (2,3,3) ",
          "output_type": "error",
          "traceback": [
            "\u001b[0;31m---------------------------------------------------------------------------\u001b[0m",
            "\u001b[0;31mValueError\u001b[0m                                Traceback (most recent call last)",
            "Cell \u001b[0;32mIn[49], line 2\u001b[0m\n\u001b[1;32m      1\u001b[0m \u001b[38;5;66;03m# This will error as the arrays have a different number of dimensions (2, 3) vs. (2, 3, 3) \u001b[39;00m\n\u001b[0;32m----> 2\u001b[0m \u001b[43ma2\u001b[49m\u001b[43m \u001b[49m\u001b[38;5;241;43m*\u001b[39;49m\u001b[43m \u001b[49m\u001b[43ma3\u001b[49m\n",
            "\u001b[0;31mValueError\u001b[0m: operands could not be broadcast together with shapes (2,3) (2,3,3) "
          ]
        }
      ],
      "source": [
        "# This will error as the arrays have a different number of dimensions (2, 3) vs. (2, 3, 3)\n",
        "a2 * a3"
      ]
    },
    {
      "cell_type": "code",
      "execution_count": null,
      "metadata": {
        "id": "oTKNVc5cMJbR",
        "outputId": "85a8d8af-58c1-41cf-ab8f-9833defceb03"
      },
      "outputs": [
        {
          "data": {
            "text/plain": [
              "array([[[ 1,  2,  3],\n",
              "        [ 4,  5,  6],\n",
              "        [ 7,  8,  9]],\n",
              "\n",
              "       [[10, 11, 12],\n",
              "        [13, 14, 15],\n",
              "        [16, 17, 18]]])"
            ]
          },
          "execution_count": 50,
          "metadata": {},
          "output_type": "execute_result"
        }
      ],
      "source": [
        "a3"
      ]
    },
    {
      "cell_type": "markdown",
      "source": [
        "### Broadcasting"
      ],
      "metadata": {
        "id": "wcZU4q30tkH-"
      }
    },
    {
      "cell_type": "markdown",
      "metadata": {
        "id": "TWct6JulMJbR"
      },
      "source": [
        "- What is broadcasting?\n",
        "    - Broadcasting is a feature of NumPy which performs an operation across multiple dimensions of data without replicating the data. This saves time and space. For example, if you have a 3x3 array (A) and want to add a 1x3 array (B), NumPy will add the row of (B) to every row of (A).\n",
        "\n",
        "- Rules of Broadcasting\n",
        "    1. If the two arrays differ in their number of dimensions, the shape of the one with fewer dimensions is padded with ones on its leading (left) side.\n",
        "    2. If the shape of the two arrays does not match in any dimension, the array with shape equal to 1 in that dimension is stretched to match the other shape.\n",
        "    3. If in any dimension the sizes disagree and neither is equal to 1, an error is raised.\n",
        "    \n",
        "    \n",
        "**The broadcasting rule:**\n",
        "In order to broadcast, the size of the trailing axes for both arrays in an operation must be either the same size or one of them must be one."
      ]
    },
    {
      "cell_type": "code",
      "execution_count": null,
      "metadata": {
        "id": "898oh6WOMJbS",
        "outputId": "394c287e-3280-46ec-8e32-5bafbece5bd4"
      },
      "outputs": [
        {
          "data": {
            "text/plain": [
              "array([1, 2, 3])"
            ]
          },
          "execution_count": 51,
          "metadata": {},
          "output_type": "execute_result"
        }
      ],
      "source": [
        "a1"
      ]
    },
    {
      "cell_type": "code",
      "execution_count": null,
      "metadata": {
        "id": "v45M3zT8MJbS",
        "outputId": "d87fa827-dcee-475c-bdb2-2cafc0c5e5da"
      },
      "outputs": [
        {
          "data": {
            "text/plain": [
              "(3,)"
            ]
          },
          "execution_count": 52,
          "metadata": {},
          "output_type": "execute_result"
        }
      ],
      "source": [
        "a1.shape"
      ]
    },
    {
      "cell_type": "code",
      "execution_count": null,
      "metadata": {
        "id": "tiV8aVtOMJbS",
        "outputId": "79a37e8f-5c9d-4d34-8b4c-23bc71927ea9"
      },
      "outputs": [
        {
          "data": {
            "text/plain": [
              "(2, 3)"
            ]
          },
          "execution_count": 53,
          "metadata": {},
          "output_type": "execute_result"
        }
      ],
      "source": [
        "a2.shape"
      ]
    },
    {
      "cell_type": "code",
      "execution_count": null,
      "metadata": {
        "id": "tcxAtjFKMJbS",
        "outputId": "0ae692c7-8522-4fc0-d72b-5c161221055b"
      },
      "outputs": [
        {
          "data": {
            "text/plain": [
              "array([[1. , 2. , 3.3],\n",
              "       [4. , 5. , 6.5]])"
            ]
          },
          "execution_count": 54,
          "metadata": {},
          "output_type": "execute_result"
        }
      ],
      "source": [
        "a2"
      ]
    },
    {
      "cell_type": "code",
      "execution_count": null,
      "metadata": {
        "id": "3XRSNb25MJbS",
        "outputId": "52d8160a-e64b-4609-aec4-4eca6dce8e83"
      },
      "outputs": [
        {
          "data": {
            "text/plain": [
              "array([[2. , 4. , 6.3],\n",
              "       [5. , 7. , 9.5]])"
            ]
          },
          "execution_count": 55,
          "metadata": {},
          "output_type": "execute_result"
        }
      ],
      "source": [
        "a1 + a2"
      ]
    },
    {
      "cell_type": "code",
      "execution_count": null,
      "metadata": {
        "id": "tCj92W8FMJbS",
        "outputId": "53d6f824-3b4c-4f1e-a4e0-9cf0e4a2d888"
      },
      "outputs": [
        {
          "data": {
            "text/plain": [
              "array([[3. , 4. , 5.3],\n",
              "       [6. , 7. , 8.5]])"
            ]
          },
          "execution_count": 56,
          "metadata": {},
          "output_type": "execute_result"
        }
      ],
      "source": [
        "a2 + 2"
      ]
    },
    {
      "cell_type": "code",
      "execution_count": null,
      "metadata": {
        "id": "3djsPMorMJbS",
        "outputId": "62fcce9a-252e-4976-a795-7a7cf10e4a02"
      },
      "outputs": [
        {
          "ename": "ValueError",
          "evalue": "operands could not be broadcast together with shapes (2,3) (2,3,3) ",
          "output_type": "error",
          "traceback": [
            "\u001b[0;31m---------------------------------------------------------------------------\u001b[0m",
            "\u001b[0;31mValueError\u001b[0m                                Traceback (most recent call last)",
            "Cell \u001b[0;32mIn[57], line 2\u001b[0m\n\u001b[1;32m      1\u001b[0m \u001b[38;5;66;03m# Raises an error because there's a shape mismatch (2, 3) vs. (2, 3, 3)\u001b[39;00m\n\u001b[0;32m----> 2\u001b[0m \u001b[43ma2\u001b[49m\u001b[43m \u001b[49m\u001b[38;5;241;43m+\u001b[39;49m\u001b[43m \u001b[49m\u001b[43ma3\u001b[49m\n",
            "\u001b[0;31mValueError\u001b[0m: operands could not be broadcast together with shapes (2,3) (2,3,3) "
          ]
        }
      ],
      "source": [
        "# Raises an error because there's a shape mismatch (2, 3) vs. (2, 3, 3)\n",
        "a2 + a3"
      ]
    },
    {
      "cell_type": "code",
      "execution_count": null,
      "metadata": {
        "id": "7zLmVRaGMJbT",
        "outputId": "e3722418-e4c5-4976-c731-2ffcc459964e"
      },
      "outputs": [
        {
          "data": {
            "text/plain": [
              "array([1., 2., 3.])"
            ]
          },
          "execution_count": 58,
          "metadata": {},
          "output_type": "execute_result"
        }
      ],
      "source": [
        "# Divide two arrays\n",
        "a1 / ones"
      ]
    },
    {
      "cell_type": "code",
      "execution_count": null,
      "metadata": {
        "id": "C1ll-FgqMJbT",
        "outputId": "eb118845-6993-4d28-a133-28e1254ea2dc"
      },
      "outputs": [
        {
          "data": {
            "text/plain": [
              "array([[1., 1., 1.],\n",
              "       [4., 2., 2.]])"
            ]
          },
          "execution_count": 59,
          "metadata": {},
          "output_type": "execute_result"
        }
      ],
      "source": [
        "# Divide using floor division\n",
        "a2 // a1"
      ]
    },
    {
      "cell_type": "code",
      "execution_count": null,
      "metadata": {
        "id": "rY8I5EeXMJbT",
        "outputId": "e236384d-b7b6-4b10-8737-a52a1dbb4d2c"
      },
      "outputs": [
        {
          "data": {
            "text/plain": [
              "array([1, 4, 9])"
            ]
          },
          "execution_count": 60,
          "metadata": {},
          "output_type": "execute_result"
        }
      ],
      "source": [
        "# Take an array to a power\n",
        "a1 ** 2"
      ]
    },
    {
      "cell_type": "code",
      "execution_count": null,
      "metadata": {
        "id": "ZewtYwPHMJbT",
        "outputId": "26a363e6-9c15-4e1e-bf66-d72bd2213567"
      },
      "outputs": [
        {
          "data": {
            "text/plain": [
              "array([1, 4, 9])"
            ]
          },
          "execution_count": 61,
          "metadata": {},
          "output_type": "execute_result"
        }
      ],
      "source": [
        "# You can also use np.square()\n",
        "np.square(a1)"
      ]
    },
    {
      "cell_type": "code",
      "execution_count": null,
      "metadata": {
        "id": "H7pEQOHmMJbT",
        "outputId": "4a09bd13-4c76-475b-9f9b-b1a9cb29751b"
      },
      "outputs": [
        {
          "data": {
            "text/plain": [
              "array([1, 0, 1])"
            ]
          },
          "execution_count": 62,
          "metadata": {},
          "output_type": "execute_result"
        }
      ],
      "source": [
        "# Modulus divide (what's the remainder)\n",
        "a1 % 2"
      ]
    },
    {
      "cell_type": "markdown",
      "metadata": {
        "id": "8M9SFBxyMJbT"
      },
      "source": [
        "You can also find the log or exponential of an array using `np.log()` and `np.exp()`."
      ]
    },
    {
      "cell_type": "code",
      "execution_count": null,
      "metadata": {
        "id": "DLw01qKGMJbT",
        "outputId": "efaae54f-71a1-4c93-f083-dc1c0f6d25bc"
      },
      "outputs": [
        {
          "data": {
            "text/plain": [
              "array([0.        , 0.69314718, 1.09861229])"
            ]
          },
          "execution_count": 63,
          "metadata": {},
          "output_type": "execute_result"
        }
      ],
      "source": [
        "# Find the log of an array\n",
        "np.log(a1)"
      ]
    },
    {
      "cell_type": "code",
      "execution_count": null,
      "metadata": {
        "id": "nn_1gQPLMJbU",
        "outputId": "2a41035b-faf4-4de7-c7dd-5c95d5b57bfd"
      },
      "outputs": [
        {
          "data": {
            "text/plain": [
              "array([ 2.71828183,  7.3890561 , 20.08553692])"
            ]
          },
          "execution_count": 64,
          "metadata": {},
          "output_type": "execute_result"
        }
      ],
      "source": [
        "# Find the exponential of an array\n",
        "np.exp(a1)"
      ]
    },
    {
      "cell_type": "markdown",
      "source": [
        "### Aggregation"
      ],
      "metadata": {
        "id": "aaUhtjDotnmj"
      }
    },
    {
      "cell_type": "markdown",
      "metadata": {
        "id": "CyPBrIDcMJbU"
      },
      "source": [
        "Aggregation - bringing things together, doing a similar thing on a number of things."
      ]
    },
    {
      "cell_type": "code",
      "execution_count": null,
      "metadata": {
        "id": "9VgclZBaMJbU",
        "outputId": "63e96f7c-ca94-407d-e1d6-6fb060f43164"
      },
      "outputs": [
        {
          "data": {
            "text/plain": [
              "np.int64(6)"
            ]
          },
          "execution_count": 65,
          "metadata": {},
          "output_type": "execute_result"
        }
      ],
      "source": [
        "sum(a1)"
      ]
    },
    {
      "cell_type": "code",
      "execution_count": null,
      "metadata": {
        "id": "t99WdAb1MJbU",
        "outputId": "4bb985c0-6d02-4fbc-9866-d4e38a99ac81"
      },
      "outputs": [
        {
          "data": {
            "text/plain": [
              "np.int64(6)"
            ]
          },
          "execution_count": 66,
          "metadata": {},
          "output_type": "execute_result"
        }
      ],
      "source": [
        "np.sum(a1)"
      ]
    },
    {
      "cell_type": "markdown",
      "metadata": {
        "id": "qb-mwDRhMJbU"
      },
      "source": [
        "**Tip:** Use NumPy's `np.sum()` on NumPy arrays and Python's `sum()` on Python `list`s."
      ]
    },
    {
      "cell_type": "code",
      "execution_count": null,
      "metadata": {
        "id": "EcUaLKBzMJbU",
        "outputId": "4d5e9718-b316-4f6b-82ae-dc0841f81eca"
      },
      "outputs": [
        {
          "data": {
            "text/plain": [
              "(100000, numpy.ndarray)"
            ]
          },
          "execution_count": 67,
          "metadata": {},
          "output_type": "execute_result"
        }
      ],
      "source": [
        "massive_array = np.random.random(100000)\n",
        "massive_array.size, type(massive_array)"
      ]
    },
    {
      "cell_type": "code",
      "execution_count": null,
      "metadata": {
        "id": "OPvy2tf3MJbU",
        "outputId": "2a9f9ea0-4dcc-4728-9e4f-20e118c519d5"
      },
      "outputs": [
        {
          "name": "stdout",
          "output_type": "stream",
          "text": [
            "3.93 ms ± 145 μs per loop (mean ± std. dev. of 7 runs, 100 loops each)\n",
            "20.5 μs ± 698 ns per loop (mean ± std. dev. of 7 runs, 10,000 loops each)\n"
          ]
        }
      ],
      "source": [
        "%timeit sum(massive_array) # Python sum()\n",
        "%timeit np.sum(massive_array) # NumPy np.sum()"
      ]
    },
    {
      "cell_type": "markdown",
      "metadata": {
        "id": "Uw1eJPVDMJbV"
      },
      "source": [
        "Notice `np.sum()` is faster on the Numpy array (`numpy.ndarray`) than Python's `sum()`.\n",
        "\n",
        "Now let's try it out on a Python list."
      ]
    },
    {
      "cell_type": "code",
      "execution_count": null,
      "metadata": {
        "id": "AWJjpblRMJbV",
        "outputId": "5062c9db-94aa-4e96-94f7-01570ec9a8cd"
      },
      "outputs": [
        {
          "data": {
            "text/plain": [
              "(100000, list)"
            ]
          },
          "execution_count": 69,
          "metadata": {},
          "output_type": "execute_result"
        }
      ],
      "source": [
        "import random\n",
        "massive_list = [random.randint(0, 10) for i in range(100000)]\n",
        "len(massive_list), type(massive_list)"
      ]
    },
    {
      "cell_type": "code",
      "execution_count": null,
      "metadata": {
        "id": "0pfQbwYvMJbV",
        "outputId": "b2fb5b35-4f9e-4acd-ae07-de2fc31a5564"
      },
      "outputs": [
        {
          "data": {
            "text/plain": [
              "[8, 9, 1, 0, 0, 6, 2, 8, 6, 3]"
            ]
          },
          "execution_count": 70,
          "metadata": {},
          "output_type": "execute_result"
        }
      ],
      "source": [
        "massive_list[:10]"
      ]
    },
    {
      "cell_type": "code",
      "execution_count": null,
      "metadata": {
        "id": "oh-kg6M-MJbV",
        "outputId": "bec30560-8b71-4d18-d04f-b957e0f1246b"
      },
      "outputs": [
        {
          "name": "stdout",
          "output_type": "stream",
          "text": [
            "419 μs ± 6.74 μs per loop (mean ± std. dev. of 7 runs, 1,000 loops each)\n",
            "2.72 ms ± 118 μs per loop (mean ± std. dev. of 7 runs, 100 loops each)\n"
          ]
        }
      ],
      "source": [
        "%timeit sum(massive_list)\n",
        "%timeit np.sum(massive_list)"
      ]
    },
    {
      "cell_type": "markdown",
      "metadata": {
        "id": "bQFI_oZ2MJbV"
      },
      "source": [
        "NumPy's `np.sum()` is still fast but Python's `sum()` is faster on Python `list`s."
      ]
    },
    {
      "cell_type": "code",
      "execution_count": null,
      "metadata": {
        "id": "kEAl6CprMJbV",
        "outputId": "5a6fb0e4-8473-4b4c-9ddf-923bdd49effd"
      },
      "outputs": [
        {
          "data": {
            "text/plain": [
              "array([[1. , 2. , 3.3],\n",
              "       [4. , 5. , 6.5]])"
            ]
          },
          "execution_count": 72,
          "metadata": {},
          "output_type": "execute_result"
        }
      ],
      "source": [
        "a2"
      ]
    },
    {
      "cell_type": "code",
      "execution_count": null,
      "metadata": {
        "id": "wQc0AWgwMJbV",
        "outputId": "d3489429-5d34-4fdf-b09d-a11ebec1758b"
      },
      "outputs": [
        {
          "data": {
            "text/plain": [
              "np.float64(3.6333333333333333)"
            ]
          },
          "execution_count": 73,
          "metadata": {},
          "output_type": "execute_result"
        }
      ],
      "source": [
        "# Find the mean\n",
        "np.mean(a2)"
      ]
    },
    {
      "cell_type": "code",
      "execution_count": null,
      "metadata": {
        "id": "UlmM3MqAMJbV",
        "outputId": "9e56c377-adbd-4cbf-d0bf-8d5184244d7f"
      },
      "outputs": [
        {
          "data": {
            "text/plain": [
              "np.float64(6.5)"
            ]
          },
          "execution_count": 74,
          "metadata": {},
          "output_type": "execute_result"
        }
      ],
      "source": [
        "# Find the max\n",
        "np.max(a2)"
      ]
    },
    {
      "cell_type": "code",
      "execution_count": null,
      "metadata": {
        "id": "FVFJXgG8MJbW",
        "outputId": "532c55c8-902e-4e48-ece3-4d8d039df9cc"
      },
      "outputs": [
        {
          "data": {
            "text/plain": [
              "np.float64(1.0)"
            ]
          },
          "execution_count": 75,
          "metadata": {},
          "output_type": "execute_result"
        }
      ],
      "source": [
        "# Find the min\n",
        "np.min(a2)"
      ]
    },
    {
      "cell_type": "code",
      "execution_count": null,
      "metadata": {
        "id": "RIXl3BWdMJbW",
        "outputId": "0ed4cf03-7124-440d-8d20-bdf1e6055588"
      },
      "outputs": [
        {
          "data": {
            "text/plain": [
              "np.float64(1.8226964152656422)"
            ]
          },
          "execution_count": 76,
          "metadata": {},
          "output_type": "execute_result"
        }
      ],
      "source": [
        "# Find the standard deviation\n",
        "np.std(a2)"
      ]
    },
    {
      "cell_type": "code",
      "execution_count": null,
      "metadata": {
        "id": "g9Ki2rL2MJbW",
        "outputId": "6479d7e4-5e0e-474d-eb13-0429116b8539"
      },
      "outputs": [
        {
          "data": {
            "text/plain": [
              "np.float64(3.3222222222222224)"
            ]
          },
          "execution_count": 77,
          "metadata": {},
          "output_type": "execute_result"
        }
      ],
      "source": [
        "# Find the variance\n",
        "np.var(a2)"
      ]
    },
    {
      "cell_type": "code",
      "execution_count": null,
      "metadata": {
        "id": "LVDMD3j0MJbW",
        "outputId": "e0b1618d-43dd-4853-b64e-ae5e5c648a6c"
      },
      "outputs": [
        {
          "data": {
            "text/plain": [
              "np.float64(1.8226964152656422)"
            ]
          },
          "execution_count": 78,
          "metadata": {},
          "output_type": "execute_result"
        }
      ],
      "source": [
        "# The standard deviation is the square root of the variance\n",
        "np.sqrt(np.var(a2))"
      ]
    },
    {
      "cell_type": "markdown",
      "metadata": {
        "id": "U5e1pJOqMJbW"
      },
      "source": [
        "**What's mean?**\n",
        "\n",
        "Mean is the same as average. You can find the average of a set of numbers by adding them up and dividing them by how many there are.\n",
        "\n",
        "**What's standard deviation?**\n",
        "\n",
        "[Standard deviation](https://www.mathsisfun.com/data/standard-deviation.html) is a measure of how spread out numbers are.\n",
        "\n",
        "**What's variance?**\n",
        "\n",
        "The [variance](https://www.mathsisfun.com/data/standard-deviation.html) is the averaged squared differences of the mean.\n",
        "\n",
        "To work it out, you:\n",
        "1. Work out the mean\n",
        "2. For each number, subtract the mean and square the result\n",
        "3. Find the average of the squared differences"
      ]
    },
    {
      "cell_type": "code",
      "execution_count": null,
      "metadata": {
        "id": "2rt3wPd7MJbW",
        "outputId": "88cca464-7746-4b3f-ca8a-4f5d0edb2371"
      },
      "outputs": [
        {
          "data": {
            "text/plain": [
              "(np.float64(4296133.472222221), np.float64(8.0))"
            ]
          },
          "execution_count": 79,
          "metadata": {},
          "output_type": "execute_result"
        }
      ],
      "source": [
        "# Demo of variance\n",
        "high_var_array = np.array([1, 100, 200, 300, 4000, 5000])\n",
        "low_var_array = np.array([2, 4, 6, 8, 10])\n",
        "\n",
        "np.var(high_var_array), np.var(low_var_array)"
      ]
    },
    {
      "cell_type": "code",
      "execution_count": null,
      "metadata": {
        "id": "XaF-zPmJMJbW",
        "outputId": "c5304518-c404-49b7-f935-5f3af752643d"
      },
      "outputs": [
        {
          "data": {
            "text/plain": [
              "(np.float64(2072.711623024829), np.float64(2.8284271247461903))"
            ]
          },
          "execution_count": 80,
          "metadata": {},
          "output_type": "execute_result"
        }
      ],
      "source": [
        "np.std(high_var_array), np.std(low_var_array)"
      ]
    },
    {
      "cell_type": "code",
      "execution_count": null,
      "metadata": {
        "id": "-GuqIrHnMJbX",
        "outputId": "7bdb4578-def6-45d2-ad6d-8421c357a057"
      },
      "outputs": [
        {
          "data": {
            "text/plain": [
              "np.float64(2072.711623024829)"
            ]
          },
          "execution_count": 81,
          "metadata": {},
          "output_type": "execute_result"
        }
      ],
      "source": [
        "# The standard deviation is the square root of the variance\n",
        "np.sqrt(np.var(high_var_array))"
      ]
    },
    {
      "cell_type": "code",
      "execution_count": null,
      "metadata": {
        "id": "cC_IUL9KMJbX",
        "outputId": "f37afdb6-5b9c-47be-b0c6-3fe6f4c4edaf"
      },
      "outputs": [
        {
          "data": {
            "image/png": "[encoded data removed]",
            "text/plain": [
              "<Figure size 640x480 with 1 Axes>"
            ]
          },
          "metadata": {},
          "output_type": "display_data"
        }
      ],
      "source": [
        "%matplotlib inline\n",
        "import matplotlib.pyplot as plt\n",
        "plt.hist(high_var_array)\n",
        "plt.show()"
      ]
    },
    {
      "cell_type": "code",
      "execution_count": null,
      "metadata": {
        "id": "i97kkgdcMJbX",
        "outputId": "6aeb1956-c783-49f0-f0e6-471d879f7a5a"
      },
      "outputs": [
        {
          "data": {
            "image/png": "[encoded data removed]",
            "text/plain": [
              "<Figure size 640x480 with 1 Axes>"
            ]
          },
          "metadata": {},
          "output_type": "display_data"
        }
      ],
      "source": [
        "plt.hist(low_var_array)\n",
        "plt.show()"
      ]
    },
    {
      "cell_type": "markdown",
      "metadata": {
        "id": "NmravnHoMJbX"
      },
      "source": [
        "### Reshaping"
      ]
    },
    {
      "cell_type": "code",
      "execution_count": null,
      "metadata": {
        "id": "Q0lBzmwJMJbX",
        "outputId": "eaae5ff2-5634-49e3-d1a6-ba276316c9cf"
      },
      "outputs": [
        {
          "data": {
            "text/plain": [
              "array([[1. , 2. , 3.3],\n",
              "       [4. , 5. , 6.5]])"
            ]
          },
          "execution_count": 84,
          "metadata": {},
          "output_type": "execute_result"
        }
      ],
      "source": [
        "a2"
      ]
    },
    {
      "cell_type": "code",
      "execution_count": null,
      "metadata": {
        "id": "ARPxhwZ4MJbX",
        "outputId": "c277edd0-dd2f-4af1-bdb1-d0872fff1721"
      },
      "outputs": [
        {
          "data": {
            "text/plain": [
              "(2, 3)"
            ]
          },
          "execution_count": 85,
          "metadata": {},
          "output_type": "execute_result"
        }
      ],
      "source": [
        "a2.shape"
      ]
    },
    {
      "cell_type": "code",
      "execution_count": null,
      "metadata": {
        "id": "14OIC3W0MJbX",
        "outputId": "92e24ed3-df10-4bb7-a16c-5184835fecc2"
      },
      "outputs": [
        {
          "ename": "ValueError",
          "evalue": "operands could not be broadcast together with shapes (2,3) (2,3,3) ",
          "output_type": "error",
          "traceback": [
            "\u001b[0;31m---------------------------------------------------------------------------\u001b[0m",
            "\u001b[0;31mValueError\u001b[0m                                Traceback (most recent call last)",
            "Cell \u001b[0;32mIn[86], line 1\u001b[0m\n\u001b[0;32m----> 1\u001b[0m \u001b[43ma2\u001b[49m\u001b[43m \u001b[49m\u001b[38;5;241;43m+\u001b[39;49m\u001b[43m \u001b[49m\u001b[43ma3\u001b[49m\n",
            "\u001b[0;31mValueError\u001b[0m: operands could not be broadcast together with shapes (2,3) (2,3,3) "
          ]
        }
      ],
      "source": [
        "a2 + a3"
      ]
    },
    {
      "cell_type": "code",
      "execution_count": null,
      "metadata": {
        "id": "KS3c6TIsMJbX"
      },
      "outputs": [],
      "source": [
        "a2.reshape(2, 3, 1)"
      ]
    },
    {
      "cell_type": "code",
      "execution_count": null,
      "metadata": {
        "id": "Ph2JSSZdMJbY",
        "outputId": "4195df0b-f74a-461a-e2f4-c1dcc983bbf8"
      },
      "outputs": [
        {
          "data": {
            "text/plain": [
              "array([[[ 2. ,  3. ,  4. ],\n",
              "        [ 6. ,  7. ,  8. ],\n",
              "        [10.3, 11.3, 12.3]],\n",
              "\n",
              "       [[14. , 15. , 16. ],\n",
              "        [18. , 19. , 20. ],\n",
              "        [22.5, 23.5, 24.5]]])"
            ]
          },
          "execution_count": 87,
          "metadata": {},
          "output_type": "execute_result"
        }
      ],
      "source": [
        "a2.reshape(2, 3, 1) + a3"
      ]
    },
    {
      "cell_type": "markdown",
      "source": [
        "### Transpose"
      ],
      "metadata": {
        "id": "KGx89dDItv9h"
      }
    },
    {
      "cell_type": "markdown",
      "metadata": {
        "id": "NIoBWfXbMJbY"
      },
      "source": [
        "A tranpose reverses the order of the axes.\n",
        "\n",
        "For example, an array with shape `(2, 3)` becomes `(3, 2)`."
      ]
    },
    {
      "cell_type": "code",
      "execution_count": null,
      "metadata": {
        "id": "xQFh8mMDMJbY",
        "outputId": "adbfa745-6e7f-4dd0-e49e-6a0e6b2d86e2"
      },
      "outputs": [
        {
          "data": {
            "text/plain": [
              "(2, 3)"
            ]
          },
          "execution_count": 88,
          "metadata": {},
          "output_type": "execute_result"
        }
      ],
      "source": [
        "a2.shape"
      ]
    },
    {
      "cell_type": "code",
      "execution_count": null,
      "metadata": {
        "id": "JRpHNBe8MJbY",
        "outputId": "583a7431-53d4-4cb4-a328-95a74874c250"
      },
      "outputs": [
        {
          "data": {
            "text/plain": [
              "array([[1. , 4. ],\n",
              "       [2. , 5. ],\n",
              "       [3.3, 6.5]])"
            ]
          },
          "execution_count": 89,
          "metadata": {},
          "output_type": "execute_result"
        }
      ],
      "source": [
        "a2.T"
      ]
    },
    {
      "cell_type": "code",
      "execution_count": null,
      "metadata": {
        "id": "PSV1rGtJMJbY",
        "outputId": "f098c796-22b4-4902-914e-75fa33299d57"
      },
      "outputs": [
        {
          "data": {
            "text/plain": [
              "array([[1. , 4. ],\n",
              "       [2. , 5. ],\n",
              "       [3.3, 6.5]])"
            ]
          },
          "execution_count": 90,
          "metadata": {},
          "output_type": "execute_result"
        }
      ],
      "source": [
        "a2.transpose()"
      ]
    },
    {
      "cell_type": "code",
      "execution_count": null,
      "metadata": {
        "id": "xWqBKNHGMJbY",
        "outputId": "f9fb30a3-0c11-4a61-a9e0-eb238553cab6"
      },
      "outputs": [
        {
          "data": {
            "text/plain": [
              "(3, 2)"
            ]
          },
          "execution_count": 91,
          "metadata": {},
          "output_type": "execute_result"
        }
      ],
      "source": [
        "a2.T.shape"
      ]
    },
    {
      "cell_type": "markdown",
      "metadata": {
        "id": "C-KAxWhmMJbY"
      },
      "source": [
        "For larger arrays, the default value of a tranpose is to swap the first and last axes.\n",
        "\n",
        "For example, `(5, 3, 3)` -> `(3, 3, 5)`."
      ]
    },
    {
      "cell_type": "code",
      "execution_count": null,
      "metadata": {
        "id": "7dZBEnjqMJbY",
        "outputId": "462f8e6c-8985-4458-fe4e-702be87dcf50"
      },
      "outputs": [
        {
          "data": {
            "text/plain": [
              "array([[[0.59816399, 0.17370251, 0.49752936],\n",
              "        [0.51231935, 0.41529741, 0.44150892],\n",
              "        [0.96844105, 0.23242417, 0.90336451]],\n",
              "\n",
              "       [[0.35172075, 0.56481088, 0.57771134],\n",
              "        [0.73115238, 0.88762934, 0.37368847],\n",
              "        [0.35104994, 0.11873224, 0.72324236]],\n",
              "\n",
              "       [[0.93202688, 0.09600718, 0.4330638 ],\n",
              "        [0.71979707, 0.06689016, 0.20815443],\n",
              "        [0.55415679, 0.08416165, 0.88953996]],\n",
              "\n",
              "       [[0.00301345, 0.30163886, 0.12337636],\n",
              "        [0.13435611, 0.51987339, 0.05418991],\n",
              "        [0.11426417, 0.19005404, 0.61364183]],\n",
              "\n",
              "       [[0.23385887, 0.13555752, 0.32546415],\n",
              "        [0.81922614, 0.94551446, 0.12975713],\n",
              "        [0.35431267, 0.37758386, 0.07987885]]])"
            ]
          },
          "execution_count": 92,
          "metadata": {},
          "output_type": "execute_result"
        }
      ],
      "source": [
        "matrix = np.random.random(size=(5, 3, 3))\n",
        "matrix"
      ]
    },
    {
      "cell_type": "code",
      "execution_count": null,
      "metadata": {
        "id": "ebIjtK-oMJbZ",
        "outputId": "761431d6-3c00-4d13-bc09-ddc43288c142"
      },
      "outputs": [
        {
          "data": {
            "text/plain": [
              "(5, 3, 3)"
            ]
          },
          "execution_count": 93,
          "metadata": {},
          "output_type": "execute_result"
        }
      ],
      "source": [
        "matrix.shape"
      ]
    },
    {
      "cell_type": "code",
      "execution_count": null,
      "metadata": {
        "id": "bBeMoXUHMJbZ",
        "outputId": "0cfc506d-6b01-4f2d-8169-2eeecc2f3647"
      },
      "outputs": [
        {
          "data": {
            "text/plain": [
              "array([[[0.59816399, 0.35172075, 0.93202688, 0.00301345, 0.23385887],\n",
              "        [0.51231935, 0.73115238, 0.71979707, 0.13435611, 0.81922614],\n",
              "        [0.96844105, 0.35104994, 0.55415679, 0.11426417, 0.35431267]],\n",
              "\n",
              "       [[0.17370251, 0.56481088, 0.09600718, 0.30163886, 0.13555752],\n",
              "        [0.41529741, 0.88762934, 0.06689016, 0.51987339, 0.94551446],\n",
              "        [0.23242417, 0.11873224, 0.08416165, 0.19005404, 0.37758386]],\n",
              "\n",
              "       [[0.49752936, 0.57771134, 0.4330638 , 0.12337636, 0.32546415],\n",
              "        [0.44150892, 0.37368847, 0.20815443, 0.05418991, 0.12975713],\n",
              "        [0.90336451, 0.72324236, 0.88953996, 0.61364183, 0.07987885]]])"
            ]
          },
          "execution_count": 94,
          "metadata": {},
          "output_type": "execute_result"
        }
      ],
      "source": [
        "matrix.T"
      ]
    },
    {
      "cell_type": "code",
      "execution_count": null,
      "metadata": {
        "id": "DzRQoMMrMJbZ",
        "outputId": "ac20d273-4b86-41a6-f87c-cdada495716a"
      },
      "outputs": [
        {
          "data": {
            "text/plain": [
              "(3, 3, 5)"
            ]
          },
          "execution_count": 95,
          "metadata": {},
          "output_type": "execute_result"
        }
      ],
      "source": [
        "matrix.T.shape"
      ]
    },
    {
      "cell_type": "code",
      "execution_count": null,
      "metadata": {
        "id": "cXKXHENTMJbZ",
        "outputId": "e122b436-10c6-45b1-f8e1-aace719b4ae7"
      },
      "outputs": [
        {
          "data": {
            "text/plain": [
              "True"
            ]
          },
          "execution_count": 96,
          "metadata": {},
          "output_type": "execute_result"
        }
      ],
      "source": [
        "# Check to see if the reverse shape is same as tranpose shape\n",
        "matrix.T.shape == matrix.shape[::-1]"
      ]
    },
    {
      "cell_type": "code",
      "execution_count": null,
      "metadata": {
        "id": "QYZOb9WyMJbZ",
        "outputId": "b47271ee-6c61-4c37-c81d-3d418b86a57f"
      },
      "outputs": [
        {
          "data": {
            "text/plain": [
              "array([[[ True,  True,  True,  True,  True],\n",
              "        [ True,  True,  True,  True,  True],\n",
              "        [ True,  True,  True,  True,  True]],\n",
              "\n",
              "       [[ True,  True,  True,  True,  True],\n",
              "        [ True,  True,  True,  True,  True],\n",
              "        [ True,  True,  True,  True,  True]],\n",
              "\n",
              "       [[ True,  True,  True,  True,  True],\n",
              "        [ True,  True,  True,  True,  True],\n",
              "        [ True,  True,  True,  True,  True]]])"
            ]
          },
          "execution_count": 97,
          "metadata": {},
          "output_type": "execute_result"
        }
      ],
      "source": [
        "# Check to see if the first and last axes are swapped\n",
        "matrix.T == matrix.swapaxes(0, -1) # swap first (0) and last (-1) axes"
      ]
    },
    {
      "cell_type": "markdown",
      "metadata": {
        "id": "NVRJprnNMJbZ"
      },
      "source": [
        "You can see more advanced forms of tranposing in the NumPy documentation under [`numpy.transpose`](https://numpy.org/doc/stable/reference/generated/numpy.transpose.html)."
      ]
    },
    {
      "cell_type": "markdown",
      "source": [
        "### Dot product"
      ],
      "metadata": {
        "id": "ffbETPiYtyn4"
      }
    },
    {
      "cell_type": "markdown",
      "metadata": {
        "id": "2Qr_nnelMJbZ"
      },
      "source": [
        "The main two rules for dot product to remember are:\n",
        "\n",
        "1. The **inner dimensions** must match:\n",
        "  * `(3, 2) @ (3, 2)` won't work\n",
        "  * `(2, 3) @ (3, 2)` will work\n",
        "  * `(3, 2) @ (2, 3)` will work\n",
        "  \n",
        "2. The resulting matrix has the shape of the **outer dimensions**:\n",
        " * `(2, 3) @ (3, 2)` -> `(2, 2)`\n",
        " * `(3, 2) @ (2, 3)` -> `(3, 3)`\n",
        "\n",
        "**Note:** In NumPy, `np.dot()` and `@` can be used to acheive the same result for 1-2 dimension arrays. However, their behaviour begins to differ at arrays with 3+ dimensions."
      ]
    },
    {
      "cell_type": "code",
      "execution_count": null,
      "metadata": {
        "id": "zewMWXk8MJba",
        "outputId": "be2f3f56-2951-4aed-b1a2-6f8d0daff39c"
      },
      "outputs": [
        {
          "data": {
            "text/plain": [
              "((3, 3), (3, 2))"
            ]
          },
          "execution_count": 98,
          "metadata": {},
          "output_type": "execute_result"
        }
      ],
      "source": [
        "np.random.seed(0)\n",
        "mat1 = np.random.randint(10, size=(3, 3))\n",
        "mat2 = np.random.randint(10, size=(3, 2))\n",
        "\n",
        "mat1.shape, mat2.shape"
      ]
    },
    {
      "cell_type": "code",
      "execution_count": null,
      "metadata": {
        "id": "wCDwgyqTMJba",
        "outputId": "3158c632-8035-4705-ab3f-45b4fc1a59b5"
      },
      "outputs": [
        {
          "data": {
            "text/plain": [
              "array([[5, 0, 3],\n",
              "       [3, 7, 9],\n",
              "       [3, 5, 2]])"
            ]
          },
          "execution_count": 99,
          "metadata": {},
          "output_type": "execute_result"
        }
      ],
      "source": [
        "mat1"
      ]
    },
    {
      "cell_type": "code",
      "execution_count": null,
      "metadata": {
        "id": "lPZjIcMpMJba",
        "outputId": "d740417c-0795-4d9d-fd58-91e4be0a7813"
      },
      "outputs": [
        {
          "data": {
            "text/plain": [
              "array([[4, 7],\n",
              "       [6, 8],\n",
              "       [8, 1]])"
            ]
          },
          "execution_count": 100,
          "metadata": {},
          "output_type": "execute_result"
        }
      ],
      "source": [
        "mat2"
      ]
    },
    {
      "cell_type": "code",
      "execution_count": null,
      "metadata": {
        "id": "ycdaD1yEMJba",
        "outputId": "86bc1cfa-04f4-4280-8399-de116b86ce36"
      },
      "outputs": [
        {
          "data": {
            "text/plain": [
              "array([[ 44,  38],\n",
              "       [126,  86],\n",
              "       [ 58,  63]])"
            ]
          },
          "execution_count": 101,
          "metadata": {},
          "output_type": "execute_result"
        }
      ],
      "source": [
        "np.dot(mat1, mat2)"
      ]
    },
    {
      "cell_type": "code",
      "execution_count": null,
      "metadata": {
        "id": "TMOR7Xi3MJba",
        "outputId": "7b6095fa-d41a-4b9c-d723-d128b375e52c"
      },
      "outputs": [
        {
          "data": {
            "text/plain": [
              "array([[ 44,  38],\n",
              "       [126,  86],\n",
              "       [ 58,  63]])"
            ]
          },
          "execution_count": 102,
          "metadata": {},
          "output_type": "execute_result"
        }
      ],
      "source": [
        "# Can also achieve np.dot() with \"@\"\n",
        "# (however, they may behave differently at 3D+ arrays)\n",
        "mat1 @ mat2"
      ]
    },
    {
      "cell_type": "code",
      "execution_count": null,
      "metadata": {
        "id": "tLcOBSHNMJba",
        "outputId": "90fa9718-c320-4c2e-c2f7-06fb22dbff59"
      },
      "outputs": [
        {
          "data": {
            "text/plain": [
              "array([[5, 0, 3],\n",
              "       [3, 7, 9],\n",
              "       [3, 5, 2],\n",
              "       [4, 7, 6]])"
            ]
          },
          "execution_count": 103,
          "metadata": {},
          "output_type": "execute_result"
        }
      ],
      "source": [
        "np.random.seed(0)\n",
        "mat3 = np.random.randint(10, size=(4,3))\n",
        "mat4 = np.random.randint(10, size=(4,3))\n",
        "mat3"
      ]
    },
    {
      "cell_type": "code",
      "execution_count": null,
      "metadata": {
        "id": "id__AiiZMJba",
        "outputId": "2ca74b6c-1590-4cbd-abd6-8254c7398deb"
      },
      "outputs": [
        {
          "data": {
            "text/plain": [
              "array([[8, 8, 1],\n",
              "       [6, 7, 7],\n",
              "       [8, 1, 5],\n",
              "       [9, 8, 9]])"
            ]
          },
          "execution_count": 104,
          "metadata": {},
          "output_type": "execute_result"
        }
      ],
      "source": [
        "mat4"
      ]
    },
    {
      "cell_type": "code",
      "execution_count": null,
      "metadata": {
        "id": "5EQ6QZjsMJba",
        "outputId": "79e23829-9c3f-4420-8df8-ca0a415e4915"
      },
      "outputs": [
        {
          "ename": "ValueError",
          "evalue": "shapes (4,3) and (4,3) not aligned: 3 (dim 1) != 4 (dim 0)",
          "output_type": "error",
          "traceback": [
            "\u001b[0;31m---------------------------------------------------------------------------\u001b[0m",
            "\u001b[0;31mValueError\u001b[0m                                Traceback (most recent call last)",
            "Cell \u001b[0;32mIn[105], line 2\u001b[0m\n\u001b[1;32m      1\u001b[0m \u001b[38;5;66;03m# This will fail as the inner dimensions of the matrices do not match\u001b[39;00m\n\u001b[0;32m----> 2\u001b[0m \u001b[43mnp\u001b[49m\u001b[38;5;241;43m.\u001b[39;49m\u001b[43mdot\u001b[49m\u001b[43m(\u001b[49m\u001b[43mmat3\u001b[49m\u001b[43m,\u001b[49m\u001b[43m \u001b[49m\u001b[43mmat4\u001b[49m\u001b[43m)\u001b[49m\n",
            "\u001b[0;31mValueError\u001b[0m: shapes (4,3) and (4,3) not aligned: 3 (dim 1) != 4 (dim 0)"
          ]
        }
      ],
      "source": [
        "# This will fail as the inner dimensions of the matrices do not match\n",
        "np.dot(mat3, mat4)"
      ]
    },
    {
      "cell_type": "code",
      "execution_count": null,
      "metadata": {
        "id": "d9bhIRoyMJbb",
        "outputId": "4402ae60-540d-4ca8-a998-b0e0415e1ea4"
      },
      "outputs": [
        {
          "data": {
            "text/plain": [
              "(3, 4)"
            ]
          },
          "execution_count": 106,
          "metadata": {},
          "output_type": "execute_result"
        }
      ],
      "source": [
        "mat3.T.shape"
      ]
    },
    {
      "cell_type": "code",
      "execution_count": null,
      "metadata": {
        "id": "shbdVDdGMJbb",
        "outputId": "8c891943-ea64-4c11-e5ff-4d43a27da927"
      },
      "outputs": [
        {
          "data": {
            "text/plain": [
              "array([[118,  96,  77],\n",
              "       [145, 110, 137],\n",
              "       [148, 137, 130]])"
            ]
          },
          "execution_count": 107,
          "metadata": {},
          "output_type": "execute_result"
        }
      ],
      "source": [
        "# Dot product\n",
        "np.dot(mat3.T, mat4)"
      ]
    },
    {
      "cell_type": "code",
      "execution_count": null,
      "metadata": {
        "id": "YHk8-wmvMJbb",
        "outputId": "6d2233ca-6366-4aed-9dda-25237a7005f2"
      },
      "outputs": [
        {
          "data": {
            "text/plain": [
              "array([[40,  0,  3],\n",
              "       [18, 49, 63],\n",
              "       [24,  5, 10],\n",
              "       [36, 56, 54]])"
            ]
          },
          "execution_count": 108,
          "metadata": {},
          "output_type": "execute_result"
        }
      ],
      "source": [
        "# Element-wise multiplication, also known as Hadamard product\n",
        "mat3 * mat4"
      ]
    },
    {
      "cell_type": "markdown",
      "metadata": {
        "id": "SFiC4_OuMJbc"
      },
      "source": [
        "### Dot product practical example, nut butter sales"
      ]
    },
    {
      "cell_type": "code",
      "execution_count": null,
      "metadata": {
        "id": "7LejFWQ7MJbc",
        "outputId": "e4187d85-932b-4b52-d764-6dd52517eb52"
      },
      "outputs": [
        {
          "data": {
            "text/plain": [
              "array([[12, 15,  0],\n",
              "       [ 3,  3,  7],\n",
              "       [ 9, 19, 18],\n",
              "       [ 4,  6, 12],\n",
              "       [ 1,  6,  7]])"
            ]
          },
          "execution_count": 109,
          "metadata": {},
          "output_type": "execute_result"
        }
      ],
      "source": [
        "np.random.seed(0)\n",
        "sales_amounts = np.random.randint(20, size=(5, 3))\n",
        "sales_amounts"
      ]
    },
    {
      "cell_type": "code",
      "execution_count": null,
      "metadata": {
        "id": "C9JldOcwMJbc",
        "outputId": "4729fd3c-3cf1-4e9c-fc39-fe1730037f0c"
      },
      "outputs": [
        {
          "data": {
            "text/html": [
              "<div>\n",
              "<style scoped>\n",
              "    .dataframe tbody tr th:only-of-type {\n",
              "        vertical-align: middle;\n",
              "    }\n",
              "\n",
              "    .dataframe tbody tr th {\n",
              "        vertical-align: top;\n",
              "    }\n",
              "\n",
              "    .dataframe thead th {\n",
              "        text-align: right;\n",
              "    }\n",
              "</style>\n",
              "<table border=\"1\" class=\"dataframe\">\n",
              "  <thead>\n",
              "    <tr style=\"text-align: right;\">\n",
              "      <th></th>\n",
              "      <th>Almond butter</th>\n",
              "      <th>Peanut butter</th>\n",
              "      <th>Cashew butter</th>\n",
              "    </tr>\n",
              "  </thead>\n",
              "  <tbody>\n",
              "    <tr>\n",
              "      <th>Mon</th>\n",
              "      <td>12</td>\n",
              "      <td>15</td>\n",
              "      <td>0</td>\n",
              "    </tr>\n",
              "    <tr>\n",
              "      <th>Tues</th>\n",
              "      <td>3</td>\n",
              "      <td>3</td>\n",
              "      <td>7</td>\n",
              "    </tr>\n",
              "    <tr>\n",
              "      <th>Wed</th>\n",
              "      <td>9</td>\n",
              "      <td>19</td>\n",
              "      <td>18</td>\n",
              "    </tr>\n",
              "    <tr>\n",
              "      <th>Thurs</th>\n",
              "      <td>4</td>\n",
              "      <td>6</td>\n",
              "      <td>12</td>\n",
              "    </tr>\n",
              "    <tr>\n",
              "      <th>Fri</th>\n",
              "      <td>1</td>\n",
              "      <td>6</td>\n",
              "      <td>7</td>\n",
              "    </tr>\n",
              "  </tbody>\n",
              "</table>\n",
              "</div>"
            ],
            "text/plain": [
              "       Almond butter  Peanut butter  Cashew butter\n",
              "Mon               12             15              0\n",
              "Tues               3              3              7\n",
              "Wed                9             19             18\n",
              "Thurs              4              6             12\n",
              "Fri                1              6              7"
            ]
          },
          "execution_count": 110,
          "metadata": {},
          "output_type": "execute_result"
        }
      ],
      "source": [
        "weekly_sales = pd.DataFrame(sales_amounts,\n",
        "                            index=[\"Mon\", \"Tues\", \"Wed\", \"Thurs\", \"Fri\"],\n",
        "                            columns=[\"Almond butter\", \"Peanut butter\", \"Cashew butter\"])\n",
        "weekly_sales"
      ]
    },
    {
      "cell_type": "code",
      "execution_count": null,
      "metadata": {
        "id": "-JNh2reaMJbc",
        "outputId": "8588388e-a4d5-4501-dd29-3f39432531a9"
      },
      "outputs": [
        {
          "data": {
            "text/plain": [
              "array([10,  8, 12])"
            ]
          },
          "execution_count": 111,
          "metadata": {},
          "output_type": "execute_result"
        }
      ],
      "source": [
        "prices = np.array([10, 8, 12])\n",
        "prices"
      ]
    },
    {
      "cell_type": "code",
      "execution_count": null,
      "metadata": {
        "id": "p_oVLwmCMJbc",
        "outputId": "9cc06388-0493-4e2e-ce2a-fa941fc88cb6"
      },
      "outputs": [
        {
          "data": {
            "text/plain": [
              "(1, 3)"
            ]
          },
          "execution_count": 112,
          "metadata": {},
          "output_type": "execute_result"
        }
      ],
      "source": [
        "butter_prices = pd.DataFrame(prices.reshape(1, 3),\n",
        "                             index=[\"Price\"],\n",
        "                             columns=[\"Almond butter\", \"Peanut butter\", \"Cashew butter\"])\n",
        "butter_prices.shape"
      ]
    },
    {
      "cell_type": "code",
      "execution_count": null,
      "metadata": {
        "id": "knayFh1aMJbc",
        "outputId": "1aa1783a-b85d-4ba1-c5a0-62f041f3e7d7"
      },
      "outputs": [
        {
          "data": {
            "text/plain": [
              "(5, 3)"
            ]
          },
          "execution_count": 113,
          "metadata": {},
          "output_type": "execute_result"
        }
      ],
      "source": [
        "weekly_sales.shape"
      ]
    },
    {
      "cell_type": "code",
      "execution_count": null,
      "metadata": {
        "id": "y6Z-sm1jMJbc",
        "outputId": "dcb6bb60-d36d-4360-cde1-1a0c3e68213c"
      },
      "outputs": [
        {
          "ename": "ValueError",
          "evalue": "shapes (3,) and (5,3) not aligned: 3 (dim 0) != 5 (dim 0)",
          "output_type": "error",
          "traceback": [
            "\u001b[0;31m---------------------------------------------------------------------------\u001b[0m",
            "\u001b[0;31mValueError\u001b[0m                                Traceback (most recent call last)",
            "Cell \u001b[0;32mIn[114], line 2\u001b[0m\n\u001b[1;32m      1\u001b[0m \u001b[38;5;66;03m# Find the total amount of sales for a whole day\u001b[39;00m\n\u001b[0;32m----> 2\u001b[0m total_sales \u001b[38;5;241m=\u001b[39m \u001b[43mprices\u001b[49m\u001b[38;5;241;43m.\u001b[39;49m\u001b[43mdot\u001b[49m\u001b[43m(\u001b[49m\u001b[43msales_amounts\u001b[49m\u001b[43m)\u001b[49m\n\u001b[1;32m      3\u001b[0m total_sales\n",
            "\u001b[0;31mValueError\u001b[0m: shapes (3,) and (5,3) not aligned: 3 (dim 0) != 5 (dim 0)"
          ]
        }
      ],
      "source": [
        "# Find the total amount of sales for a whole day\n",
        "total_sales = prices.dot(sales_amounts)\n",
        "total_sales"
      ]
    },
    {
      "cell_type": "markdown",
      "metadata": {
        "id": "ic6S3q--MJbc"
      },
      "source": [
        "The shapes aren't aligned, we need the middle two numbers to be the same."
      ]
    },
    {
      "cell_type": "code",
      "execution_count": null,
      "metadata": {
        "id": "k0dUCYcXMJbd",
        "outputId": "18f46d42-2f83-4def-85e5-34cc42dba2bb"
      },
      "outputs": [
        {
          "data": {
            "text/plain": [
              "array([10,  8, 12])"
            ]
          },
          "execution_count": 115,
          "metadata": {},
          "output_type": "execute_result"
        }
      ],
      "source": [
        "prices"
      ]
    },
    {
      "cell_type": "code",
      "execution_count": null,
      "metadata": {
        "id": "oQsyhp_nMJbd",
        "outputId": "447382d8-a664-45ac-99c2-fcfc34b93526"
      },
      "outputs": [
        {
          "data": {
            "text/plain": [
              "(3, 5)"
            ]
          },
          "execution_count": 116,
          "metadata": {},
          "output_type": "execute_result"
        }
      ],
      "source": [
        "sales_amounts.T.shape"
      ]
    },
    {
      "cell_type": "code",
      "execution_count": null,
      "metadata": {
        "id": "c2CmTgm3MJbd",
        "outputId": "52b7344c-90f0-45d1-e50a-ec0c3822432a"
      },
      "outputs": [
        {
          "data": {
            "text/plain": [
              "array([240, 138, 458, 232, 142])"
            ]
          },
          "execution_count": 117,
          "metadata": {},
          "output_type": "execute_result"
        }
      ],
      "source": [
        "# To make the middle numbers the same, we can transpose\n",
        "total_sales = prices.dot(sales_amounts.T)\n",
        "total_sales"
      ]
    },
    {
      "cell_type": "code",
      "execution_count": null,
      "metadata": {
        "id": "QPpFq4yiMJbd",
        "outputId": "46e6126b-2f18-4918-ef3e-fe298449cca7"
      },
      "outputs": [
        {
          "data": {
            "text/plain": [
              "((1, 3), (5, 3))"
            ]
          },
          "execution_count": 118,
          "metadata": {},
          "output_type": "execute_result"
        }
      ],
      "source": [
        "butter_prices.shape, weekly_sales.shape"
      ]
    },
    {
      "cell_type": "code",
      "execution_count": null,
      "metadata": {
        "id": "a0S2DHVAMJbd",
        "outputId": "c4a4850e-4a9f-48d5-f136-3c337709ef02"
      },
      "outputs": [
        {
          "data": {
            "text/html": [
              "<div>\n",
              "<style scoped>\n",
              "    .dataframe tbody tr th:only-of-type {\n",
              "        vertical-align: middle;\n",
              "    }\n",
              "\n",
              "    .dataframe tbody tr th {\n",
              "        vertical-align: top;\n",
              "    }\n",
              "\n",
              "    .dataframe thead th {\n",
              "        text-align: right;\n",
              "    }\n",
              "</style>\n",
              "<table border=\"1\" class=\"dataframe\">\n",
              "  <thead>\n",
              "    <tr style=\"text-align: right;\">\n",
              "      <th></th>\n",
              "      <th>Mon</th>\n",
              "      <th>Tues</th>\n",
              "      <th>Wed</th>\n",
              "      <th>Thurs</th>\n",
              "      <th>Fri</th>\n",
              "    </tr>\n",
              "  </thead>\n",
              "  <tbody>\n",
              "    <tr>\n",
              "      <th>Price</th>\n",
              "      <td>240</td>\n",
              "      <td>138</td>\n",
              "      <td>458</td>\n",
              "      <td>232</td>\n",
              "      <td>142</td>\n",
              "    </tr>\n",
              "  </tbody>\n",
              "</table>\n",
              "</div>"
            ],
            "text/plain": [
              "       Mon  Tues  Wed  Thurs  Fri\n",
              "Price  240   138  458    232  142"
            ]
          },
          "execution_count": 119,
          "metadata": {},
          "output_type": "execute_result"
        }
      ],
      "source": [
        "daily_sales = butter_prices.dot(weekly_sales.T)\n",
        "daily_sales"
      ]
    },
    {
      "cell_type": "code",
      "execution_count": null,
      "metadata": {
        "id": "rWkEdOLOMJbd",
        "outputId": "c42d0f7f-35d0-46ff-83b3-9bb9f41dc9e5"
      },
      "outputs": [
        {
          "data": {
            "text/html": [
              "<div>\n",
              "<style scoped>\n",
              "    .dataframe tbody tr th:only-of-type {\n",
              "        vertical-align: middle;\n",
              "    }\n",
              "\n",
              "    .dataframe tbody tr th {\n",
              "        vertical-align: top;\n",
              "    }\n",
              "\n",
              "    .dataframe thead th {\n",
              "        text-align: right;\n",
              "    }\n",
              "</style>\n",
              "<table border=\"1\" class=\"dataframe\">\n",
              "  <thead>\n",
              "    <tr style=\"text-align: right;\">\n",
              "      <th></th>\n",
              "      <th>Almond butter</th>\n",
              "      <th>Peanut butter</th>\n",
              "      <th>Cashew butter</th>\n",
              "      <th>Total</th>\n",
              "    </tr>\n",
              "  </thead>\n",
              "  <tbody>\n",
              "    <tr>\n",
              "      <th>Mon</th>\n",
              "      <td>12</td>\n",
              "      <td>15</td>\n",
              "      <td>0</td>\n",
              "      <td>240</td>\n",
              "    </tr>\n",
              "    <tr>\n",
              "      <th>Tues</th>\n",
              "      <td>3</td>\n",
              "      <td>3</td>\n",
              "      <td>7</td>\n",
              "      <td>138</td>\n",
              "    </tr>\n",
              "    <tr>\n",
              "      <th>Wed</th>\n",
              "      <td>9</td>\n",
              "      <td>19</td>\n",
              "      <td>18</td>\n",
              "      <td>458</td>\n",
              "    </tr>\n",
              "    <tr>\n",
              "      <th>Thurs</th>\n",
              "      <td>4</td>\n",
              "      <td>6</td>\n",
              "      <td>12</td>\n",
              "      <td>232</td>\n",
              "    </tr>\n",
              "    <tr>\n",
              "      <th>Fri</th>\n",
              "      <td>1</td>\n",
              "      <td>6</td>\n",
              "      <td>7</td>\n",
              "      <td>142</td>\n",
              "    </tr>\n",
              "  </tbody>\n",
              "</table>\n",
              "</div>"
            ],
            "text/plain": [
              "       Almond butter  Peanut butter  Cashew butter  Total\n",
              "Mon               12             15              0    240\n",
              "Tues               3              3              7    138\n",
              "Wed                9             19             18    458\n",
              "Thurs              4              6             12    232\n",
              "Fri                1              6              7    142"
            ]
          },
          "execution_count": 120,
          "metadata": {},
          "output_type": "execute_result"
        }
      ],
      "source": [
        "# Need to transpose again\n",
        "weekly_sales[\"Total\"] = daily_sales.T\n",
        "weekly_sales"
      ]
    },
    {
      "cell_type": "markdown",
      "source": [
        "### Comparison operators"
      ],
      "metadata": {
        "id": "OU57Imcyt3pL"
      }
    },
    {
      "cell_type": "markdown",
      "metadata": {
        "id": "jwJ9ViA-MJbd"
      },
      "source": [
        "Finding out if one array is larger, smaller or equal to another."
      ]
    },
    {
      "cell_type": "code",
      "execution_count": null,
      "metadata": {
        "id": "irVlECWLMJbd",
        "outputId": "6c1dfb8a-5db2-4912-a35a-5cd0d11649c8"
      },
      "outputs": [
        {
          "data": {
            "text/plain": [
              "array([1, 2, 3])"
            ]
          },
          "execution_count": 121,
          "metadata": {},
          "output_type": "execute_result"
        }
      ],
      "source": [
        "a1"
      ]
    },
    {
      "cell_type": "code",
      "execution_count": null,
      "metadata": {
        "id": "1Kb4LKaQMJbd",
        "outputId": "672f8d94-7313-4557-8b41-b0168614ce63"
      },
      "outputs": [
        {
          "data": {
            "text/plain": [
              "array([[1. , 2. , 3.3],\n",
              "       [4. , 5. , 6.5]])"
            ]
          },
          "execution_count": 122,
          "metadata": {},
          "output_type": "execute_result"
        }
      ],
      "source": [
        "a2"
      ]
    },
    {
      "cell_type": "code",
      "execution_count": null,
      "metadata": {
        "id": "PqHB3hpdMJbe",
        "outputId": "528b5779-2d18-4e9c-8a29-d7825607e703"
      },
      "outputs": [
        {
          "data": {
            "text/plain": [
              "array([[False, False, False],\n",
              "       [False, False, False]])"
            ]
          },
          "execution_count": 123,
          "metadata": {},
          "output_type": "execute_result"
        }
      ],
      "source": [
        "a1 > a2"
      ]
    },
    {
      "cell_type": "code",
      "execution_count": null,
      "metadata": {
        "id": "R8m3StxBMJbe",
        "outputId": "88ddfb4c-625a-4eb2-9697-fe1a79af2ca4"
      },
      "outputs": [
        {
          "data": {
            "text/plain": [
              "array([[ True,  True, False],\n",
              "       [False, False, False]])"
            ]
          },
          "execution_count": 124,
          "metadata": {},
          "output_type": "execute_result"
        }
      ],
      "source": [
        "a1 >= a2"
      ]
    },
    {
      "cell_type": "code",
      "execution_count": null,
      "metadata": {
        "id": "-cKpIgM6MJbe",
        "outputId": "cb3d3083-ad07-4447-90cb-8f1c9ecec779"
      },
      "outputs": [
        {
          "data": {
            "text/plain": [
              "array([False, False, False])"
            ]
          },
          "execution_count": 125,
          "metadata": {},
          "output_type": "execute_result"
        }
      ],
      "source": [
        "a1 > 5"
      ]
    },
    {
      "cell_type": "code",
      "execution_count": null,
      "metadata": {
        "id": "FjlQ8Hy0MJbe",
        "outputId": "48b6e32b-adfd-4aeb-e053-4871c5302d65"
      },
      "outputs": [
        {
          "data": {
            "text/plain": [
              "array([ True,  True,  True])"
            ]
          },
          "execution_count": 126,
          "metadata": {},
          "output_type": "execute_result"
        }
      ],
      "source": [
        "a1 == a1"
      ]
    },
    {
      "cell_type": "code",
      "execution_count": null,
      "metadata": {
        "id": "mrHDsPF4MJbe",
        "outputId": "2a98bba4-077b-4f5c-8db3-808052aa9304"
      },
      "outputs": [
        {
          "data": {
            "text/plain": [
              "array([[ True,  True, False],\n",
              "       [False, False, False]])"
            ]
          },
          "execution_count": 127,
          "metadata": {},
          "output_type": "execute_result"
        }
      ],
      "source": [
        "a1 == a2"
      ]
    },
    {
      "cell_type": "markdown",
      "source": [
        "## 5. Sorting arrays"
      ],
      "metadata": {
        "id": "0fLD28yJt6j7"
      }
    },
    {
      "cell_type": "markdown",
      "metadata": {
        "id": "Acr3MGVZMJbe"
      },
      "source": [
        "* [`np.sort()`](https://numpy.org/doc/stable/reference/generated/numpy.sort.html) - sort values in a specified dimension of an array.\n",
        "* [`np.argsort()`](https://numpy.org/doc/stable/reference/generated/numpy.argsort.html) - return the indices to sort the array on a given axis.\n",
        "* [`np.argmax()`](https://numpy.org/doc/stable/reference/generated/numpy.argmax.html) - return the index/indicies which gives the highest value(s) along an axis.\n",
        "* [`np.argmin()`](https://numpy.org/doc/stable/reference/generated/numpy.argmin.html) - return the index/indices which gives the lowest value(s) along an axis."
      ]
    },
    {
      "cell_type": "code",
      "execution_count": null,
      "metadata": {
        "id": "1qVKkiIjMJbe",
        "outputId": "5ae86980-ed49-4f5d-ad9a-6ad0232bc5c9"
      },
      "outputs": [
        {
          "data": {
            "text/plain": [
              "array([[8, 7, 6],\n",
              "       [4, 2, 7],\n",
              "       [6, 0, 6],\n",
              "       [0, 8, 5],\n",
              "       [6, 2, 9]])"
            ]
          },
          "execution_count": 128,
          "metadata": {},
          "output_type": "execute_result"
        }
      ],
      "source": [
        "random_array"
      ]
    },
    {
      "cell_type": "code",
      "execution_count": null,
      "metadata": {
        "id": "EVH50MjzMJbe",
        "outputId": "fc0bf8a2-6ceb-4c4e-ea49-949b00834b5d"
      },
      "outputs": [
        {
          "data": {
            "text/plain": [
              "array([[6, 7, 8],\n",
              "       [2, 4, 7],\n",
              "       [0, 6, 6],\n",
              "       [0, 5, 8],\n",
              "       [2, 6, 9]])"
            ]
          },
          "execution_count": 129,
          "metadata": {},
          "output_type": "execute_result"
        }
      ],
      "source": [
        "np.sort(random_array)"
      ]
    },
    {
      "cell_type": "code",
      "execution_count": null,
      "metadata": {
        "id": "fdSa6flzMJbe",
        "outputId": "52441563-f621-48bd-97f8-318c7243026e"
      },
      "outputs": [
        {
          "data": {
            "text/plain": [
              "array([[2, 1, 0],\n",
              "       [1, 0, 2],\n",
              "       [1, 0, 2],\n",
              "       [0, 2, 1],\n",
              "       [1, 0, 2]])"
            ]
          },
          "execution_count": 130,
          "metadata": {},
          "output_type": "execute_result"
        }
      ],
      "source": [
        "np.argsort(random_array)"
      ]
    },
    {
      "cell_type": "code",
      "execution_count": null,
      "metadata": {
        "id": "wyhxz53BMJbf",
        "outputId": "302de3c1-3d15-480d-d0c0-fffae6c33e96"
      },
      "outputs": [
        {
          "data": {
            "text/plain": [
              "array([1, 2, 3])"
            ]
          },
          "execution_count": 131,
          "metadata": {},
          "output_type": "execute_result"
        }
      ],
      "source": [
        "a1"
      ]
    },
    {
      "cell_type": "code",
      "execution_count": null,
      "metadata": {
        "id": "_oidh20TMJbf",
        "outputId": "e3ce6ebe-4da4-423b-db0e-ad6bb757b8d9"
      },
      "outputs": [
        {
          "data": {
            "text/plain": [
              "array([0, 1, 2])"
            ]
          },
          "execution_count": 132,
          "metadata": {},
          "output_type": "execute_result"
        }
      ],
      "source": [
        "# Return the indices that would sort an array\n",
        "np.argsort(a1)"
      ]
    },
    {
      "cell_type": "code",
      "execution_count": null,
      "metadata": {
        "id": "D74I1v1nMJbf",
        "outputId": "78b62c93-cfd4-4dc3-d4aa-a99e9480a7a8"
      },
      "outputs": [
        {
          "data": {
            "text/plain": [
              "np.int64(0)"
            ]
          },
          "execution_count": 133,
          "metadata": {},
          "output_type": "execute_result"
        }
      ],
      "source": [
        "# No axis\n",
        "np.argmin(a1)"
      ]
    },
    {
      "cell_type": "code",
      "execution_count": null,
      "metadata": {
        "id": "StMYXwSpMJbf",
        "outputId": "e7dccf26-f407-4d10-a6bf-3e596c410402"
      },
      "outputs": [
        {
          "data": {
            "text/plain": [
              "array([[8, 7, 6],\n",
              "       [4, 2, 7],\n",
              "       [6, 0, 6],\n",
              "       [0, 8, 5],\n",
              "       [6, 2, 9]])"
            ]
          },
          "execution_count": 134,
          "metadata": {},
          "output_type": "execute_result"
        }
      ],
      "source": [
        "random_array"
      ]
    },
    {
      "cell_type": "code",
      "execution_count": null,
      "metadata": {
        "id": "fUZuhMqgMJbf",
        "outputId": "1b4071cc-aa6c-4e27-ddb1-fec7e3964c04"
      },
      "outputs": [
        {
          "data": {
            "text/plain": [
              "array([0, 2, 0, 1, 2])"
            ]
          },
          "execution_count": 135,
          "metadata": {},
          "output_type": "execute_result"
        }
      ],
      "source": [
        "# Down the vertical\n",
        "np.argmax(random_array, axis=1)"
      ]
    },
    {
      "cell_type": "code",
      "execution_count": null,
      "metadata": {
        "id": "m7B_YE5_MJbf",
        "outputId": "337c87ae-0f9e-40a9-896e-c6649f00f474"
      },
      "outputs": [
        {
          "data": {
            "text/plain": [
              "array([3, 2, 3])"
            ]
          },
          "execution_count": 136,
          "metadata": {},
          "output_type": "execute_result"
        }
      ],
      "source": [
        "# Across the horizontal\n",
        "np.argmin(random_array, axis=0)"
      ]
    },
    {
      "cell_type": "markdown",
      "source": [
        "## 6. Use case"
      ],
      "metadata": {
        "id": "NfEB_1mYt9Wo"
      }
    },
    {
      "cell_type": "markdown",
      "metadata": {
        "id": "SCF86JBTMJbg"
      },
      "source": [
        "Turning an image into a NumPy array.\n",
        "\n",
        "Why?\n",
        "\n",
        "Because computers can use the numbers in the NumPy array to find patterns in the image and in turn use those patterns to figure out what's in the image.\n",
        "\n",
        "This is what happens in modern computer vision algorithms.\n",
        "\n",
        "Let's start with this beautiful image of a panda:\n",
        "\n",
        "<img src=\"https://github.com/GiX007/ml-quickstart-notebooks/blob/main/data/images/numpy_images/numpy-panda.jpeg?raw=1\" alt=\"photo of a panda waving\" width=450/>"
      ]
    },
    {
      "cell_type": "code",
      "execution_count": null,
      "metadata": {
        "id": "saXyf1UYMJbg",
        "outputId": "7b50f548-3011-4e56-975d-59eaed493c91"
      },
      "outputs": [
        {
          "name": "stdout",
          "output_type": "stream",
          "text": [
            "<class 'numpy.ndarray'>\n"
          ]
        }
      ],
      "source": [
        "from matplotlib.image import imread\n",
        "\n",
        "panda = imread('../images/numpy-panda.jpeg')\n",
        "print(type(panda))"
      ]
    },
    {
      "cell_type": "code",
      "execution_count": null,
      "metadata": {
        "id": "fl-RaCdJMJbg",
        "outputId": "fb9aa608-1044-460c-e2e8-8696da2f820b"
      },
      "outputs": [
        {
          "data": {
            "text/plain": [
              "(852, 1280, 3)"
            ]
          },
          "execution_count": 138,
          "metadata": {},
          "output_type": "execute_result"
        }
      ],
      "source": [
        "panda.shape"
      ]
    },
    {
      "cell_type": "code",
      "execution_count": null,
      "metadata": {
        "id": "hMaom8tvMJbg",
        "outputId": "7439881d-50d8-4b28-e8d1-9de280d05b9e"
      },
      "outputs": [
        {
          "data": {
            "text/plain": [
              "array([[[14, 27, 17],\n",
              "        [14, 27, 17],\n",
              "        [12, 28, 17],\n",
              "        ...,\n",
              "        [42, 36, 24],\n",
              "        [42, 35, 25],\n",
              "        [41, 34, 24]],\n",
              "\n",
              "       [[14, 27, 17],\n",
              "        [14, 27, 17],\n",
              "        [12, 28, 17],\n",
              "        ...,\n",
              "        [42, 36, 24],\n",
              "        [42, 35, 25],\n",
              "        [42, 35, 25]],\n",
              "\n",
              "       [[13, 26, 16],\n",
              "        [14, 27, 17],\n",
              "        [12, 28, 17],\n",
              "        ...,\n",
              "        [42, 36, 24],\n",
              "        [42, 35, 25],\n",
              "        [42, 35, 25]],\n",
              "\n",
              "       ...,\n",
              "\n",
              "       [[47, 32, 27],\n",
              "        [48, 33, 28],\n",
              "        [48, 33, 26],\n",
              "        ...,\n",
              "        [ 6,  6,  8],\n",
              "        [ 6,  6,  8],\n",
              "        [ 6,  6,  8]],\n",
              "\n",
              "       [[39, 24, 17],\n",
              "        [40, 25, 18],\n",
              "        [42, 27, 20],\n",
              "        ...,\n",
              "        [ 6,  6,  8],\n",
              "        [ 6,  6,  8],\n",
              "        [ 6,  6,  8]],\n",
              "\n",
              "       [[32, 17, 10],\n",
              "        [33, 18, 11],\n",
              "        [36, 21, 14],\n",
              "        ...,\n",
              "        [ 6,  6,  8],\n",
              "        [ 6,  6,  8],\n",
              "        [ 6,  6,  8]]], dtype=uint8)"
            ]
          },
          "execution_count": 139,
          "metadata": {},
          "output_type": "execute_result"
        }
      ],
      "source": [
        "panda"
      ]
    },
    {
      "cell_type": "markdown",
      "metadata": {
        "id": "HDeHJY_oMJbg"
      },
      "source": [
        "<img src=\"https://github.com/GiX007/ml-quickstart-notebooks/blob/main/data/images/numpy_images/numpy-car-photo.png?raw=1\" alt=\"photo of a car\"/>"
      ]
    },
    {
      "cell_type": "code",
      "execution_count": null,
      "metadata": {
        "id": "Ru3FuOXXMJbg",
        "outputId": "d38bf148-9c04-4796-87c2-1863cb224dba"
      },
      "outputs": [
        {
          "data": {
            "text/plain": [
              "(431, 575, 4)"
            ]
          },
          "execution_count": 140,
          "metadata": {},
          "output_type": "execute_result"
        }
      ],
      "source": [
        "car = imread(\"../images/numpy-car-photo.png\")\n",
        "car.shape"
      ]
    },
    {
      "cell_type": "code",
      "execution_count": null,
      "metadata": {
        "id": "qeLe_PwVMJbg",
        "outputId": "b483ab5e-8595-4a2a-c4fa-7672f2fd8ae3"
      },
      "outputs": [
        {
          "data": {
            "text/plain": [
              "(431, 575, 3)"
            ]
          },
          "execution_count": 141,
          "metadata": {},
          "output_type": "execute_result"
        }
      ],
      "source": [
        "car[:,:,:3].shape"
      ]
    },
    {
      "cell_type": "markdown",
      "metadata": {
        "id": "JlJL_xfDMJbg"
      },
      "source": [
        "<img src=\"https://github.com/GiX007/ml-quickstart-notebooks/blob/main/data/images/numpy_images/numpy-dog-photo.png?raw=1\" alt=\"photo a dog\"/>"
      ]
    },
    {
      "cell_type": "code",
      "execution_count": null,
      "metadata": {
        "id": "Ry3n5perMJbh",
        "outputId": "7b9c89d6-3387-4040-c8b2-ac613ca43fc7"
      },
      "outputs": [
        {
          "data": {
            "text/plain": [
              "(432, 575, 4)"
            ]
          },
          "execution_count": 142,
          "metadata": {},
          "output_type": "execute_result"
        }
      ],
      "source": [
        "dog = imread(\"../images/numpy-dog-photo.png\")\n",
        "dog.shape"
      ]
    },
    {
      "cell_type": "code",
      "execution_count": null,
      "metadata": {
        "id": "25YP4J5jMJbh",
        "outputId": "4cad37ad-084e-41e3-fc9c-7567dcd45568"
      },
      "outputs": [
        {
          "data": {
            "text/plain": [
              "array([[[0.70980394, 0.80784315, 0.88235295, 1.        ],\n",
              "        [0.72156864, 0.8117647 , 0.8862745 , 1.        ],\n",
              "        [0.7411765 , 0.8156863 , 0.8862745 , 1.        ],\n",
              "        ...,\n",
              "        [0.49803922, 0.6862745 , 0.8392157 , 1.        ],\n",
              "        [0.49411765, 0.68235296, 0.8392157 , 1.        ],\n",
              "        [0.49411765, 0.68235296, 0.8352941 , 1.        ]],\n",
              "\n",
              "       [[0.69411767, 0.8039216 , 0.8862745 , 1.        ],\n",
              "        [0.7019608 , 0.8039216 , 0.88235295, 1.        ],\n",
              "        [0.7058824 , 0.80784315, 0.88235295, 1.        ],\n",
              "        ...,\n",
              "        [0.5019608 , 0.6862745 , 0.84705883, 1.        ],\n",
              "        [0.49411765, 0.68235296, 0.84313726, 1.        ],\n",
              "        [0.49411765, 0.68235296, 0.8392157 , 1.        ]],\n",
              "\n",
              "       [[0.6901961 , 0.8       , 0.88235295, 1.        ],\n",
              "        [0.69803923, 0.8039216 , 0.88235295, 1.        ],\n",
              "        [0.7058824 , 0.80784315, 0.88235295, 1.        ],\n",
              "        ...,\n",
              "        [0.5019608 , 0.6862745 , 0.84705883, 1.        ],\n",
              "        [0.49803922, 0.6862745 , 0.84313726, 1.        ],\n",
              "        [0.49803922, 0.6862745 , 0.84313726, 1.        ]],\n",
              "\n",
              "       ...,\n",
              "\n",
              "       [[0.9098039 , 0.81960785, 0.654902  , 1.        ],\n",
              "        [0.8352941 , 0.7490196 , 0.6509804 , 1.        ],\n",
              "        [0.72156864, 0.6313726 , 0.5372549 , 1.        ],\n",
              "        ...,\n",
              "        [0.01568628, 0.07058824, 0.02352941, 1.        ],\n",
              "        [0.03921569, 0.09411765, 0.03529412, 1.        ],\n",
              "        [0.03921569, 0.09019608, 0.05490196, 1.        ]],\n",
              "\n",
              "       [[0.9137255 , 0.83137256, 0.6784314 , 1.        ],\n",
              "        [0.8117647 , 0.7294118 , 0.627451  , 1.        ],\n",
              "        [0.65882355, 0.5686275 , 0.47843137, 1.        ],\n",
              "        ...,\n",
              "        [0.00392157, 0.05490196, 0.03529412, 1.        ],\n",
              "        [0.03137255, 0.09019608, 0.05490196, 1.        ],\n",
              "        [0.04705882, 0.10588235, 0.06666667, 1.        ]],\n",
              "\n",
              "       [[0.9137255 , 0.83137256, 0.68235296, 1.        ],\n",
              "        [0.76862746, 0.68235296, 0.5882353 , 1.        ],\n",
              "        [0.59607846, 0.5058824 , 0.44313726, 1.        ],\n",
              "        ...,\n",
              "        [0.03921569, 0.10196079, 0.07058824, 1.        ],\n",
              "        [0.02745098, 0.08235294, 0.05882353, 1.        ],\n",
              "        [0.05098039, 0.11372549, 0.07058824, 1.        ]]], dtype=float32)"
            ]
          },
          "execution_count": 143,
          "metadata": {},
          "output_type": "execute_result"
        }
      ],
      "source": [
        "dog"
      ]
    }
  ],
  "metadata": {
    "kernelspec": {
      "display_name": "Python 3 (ipykernel)",
      "language": "python",
      "name": "python3"
    },
    "language_info": {
      "codemirror_mode": {
        "name": "ipython",
        "version": 3
      },
      "file_extension": ".py",
      "mimetype": "text/x-python",
      "name": "python",
      "nbconvert_exporter": "python",
      "pygments_lexer": "ipython3",
      "version": "3.11.9"
    },
    "colab": {
      "provenance": [],
      "include_colab_link": true
    }
  },
  "nbformat": 4,
  "nbformat_minor": 0
}